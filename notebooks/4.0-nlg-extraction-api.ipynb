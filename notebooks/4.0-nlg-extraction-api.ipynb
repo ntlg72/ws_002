{
 "cells": [
  {
   "cell_type": "markdown",
   "id": "5e0e7d2c",
   "metadata": {},
   "source": [
    "# Workshop #2 :\n",
    "## Reccobeats API - Extraction\n",
    "\n",
    "------------------------------------------------------------\n",
    "\n",
    "https://reccobeats.com/docs/apis/extract-audio-features"
   ]
  },
  {
   "cell_type": "code",
   "execution_count": 53,
   "id": "42646c57",
   "metadata": {},
   "outputs": [],
   "source": [
    "import os\n",
    "import sys\n",
    "import re\n",
    "import subprocess\n",
    "import requests\n",
    "import pandas as pd\n",
    "import logging\n",
    "import json\n",
    "from tqdm import tqdm\n",
    "import yt_dlp\n",
    "import time\n",
    "\n",
    "sys.path.append(os.path.abspath('../'))\n",
    "from src.params import Params\n",
    "from src.client import DatabaseClient\n",
    "from src.logging_config import setup_logging"
   ]
  },
  {
   "cell_type": "code",
   "execution_count": 54,
   "id": "6eb0de27",
   "metadata": {},
   "outputs": [],
   "source": [
    "setup_logging()"
   ]
  },
  {
   "cell_type": "markdown",
   "id": "29bf6740",
   "metadata": {},
   "source": [
    "# 🎯 Cargar canciones relevantes del CSV\n"
   ]
  },
  {
   "cell_type": "code",
   "execution_count": 55,
   "id": "83bb88a2",
   "metadata": {},
   "outputs": [
    {
     "name": "stderr",
     "output_type": "stream",
     "text": [
      "2025-04-10 16:35:26,545 - INFO - root - Total relevant songs: 124\n"
     ]
    }
   ],
   "source": [
    "df = pd.read_csv(\"../data/intermediate/grammys.csv\")\n",
    "\n",
    "# Filter categories\n",
    "filtered_df = df[df['normalized_category'].isin(['Song Of The Year', 'Record Of The Year'])]\n",
    "\n",
    "# Count how many rows there are\n",
    "total_songs = len(filtered_df)\n",
    "logging.info(f\"Total relevant songs: {total_songs}\")\n"
   ]
  },
  {
   "cell_type": "code",
   "execution_count": 56,
   "id": "fd91307b",
   "metadata": {},
   "outputs": [
    {
     "name": "stdout",
     "output_type": "stream",
     "text": [
      "<class 'pandas.core.frame.DataFrame'>\n",
      "Index: 124 entries, 0 to 4404\n",
      "Data columns (total 6 columns):\n",
      " #   Column               Non-Null Count  Dtype \n",
      "---  ------               --------------  ----- \n",
      " 0   year                 124 non-null    int64 \n",
      " 1   title                124 non-null    object\n",
      " 2   nominee              124 non-null    object\n",
      " 3   artist               124 non-null    object\n",
      " 4   winner               124 non-null    bool  \n",
      " 5   normalized_category  124 non-null    object\n",
      "dtypes: bool(1), int64(1), object(4)\n",
      "memory usage: 5.9+ KB\n"
     ]
    }
   ],
   "source": [
    "filtered_df.info()"
   ]
  },
  {
   "cell_type": "code",
   "execution_count": 57,
   "id": "43af5a48",
   "metadata": {},
   "outputs": [],
   "source": [
    "filtered_df = filtered_df.drop_duplicates(subset=\"nominee\", keep=\"first\")"
   ]
  },
  {
   "cell_type": "code",
   "execution_count": 58,
   "id": "2c7cb232",
   "metadata": {},
   "outputs": [],
   "source": [
    "AUDIO_DIR = \"../data/audio_files\""
   ]
  },
  {
   "cell_type": "code",
   "execution_count": 59,
   "id": "a233d1ad",
   "metadata": {},
   "outputs": [],
   "source": [
    "def safe_filename(title):\n",
    "    return re.sub(r'[^\\w\\-_\\(\\)\\s]', '', title).replace(\" \", \"_\")"
   ]
  },
  {
   "cell_type": "markdown",
   "id": "9e1899f5",
   "metadata": {},
   "source": [
    " Función para descargar audio desde YouTube como MP3"
   ]
  },
  {
   "cell_type": "code",
   "execution_count": 60,
   "id": "20ae6833",
   "metadata": {},
   "outputs": [],
   "source": [
    "def download_audio(query, output_dir=AUDIO_DIR):\n",
    "    os.makedirs(output_dir, exist_ok=True)\n",
    "    safe_name = safe_filename(query)\n",
    "    output_path = os.path.join(output_dir, f\"{safe_name}.%(ext)s\")\n",
    "\n",
    "    ydl_opts = {\n",
    "        'format': 'bestaudio/best',\n",
    "        'noplaylist': True,\n",
    "        'quiet': True,\n",
    "        'outtmpl': output_path,\n",
    "        'postprocessors': [{\n",
    "            'key': 'FFmpegExtractAudio',\n",
    "            'preferredcodec': 'mp3',\n",
    "            'preferredquality': '192',\n",
    "        }],\n",
    "    }\n",
    "\n",
    "    try:\n",
    "        with yt_dlp.YoutubeDL(ydl_opts) as ydl:\n",
    "            ydl.download([f\"ytsearch1:{query}\"])\n",
    "        final_path = os.path.join(output_dir, f\"{safe_name}.mp3\")\n",
    "        return final_path if os.path.exists(final_path) else None\n",
    "    except Exception as e:\n",
    "        print(f\"Error wwhile downloading {query} con yt_dlp: {e}\")\n",
    "        return None"
   ]
  },
  {
   "cell_type": "markdown",
   "id": "3e711925",
   "metadata": {},
   "source": [
    " ✂️ Recortar audio a 30s"
   ]
  },
  {
   "cell_type": "code",
   "execution_count": 61,
   "id": "cd39344d",
   "metadata": {},
   "outputs": [],
   "source": [
    "def trim_audio(audio_path, output_dir=\"../data/audio_files/trimmed\"):\n",
    "    os.makedirs(output_dir, exist_ok=True)\n",
    "    base_name = os.path.basename(audio_path)\n",
    "    trimmed_path = os.path.join(output_dir, f\"{os.path.splitext(base_name)[0]}_trimmed.mp3\")\n",
    "\n",
    "    try:\n",
    "        subprocess.run([\n",
    "            \"ffmpeg\", \"-y\", \"-i\", audio_path,\n",
    "            \"-t\", \"30\", \"-acodec\", \"copy\", trimmed_path\n",
    "        ], check=True, stdout=subprocess.DEVNULL, stderr=subprocess.DEVNULL)\n",
    "\n",
    "        if os.path.exists(trimmed_path) and os.path.getsize(trimmed_path) > 0:\n",
    "            return trimmed_path\n",
    "        else:\n",
    "            return None\n",
    "    except Exception as e:\n",
    "        logging.error(f\"Error while trimming {audio_path}: {e}\")\n",
    "        return None"
   ]
  },
  {
   "cell_type": "markdown",
   "id": "99a0fe52",
   "metadata": {},
   "source": [
    "# 🧠 Enviar archivo a la API de ReccoBeats"
   ]
  },
  {
   "cell_type": "code",
   "execution_count": 62,
   "id": "5d696f39",
   "metadata": {},
   "outputs": [],
   "source": [
    "def analyze_with_reccobeats(trimmed_path):\n",
    "    try:\n",
    "        with open(trimmed_path, 'rb') as file:\n",
    "            files = {\n",
    "                'audioFile': (os.path.basename(trimmed_path), file, 'audio/mpeg')\n",
    "            }\n",
    "\n",
    "            headers = {\n",
    "                'Accept': 'application/json'\n",
    "            }\n",
    "\n",
    "            response = requests.post(\n",
    "                \"https://api.reccobeats.com/v1/analysis/audio-features\",\n",
    "                files=files,\n",
    "                headers=headers\n",
    "            )\n",
    "\n",
    "            if response.status_code == 200:\n",
    "                return response.json(), None\n",
    "            else:\n",
    "                return None, f\"{response.status_code} {response.reason}\"\n",
    "\n",
    "    except Exception as e:\n",
    "        return None, str(e)"
   ]
  },
  {
   "cell_type": "markdown",
   "id": "0a9b4f69",
   "metadata": {},
   "source": [
    "# 🚀 Procesar"
   ]
  },
  {
   "cell_type": "code",
   "execution_count": 63,
   "id": "a847a2f2",
   "metadata": {},
   "outputs": [
    {
     "name": "stderr",
     "output_type": "stream",
     "text": [
      "Analizyng with ReccoBeats: 100%|██████████| 92/92 [09:03<00:00,  5.91s/it]\n"
     ]
    }
   ],
   "source": [
    "results = []\n",
    "\n",
    "for _, row in tqdm(filtered_df.iterrows(), total=len(filtered_df), desc=\"Analizyng with ReccoBeats\"):\n",
    "    nominee = row[\"nominee\"]\n",
    "    filename = safe_filename(nominee) + \".mp3\"\n",
    "    audio_path = os.path.join(AUDIO_DIR, filename)\n",
    "\n",
    "    if not os.path.exists(audio_path):\n",
    "        audio_path = download_audio(nominee)\n",
    "\n",
    "    if audio_path and os.path.exists(audio_path):\n",
    "        trimmed = trim_audio(audio_path)\n",
    "        if trimmed:\n",
    "            features, error = analyze_with_reccobeats(trimmed)\n",
    "            os.remove(trimmed)\n",
    "        else:\n",
    "            features, error = None, \"Trimmed audio not found\"\n",
    "    else:\n",
    "        features, error = None, \"Invalid file or not found\"\n",
    "\n",
    "    results.append({\n",
    "        \"nominee\": nominee,\n",
    "        \"features\": features,\n",
    "        \"error\": error\n",
    "    })\n",
    "    time.sleep(3) \n"
   ]
  },
  {
   "cell_type": "markdown",
   "id": "1e9c86d2",
   "metadata": {},
   "source": [
    "# 💾 Guardar resultados"
   ]
  },
  {
   "cell_type": "code",
   "execution_count": 64,
   "id": "4c257b30",
   "metadata": {},
   "outputs": [
    {
     "name": "stderr",
     "output_type": "stream",
     "text": [
      "2025-04-10 16:44:30,062 - INFO - root - Results saved in JSON format: ../data/raw/reccobeats_features.json\n",
      "2025-04-10 16:44:30,095 - INFO - root - Results saved in CSV format: ../data/external/reccobeats_features.csv\n"
     ]
    }
   ],
   "source": [
    "# Guardamos como JSON\n",
    "json_path = \"../data/raw/reccobeats_features.json\"\n",
    "with open(json_path, \"w\", encoding=\"utf-8\") as f:\n",
    "    json.dump(results, f, indent=2, ensure_ascii=False)\n",
    "logging.info(f\"Results saved in JSON format: {json_path}\")\n",
    "\n",
    "# También como CSV (solo features en columnas si están disponibles)\n",
    "df_results = pd.DataFrame(results)\n",
    "\n",
    "# Expandimos los dicts de 'features' a columnas separadas\n",
    "features_df = df_results.dropna(subset=[\"features\"]).copy()\n",
    "features_expanded = features_df[\"features\"].apply(pd.Series)\n",
    "features_combined = pd.concat([features_df[[\"nominee\"]], features_expanded], axis=1)\n",
    "\n",
    "csv_path = \"../data/external/reccobeats_features.csv\"\n",
    "features_combined.to_csv(csv_path, index=False)\n",
    "logging.info(f\"Results saved in CSV format: {csv_path}\")\n"
   ]
  }
 ],
 "metadata": {
  "kernelspec": {
   "display_name": "Python (ws2)",
   "language": "python",
   "name": "ws2"
  },
  "language_info": {
   "codemirror_mode": {
    "name": "ipython",
    "version": 3
   },
   "file_extension": ".py",
   "mimetype": "text/x-python",
   "name": "python",
   "nbconvert_exporter": "python",
   "pygments_lexer": "ipython3",
   "version": "3.12.3"
  }
 },
 "nbformat": 4,
 "nbformat_minor": 5
}
