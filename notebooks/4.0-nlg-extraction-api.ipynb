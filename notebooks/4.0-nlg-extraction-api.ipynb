{
 "cells": [
  {
   "cell_type": "markdown",
   "id": "5e0e7d2c",
   "metadata": {},
   "source": [
    "# Workshop #2 :\n",
    "## Reccobeats API - Extraction\n",
    "\n",
    "------------------------------------------------------------\n",
    "\n",
    "https://reccobeats.com/docs/apis/extract-audio-features"
   ]
  },
  {
   "cell_type": "code",
   "execution_count": 2,
   "id": "42646c57",
   "metadata": {},
   "outputs": [],
   "source": [
    "import os\n",
    "import sys\n",
    "import re\n",
    "import subprocess\n",
    "import requests\n",
    "import pandas as pd\n",
    "import logging\n",
    "import json\n",
    "from tqdm import tqdm\n",
    "import yt_dlp\n",
    "\n",
    "sys.path.append(os.path.abspath('../'))\n",
    "from src.params import Params\n",
    "from src.client import DatabaseClient\n",
    "from src.logging_config import setup_logging"
   ]
  },
  {
   "cell_type": "code",
   "execution_count": 12,
   "id": "6eb0de27",
   "metadata": {},
   "outputs": [],
   "source": [
    "setup_logging()"
   ]
  },
  {
   "cell_type": "markdown",
   "id": "29bf6740",
   "metadata": {},
   "source": [
    "# 🎯 Cargar canciones relevantes del CSV\n"
   ]
  },
  {
   "cell_type": "code",
   "execution_count": 13,
   "id": "83bb88a2",
   "metadata": {},
   "outputs": [
    {
     "name": "stderr",
     "output_type": "stream",
     "text": [
      "2025-04-10 02:18:28,828 - INFO - root - Total relevant songs: 124\n"
     ]
    }
   ],
   "source": [
    "df = pd.read_csv(\"../data/intermediate/grammys.csv\")\n",
    "\n",
    "# Filter categories\n",
    "filtered_df = df[df['normalized_category'].isin(['Song Of The Year', 'Record Of The Year'])]\n",
    "\n",
    "# Count how many rows there are\n",
    "total_songs = len(filtered_df)\n",
    "logging.info(f\"Total relevant songs: {total_songs}\")\n"
   ]
  },
  {
   "cell_type": "code",
   "execution_count": 14,
   "id": "2c7cb232",
   "metadata": {},
   "outputs": [],
   "source": [
    "AUDIO_DIR = \"../data/audio_files\""
   ]
  },
  {
   "cell_type": "code",
   "execution_count": 15,
   "id": "a233d1ad",
   "metadata": {},
   "outputs": [],
   "source": [
    "def safe_filename(title):\n",
    "    return re.sub(r'[^\\w\\-_\\(\\)\\s]', '', title).replace(\" \", \"_\")"
   ]
  },
  {
   "cell_type": "markdown",
   "id": "9e1899f5",
   "metadata": {},
   "source": [
    " Función para descargar audio desde YouTube como MP3"
   ]
  },
  {
   "cell_type": "code",
   "execution_count": 16,
   "id": "20ae6833",
   "metadata": {},
   "outputs": [],
   "source": [
    "def download_audio(query, output_dir=AUDIO_DIR):\n",
    "    os.makedirs(output_dir, exist_ok=True)\n",
    "    safe_name = safe_filename(query)\n",
    "    output_path = os.path.join(output_dir, f\"{safe_name}.%(ext)s\")\n",
    "\n",
    "    ydl_opts = {\n",
    "        'format': 'bestaudio/best',\n",
    "        'noplaylist': True,\n",
    "        'quiet': True,\n",
    "        'outtmpl': output_path,\n",
    "        'postprocessors': [{\n",
    "            'key': 'FFmpegExtractAudio',\n",
    "            'preferredcodec': 'mp3',\n",
    "            'preferredquality': '192',\n",
    "        }],\n",
    "    }\n",
    "\n",
    "    try:\n",
    "        with yt_dlp.YoutubeDL(ydl_opts) as ydl:\n",
    "            ydl.download([f\"ytsearch1:{query}\"])\n",
    "        final_path = os.path.join(output_dir, f\"{safe_name}.mp3\")\n",
    "        return final_path if os.path.exists(final_path) else None\n",
    "    except Exception as e:\n",
    "        print(f\"Error wwhile downloading {query} con yt_dlp: {e}\")\n",
    "        return None"
   ]
  },
  {
   "cell_type": "markdown",
   "id": "3e711925",
   "metadata": {},
   "source": [
    " ✂️ Recortar audio a 30s"
   ]
  },
  {
   "cell_type": "code",
   "execution_count": 17,
   "id": "cd39344d",
   "metadata": {},
   "outputs": [],
   "source": [
    "def trim_audio(audio_path, output_dir=\"../data/audio_files/trimmed\"):\n",
    "    os.makedirs(output_dir, exist_ok=True)\n",
    "    base_name = os.path.basename(audio_path)\n",
    "    trimmed_path = os.path.join(output_dir, f\"{os.path.splitext(base_name)[0]}_trimmed.mp3\")\n",
    "\n",
    "    try:\n",
    "        subprocess.run([\n",
    "            \"ffmpeg\", \"-y\", \"-i\", audio_path,\n",
    "            \"-t\", \"30\", \"-acodec\", \"copy\", trimmed_path\n",
    "        ], check=True, stdout=subprocess.DEVNULL, stderr=subprocess.DEVNULL)\n",
    "\n",
    "        if os.path.exists(trimmed_path) and os.path.getsize(trimmed_path) > 0:\n",
    "            return trimmed_path\n",
    "        else:\n",
    "            return None\n",
    "    except Exception as e:\n",
    "        logging.error(f\"Error while trimming {audio_path}: {e}\")\n",
    "        return None"
   ]
  },
  {
   "cell_type": "markdown",
   "id": "99a0fe52",
   "metadata": {},
   "source": [
    "# 🧠 Enviar archivo a la API de ReccoBeats"
   ]
  },
  {
   "cell_type": "code",
   "execution_count": 18,
   "id": "5d696f39",
   "metadata": {},
   "outputs": [],
   "source": [
    "def analyze_with_reccobeats(trimmed_path):\n",
    "    try:\n",
    "        with open(trimmed_path, 'rb') as file:\n",
    "            files = {\n",
    "                'audioFile': (os.path.basename(trimmed_path), file, 'audio/mpeg')\n",
    "            }\n",
    "\n",
    "            headers = {\n",
    "                'Accept': 'application/json'\n",
    "            }\n",
    "\n",
    "            response = requests.post(\n",
    "                \"https://api.reccobeats.com/v1/analysis/audio-features\",\n",
    "                files=files,\n",
    "                headers=headers\n",
    "            )\n",
    "\n",
    "            if response.status_code == 200:\n",
    "                return response.json(), None\n",
    "            else:\n",
    "                return None, f\"{response.status_code} {response.reason}\"\n",
    "\n",
    "    except Exception as e:\n",
    "        return None, str(e)"
   ]
  },
  {
   "cell_type": "markdown",
   "id": "0a9b4f69",
   "metadata": {},
   "source": [
    "# 🚀 Procesar"
   ]
  },
  {
   "cell_type": "code",
   "execution_count": 20,
   "id": "a847a2f2",
   "metadata": {},
   "outputs": [
    {
     "name": "stderr",
     "output_type": "stream",
     "text": [
      "Analizyng with ReccoBeats:  10%|█         | 13/124 [00:36<05:12,  2.82s/it]"
     ]
    },
    {
     "name": "stdout",
     "output_type": "stream",
     "text": [
      "                                                           \r"
     ]
    },
    {
     "name": "stderr",
     "output_type": "stream",
     "text": [
      "Analizyng with ReccoBeats:  11%|█▏        | 14/124 [00:49<10:52,  5.94s/it]"
     ]
    },
    {
     "name": "stdout",
     "output_type": "stream",
     "text": [
      "                                                           \r"
     ]
    },
    {
     "name": "stderr",
     "output_type": "stream",
     "text": [
      "Analizyng with ReccoBeats:  12%|█▏        | 15/124 [01:03<15:00,  8.26s/it]"
     ]
    },
    {
     "name": "stdout",
     "output_type": "stream",
     "text": [
      "                                                           \r"
     ]
    },
    {
     "name": "stderr",
     "output_type": "stream",
     "text": [
      "Analizyng with ReccoBeats:  13%|█▎        | 16/124 [01:17<17:47,  9.89s/it]"
     ]
    },
    {
     "name": "stdout",
     "output_type": "stream",
     "text": [
      "                                                           \r"
     ]
    },
    {
     "name": "stderr",
     "output_type": "stream",
     "text": [
      "Analizyng with ReccoBeats:  15%|█▍        | 18/124 [01:33<15:11,  8.60s/it]"
     ]
    },
    {
     "name": "stdout",
     "output_type": "stream",
     "text": [
      "                                                           \r"
     ]
    },
    {
     "name": "stderr",
     "output_type": "stream",
     "text": [
      "Analizyng with ReccoBeats:  16%|█▌        | 20/124 [01:50<13:55,  8.03s/it]"
     ]
    },
    {
     "name": "stdout",
     "output_type": "stream",
     "text": [
      "                                                           \r"
     ]
    },
    {
     "name": "stderr",
     "output_type": "stream",
     "text": [
      "Analizyng with ReccoBeats:  17%|█▋        | 21/124 [02:03<16:13,  9.45s/it]"
     ]
    },
    {
     "name": "stdout",
     "output_type": "stream",
     "text": [
      "                                                           \r"
     ]
    },
    {
     "name": "stderr",
     "output_type": "stream",
     "text": [
      "Analizyng with ReccoBeats:  18%|█▊        | 22/124 [02:16<17:53, 10.53s/it]"
     ]
    },
    {
     "name": "stdout",
     "output_type": "stream",
     "text": [
      "                                                           \r"
     ]
    },
    {
     "name": "stderr",
     "output_type": "stream",
     "text": [
      "Analizyng with ReccoBeats:  19%|█▊        | 23/124 [02:29<19:09, 11.39s/it]"
     ]
    },
    {
     "name": "stdout",
     "output_type": "stream",
     "text": [
      "                                                           \r"
     ]
    },
    {
     "name": "stderr",
     "output_type": "stream",
     "text": [
      "Analizyng with ReccoBeats:  19%|█▉        | 24/124 [02:43<20:03, 12.04s/it]"
     ]
    },
    {
     "name": "stdout",
     "output_type": "stream",
     "text": [
      "                                                           \r"
     ]
    },
    {
     "name": "stderr",
     "output_type": "stream",
     "text": [
      "Analizyng with ReccoBeats:  21%|██        | 26/124 [02:58<15:24,  9.43s/it]"
     ]
    },
    {
     "name": "stdout",
     "output_type": "stream",
     "text": [
      "                                                           \r"
     ]
    },
    {
     "name": "stderr",
     "output_type": "stream",
     "text": [
      "Analizyng with ReccoBeats:  23%|██▎       | 28/124 [03:14<13:05,  8.18s/it]"
     ]
    },
    {
     "name": "stdout",
     "output_type": "stream",
     "text": [
      "                                                           \r"
     ]
    },
    {
     "name": "stderr",
     "output_type": "stream",
     "text": [
      "Analizyng with ReccoBeats:  23%|██▎       | 29/124 [03:29<16:01, 10.12s/it]"
     ]
    },
    {
     "name": "stdout",
     "output_type": "stream",
     "text": [
      "                                                           \r"
     ]
    },
    {
     "name": "stderr",
     "output_type": "stream",
     "text": [
      "Analizyng with ReccoBeats:  24%|██▍       | 30/124 [03:42<17:24, 11.11s/it]"
     ]
    },
    {
     "name": "stdout",
     "output_type": "stream",
     "text": [
      "                                                           \r"
     ]
    },
    {
     "name": "stderr",
     "output_type": "stream",
     "text": [
      "Analizyng with ReccoBeats:  25%|██▌       | 31/124 [03:54<17:27, 11.27s/it]"
     ]
    },
    {
     "name": "stdout",
     "output_type": "stream",
     "text": [
      "                                                           \r"
     ]
    },
    {
     "name": "stderr",
     "output_type": "stream",
     "text": [
      "Analizyng with ReccoBeats:  26%|██▌       | 32/124 [04:07<17:55, 11.69s/it]"
     ]
    },
    {
     "name": "stdout",
     "output_type": "stream",
     "text": [
      "                                                           \r"
     ]
    },
    {
     "name": "stderr",
     "output_type": "stream",
     "text": [
      "Analizyng with ReccoBeats:  27%|██▋       | 33/124 [04:21<18:56, 12.49s/it]"
     ]
    },
    {
     "name": "stdout",
     "output_type": "stream",
     "text": [
      "                                                           \r"
     ]
    },
    {
     "name": "stderr",
     "output_type": "stream",
     "text": [
      "Analizyng with ReccoBeats:  27%|██▋       | 34/124 [04:34<18:57, 12.64s/it]"
     ]
    },
    {
     "name": "stdout",
     "output_type": "stream",
     "text": [
      "                                                           \r"
     ]
    },
    {
     "name": "stderr",
     "output_type": "stream",
     "text": [
      "Analizyng with ReccoBeats:  29%|██▉       | 36/124 [04:49<14:03,  9.59s/it]"
     ]
    },
    {
     "name": "stdout",
     "output_type": "stream",
     "text": [
      "                                                           \r"
     ]
    },
    {
     "name": "stderr",
     "output_type": "stream",
     "text": [
      "Analizyng with ReccoBeats:  30%|██▉       | 37/124 [05:04<16:08, 11.14s/it]"
     ]
    },
    {
     "name": "stdout",
     "output_type": "stream",
     "text": [
      "                                                           \r"
     ]
    },
    {
     "name": "stderr",
     "output_type": "stream",
     "text": [
      "Analizyng with ReccoBeats:  31%|███       | 38/124 [05:16<16:32, 11.54s/it]"
     ]
    },
    {
     "name": "stdout",
     "output_type": "stream",
     "text": [
      "                                                           \r"
     ]
    },
    {
     "name": "stderr",
     "output_type": "stream",
     "text": [
      "Analizyng with ReccoBeats:  32%|███▏      | 40/124 [05:32<13:05,  9.35s/it]"
     ]
    },
    {
     "name": "stdout",
     "output_type": "stream",
     "text": [
      "                                                           \r"
     ]
    },
    {
     "name": "stderr",
     "output_type": "stream",
     "text": [
      "Analizyng with ReccoBeats:  34%|███▍      | 42/124 [05:48<11:09,  8.16s/it]"
     ]
    },
    {
     "name": "stdout",
     "output_type": "stream",
     "text": [
      "                                                           \r"
     ]
    },
    {
     "name": "stderr",
     "output_type": "stream",
     "text": [
      "Analizyng with ReccoBeats:  35%|███▌      | 44/124 [06:05<10:19,  7.75s/it]"
     ]
    },
    {
     "name": "stdout",
     "output_type": "stream",
     "text": [
      "                                                           \r"
     ]
    },
    {
     "name": "stderr",
     "output_type": "stream",
     "text": [
      "Analizyng with ReccoBeats:  37%|███▋      | 46/124 [06:20<09:28,  7.29s/it]"
     ]
    },
    {
     "name": "stdout",
     "output_type": "stream",
     "text": [
      "                                                           \r"
     ]
    },
    {
     "name": "stderr",
     "output_type": "stream",
     "text": [
      "Analizyng with ReccoBeats:  39%|███▊      | 48/124 [06:37<09:20,  7.38s/it]"
     ]
    },
    {
     "name": "stdout",
     "output_type": "stream",
     "text": [
      "                                                           \r"
     ]
    },
    {
     "name": "stderr",
     "output_type": "stream",
     "text": [
      "Analizyng with ReccoBeats:  40%|████      | 50/124 [06:54<09:12,  7.46s/it]"
     ]
    },
    {
     "name": "stdout",
     "output_type": "stream",
     "text": [
      "                                                           \r"
     ]
    },
    {
     "name": "stderr",
     "output_type": "stream",
     "text": [
      "Analizyng with ReccoBeats:  41%|████      | 51/124 [07:07<11:12,  9.21s/it]"
     ]
    },
    {
     "name": "stdout",
     "output_type": "stream",
     "text": [
      "                                                           \r"
     ]
    },
    {
     "name": "stderr",
     "output_type": "stream",
     "text": [
      "Analizyng with ReccoBeats:  42%|████▏     | 52/124 [07:19<12:03, 10.05s/it]"
     ]
    },
    {
     "name": "stdout",
     "output_type": "stream",
     "text": [
      "                                                           \r"
     ]
    },
    {
     "name": "stderr",
     "output_type": "stream",
     "text": [
      "Analizyng with ReccoBeats:  43%|████▎     | 53/124 [07:34<13:35, 11.48s/it]"
     ]
    },
    {
     "name": "stdout",
     "output_type": "stream",
     "text": [
      "                                                           \r"
     ]
    },
    {
     "name": "stderr",
     "output_type": "stream",
     "text": [
      "Analizyng with ReccoBeats:  44%|████▎     | 54/124 [07:48<14:10, 12.15s/it]"
     ]
    },
    {
     "name": "stdout",
     "output_type": "stream",
     "text": [
      "                                                           \r"
     ]
    },
    {
     "name": "stderr",
     "output_type": "stream",
     "text": [
      "Analizyng with ReccoBeats:  45%|████▌     | 56/124 [08:04<10:53,  9.62s/it]"
     ]
    },
    {
     "name": "stdout",
     "output_type": "stream",
     "text": [
      "                                                           \r"
     ]
    },
    {
     "name": "stderr",
     "output_type": "stream",
     "text": [
      "Analizyng with ReccoBeats:  47%|████▋     | 58/124 [08:21<09:18,  8.46s/it]"
     ]
    },
    {
     "name": "stdout",
     "output_type": "stream",
     "text": [
      "                                                           \r"
     ]
    },
    {
     "name": "stderr",
     "output_type": "stream",
     "text": [
      "Analizyng with ReccoBeats:  48%|████▊     | 59/124 [08:34<10:47,  9.97s/it]"
     ]
    },
    {
     "name": "stdout",
     "output_type": "stream",
     "text": [
      "                                                           \r"
     ]
    },
    {
     "name": "stderr",
     "output_type": "stream",
     "text": [
      "Analizyng with ReccoBeats:  48%|████▊     | 60/124 [08:49<12:02, 11.30s/it]"
     ]
    },
    {
     "name": "stdout",
     "output_type": "stream",
     "text": [
      "                                                           \r"
     ]
    },
    {
     "name": "stderr",
     "output_type": "stream",
     "text": [
      "Analizyng with ReccoBeats:  50%|█████     | 62/124 [09:10<10:42, 10.37s/it]"
     ]
    },
    {
     "name": "stdout",
     "output_type": "stream",
     "text": [
      "                                                           \r"
     ]
    },
    {
     "name": "stderr",
     "output_type": "stream",
     "text": [
      "Analizyng with ReccoBeats:  52%|█████▏    | 64/124 [09:27<08:43,  8.72s/it]"
     ]
    },
    {
     "name": "stdout",
     "output_type": "stream",
     "text": [
      "                                                           \r"
     ]
    },
    {
     "name": "stderr",
     "output_type": "stream",
     "text": [
      "Analizyng with ReccoBeats:  52%|█████▏    | 65/124 [09:41<10:21, 10.53s/it]"
     ]
    },
    {
     "name": "stdout",
     "output_type": "stream",
     "text": [
      "                                                         \r"
     ]
    },
    {
     "name": "stderr",
     "output_type": "stream",
     "text": [
      "Analizyng with ReccoBeats:  53%|█████▎    | 66/124 [09:55<11:10, 11.55s/it]"
     ]
    },
    {
     "name": "stdout",
     "output_type": "stream",
     "text": [
      "                                                           \r"
     ]
    },
    {
     "name": "stderr",
     "output_type": "stream",
     "text": [
      "Analizyng with ReccoBeats:  54%|█████▍    | 67/124 [10:09<11:38, 12.26s/it]"
     ]
    },
    {
     "name": "stdout",
     "output_type": "stream",
     "text": [
      "                                                           \r"
     ]
    },
    {
     "name": "stderr",
     "output_type": "stream",
     "text": [
      "Analizyng with ReccoBeats:  55%|█████▍    | 68/124 [10:23<11:48, 12.65s/it]"
     ]
    },
    {
     "name": "stdout",
     "output_type": "stream",
     "text": [
      "                                                           \r"
     ]
    },
    {
     "name": "stderr",
     "output_type": "stream",
     "text": [
      "Analizyng with ReccoBeats:  56%|█████▋    | 70/124 [10:43<09:38, 10.71s/it]"
     ]
    },
    {
     "name": "stdout",
     "output_type": "stream",
     "text": [
      "                                                           \r"
     ]
    },
    {
     "name": "stderr",
     "output_type": "stream",
     "text": [
      "Analizyng with ReccoBeats:  58%|█████▊    | 72/124 [10:59<07:35,  8.77s/it]"
     ]
    },
    {
     "name": "stdout",
     "output_type": "stream",
     "text": [
      "                                                           \r"
     ]
    },
    {
     "name": "stderr",
     "output_type": "stream",
     "text": [
      "Analizyng with ReccoBeats:  59%|█████▉    | 73/124 [11:12<08:38, 10.17s/it]"
     ]
    },
    {
     "name": "stdout",
     "output_type": "stream",
     "text": [
      "                                                           \r"
     ]
    },
    {
     "name": "stderr",
     "output_type": "stream",
     "text": [
      "Analizyng with ReccoBeats:  60%|█████▉    | 74/124 [11:25<09:13, 11.07s/it]"
     ]
    },
    {
     "name": "stdout",
     "output_type": "stream",
     "text": [
      "                                                           \r"
     ]
    },
    {
     "name": "stderr",
     "output_type": "stream",
     "text": [
      "Analizyng with ReccoBeats:  60%|██████    | 75/124 [11:41<10:14, 12.53s/it]"
     ]
    },
    {
     "name": "stdout",
     "output_type": "stream",
     "text": [
      "                                                           \r"
     ]
    },
    {
     "name": "stderr",
     "output_type": "stream",
     "text": [
      "Analizyng with ReccoBeats:  61%|██████▏   | 76/124 [11:57<10:45, 13.45s/it]"
     ]
    },
    {
     "name": "stdout",
     "output_type": "stream",
     "text": [
      "                                                           \r"
     ]
    },
    {
     "name": "stderr",
     "output_type": "stream",
     "text": [
      "Analizyng with ReccoBeats:  63%|██████▎   | 78/124 [12:12<07:41, 10.03s/it]"
     ]
    },
    {
     "name": "stdout",
     "output_type": "stream",
     "text": [
      "                                                           \r"
     ]
    },
    {
     "name": "stderr",
     "output_type": "stream",
     "text": [
      "Analizyng with ReccoBeats:  65%|██████▍   | 80/124 [12:26<05:54,  8.07s/it]"
     ]
    },
    {
     "name": "stdout",
     "output_type": "stream",
     "text": [
      "                                                           \r"
     ]
    },
    {
     "name": "stderr",
     "output_type": "stream",
     "text": [
      "Analizyng with ReccoBeats:  66%|██████▌   | 82/124 [12:42<05:13,  7.45s/it]"
     ]
    },
    {
     "name": "stdout",
     "output_type": "stream",
     "text": [
      "                                                           \r"
     ]
    },
    {
     "name": "stderr",
     "output_type": "stream",
     "text": [
      "Analizyng with ReccoBeats:  68%|██████▊   | 84/124 [12:58<04:52,  7.32s/it]"
     ]
    },
    {
     "name": "stdout",
     "output_type": "stream",
     "text": [
      "                                                           \r"
     ]
    },
    {
     "name": "stderr",
     "output_type": "stream",
     "text": [
      "Analizyng with ReccoBeats:  69%|██████▊   | 85/124 [13:14<06:31, 10.03s/it]"
     ]
    },
    {
     "name": "stdout",
     "output_type": "stream",
     "text": [
      "                                                           \r"
     ]
    },
    {
     "name": "stderr",
     "output_type": "stream",
     "text": [
      "Analizyng with ReccoBeats:  69%|██████▉   | 86/124 [13:24<06:14,  9.85s/it]"
     ]
    },
    {
     "name": "stdout",
     "output_type": "stream",
     "text": [
      "                                                           \r"
     ]
    },
    {
     "name": "stderr",
     "output_type": "stream",
     "text": [
      "Analizyng with ReccoBeats:  70%|███████   | 87/124 [13:44<07:52, 12.78s/it]"
     ]
    },
    {
     "name": "stdout",
     "output_type": "stream",
     "text": [
      "                                                           \r"
     ]
    },
    {
     "name": "stderr",
     "output_type": "stream",
     "text": [
      "Analizyng with ReccoBeats:  71%|███████   | 88/124 [13:56<07:40, 12.80s/it]"
     ]
    },
    {
     "name": "stdout",
     "output_type": "stream",
     "text": [
      "                                                           \r"
     ]
    },
    {
     "name": "stderr",
     "output_type": "stream",
     "text": [
      "Analizyng with ReccoBeats:  72%|███████▏  | 89/124 [14:09<07:28, 12.80s/it]"
     ]
    },
    {
     "name": "stdout",
     "output_type": "stream",
     "text": [
      "                                                           \r"
     ]
    },
    {
     "name": "stderr",
     "output_type": "stream",
     "text": [
      "Analizyng with ReccoBeats:  73%|███████▎  | 90/124 [14:23<07:23, 13.03s/it]"
     ]
    },
    {
     "name": "stdout",
     "output_type": "stream",
     "text": [
      "                                                           \r"
     ]
    },
    {
     "name": "stderr",
     "output_type": "stream",
     "text": [
      "Analizyng with ReccoBeats:  73%|███████▎  | 91/124 [14:36<07:10, 13.05s/it]"
     ]
    },
    {
     "name": "stdout",
     "output_type": "stream",
     "text": [
      "                                                           \r"
     ]
    },
    {
     "name": "stderr",
     "output_type": "stream",
     "text": [
      "Analizyng with ReccoBeats:  74%|███████▍  | 92/124 [14:49<06:54, 12.95s/it]"
     ]
    },
    {
     "name": "stdout",
     "output_type": "stream",
     "text": [
      "                                                           \r"
     ]
    },
    {
     "name": "stderr",
     "output_type": "stream",
     "text": [
      "Analizyng with ReccoBeats:  76%|███████▌  | 94/124 [15:04<04:54,  9.81s/it]"
     ]
    },
    {
     "name": "stdout",
     "output_type": "stream",
     "text": [
      "                                                           \r"
     ]
    },
    {
     "name": "stderr",
     "output_type": "stream",
     "text": [
      "Analizyng with ReccoBeats:  77%|███████▋  | 96/124 [15:18<03:44,  8.02s/it]"
     ]
    },
    {
     "name": "stdout",
     "output_type": "stream",
     "text": [
      "                                                           \r"
     ]
    },
    {
     "name": "stderr",
     "output_type": "stream",
     "text": [
      "Analizyng with ReccoBeats:  78%|███████▊  | 97/124 [15:42<05:49, 12.95s/it]"
     ]
    },
    {
     "name": "stdout",
     "output_type": "stream",
     "text": [
      "                                                           \r"
     ]
    },
    {
     "name": "stderr",
     "output_type": "stream",
     "text": [
      "Analizyng with ReccoBeats:  79%|███████▉  | 98/124 [15:57<05:50, 13.48s/it]"
     ]
    },
    {
     "name": "stdout",
     "output_type": "stream",
     "text": [
      "                                                           \r"
     ]
    },
    {
     "name": "stderr",
     "output_type": "stream",
     "text": [
      "Analizyng with ReccoBeats:  81%|████████  | 100/124 [16:14<04:11, 10.50s/it]"
     ]
    },
    {
     "name": "stdout",
     "output_type": "stream",
     "text": [
      "                                                           \r"
     ]
    },
    {
     "name": "stderr",
     "output_type": "stream",
     "text": [
      "Analizyng with ReccoBeats:  81%|████████▏ | 101/124 [16:28<04:23, 11.45s/it]"
     ]
    },
    {
     "name": "stdout",
     "output_type": "stream",
     "text": [
      "                                                           \r"
     ]
    },
    {
     "name": "stderr",
     "output_type": "stream",
     "text": [
      "Analizyng with ReccoBeats:  82%|████████▏ | 102/124 [16:39<04:09, 11.34s/it]"
     ]
    },
    {
     "name": "stdout",
     "output_type": "stream",
     "text": [
      "                                                           \r"
     ]
    },
    {
     "name": "stderr",
     "output_type": "stream",
     "text": [
      "Analizyng with ReccoBeats:  83%|████████▎ | 103/124 [16:52<04:04, 11.64s/it]"
     ]
    },
    {
     "name": "stdout",
     "output_type": "stream",
     "text": [
      "                                                           \r"
     ]
    },
    {
     "name": "stderr",
     "output_type": "stream",
     "text": [
      "Analizyng with ReccoBeats:  84%|████████▍ | 104/124 [17:04<04:00, 12.02s/it]"
     ]
    },
    {
     "name": "stdout",
     "output_type": "stream",
     "text": [
      "                                                           \r"
     ]
    },
    {
     "name": "stderr",
     "output_type": "stream",
     "text": [
      "Analizyng with ReccoBeats:  85%|████████▌ | 106/124 [17:18<02:40,  8.91s/it]"
     ]
    },
    {
     "name": "stdout",
     "output_type": "stream",
     "text": [
      "                                                           \r"
     ]
    },
    {
     "name": "stderr",
     "output_type": "stream",
     "text": [
      "Analizyng with ReccoBeats:  86%|████████▋ | 107/124 [17:27<02:35,  9.16s/it]"
     ]
    },
    {
     "name": "stdout",
     "output_type": "stream",
     "text": [
      "                                                           \r"
     ]
    },
    {
     "name": "stderr",
     "output_type": "stream",
     "text": [
      "Analizyng with ReccoBeats:  87%|████████▋ | 108/124 [17:38<02:34,  9.63s/it]"
     ]
    },
    {
     "name": "stdout",
     "output_type": "stream",
     "text": [
      "                                                           \r"
     ]
    },
    {
     "name": "stderr",
     "output_type": "stream",
     "text": [
      "Analizyng with ReccoBeats:  88%|████████▊ | 109/124 [17:48<02:26,  9.80s/it]"
     ]
    },
    {
     "name": "stdout",
     "output_type": "stream",
     "text": [
      "                                                           \r"
     ]
    },
    {
     "name": "stderr",
     "output_type": "stream",
     "text": [
      "Analizyng with ReccoBeats:  89%|████████▊ | 110/124 [18:00<02:24, 10.32s/it]"
     ]
    },
    {
     "name": "stdout",
     "output_type": "stream",
     "text": [
      "                                                           \r"
     ]
    },
    {
     "name": "stderr",
     "output_type": "stream",
     "text": [
      "Analizyng with ReccoBeats:  90%|████████▉ | 111/124 [18:13<02:23, 11.02s/it]"
     ]
    },
    {
     "name": "stdout",
     "output_type": "stream",
     "text": [
      "                                                           \r"
     ]
    },
    {
     "name": "stderr",
     "output_type": "stream",
     "text": [
      "Analizyng with ReccoBeats:  90%|█████████ | 112/124 [18:22<02:06, 10.57s/it]"
     ]
    },
    {
     "name": "stdout",
     "output_type": "stream",
     "text": [
      "                                                           \r"
     ]
    },
    {
     "name": "stderr",
     "output_type": "stream",
     "text": [
      "Analizyng with ReccoBeats:  92%|█████████▏| 114/124 [18:36<01:23,  8.36s/it]"
     ]
    },
    {
     "name": "stdout",
     "output_type": "stream",
     "text": [
      "                                                           \r"
     ]
    },
    {
     "name": "stderr",
     "output_type": "stream",
     "text": [
      "Analizyng with ReccoBeats:  93%|█████████▎| 115/124 [18:46<01:19,  8.78s/it]"
     ]
    },
    {
     "name": "stdout",
     "output_type": "stream",
     "text": [
      "                                                           \r"
     ]
    },
    {
     "name": "stderr",
     "output_type": "stream",
     "text": [
      "Analizyng with ReccoBeats:  94%|█████████▎| 116/124 [18:59<01:21, 10.23s/it]"
     ]
    },
    {
     "name": "stdout",
     "output_type": "stream",
     "text": [
      "                                                           \r"
     ]
    },
    {
     "name": "stderr",
     "output_type": "stream",
     "text": [
      "Analizyng with ReccoBeats:  95%|█████████▌| 118/124 [19:14<00:49,  8.26s/it]"
     ]
    },
    {
     "name": "stdout",
     "output_type": "stream",
     "text": [
      "                                                           \r"
     ]
    },
    {
     "name": "stderr",
     "output_type": "stream",
     "text": [
      "Analizyng with ReccoBeats:  96%|█████████▌| 119/124 [19:24<00:44,  8.82s/it]"
     ]
    },
    {
     "name": "stdout",
     "output_type": "stream",
     "text": [
      "                                                           \r"
     ]
    },
    {
     "name": "stderr",
     "output_type": "stream",
     "text": [
      "Analizyng with ReccoBeats:  97%|█████████▋| 120/124 [19:34<00:37,  9.34s/it]"
     ]
    },
    {
     "name": "stdout",
     "output_type": "stream",
     "text": [
      "                                                           \r"
     ]
    },
    {
     "name": "stderr",
     "output_type": "stream",
     "text": [
      "Analizyng with ReccoBeats:  98%|█████████▊| 121/124 [19:46<00:30, 10.01s/it]"
     ]
    },
    {
     "name": "stdout",
     "output_type": "stream",
     "text": [
      "                                                           \r"
     ]
    },
    {
     "name": "stderr",
     "output_type": "stream",
     "text": [
      "Analizyng with ReccoBeats:  98%|█████████▊| 122/124 [19:57<00:20, 10.22s/it]"
     ]
    },
    {
     "name": "stdout",
     "output_type": "stream",
     "text": [
      "                                                           \r"
     ]
    },
    {
     "name": "stderr",
     "output_type": "stream",
     "text": [
      "Analizyng with ReccoBeats: 100%|██████████| 124/124 [20:11<00:00,  9.77s/it]\n"
     ]
    }
   ],
   "source": [
    "results = []\n",
    "\n",
    "for _, row in tqdm(filtered_df.iterrows(), total=len(filtered_df), desc=\"Analizyng with ReccoBeats\"):\n",
    "    nominee = row[\"nominee\"]\n",
    "    filename = safe_filename(nominee) + \".mp3\"\n",
    "    audio_path = os.path.join(AUDIO_DIR, filename)\n",
    "\n",
    "    if not os.path.exists(audio_path):\n",
    "        audio_path = download_audio(nominee)\n",
    "\n",
    "    if audio_path and os.path.exists(audio_path):\n",
    "        trimmed = trim_audio(audio_path)\n",
    "        if trimmed:\n",
    "            features, error = analyze_with_reccobeats(trimmed)\n",
    "            os.remove(trimmed)\n",
    "        else:\n",
    "            features, error = None, \"Trimmed audio not found\"\n",
    "    else:\n",
    "        features, error = None, \"Invalid file or not found\"\n",
    "\n",
    "    results.append({\n",
    "        \"nominee\": nominee,\n",
    "        \"features\": features,\n",
    "        \"error\": error\n",
    "    })\n"
   ]
  },
  {
   "cell_type": "markdown",
   "id": "1e9c86d2",
   "metadata": {},
   "source": [
    "# 💾 Guardar resultados"
   ]
  },
  {
   "cell_type": "code",
   "execution_count": null,
   "id": "4c257b30",
   "metadata": {},
   "outputs": [],
   "source": [
    "# Guardamos como JSON\n",
    "json_path = \"../data/intermediate/reccobeats_features.json\"\n",
    "with open(json_path, \"w\", encoding=\"utf-8\") as f:\n",
    "    json.dump(results, f, indent=2, ensure_ascii=False)\n",
    "logging.info(f\"Results saved in JSON format: {json_path}\")\n",
    "\n",
    "# También como CSV (solo features en columnas si están disponibles)\n",
    "df_results = pd.DataFrame(results)\n",
    "\n",
    "# Expandimos los dicts de 'features' a columnas separadas\n",
    "features_df = df_results.dropna(subset=[\"features\"]).copy()\n",
    "features_expanded = features_df[\"features\"].apply(pd.Series)\n",
    "features_combined = pd.concat([features_df[[\"nominee\"]], features_expanded], axis=1)\n",
    "\n",
    "csv_path = \"../data/intermediate/reccobeats_features.csv\"\n",
    "features_combined.to_csv(csv_path, index=False)\n",
    "logging.info(f\"Results saved in CSV format: {csv_path}\")\n"
   ]
  }
 ],
 "metadata": {
  "kernelspec": {
   "display_name": "venv",
   "language": "python",
   "name": "python3"
  },
  "language_info": {
   "codemirror_mode": {
    "name": "ipython",
    "version": 3
   },
   "file_extension": ".py",
   "mimetype": "text/x-python",
   "name": "python",
   "nbconvert_exporter": "python",
   "pygments_lexer": "ipython3",
   "version": "3.12.3"
  }
 },
 "nbformat": 4,
 "nbformat_minor": 5
}
