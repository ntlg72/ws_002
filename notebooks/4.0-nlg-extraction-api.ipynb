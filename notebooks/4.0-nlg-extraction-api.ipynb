{
 "cells": [
  {
   "cell_type": "markdown",
   "id": "5e0e7d2c",
   "metadata": {},
   "source": [
    "# Workshop #2 :\n",
    "## Reccobeats API - Extraction\n",
    "\n",
    "------------------------------------------------------------\n",
    "\n",
    "https://reccobeats.com/docs/apis/extract-audio-features\n",
    "\n",
    "Extract acoustic features for nominated songs using Reccobeats API.  "
   ]
  },
  {
   "cell_type": "code",
   "execution_count": 53,
   "id": "42646c57",
   "metadata": {},
   "outputs": [],
   "source": [
    "import os\n",
    "import sys\n",
    "import re\n",
    "import subprocess\n",
    "import requests\n",
    "import pandas as pd\n",
    "import logging\n",
    "import json\n",
    "from tqdm import tqdm\n",
    "import yt_dlp\n",
    "import time\n",
    "\n",
    "sys.path.append(os.path.abspath('../'))\n",
    "from src.params import Params\n",
    "from src.client import DatabaseClient\n",
    "from src.logging_config import setup_logging"
   ]
  },
  {
   "cell_type": "code",
   "execution_count": 54,
   "id": "6eb0de27",
   "metadata": {},
   "outputs": [],
   "source": [
    "setup_logging()"
   ]
  },
  {
   "cell_type": "markdown",
   "id": "29bf6740",
   "metadata": {},
   "source": [
    "# Load relevant songs from clean Grammys CSV\n"
   ]
  },
  {
   "cell_type": "code",
   "execution_count": null,
   "id": "83bb88a2",
   "metadata": {},
   "outputs": [
    {
     "name": "stderr",
     "output_type": "stream",
     "text": [
      "2025-04-10 16:35:26,545 - INFO - root - Total relevant songs: 124\n"
     ]
    }
   ],
   "source": [
    "df = pd.read_csv(\"../data/intermediate/grammys.csv\")\n",
    "\n",
    "# Filter categories\n",
    "filtered_df = df[df['normalized_category'].isin(['Song Of The Year', 'Record Of The Year'])]\n",
    "\n",
    "# Count how many rows there are\n",
    "total_songs = len(filtered_df)\n",
    "logging.info(f\"Total relevant songs: {total_songs}\")\n"
   ]
  },
  {
   "cell_type": "code",
   "execution_count": null,
   "id": "fd91307b",
   "metadata": {},
   "outputs": [
    {
     "name": "stdout",
     "output_type": "stream",
     "text": [
      "<class 'pandas.core.frame.DataFrame'>\n",
      "Index: 124 entries, 0 to 4404\n",
      "Data columns (total 6 columns):\n",
      " #   Column               Non-Null Count  Dtype \n",
      "---  ------               --------------  ----- \n",
      " 0   year                 124 non-null    int64 \n",
      " 1   title                124 non-null    object\n",
      " 2   nominee              124 non-null    object\n",
      " 3   artist               124 non-null    object\n",
      " 4   winner               124 non-null    bool  \n",
      " 5   normalized_category  124 non-null    object\n",
      "dtypes: bool(1), int64(1), object(4)\n",
      "memory usage: 5.9+ KB\n"
     ]
    }
   ],
   "source": [
    "filtered_df.info()"
   ]
  },
  {
   "cell_type": "markdown",
   "id": "505f49b1",
   "metadata": {},
   "source": [
    "We filtered duplicate songs and keep the first register."
   ]
  },
  {
   "cell_type": "code",
   "execution_count": null,
   "id": "43af5a48",
   "metadata": {},
   "outputs": [],
   "source": [
    "filtered_df = filtered_df.drop_duplicates(subset=\"nominee\", keep=\"first\")"
   ]
  },
  {
   "cell_type": "markdown",
   "id": "7e729bcb",
   "metadata": {},
   "source": [
    "We define Directory path where audio files are stored for processing."
   ]
  },
  {
   "cell_type": "code",
   "execution_count": null,
   "id": "2c7cb232",
   "metadata": {},
   "outputs": [],
   "source": [
    "AUDIO_DIR = \"../data/audio_files\""
   ]
  },
  {
   "cell_type": "code",
   "execution_count": null,
   "id": "a233d1ad",
   "metadata": {},
   "outputs": [],
   "source": [
    "def safe_filename(title):\n",
    "    \"\"\"\n",
    "    Cleans and formats a given string to be safely used as a filename.\n",
    "\n",
    "    This function removes invalid characters that are not typically allowed in filenames,\n",
    "    such as special symbols, while retaining alphanumeric characters, underscores, \n",
    "    hyphens, parentheses, and spaces. It also replaces spaces with underscores for \n",
    "    better readability in filenames.\n",
    "\n",
    "    Args:\n",
    "        title (str): The string to be formatted as a safe filename.\n",
    "\n",
    "    Returns:\n",
    "        str: A cleaned and formatted string suitable for use as a filename.\n",
    "    \"\"\"\n",
    "    return re.sub(r'[^\\w\\-_\\(\\)\\s]', '', title).replace(\" \", \"_\")"
   ]
  },
  {
   "cell_type": "markdown",
   "id": "9e1899f5",
   "metadata": {},
   "source": [
    " ## Function to download audio from YouTube as MP3"
   ]
  },
  {
   "cell_type": "code",
   "execution_count": null,
   "id": "20ae6833",
   "metadata": {},
   "outputs": [],
   "source": [
    "def download_audio(query, output_dir=AUDIO_DIR):\n",
    "    \"\"\"\n",
    "    Downloads audio content based on a given search query and saves it as an MP3 file.\n",
    "\n",
    "    This function uses yt-dlp to search for and download the best available audio version \n",
    "    of a given query (e.g., song title, artist name) from YouTube or similar sources. It \n",
    "    ensures the output file is safely named and stored in the specified directory.\n",
    "\n",
    "    Args:\n",
    "        query (str): The search term used to locate audio content online (e.g., song or artist).\n",
    "        output_dir (str, optional): Path to the directory where the downloaded MP3 file will be saved.\n",
    "                                    Defaults to AUDIO_DIR.\n",
    "\n",
    "    Returns:\n",
    "        str: Path to the downloaded MP3 file if successful, or None if an error occurs \n",
    "             or the file cannot be found.\n",
    "\n",
    "    Raises:\n",
    "        Exception: Handles any issues during the download process using yt-dlp.\n",
    "    \n",
    "    Notes:\n",
    "        - The filename is sanitized using the `safe_filename` function to remove invalid characters.\n",
    "        - If the `features` postprocessor is enabled, it extracts and converts the audio to MP3 format.\n",
    "        - Logs errors and download statuses, ensuring user feedback on success or failure.\n",
    "\n",
    "    \"\"\"\n",
    "    os.makedirs(output_dir, exist_ok=True)\n",
    "    safe_name = safe_filename(query)\n",
    "    output_path = os.path.join(output_dir, f\"{safe_name}.%(ext)s\")\n",
    "\n",
    "    ydl_opts = {\n",
    "        'format': 'bestaudio/best',\n",
    "        'noplaylist': True,\n",
    "        'quiet': True,\n",
    "        'outtmpl': output_path,\n",
    "        'postprocessors': [{\n",
    "            'key': 'FFmpegExtractAudio',\n",
    "            'preferredcodec': 'mp3',\n",
    "            'preferredquality': '192',\n",
    "        }],\n",
    "    }\n",
    "\n",
    "    try:\n",
    "        with yt_dlp.YoutubeDL(ydl_opts) as ydl:\n",
    "            ydl.download([f\"ytsearch1:{query}\"])\n",
    "        final_path = os.path.join(output_dir, f\"{safe_name}.mp3\")\n",
    "        return final_path if os.path.exists(final_path) else None\n",
    "    except Exception as e:\n",
    "        print(f\"Error wwhile downloading {query} con yt_dlp: {e}\")\n",
    "        return None"
   ]
  },
  {
   "cell_type": "markdown",
   "id": "3e711925",
   "metadata": {},
   "source": [
    "## Function to trim audio to 30 seconds"
   ]
  },
  {
   "cell_type": "code",
   "execution_count": null,
   "id": "cd39344d",
   "metadata": {},
   "outputs": [],
   "source": [
    "def trim_audio(audio_path, output_dir=\"../data/audio_files/trimmed\"):\n",
    "    \"\"\"\n",
    "    Trims an audio file to the first 30 seconds and saves the result.\n",
    "\n",
    "    This function uses FFmpeg to extract the first 30 seconds of the provided audio file.\n",
    "    The trimmed audio is saved in the specified output directory with \"_trimmed\" appended\n",
    "    to the original filename. If the trimming is successful, the path to the trimmed file \n",
    "    is returned; otherwise, None is returned.\n",
    "\n",
    "    Args:\n",
    "        audio_path (str): Path to the input audio file to be trimmed.\n",
    "        output_dir (str, optional): Directory where the trimmed audio file will be saved.\n",
    "                                    Defaults to \"../data/audio_files/trimmed\".\n",
    "\n",
    "    Returns:\n",
    "        str: Path to the trimmed audio file if successful, or None if the trimming fails.\n",
    "\n",
    "    Raises:\n",
    "        Exception: Logs errors during the trimming process, including issues with FFmpeg execution.\n",
    "\n",
    "    Notes:\n",
    "        - The function ensures the output directory exists by creating it if necessary.\n",
    "        - FFmpeg is called via `subprocess.run()` to perform the trimming operation.\n",
    "        - Error messages are logged using the `logging` module for debugging purposes.\n",
    "        - The function checks the existence and file size of the trimmed audio to verify success.\n",
    "    \"\"\"\n",
    "    os.makedirs(output_dir, exist_ok=True)\n",
    "    base_name = os.path.basename(audio_path)\n",
    "    trimmed_path = os.path.join(output_dir, f\"{os.path.splitext(base_name)[0]}_trimmed.mp3\")\n",
    "\n",
    "    try:\n",
    "        subprocess.run([\n",
    "            \"ffmpeg\", \"-y\", \"-i\", audio_path,\n",
    "            \"-t\", \"30\", \"-acodec\", \"copy\", trimmed_path\n",
    "        ], check=True, stdout=subprocess.DEVNULL, stderr=subprocess.DEVNULL)\n",
    "\n",
    "        if os.path.exists(trimmed_path) and os.path.getsize(trimmed_path) > 0:\n",
    "            return trimmed_path\n",
    "        else:\n",
    "            return None\n",
    "    except Exception as e:\n",
    "        logging.error(f\"Error while trimming {audio_path}: {e}\")\n",
    "        return None"
   ]
  },
  {
   "cell_type": "markdown",
   "id": "99a0fe52",
   "metadata": {},
   "source": [
    "## Funtion to use ReccoBeats API for audio feature analysis"
   ]
  },
  {
   "cell_type": "code",
   "execution_count": null,
   "id": "5d696f39",
   "metadata": {},
   "outputs": [],
   "source": [
    "def analyze_with_reccobeats(trimmed_path):\n",
    "    \"\"\"\n",
    "    Sends a trimmed audio file to the ReccoBeats API for audio feature analysis.\n",
    "\n",
    "    This function reads the provided audio file, prepares it as a multipart/form-data \n",
    "    payload, and sends it to the ReccoBeats API for processing. Upon a successful \n",
    "    request, the API returns a JSON response containing audio features. If an error \n",
    "    occurs (either during the request or if the API responds with an error code), \n",
    "    appropriate error handling is performed.\n",
    "\n",
    "    Args:\n",
    "        trimmed_path (str): Path to the trimmed audio file to be analyzed.\n",
    "\n",
    "    Returns:\n",
    "        tuple: \n",
    "            - dict: The JSON response from the API if the request is successful.\n",
    "            - str: Error message (e.g., API response status or exception message) if an error occurs.\n",
    "\n",
    "    Raises:\n",
    "        Exception: Captures and logs any exceptions during the file preparation or \n",
    "                   API request process.\n",
    "\n",
    "    Notes:\n",
    "        - The `audioFile` key in the payload sends the audio file with its basename \n",
    "          and content type `audio/mpeg`.\n",
    "        - The headers specify that the response should be in JSON format.\n",
    "        - If the API request fails, the function returns the status code and reason \n",
    "          for debugging purposes.\n",
    "        - Uses `requests.post` for the HTTP POST request to the ReccoBeats API.\n",
    "    \"\"\"\n",
    "    try:\n",
    "        with open(trimmed_path, 'rb') as file:\n",
    "            files = {\n",
    "                'audioFile': (os.path.basename(trimmed_path), file, 'audio/mpeg')\n",
    "            }\n",
    "\n",
    "            headers = {\n",
    "                'Accept': 'application/json'\n",
    "            }\n",
    "\n",
    "            response = requests.post(\n",
    "                \"https://api.reccobeats.com/v1/analysis/audio-features\",\n",
    "                files=files,\n",
    "                headers=headers\n",
    "            )\n",
    "\n",
    "            if response.status_code == 200:\n",
    "                return response.json(), None\n",
    "            else:\n",
    "                return None, f\"{response.status_code} {response.reason}\"\n",
    "\n",
    "    except Exception as e:\n",
    "        return None, str(e)"
   ]
  },
  {
   "cell_type": "markdown",
   "id": "0a9b4f69",
   "metadata": {},
   "source": [
    "## Processing\n",
    "\n",
    "Sending the trimmed audio files to the ReccoBeats API for audio feature analysis."
   ]
  },
  {
   "cell_type": "code",
   "execution_count": 63,
   "id": "a847a2f2",
   "metadata": {},
   "outputs": [
    {
     "name": "stderr",
     "output_type": "stream",
     "text": [
      "Analizyng with ReccoBeats: 100%|██████████| 92/92 [09:03<00:00,  5.91s/it]\n"
     ]
    }
   ],
   "source": [
    "results = []\n",
    "\n",
    "for _, row in tqdm(filtered_df.iterrows(), total=len(filtered_df), desc=\"Analizyng with ReccoBeats\"):\n",
    "    nominee = row[\"nominee\"]\n",
    "    filename = safe_filename(nominee) + \".mp3\"\n",
    "    audio_path = os.path.join(AUDIO_DIR, filename)\n",
    "\n",
    "    if not os.path.exists(audio_path):\n",
    "        audio_path = download_audio(nominee)\n",
    "\n",
    "    if audio_path and os.path.exists(audio_path):\n",
    "        trimmed = trim_audio(audio_path)\n",
    "        if trimmed:\n",
    "            features, error = analyze_with_reccobeats(trimmed)\n",
    "            os.remove(trimmed)\n",
    "        else:\n",
    "            features, error = None, \"Trimmed audio not found\"\n",
    "    else:\n",
    "        features, error = None, \"Invalid file or not found\"\n",
    "\n",
    "    results.append({\n",
    "        \"nominee\": nominee,\n",
    "        \"features\": features,\n",
    "        \"error\": error\n",
    "    })\n",
    "    time.sleep(3) \n"
   ]
  },
  {
   "cell_type": "markdown",
   "id": "1e9c86d2",
   "metadata": {},
   "source": [
    "# Save results"
   ]
  },
  {
   "cell_type": "markdown",
   "id": "5a410ab6",
   "metadata": {},
   "source": [
    "Processes and saves extracted features data in both JSON and CSV formats.\n",
    "\n",
    "This cell handles the saving of results data in two formats:\n",
    "1. JSON: A raw representation of the data structure.\n",
    "2. CSV: A tabular format that expands nested 'features' dictionaries into separate columns.\n",
    "\n",
    "The JSON file is saved for general data storage, while the CSV file ensures a structured\n",
    "representation for analysis, especially if the 'features' column is present in the data.\n",
    "\n",
    "Steps:\n",
    "1. Saves the full 'results' data as JSON in the raw data directory.\n",
    "2. Converts the data into a pandas DataFrame for further processing.\n",
    "3. Filters rows with valid 'features' data and expands nested dictionaries.\n",
    "4. Saves the expanded DataFrame as a CSV in the external data directory.\n",
    "\n",
    "Args:\n",
    "    json_path (str): File path to save the JSON output.\n",
    "    csv_path (str): File path to save the CSV output.\n",
    "\n",
    "Returns:\n",
    "    None\n",
    "\n",
    "Notes:\n",
    "    - The CSV file includes expanded 'features' as separate columns for easier analysis.\n",
    "    - Logging messages confirm the successful saving of both JSON and CSV files.\n"
   ]
  },
  {
   "cell_type": "code",
   "execution_count": null,
   "id": "4c257b30",
   "metadata": {},
   "outputs": [
    {
     "name": "stderr",
     "output_type": "stream",
     "text": [
      "2025-04-10 16:44:30,062 - INFO - root - Results saved in JSON format: ../data/raw/reccobeats_features.json\n",
      "2025-04-10 16:44:30,095 - INFO - root - Results saved in CSV format: ../data/external/reccobeats_features.csv\n"
     ]
    }
   ],
   "source": [
    "# Save as JSON\n",
    "json_path = \"../data/raw/reccobeats_features.json\"\n",
    "with open(json_path, \"w\", encoding=\"utf-8\") as f:\n",
    "    json.dump(results, f, indent=2, ensure_ascii=False)\n",
    "logging.info(f\"Results saved in JSON format: {json_path}\")\n",
    "\n",
    "# Save as CSV (only features in columnas if they are)\n",
    "df_results = pd.DataFrame(results)\n",
    "\n",
    "# We expand the 'features' dictionaries into separate columns\n",
    "features_df = df_results.dropna(subset=[\"features\"]).copy()\n",
    "features_expanded = features_df[\"features\"].apply(pd.Series)\n",
    "features_combined = pd.concat([features_df[[\"nominee\"]], features_expanded], axis=1)\n",
    "\n",
    "csv_path = \"../data/external/reccobeats_features.csv\"\n",
    "features_combined.to_csv(csv_path, index=False)\n",
    "logging.info(f\"Results saved in CSV format: {csv_path}\")\n"
   ]
  }
 ],
 "metadata": {
  "kernelspec": {
   "display_name": "Python (ws2)",
   "language": "python",
   "name": "ws2"
  },
  "language_info": {
   "codemirror_mode": {
    "name": "ipython",
    "version": 3
   },
   "file_extension": ".py",
   "mimetype": "text/x-python",
   "name": "python",
   "nbconvert_exporter": "python",
   "pygments_lexer": "ipython3",
   "version": "3.12.3"
  }
 },
 "nbformat": 4,
 "nbformat_minor": 5
}
