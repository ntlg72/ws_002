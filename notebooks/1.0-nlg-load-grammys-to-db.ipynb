{
 "cells": [
  {
   "cell_type": "code",
   "execution_count": 24,
   "metadata": {},
   "outputs": [],
   "source": [
    "import sys\n",
    "import os\n",
    "import logging\n",
    "import pandas as pd\n",
    "from sqlalchemy import create_engine\n",
    "from sqlalchemy.sql import text\n",
    "from sqlalchemy.exc import SQLAlchemyError\n",
    "\n",
    "\n",
    "sys.path.append(os.path.abspath('../'))\n",
    "from src.params import Params\n",
    "from src.client import DatabaseClient\n",
    "from src.logging_config import setup_logging"
   ]
  },
  {
   "cell_type": "code",
   "execution_count": 25,
   "metadata": {},
   "outputs": [],
   "source": [
    "setup_logging()"
   ]
  },
  {
   "cell_type": "code",
   "execution_count": 26,
   "metadata": {},
   "outputs": [
    {
     "data": {
      "text/html": [
       "<div>\n",
       "<style scoped>\n",
       "    .dataframe tbody tr th:only-of-type {\n",
       "        vertical-align: middle;\n",
       "    }\n",
       "\n",
       "    .dataframe tbody tr th {\n",
       "        vertical-align: top;\n",
       "    }\n",
       "\n",
       "    .dataframe thead th {\n",
       "        text-align: right;\n",
       "    }\n",
       "</style>\n",
       "<table border=\"1\" class=\"dataframe\">\n",
       "  <thead>\n",
       "    <tr style=\"text-align: right;\">\n",
       "      <th></th>\n",
       "      <th>year</th>\n",
       "      <th>title</th>\n",
       "      <th>published_at</th>\n",
       "      <th>updated_at</th>\n",
       "      <th>category</th>\n",
       "      <th>nominee</th>\n",
       "      <th>artist</th>\n",
       "      <th>workers</th>\n",
       "      <th>img</th>\n",
       "      <th>winner</th>\n",
       "    </tr>\n",
       "  </thead>\n",
       "  <tbody>\n",
       "    <tr>\n",
       "      <th>0</th>\n",
       "      <td>2019</td>\n",
       "      <td>62nd Annual GRAMMY Awards  (2019)</td>\n",
       "      <td>2020-05-19T05:10:28-07:00</td>\n",
       "      <td>2020-05-19T05:10:28-07:00</td>\n",
       "      <td>Record Of The Year</td>\n",
       "      <td>Bad Guy</td>\n",
       "      <td>Billie Eilish</td>\n",
       "      <td>Finneas O'Connell, producer; Rob Kinelski &amp; Fi...</td>\n",
       "      <td>https://www.grammy.com/sites/com/files/styles/...</td>\n",
       "      <td>True</td>\n",
       "    </tr>\n",
       "    <tr>\n",
       "      <th>1</th>\n",
       "      <td>2019</td>\n",
       "      <td>62nd Annual GRAMMY Awards  (2019)</td>\n",
       "      <td>2020-05-19T05:10:28-07:00</td>\n",
       "      <td>2020-05-19T05:10:28-07:00</td>\n",
       "      <td>Record Of The Year</td>\n",
       "      <td>Hey, Ma</td>\n",
       "      <td>Bon Iver</td>\n",
       "      <td>BJ Burton, Brad Cook, Chris Messina &amp; Justin V...</td>\n",
       "      <td>https://www.grammy.com/sites/com/files/styles/...</td>\n",
       "      <td>True</td>\n",
       "    </tr>\n",
       "    <tr>\n",
       "      <th>2</th>\n",
       "      <td>2019</td>\n",
       "      <td>62nd Annual GRAMMY Awards  (2019)</td>\n",
       "      <td>2020-05-19T05:10:28-07:00</td>\n",
       "      <td>2020-05-19T05:10:28-07:00</td>\n",
       "      <td>Record Of The Year</td>\n",
       "      <td>7 rings</td>\n",
       "      <td>Ariana Grande</td>\n",
       "      <td>Charles Anderson, Tommy Brown, Michael Foster ...</td>\n",
       "      <td>https://www.grammy.com/sites/com/files/styles/...</td>\n",
       "      <td>True</td>\n",
       "    </tr>\n",
       "    <tr>\n",
       "      <th>3</th>\n",
       "      <td>2019</td>\n",
       "      <td>62nd Annual GRAMMY Awards  (2019)</td>\n",
       "      <td>2020-05-19T05:10:28-07:00</td>\n",
       "      <td>2020-05-19T05:10:28-07:00</td>\n",
       "      <td>Record Of The Year</td>\n",
       "      <td>Hard Place</td>\n",
       "      <td>H.E.R.</td>\n",
       "      <td>Rodney “Darkchild” Jerkins, producer; Joseph H...</td>\n",
       "      <td>https://www.grammy.com/sites/com/files/styles/...</td>\n",
       "      <td>True</td>\n",
       "    </tr>\n",
       "    <tr>\n",
       "      <th>4</th>\n",
       "      <td>2019</td>\n",
       "      <td>62nd Annual GRAMMY Awards  (2019)</td>\n",
       "      <td>2020-05-19T05:10:28-07:00</td>\n",
       "      <td>2020-05-19T05:10:28-07:00</td>\n",
       "      <td>Record Of The Year</td>\n",
       "      <td>Talk</td>\n",
       "      <td>Khalid</td>\n",
       "      <td>Disclosure &amp; Denis Kosiak, producers; Ingmar C...</td>\n",
       "      <td>https://www.grammy.com/sites/com/files/styles/...</td>\n",
       "      <td>True</td>\n",
       "    </tr>\n",
       "  </tbody>\n",
       "</table>\n",
       "</div>"
      ],
      "text/plain": [
       "   year                              title               published_at  \\\n",
       "0  2019  62nd Annual GRAMMY Awards  (2019)  2020-05-19T05:10:28-07:00   \n",
       "1  2019  62nd Annual GRAMMY Awards  (2019)  2020-05-19T05:10:28-07:00   \n",
       "2  2019  62nd Annual GRAMMY Awards  (2019)  2020-05-19T05:10:28-07:00   \n",
       "3  2019  62nd Annual GRAMMY Awards  (2019)  2020-05-19T05:10:28-07:00   \n",
       "4  2019  62nd Annual GRAMMY Awards  (2019)  2020-05-19T05:10:28-07:00   \n",
       "\n",
       "                  updated_at            category     nominee         artist  \\\n",
       "0  2020-05-19T05:10:28-07:00  Record Of The Year     Bad Guy  Billie Eilish   \n",
       "1  2020-05-19T05:10:28-07:00  Record Of The Year     Hey, Ma       Bon Iver   \n",
       "2  2020-05-19T05:10:28-07:00  Record Of The Year     7 rings  Ariana Grande   \n",
       "3  2020-05-19T05:10:28-07:00  Record Of The Year  Hard Place         H.E.R.   \n",
       "4  2020-05-19T05:10:28-07:00  Record Of The Year        Talk         Khalid   \n",
       "\n",
       "                                             workers  \\\n",
       "0  Finneas O'Connell, producer; Rob Kinelski & Fi...   \n",
       "1  BJ Burton, Brad Cook, Chris Messina & Justin V...   \n",
       "2  Charles Anderson, Tommy Brown, Michael Foster ...   \n",
       "3  Rodney “Darkchild” Jerkins, producer; Joseph H...   \n",
       "4  Disclosure & Denis Kosiak, producers; Ingmar C...   \n",
       "\n",
       "                                                 img  winner  \n",
       "0  https://www.grammy.com/sites/com/files/styles/...    True  \n",
       "1  https://www.grammy.com/sites/com/files/styles/...    True  \n",
       "2  https://www.grammy.com/sites/com/files/styles/...    True  \n",
       "3  https://www.grammy.com/sites/com/files/styles/...    True  \n",
       "4  https://www.grammy.com/sites/com/files/styles/...    True  "
      ]
     },
     "execution_count": 26,
     "metadata": {},
     "output_type": "execute_result"
    }
   ],
   "source": [
    "# Path to the Grammy's dataset\n",
    "csv_file = '../data/external/the_grammy_awards.csv'\n",
    "\n",
    "df = pd.read_csv(csv_file)\n",
    "\n",
    "df.head()"
   ]
  },
  {
   "cell_type": "markdown",
   "metadata": {},
   "source": [
    "A Parameters class centralizes anything that can be parametrized in the code. As we want to use the parameters for the connection to the PostgrSQL databases, params are instantiated as `params = Params()`."
   ]
  },
  {
   "cell_type": "code",
   "execution_count": 27,
   "metadata": {},
   "outputs": [
    {
     "name": "stderr",
     "output_type": "stream",
     "text": [
      "2025-03-29 16:03:58,821 - INFO - root - Successfully connected to the database.\n"
     ]
    }
   ],
   "source": [
    "# Parames instance\n",
    "params = Params()\n",
    "\n",
    "# Connection to the database\n",
    "db_client = DatabaseClient(params)"
   ]
  },
  {
   "cell_type": "markdown",
   "metadata": {},
   "source": [
    "A `table_name` for the grammy's dataset table is defined and then the Dataframe is writed to the PostgreSWL with SQLAlchemy's mehtod `df.to.sql()`"
   ]
  },
  {
   "cell_type": "code",
   "execution_count": 28,
   "metadata": {},
   "outputs": [
    {
     "name": "stderr",
     "output_type": "stream",
     "text": [
      "2025-03-29 16:03:59,074 - INFO - root - CSV data has been successfully loaded into the table 'grammys_raw'.\n"
     ]
    }
   ],
   "source": [
    "table_name = 'grammys_raw'\n",
    "\n",
    "try:\n",
    "    # Write the DataFrame to the database table\n",
    "    df.to_sql(table_name, con=db_client.engine, if_exists='replace', index=False)\n",
    "    logging.info(f\"CSV data has been successfully loaded into the table '{table_name}'.\")\n",
    "except Exception as e:\n",
    "    logging.error(f\"Failed to load CSV data into the table '{table_name}'.\")\n",
    "    logging.error(f\"Error details: {e}\")\n"
   ]
  },
  {
   "cell_type": "markdown",
   "metadata": {},
   "source": [
    "A `excute_queries()` function is defined to run a list of SQL queries to compare the dimensions of the Dataframa and the PostgreSQL table."
   ]
  },
  {
   "cell_type": "code",
   "execution_count": 29,
   "metadata": {},
   "outputs": [],
   "source": [
    "def execute_queries(queries, db_client):\n",
    "    \"\"\"\n",
    "    Execute a list of SQL queries and log the results.\n",
    "    \n",
    "    Parameters:\n",
    "    - queries: List of SQL query strings.\n",
    "    - db_client: DatabaseClient object containing the connection engine.\n",
    "    \"\"\"\n",
    "    try:\n",
    "        with db_client.engine.connect() as connection:\n",
    "            for query in queries:\n",
    "                logging.info(f\"Executing query: {query}\")\n",
    "                # Convert query string to executable SQLAlchemy text object\n",
    "                executable_query = text(query)\n",
    "                result = connection.execute(executable_query)\n",
    "                rows = result.fetchall()\n",
    "                \n",
    "                # Print and log the query results\n",
    "                logging.info(\"Query results:\")\n",
    "                for row in rows:\n",
    "                    logging.info(row)\n",
    "    except SQLAlchemyError as e:\n",
    "        logging.error(\"Failed to execute queries.\")\n",
    "        logging.error(f\"Error details: {e}\")"
   ]
  },
  {
   "cell_type": "markdown",
   "metadata": {},
   "source": [
    "Two queries are defined in a list to count the rows and columns of the \"grammys_raw\" table. Then they are executed through the `excute_queries()` function."
   ]
  },
  {
   "cell_type": "code",
   "execution_count": 30,
   "metadata": {},
   "outputs": [
    {
     "name": "stderr",
     "output_type": "stream",
     "text": [
      "2025-03-29 16:03:59,106 - INFO - root - Executing query: SELECT COUNT(*) FROM grammys_raw\n",
      "2025-03-29 16:03:59,114 - INFO - root - Query results:\n",
      "2025-03-29 16:03:59,116 - INFO - root - (4810,)\n",
      "2025-03-29 16:03:59,117 - INFO - root - Executing query: SELECT COUNT(*) FROM information_schema.columns WHERE table_name = 'grammys_raw'\n",
      "2025-03-29 16:03:59,127 - INFO - root - Query results:\n",
      "2025-03-29 16:03:59,128 - INFO - root - (10,)\n"
     ]
    }
   ],
   "source": [
    "queries = [\n",
    "    \"SELECT COUNT(*) FROM grammys_raw\",\n",
    "    \"SELECT COUNT(*) FROM information_schema.columns WHERE table_name = 'grammys_raw'\"\n",
    "]\n",
    "\n",
    "\n",
    "execute_queries(queries, db_client)"
   ]
  },
  {
   "cell_type": "markdown",
   "metadata": {},
   "source": [
    "The output indicates the table has 4810 rows and 10 columns. While the method '.shape' used for the grammy's dataset Dataframe returns the same dimension, so the insertion is consistent."
   ]
  },
  {
   "cell_type": "code",
   "execution_count": 31,
   "metadata": {},
   "outputs": [
    {
     "data": {
      "text/plain": [
       "(4810, 10)"
      ]
     },
     "execution_count": 31,
     "metadata": {},
     "output_type": "execute_result"
    }
   ],
   "source": [
    "df.shape"
   ]
  },
  {
   "cell_type": "markdown",
   "metadata": {},
   "source": [
    "Finally, the connection to the DatabaseClient is closed through its method `.close()`."
   ]
  },
  {
   "cell_type": "code",
   "execution_count": null,
   "metadata": {},
   "outputs": [
    {
     "name": "stderr",
     "output_type": "stream",
     "text": [
      "2025-03-29 16:03:59,156 - INFO - root - Connection to database closed successfully.\n"
     ]
    }
   ],
   "source": [
    "try:\n",
    "    db_client.close()\n",
    "except Exception as e:\n",
    "    logging.error(f\"Failed to close connection to the database.\")\n",
    "    logging.error(f\"Error details: {e}\")"
   ]
  }
 ],
 "metadata": {
  "kernelspec": {
   "display_name": "Python (venv)",
   "language": "python",
   "name": "venv"
  },
  "language_info": {
   "codemirror_mode": {
    "name": "ipython",
    "version": 3
   },
   "file_extension": ".py",
   "mimetype": "text/x-python",
   "name": "python",
   "nbconvert_exporter": "python",
   "pygments_lexer": "ipython3",
   "version": "3.12.3"
  }
 },
 "nbformat": 4,
 "nbformat_minor": 2
}
