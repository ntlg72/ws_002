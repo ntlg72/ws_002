{
 "cells": [
  {
   "cell_type": "markdown",
   "metadata": {},
   "source": [
    "https://www.kaggle.com/datasets/maharshipandya/-spotify-tracks-dataset"
   ]
  },
  {
   "cell_type": "code",
   "execution_count": 116,
   "metadata": {},
   "outputs": [],
   "source": [
    "import sys\n",
    "import os\n",
    "import pandas as pd\n",
    "import numpy as np\n",
    "\n",
    "sys.path.append(os.path.abspath('../'))"
   ]
  },
  {
   "cell_type": "markdown",
   "metadata": {},
   "source": [
    "## Data load"
   ]
  },
  {
   "cell_type": "code",
   "execution_count": 117,
   "metadata": {},
   "outputs": [
    {
     "data": {
      "text/html": [
       "<div>\n",
       "<style scoped>\n",
       "    .dataframe tbody tr th:only-of-type {\n",
       "        vertical-align: middle;\n",
       "    }\n",
       "\n",
       "    .dataframe tbody tr th {\n",
       "        vertical-align: top;\n",
       "    }\n",
       "\n",
       "    .dataframe thead th {\n",
       "        text-align: right;\n",
       "    }\n",
       "</style>\n",
       "<table border=\"1\" class=\"dataframe\">\n",
       "  <thead>\n",
       "    <tr style=\"text-align: right;\">\n",
       "      <th></th>\n",
       "      <th>Unnamed: 0</th>\n",
       "      <th>track_id</th>\n",
       "      <th>artists</th>\n",
       "      <th>album_name</th>\n",
       "      <th>track_name</th>\n",
       "      <th>popularity</th>\n",
       "      <th>duration_ms</th>\n",
       "      <th>explicit</th>\n",
       "      <th>danceability</th>\n",
       "      <th>energy</th>\n",
       "      <th>...</th>\n",
       "      <th>loudness</th>\n",
       "      <th>mode</th>\n",
       "      <th>speechiness</th>\n",
       "      <th>acousticness</th>\n",
       "      <th>instrumentalness</th>\n",
       "      <th>liveness</th>\n",
       "      <th>valence</th>\n",
       "      <th>tempo</th>\n",
       "      <th>time_signature</th>\n",
       "      <th>track_genre</th>\n",
       "    </tr>\n",
       "  </thead>\n",
       "  <tbody>\n",
       "    <tr>\n",
       "      <th>0</th>\n",
       "      <td>0</td>\n",
       "      <td>5SuOikwiRyPMVoIQDJUgSV</td>\n",
       "      <td>Gen Hoshino</td>\n",
       "      <td>Comedy</td>\n",
       "      <td>Comedy</td>\n",
       "      <td>73</td>\n",
       "      <td>230666</td>\n",
       "      <td>False</td>\n",
       "      <td>0.676</td>\n",
       "      <td>0.4610</td>\n",
       "      <td>...</td>\n",
       "      <td>-6.746</td>\n",
       "      <td>0</td>\n",
       "      <td>0.1430</td>\n",
       "      <td>0.0322</td>\n",
       "      <td>0.000001</td>\n",
       "      <td>0.3580</td>\n",
       "      <td>0.715</td>\n",
       "      <td>87.917</td>\n",
       "      <td>4</td>\n",
       "      <td>acoustic</td>\n",
       "    </tr>\n",
       "    <tr>\n",
       "      <th>1</th>\n",
       "      <td>1</td>\n",
       "      <td>4qPNDBW1i3p13qLCt0Ki3A</td>\n",
       "      <td>Ben Woodward</td>\n",
       "      <td>Ghost (Acoustic)</td>\n",
       "      <td>Ghost - Acoustic</td>\n",
       "      <td>55</td>\n",
       "      <td>149610</td>\n",
       "      <td>False</td>\n",
       "      <td>0.420</td>\n",
       "      <td>0.1660</td>\n",
       "      <td>...</td>\n",
       "      <td>-17.235</td>\n",
       "      <td>1</td>\n",
       "      <td>0.0763</td>\n",
       "      <td>0.9240</td>\n",
       "      <td>0.000006</td>\n",
       "      <td>0.1010</td>\n",
       "      <td>0.267</td>\n",
       "      <td>77.489</td>\n",
       "      <td>4</td>\n",
       "      <td>acoustic</td>\n",
       "    </tr>\n",
       "    <tr>\n",
       "      <th>2</th>\n",
       "      <td>2</td>\n",
       "      <td>1iJBSr7s7jYXzM8EGcbK5b</td>\n",
       "      <td>Ingrid Michaelson;ZAYN</td>\n",
       "      <td>To Begin Again</td>\n",
       "      <td>To Begin Again</td>\n",
       "      <td>57</td>\n",
       "      <td>210826</td>\n",
       "      <td>False</td>\n",
       "      <td>0.438</td>\n",
       "      <td>0.3590</td>\n",
       "      <td>...</td>\n",
       "      <td>-9.734</td>\n",
       "      <td>1</td>\n",
       "      <td>0.0557</td>\n",
       "      <td>0.2100</td>\n",
       "      <td>0.000000</td>\n",
       "      <td>0.1170</td>\n",
       "      <td>0.120</td>\n",
       "      <td>76.332</td>\n",
       "      <td>4</td>\n",
       "      <td>acoustic</td>\n",
       "    </tr>\n",
       "    <tr>\n",
       "      <th>3</th>\n",
       "      <td>3</td>\n",
       "      <td>6lfxq3CG4xtTiEg7opyCyx</td>\n",
       "      <td>Kina Grannis</td>\n",
       "      <td>Crazy Rich Asians (Original Motion Picture Sou...</td>\n",
       "      <td>Can't Help Falling In Love</td>\n",
       "      <td>71</td>\n",
       "      <td>201933</td>\n",
       "      <td>False</td>\n",
       "      <td>0.266</td>\n",
       "      <td>0.0596</td>\n",
       "      <td>...</td>\n",
       "      <td>-18.515</td>\n",
       "      <td>1</td>\n",
       "      <td>0.0363</td>\n",
       "      <td>0.9050</td>\n",
       "      <td>0.000071</td>\n",
       "      <td>0.1320</td>\n",
       "      <td>0.143</td>\n",
       "      <td>181.740</td>\n",
       "      <td>3</td>\n",
       "      <td>acoustic</td>\n",
       "    </tr>\n",
       "    <tr>\n",
       "      <th>4</th>\n",
       "      <td>4</td>\n",
       "      <td>5vjLSffimiIP26QG5WcN2K</td>\n",
       "      <td>Chord Overstreet</td>\n",
       "      <td>Hold On</td>\n",
       "      <td>Hold On</td>\n",
       "      <td>82</td>\n",
       "      <td>198853</td>\n",
       "      <td>False</td>\n",
       "      <td>0.618</td>\n",
       "      <td>0.4430</td>\n",
       "      <td>...</td>\n",
       "      <td>-9.681</td>\n",
       "      <td>1</td>\n",
       "      <td>0.0526</td>\n",
       "      <td>0.4690</td>\n",
       "      <td>0.000000</td>\n",
       "      <td>0.0829</td>\n",
       "      <td>0.167</td>\n",
       "      <td>119.949</td>\n",
       "      <td>4</td>\n",
       "      <td>acoustic</td>\n",
       "    </tr>\n",
       "  </tbody>\n",
       "</table>\n",
       "<p>5 rows × 21 columns</p>\n",
       "</div>"
      ],
      "text/plain": [
       "   Unnamed: 0                track_id                 artists  \\\n",
       "0           0  5SuOikwiRyPMVoIQDJUgSV             Gen Hoshino   \n",
       "1           1  4qPNDBW1i3p13qLCt0Ki3A            Ben Woodward   \n",
       "2           2  1iJBSr7s7jYXzM8EGcbK5b  Ingrid Michaelson;ZAYN   \n",
       "3           3  6lfxq3CG4xtTiEg7opyCyx            Kina Grannis   \n",
       "4           4  5vjLSffimiIP26QG5WcN2K        Chord Overstreet   \n",
       "\n",
       "                                          album_name  \\\n",
       "0                                             Comedy   \n",
       "1                                   Ghost (Acoustic)   \n",
       "2                                     To Begin Again   \n",
       "3  Crazy Rich Asians (Original Motion Picture Sou...   \n",
       "4                                            Hold On   \n",
       "\n",
       "                   track_name  popularity  duration_ms  explicit  \\\n",
       "0                      Comedy          73       230666     False   \n",
       "1            Ghost - Acoustic          55       149610     False   \n",
       "2              To Begin Again          57       210826     False   \n",
       "3  Can't Help Falling In Love          71       201933     False   \n",
       "4                     Hold On          82       198853     False   \n",
       "\n",
       "   danceability  energy  ...  loudness  mode  speechiness  acousticness  \\\n",
       "0         0.676  0.4610  ...    -6.746     0       0.1430        0.0322   \n",
       "1         0.420  0.1660  ...   -17.235     1       0.0763        0.9240   \n",
       "2         0.438  0.3590  ...    -9.734     1       0.0557        0.2100   \n",
       "3         0.266  0.0596  ...   -18.515     1       0.0363        0.9050   \n",
       "4         0.618  0.4430  ...    -9.681     1       0.0526        0.4690   \n",
       "\n",
       "   instrumentalness  liveness  valence    tempo  time_signature  track_genre  \n",
       "0          0.000001    0.3580    0.715   87.917               4     acoustic  \n",
       "1          0.000006    0.1010    0.267   77.489               4     acoustic  \n",
       "2          0.000000    0.1170    0.120   76.332               4     acoustic  \n",
       "3          0.000071    0.1320    0.143  181.740               3     acoustic  \n",
       "4          0.000000    0.0829    0.167  119.949               4     acoustic  \n",
       "\n",
       "[5 rows x 21 columns]"
      ]
     },
     "execution_count": 117,
     "metadata": {},
     "output_type": "execute_result"
    }
   ],
   "source": [
    "# Path to the Spotify's dataset in the project directory\n",
    "csv_file = '../data/external/spotify_dataset.csv'\n",
    "\n",
    "df = pd.read_csv(csv_file)\n",
    "\n",
    "df.head()"
   ]
  },
  {
   "cell_type": "markdown",
   "metadata": {},
   "source": [
    "## Data Overview an Descriptive Statistics"
   ]
  },
  {
   "cell_type": "markdown",
   "metadata": {},
   "source": [
    "### Overview"
   ]
  },
  {
   "cell_type": "markdown",
   "metadata": {},
   "source": [
    "The number of observations and features are obtained through Panda's `.shape` method. The \"Spotify\" dataset contains **114.000 observations (rows)** and **21 features (columns)**."
   ]
  },
  {
   "cell_type": "code",
   "execution_count": 118,
   "metadata": {},
   "outputs": [
    {
     "data": {
      "text/plain": [
       "(114000, 21)"
      ]
     },
     "execution_count": 118,
     "metadata": {},
     "output_type": "execute_result"
    }
   ],
   "source": [
    "df.shape"
   ]
  },
  {
   "cell_type": "markdown",
   "metadata": {},
   "source": [
    "The data types are obtained through Panda's `.dtypes` method. The Dataframe contains only 1 boolean feature, 5 object type features, 6 int64 type features and  9 float64 type features.\n"
   ]
  },
  {
   "cell_type": "code",
   "execution_count": 119,
   "metadata": {},
   "outputs": [
    {
     "name": "stdout",
     "output_type": "stream",
     "text": [
      "Columns grouped by data types:\n",
      "\n",
      "Data Type: int64\n",
      "Columns:\n",
      "  - Unnamed: 0\n",
      "  - popularity\n",
      "  - duration_ms\n",
      "  - key\n",
      "  - mode\n",
      "  - time_signature\n",
      "\n",
      "Data Type: object\n",
      "Columns:\n",
      "  - track_id\n",
      "  - artists\n",
      "  - album_name\n",
      "  - track_name\n",
      "  - track_genre\n",
      "\n",
      "Data Type: bool\n",
      "Columns:\n",
      "  - explicit\n",
      "\n",
      "Data Type: float64\n",
      "Columns:\n",
      "  - danceability\n",
      "  - energy\n",
      "  - loudness\n",
      "  - speechiness\n",
      "  - acousticness\n",
      "  - instrumentalness\n",
      "  - liveness\n",
      "  - valence\n",
      "  - tempo\n"
     ]
    }
   ],
   "source": [
    "def columns_per_dtype(df):\n",
    "    \"\"\"\n",
    "    This function returns a dictionary where keys are data types (dtypes)\n",
    "    and values are lists of column names corresponding to each dtype.\n",
    "\n",
    "    Parameters:\n",
    "        df (pd.DataFrame): The DataFrame to analyze.\n",
    "\n",
    "    Returns:\n",
    "        dict: A dictionary mapping each dtype to a list of column names with that dtype.\n",
    "    \"\"\"\n",
    "    result = {}\n",
    "    for col in df.columns:\n",
    "        col_dtype = df[col].dtype\n",
    "        if col_dtype not in result:\n",
    "            result[col_dtype] = []\n",
    "        result[col_dtype].append(col)\n",
    "    \n",
    "    print(\"Columns grouped by data types:\")\n",
    "    for dtype, columns in result.items():\n",
    "        print(f\"\\nData Type: {dtype}\")\n",
    "        print(\"Columns:\")\n",
    "        for col in columns:\n",
    "            print(f\"  - {col}\")\n",
    "\n",
    "\n",
    "columns_per_dtype(df)"
   ]
  },
  {
   "cell_type": "markdown",
   "metadata": {},
   "source": [
    "`Unnamed: 0` column is dropped as it is not part of the original dataset."
   ]
  },
  {
   "cell_type": "code",
   "execution_count": 120,
   "metadata": {},
   "outputs": [],
   "source": [
    "df =  df.drop(columns=[\"Unnamed: 0\"])"
   ]
  },
  {
   "cell_type": "markdown",
   "metadata": {},
   "source": [
    "The duplicated rows are obtained through Panda's `.duplicated` method. The Dataframe has 450 duplicate rows."
   ]
  },
  {
   "cell_type": "code",
   "execution_count": 121,
   "metadata": {},
   "outputs": [
    {
     "data": {
      "text/plain": [
       "450"
      ]
     },
     "execution_count": 121,
     "metadata": {},
     "output_type": "execute_result"
    }
   ],
   "source": [
    "df[df.duplicated()].shape[0]"
   ]
  },
  {
   "cell_type": "markdown",
   "metadata": {},
   "source": [
    "The missing values per feature are obtained through Panda's `.isnull().sum()` method. Only the features \"artists\", \"album_name\" and \"track_name\" have missing values, one missing value for each feature. This features, as indicated by their object datatype, are qualitative variables."
   ]
  },
  {
   "cell_type": "code",
   "execution_count": 122,
   "metadata": {},
   "outputs": [
    {
     "data": {
      "text/plain": [
       "track_id            0\n",
       "artists             1\n",
       "album_name          1\n",
       "track_name          1\n",
       "popularity          0\n",
       "duration_ms         0\n",
       "explicit            0\n",
       "danceability        0\n",
       "energy              0\n",
       "key                 0\n",
       "loudness            0\n",
       "mode                0\n",
       "speechiness         0\n",
       "acousticness        0\n",
       "instrumentalness    0\n",
       "liveness            0\n",
       "valence             0\n",
       "tempo               0\n",
       "time_signature      0\n",
       "track_genre         0\n",
       "dtype: int64"
      ]
     },
     "execution_count": 122,
     "metadata": {},
     "output_type": "execute_result"
    }
   ],
   "source": [
    "df.isnull().sum()"
   ]
  },
  {
   "cell_type": "markdown",
   "metadata": {},
   "source": [
    "Rows with null values are filtered  using the `.isnull()` method combined with `.any(axis=1)`. Only one row contains the missing values."
   ]
  },
  {
   "cell_type": "code",
   "execution_count": 123,
   "metadata": {},
   "outputs": [
    {
     "data": {
      "text/html": [
       "<div>\n",
       "<style scoped>\n",
       "    .dataframe tbody tr th:only-of-type {\n",
       "        vertical-align: middle;\n",
       "    }\n",
       "\n",
       "    .dataframe tbody tr th {\n",
       "        vertical-align: top;\n",
       "    }\n",
       "\n",
       "    .dataframe thead th {\n",
       "        text-align: right;\n",
       "    }\n",
       "</style>\n",
       "<table border=\"1\" class=\"dataframe\">\n",
       "  <thead>\n",
       "    <tr style=\"text-align: right;\">\n",
       "      <th></th>\n",
       "      <th>track_id</th>\n",
       "      <th>artists</th>\n",
       "      <th>album_name</th>\n",
       "      <th>track_name</th>\n",
       "      <th>popularity</th>\n",
       "      <th>duration_ms</th>\n",
       "      <th>explicit</th>\n",
       "      <th>danceability</th>\n",
       "      <th>energy</th>\n",
       "      <th>key</th>\n",
       "      <th>loudness</th>\n",
       "      <th>mode</th>\n",
       "      <th>speechiness</th>\n",
       "      <th>acousticness</th>\n",
       "      <th>instrumentalness</th>\n",
       "      <th>liveness</th>\n",
       "      <th>valence</th>\n",
       "      <th>tempo</th>\n",
       "      <th>time_signature</th>\n",
       "      <th>track_genre</th>\n",
       "    </tr>\n",
       "  </thead>\n",
       "  <tbody>\n",
       "    <tr>\n",
       "      <th>65900</th>\n",
       "      <td>1kR4gIb7nGxHPI3D2ifs59</td>\n",
       "      <td>NaN</td>\n",
       "      <td>NaN</td>\n",
       "      <td>NaN</td>\n",
       "      <td>0</td>\n",
       "      <td>0</td>\n",
       "      <td>False</td>\n",
       "      <td>0.501</td>\n",
       "      <td>0.583</td>\n",
       "      <td>7</td>\n",
       "      <td>-9.46</td>\n",
       "      <td>0</td>\n",
       "      <td>0.0605</td>\n",
       "      <td>0.69</td>\n",
       "      <td>0.00396</td>\n",
       "      <td>0.0747</td>\n",
       "      <td>0.734</td>\n",
       "      <td>138.391</td>\n",
       "      <td>4</td>\n",
       "      <td>k-pop</td>\n",
       "    </tr>\n",
       "  </tbody>\n",
       "</table>\n",
       "</div>"
      ],
      "text/plain": [
       "                     track_id artists album_name track_name  popularity  \\\n",
       "65900  1kR4gIb7nGxHPI3D2ifs59     NaN        NaN        NaN           0   \n",
       "\n",
       "       duration_ms  explicit  danceability  energy  key  loudness  mode  \\\n",
       "65900            0     False         0.501   0.583    7     -9.46     0   \n",
       "\n",
       "       speechiness  acousticness  instrumentalness  liveness  valence  \\\n",
       "65900       0.0605          0.69           0.00396    0.0747    0.734   \n",
       "\n",
       "         tempo  time_signature track_genre  \n",
       "65900  138.391               4       k-pop  "
      ]
     },
     "execution_count": 123,
     "metadata": {},
     "output_type": "execute_result"
    }
   ],
   "source": [
    "filtered_rows = df[df.isnull().any(axis=1)]\n",
    "\n",
    "filtered_rows"
   ]
  },
  {
   "cell_type": "markdown",
   "metadata": {},
   "source": [
    "The percentage of missing data is aproximmately 0.0001%, which in itself is not very significative."
   ]
  },
  {
   "cell_type": "code",
   "execution_count": 124,
   "metadata": {},
   "outputs": [
    {
     "data": {
      "text/plain": [
       "np.float64(0.0001)"
      ]
     },
     "execution_count": 124,
     "metadata": {},
     "output_type": "execute_result"
    }
   ],
   "source": [
    "round(df.isnull().sum().sum() / df.size * 100, 4) "
   ]
  },
  {
   "cell_type": "markdown",
   "metadata": {},
   "source": [
    "### Descriptive statistics"
   ]
  },
  {
   "cell_type": "markdown",
   "metadata": {},
   "source": [
    "#### Quantitative variables"
   ]
  },
  {
   "cell_type": "markdown",
   "metadata": {},
   "source": [
    "Descriptive statistics of quantitative are generated through Panda's `.describe` method.\n",
    "\n"
   ]
  },
  {
   "cell_type": "code",
   "execution_count": 125,
   "metadata": {},
   "outputs": [
    {
     "data": {
      "text/html": [
       "<div>\n",
       "<style scoped>\n",
       "    .dataframe tbody tr th:only-of-type {\n",
       "        vertical-align: middle;\n",
       "    }\n",
       "\n",
       "    .dataframe tbody tr th {\n",
       "        vertical-align: top;\n",
       "    }\n",
       "\n",
       "    .dataframe thead th {\n",
       "        text-align: right;\n",
       "    }\n",
       "</style>\n",
       "<table border=\"1\" class=\"dataframe\">\n",
       "  <thead>\n",
       "    <tr style=\"text-align: right;\">\n",
       "      <th></th>\n",
       "      <th>popularity</th>\n",
       "      <th>duration_ms</th>\n",
       "      <th>danceability</th>\n",
       "      <th>energy</th>\n",
       "      <th>key</th>\n",
       "      <th>loudness</th>\n",
       "      <th>mode</th>\n",
       "      <th>speechiness</th>\n",
       "      <th>acousticness</th>\n",
       "      <th>instrumentalness</th>\n",
       "      <th>liveness</th>\n",
       "      <th>valence</th>\n",
       "      <th>tempo</th>\n",
       "      <th>time_signature</th>\n",
       "    </tr>\n",
       "  </thead>\n",
       "  <tbody>\n",
       "    <tr>\n",
       "      <th>count</th>\n",
       "      <td>114000.000000</td>\n",
       "      <td>1.140000e+05</td>\n",
       "      <td>114000.000000</td>\n",
       "      <td>114000.000000</td>\n",
       "      <td>114000.000000</td>\n",
       "      <td>114000.000000</td>\n",
       "      <td>114000.000000</td>\n",
       "      <td>114000.000000</td>\n",
       "      <td>114000.000000</td>\n",
       "      <td>114000.000000</td>\n",
       "      <td>114000.000000</td>\n",
       "      <td>114000.000000</td>\n",
       "      <td>114000.000000</td>\n",
       "      <td>114000.000000</td>\n",
       "    </tr>\n",
       "    <tr>\n",
       "      <th>mean</th>\n",
       "      <td>33.238535</td>\n",
       "      <td>2.280292e+05</td>\n",
       "      <td>0.566800</td>\n",
       "      <td>0.641383</td>\n",
       "      <td>5.309140</td>\n",
       "      <td>-8.258960</td>\n",
       "      <td>0.637553</td>\n",
       "      <td>0.084652</td>\n",
       "      <td>0.314910</td>\n",
       "      <td>0.156050</td>\n",
       "      <td>0.213553</td>\n",
       "      <td>0.474068</td>\n",
       "      <td>122.147837</td>\n",
       "      <td>3.904035</td>\n",
       "    </tr>\n",
       "    <tr>\n",
       "      <th>std</th>\n",
       "      <td>22.305078</td>\n",
       "      <td>1.072977e+05</td>\n",
       "      <td>0.173542</td>\n",
       "      <td>0.251529</td>\n",
       "      <td>3.559987</td>\n",
       "      <td>5.029337</td>\n",
       "      <td>0.480709</td>\n",
       "      <td>0.105732</td>\n",
       "      <td>0.332523</td>\n",
       "      <td>0.309555</td>\n",
       "      <td>0.190378</td>\n",
       "      <td>0.259261</td>\n",
       "      <td>29.978197</td>\n",
       "      <td>0.432621</td>\n",
       "    </tr>\n",
       "    <tr>\n",
       "      <th>min</th>\n",
       "      <td>0.000000</td>\n",
       "      <td>0.000000e+00</td>\n",
       "      <td>0.000000</td>\n",
       "      <td>0.000000</td>\n",
       "      <td>0.000000</td>\n",
       "      <td>-49.531000</td>\n",
       "      <td>0.000000</td>\n",
       "      <td>0.000000</td>\n",
       "      <td>0.000000</td>\n",
       "      <td>0.000000</td>\n",
       "      <td>0.000000</td>\n",
       "      <td>0.000000</td>\n",
       "      <td>0.000000</td>\n",
       "      <td>0.000000</td>\n",
       "    </tr>\n",
       "    <tr>\n",
       "      <th>25%</th>\n",
       "      <td>17.000000</td>\n",
       "      <td>1.740660e+05</td>\n",
       "      <td>0.456000</td>\n",
       "      <td>0.472000</td>\n",
       "      <td>2.000000</td>\n",
       "      <td>-10.013000</td>\n",
       "      <td>0.000000</td>\n",
       "      <td>0.035900</td>\n",
       "      <td>0.016900</td>\n",
       "      <td>0.000000</td>\n",
       "      <td>0.098000</td>\n",
       "      <td>0.260000</td>\n",
       "      <td>99.218750</td>\n",
       "      <td>4.000000</td>\n",
       "    </tr>\n",
       "    <tr>\n",
       "      <th>50%</th>\n",
       "      <td>35.000000</td>\n",
       "      <td>2.129060e+05</td>\n",
       "      <td>0.580000</td>\n",
       "      <td>0.685000</td>\n",
       "      <td>5.000000</td>\n",
       "      <td>-7.004000</td>\n",
       "      <td>1.000000</td>\n",
       "      <td>0.048900</td>\n",
       "      <td>0.169000</td>\n",
       "      <td>0.000042</td>\n",
       "      <td>0.132000</td>\n",
       "      <td>0.464000</td>\n",
       "      <td>122.017000</td>\n",
       "      <td>4.000000</td>\n",
       "    </tr>\n",
       "    <tr>\n",
       "      <th>75%</th>\n",
       "      <td>50.000000</td>\n",
       "      <td>2.615060e+05</td>\n",
       "      <td>0.695000</td>\n",
       "      <td>0.854000</td>\n",
       "      <td>8.000000</td>\n",
       "      <td>-5.003000</td>\n",
       "      <td>1.000000</td>\n",
       "      <td>0.084500</td>\n",
       "      <td>0.598000</td>\n",
       "      <td>0.049000</td>\n",
       "      <td>0.273000</td>\n",
       "      <td>0.683000</td>\n",
       "      <td>140.071000</td>\n",
       "      <td>4.000000</td>\n",
       "    </tr>\n",
       "    <tr>\n",
       "      <th>max</th>\n",
       "      <td>100.000000</td>\n",
       "      <td>5.237295e+06</td>\n",
       "      <td>0.985000</td>\n",
       "      <td>1.000000</td>\n",
       "      <td>11.000000</td>\n",
       "      <td>4.532000</td>\n",
       "      <td>1.000000</td>\n",
       "      <td>0.965000</td>\n",
       "      <td>0.996000</td>\n",
       "      <td>1.000000</td>\n",
       "      <td>1.000000</td>\n",
       "      <td>0.995000</td>\n",
       "      <td>243.372000</td>\n",
       "      <td>5.000000</td>\n",
       "    </tr>\n",
       "  </tbody>\n",
       "</table>\n",
       "</div>"
      ],
      "text/plain": [
       "          popularity   duration_ms   danceability         energy  \\\n",
       "count  114000.000000  1.140000e+05  114000.000000  114000.000000   \n",
       "mean       33.238535  2.280292e+05       0.566800       0.641383   \n",
       "std        22.305078  1.072977e+05       0.173542       0.251529   \n",
       "min         0.000000  0.000000e+00       0.000000       0.000000   \n",
       "25%        17.000000  1.740660e+05       0.456000       0.472000   \n",
       "50%        35.000000  2.129060e+05       0.580000       0.685000   \n",
       "75%        50.000000  2.615060e+05       0.695000       0.854000   \n",
       "max       100.000000  5.237295e+06       0.985000       1.000000   \n",
       "\n",
       "                 key       loudness           mode    speechiness  \\\n",
       "count  114000.000000  114000.000000  114000.000000  114000.000000   \n",
       "mean        5.309140      -8.258960       0.637553       0.084652   \n",
       "std         3.559987       5.029337       0.480709       0.105732   \n",
       "min         0.000000     -49.531000       0.000000       0.000000   \n",
       "25%         2.000000     -10.013000       0.000000       0.035900   \n",
       "50%         5.000000      -7.004000       1.000000       0.048900   \n",
       "75%         8.000000      -5.003000       1.000000       0.084500   \n",
       "max        11.000000       4.532000       1.000000       0.965000   \n",
       "\n",
       "        acousticness  instrumentalness       liveness        valence  \\\n",
       "count  114000.000000     114000.000000  114000.000000  114000.000000   \n",
       "mean        0.314910          0.156050       0.213553       0.474068   \n",
       "std         0.332523          0.309555       0.190378       0.259261   \n",
       "min         0.000000          0.000000       0.000000       0.000000   \n",
       "25%         0.016900          0.000000       0.098000       0.260000   \n",
       "50%         0.169000          0.000042       0.132000       0.464000   \n",
       "75%         0.598000          0.049000       0.273000       0.683000   \n",
       "max         0.996000          1.000000       1.000000       0.995000   \n",
       "\n",
       "               tempo  time_signature  \n",
       "count  114000.000000   114000.000000  \n",
       "mean      122.147837        3.904035  \n",
       "std        29.978197        0.432621  \n",
       "min         0.000000        0.000000  \n",
       "25%        99.218750        4.000000  \n",
       "50%       122.017000        4.000000  \n",
       "75%       140.071000        4.000000  \n",
       "max       243.372000        5.000000  "
      ]
     },
     "execution_count": 125,
     "metadata": {},
     "output_type": "execute_result"
    }
   ],
   "source": [
    "df.describe()"
   ]
  },
  {
   "cell_type": "markdown",
   "metadata": {},
   "source": [
    "#### Qualitative variables"
   ]
  },
  {
   "cell_type": "markdown",
   "metadata": {},
   "source": [
    "Panda's `.describe` method is used with the parameter `include='object'` for describing all qualitative columns of the DataFrame."
   ]
  },
  {
   "cell_type": "code",
   "execution_count": 126,
   "metadata": {},
   "outputs": [
    {
     "data": {
      "text/html": [
       "<div>\n",
       "<style scoped>\n",
       "    .dataframe tbody tr th:only-of-type {\n",
       "        vertical-align: middle;\n",
       "    }\n",
       "\n",
       "    .dataframe tbody tr th {\n",
       "        vertical-align: top;\n",
       "    }\n",
       "\n",
       "    .dataframe thead th {\n",
       "        text-align: right;\n",
       "    }\n",
       "</style>\n",
       "<table border=\"1\" class=\"dataframe\">\n",
       "  <thead>\n",
       "    <tr style=\"text-align: right;\">\n",
       "      <th></th>\n",
       "      <th>track_id</th>\n",
       "      <th>artists</th>\n",
       "      <th>album_name</th>\n",
       "      <th>track_name</th>\n",
       "      <th>track_genre</th>\n",
       "    </tr>\n",
       "  </thead>\n",
       "  <tbody>\n",
       "    <tr>\n",
       "      <th>count</th>\n",
       "      <td>114000</td>\n",
       "      <td>113999</td>\n",
       "      <td>113999</td>\n",
       "      <td>113999</td>\n",
       "      <td>114000</td>\n",
       "    </tr>\n",
       "    <tr>\n",
       "      <th>unique</th>\n",
       "      <td>89741</td>\n",
       "      <td>31437</td>\n",
       "      <td>46589</td>\n",
       "      <td>73608</td>\n",
       "      <td>114</td>\n",
       "    </tr>\n",
       "    <tr>\n",
       "      <th>top</th>\n",
       "      <td>6S3JlDAGk3uu3NtZbPnuhS</td>\n",
       "      <td>The Beatles</td>\n",
       "      <td>Alternative Christmas 2022</td>\n",
       "      <td>Run Rudolph Run</td>\n",
       "      <td>acoustic</td>\n",
       "    </tr>\n",
       "    <tr>\n",
       "      <th>freq</th>\n",
       "      <td>9</td>\n",
       "      <td>279</td>\n",
       "      <td>195</td>\n",
       "      <td>151</td>\n",
       "      <td>1000</td>\n",
       "    </tr>\n",
       "  </tbody>\n",
       "</table>\n",
       "</div>"
      ],
      "text/plain": [
       "                      track_id      artists                  album_name  \\\n",
       "count                   114000       113999                      113999   \n",
       "unique                   89741        31437                       46589   \n",
       "top     6S3JlDAGk3uu3NtZbPnuhS  The Beatles  Alternative Christmas 2022   \n",
       "freq                         9          279                         195   \n",
       "\n",
       "             track_name track_genre  \n",
       "count            113999      114000  \n",
       "unique            73608         114  \n",
       "top     Run Rudolph Run    acoustic  \n",
       "freq                151        1000  "
      ]
     },
     "execution_count": 126,
     "metadata": {},
     "output_type": "execute_result"
    }
   ],
   "source": [
    "df.describe(include='object') "
   ]
  },
  {
   "cell_type": "markdown",
   "metadata": {},
   "source": [
    "1. **Observation Count**: The column `track_id` matches the total number of observations (114,000), which indicates every row has a `track_id` entry.\n",
    "\n",
    "2. **Uniqueness**: Despite having 114,000 observations, `track_id` contains only 89,741 unique values. This suggests that some `track_id`s are repeated across multiple rows.\n",
    "\n",
    "4. **track_genre**: This column seems to have very few unique values (only 114), meaning it's highly categorical or repetitive.\n",
    "\n",
    "5. **Frequent Entries**: The `top` values show the most frequent entry for each column, and `freq` gives the count of that value.  \"The Beatles\" is the mode in `artists`; \"Alternative Christmas 2022\"\tis the mode in `album_name`; and \"Run Rudolph Run\" is the mode in `track_name`; and acoustic is the mode in `track_genre`."
   ]
  },
  {
   "cell_type": "markdown",
   "metadata": {},
   "source": [
    "## Handling missing values"
   ]
  },
  {
   "cell_type": "markdown",
   "metadata": {},
   "source": [
    "As stablished previously, only one rows contains missing values, amounting to approximmately 0.0001%, of the data which in itself is not very significative.So this missing data is going to be dropped."
   ]
  },
  {
   "cell_type": "code",
   "execution_count": 127,
   "metadata": {},
   "outputs": [],
   "source": [
    "df = df.dropna()"
   ]
  },
  {
   "cell_type": "markdown",
   "metadata": {},
   "source": [
    "Now the Dataframe has 113.999 rows and 20 columns."
   ]
  },
  {
   "cell_type": "code",
   "execution_count": 128,
   "metadata": {},
   "outputs": [
    {
     "data": {
      "text/plain": [
       "(113999, 20)"
      ]
     },
     "execution_count": 128,
     "metadata": {},
     "output_type": "execute_result"
    }
   ],
   "source": [
    "df.shape"
   ]
  },
  {
   "cell_type": "markdown",
   "metadata": {},
   "source": [
    "## Handling duplicated values"
   ]
  },
  {
   "cell_type": "markdown",
   "metadata": {},
   "source": [
    "As stated previously the Dataframe has 450 duplicate rows.There are going to be dropped."
   ]
  },
  {
   "cell_type": "code",
   "execution_count": 129,
   "metadata": {},
   "outputs": [],
   "source": [
    "df = df.drop_duplicates()"
   ]
  },
  {
   "cell_type": "code",
   "execution_count": 130,
   "metadata": {},
   "outputs": [
    {
     "name": "stdout",
     "output_type": "stream",
     "text": [
      "The Dataframe without duplicates has 113549 rows and 20 columns\n"
     ]
    }
   ],
   "source": [
    "print(f\"The Dataframe without duplicates has {df.shape[0]} rows and {df.shape[1]} columns\")"
   ]
  },
  {
   "cell_type": "markdown",
   "metadata": {},
   "source": [
    "### Inspecting the duplicated entries in `track_id`"
   ]
  },
  {
   "cell_type": "markdown",
   "metadata": {},
   "source": [
    "We create a Dataframe where containing only the rows where the  column has duplicates and check its dimensions to assert the number of duplicated rows."
   ]
  },
  {
   "cell_type": "code",
   "execution_count": 131,
   "metadata": {},
   "outputs": [
    {
     "name": "stdout",
     "output_type": "stream",
     "text": [
      "The Dataframe with duplicates has 40108 rows.\n"
     ]
    }
   ],
   "source": [
    "duplicates_id = df[df.duplicated(subset=['track_id'], keep=False)]\n",
    "print(f\"The Dataframe with duplicates has {duplicates_id.shape[0]} rows.\")"
   ]
  },
  {
   "cell_type": "markdown",
   "metadata": {},
   "source": [
    "Now we compute the difference in the number of rows and columns between our original DataFrame (`df`) and the filtered DataFrame of duplicates (`duplicates_id`). "
   ]
  },
  {
   "cell_type": "code",
   "execution_count": 132,
   "metadata": {},
   "outputs": [
    {
     "name": "stdout",
     "output_type": "stream",
     "text": [
      "The number of non-duplicated rows is 73441, which is 64.68% of the original Spotify DataFrame.\n"
     ]
    }
   ],
   "source": [
    "difference = (df.shape[0] - duplicates_id.shape[0])\n",
    "\n",
    "# Compute the percentage of non-duplicated rows\n",
    "percentage_non_duplicated = (difference / df.shape[0]) * 100\n",
    "\n",
    "# Print the result\n",
    "print(f\"The number of non-duplicated rows is {difference}, which is {percentage_non_duplicated:.2f}% of the original Spotify DataFrame.\")"
   ]
  },
  {
   "cell_type": "markdown",
   "metadata": {},
   "source": [
    "We need to check if pairs with duplicated `track_id` along with their respective `track_name` have a correspondence. To ensure that all pairs of duplicated `track_id`s have the same `track_name`, the data is grouped by `track_id` and we check if each group has only one unique `track_name`.\n",
    "\n",
    "1. **`groupby('track_id')`**: Groups the DataFrame by `track_id`.\n",
    "2. **`nunique()`**: Counts the number of unique `track_name` values in each group.\n",
    "3. **Check for inconsistencies**: Identifies `track_id`s where there is more than one unique `track_name`."
   ]
  },
  {
   "cell_type": "code",
   "execution_count": 133,
   "metadata": {},
   "outputs": [
    {
     "name": "stdout",
     "output_type": "stream",
     "text": [
      "All duplicated track_ids have the same track_name.\n"
     ]
    }
   ],
   "source": [
    "grouped = df.groupby('track_id')['track_name'].nunique()\n",
    "\n",
    "# Check for track_ids with more than one unique track_name\n",
    "inconsistent = grouped[grouped > 1]\n",
    "\n",
    "if inconsistent.empty:\n",
    "    print(\"All duplicated track_ids have the same track_name.\")\n",
    "else:\n",
    "    print(\"Some duplicated track_ids have inconsistent track_names.\")\n",
    "    print(inconsistent)\n"
   ]
  },
  {
   "cell_type": "markdown",
   "metadata": {},
   "source": [
    "As all duplicated `track_id`s have the same `track_name`s, we need to further inspect if there is anything that differentiates this duplicate tracks. "
   ]
  },
  {
   "cell_type": "code",
   "execution_count": 134,
   "metadata": {},
   "outputs": [
    {
     "name": "stdout",
     "output_type": "stream",
     "text": [
      "No duplicates are fully identical across all fields.\n"
     ]
    }
   ],
   "source": [
    "# Group by 'track_id' and check for identical rows within each group\n",
    "identical_groups = duplicates_id.groupby('track_id').filter(\n",
    "    lambda group: group.drop_duplicates().shape[0] == 1\n",
    ")\n",
    "\n",
    "if identical_groups.empty:\n",
    "    print(\"No duplicates are fully identical across all fields.\")\n",
    "else:\n",
    "    print(\"Fully identical rows:\")\n",
    "    print(identical_groups.shape[0])"
   ]
  },
  {
   "cell_type": "code",
   "execution_count": 135,
   "metadata": {},
   "outputs": [],
   "source": [
    "def check_inconsistencies(df, id_col='track_id'):\n",
    "    \"\"\"Versión con mensajes de diagnóstico\"\"\"\n",
    "    dup_mask = df.duplicated(subset=id_col, keep=False)\n",
    "    print(f\"Total registros duplicados: {dup_mask.sum()}\")\n",
    "    \n",
    "    if not dup_mask.any():\n",
    "        print(\"No hay duplicados para analizar\")\n",
    "        return pd.DataFrame(columns=[id_col, 'inconsistent_columns'])\n",
    "    \n",
    "    results = []\n",
    "    for track_id in df.loc[dup_mask, id_col].unique():\n",
    "        group = df[df[id_col] == track_id]\n",
    "        inconsistent = [col for col in group.columns \n",
    "                       if col != id_col and group[col].nunique() > 1]\n",
    "        if inconsistent:\n",
    "            results.append({\n",
    "                id_col: track_id,\n",
    "                'inconsistent_columns': ', '.join(inconsistent),\n",
    "                'n_duplicates': len(group),\n",
    "                'example_values': str(group[inconsistent[0]].unique()[:3])  # Muestra primeros valores\n",
    "            })\n",
    "    \n",
    "    if not results:\n",
    "        print(\"Duplicados encontrados pero son completamente consistentes en todas las columnas\")\n",
    "    \n",
    "    return pd.DataFrame(results)"
   ]
  },
  {
   "cell_type": "code",
   "execution_count": 136,
   "metadata": {},
   "outputs": [
    {
     "name": "stdout",
     "output_type": "stream",
     "text": [
      "Total registros duplicados: 40108\n"
     ]
    },
    {
     "name": "stdout",
     "output_type": "stream",
     "text": [
      "Inconsistencias encontradas:\n"
     ]
    },
    {
     "data": {
      "text/html": [
       "<div>\n",
       "<style scoped>\n",
       "    .dataframe tbody tr th:only-of-type {\n",
       "        vertical-align: middle;\n",
       "    }\n",
       "\n",
       "    .dataframe tbody tr th {\n",
       "        vertical-align: top;\n",
       "    }\n",
       "\n",
       "    .dataframe thead th {\n",
       "        text-align: right;\n",
       "    }\n",
       "</style>\n",
       "<table border=\"1\" class=\"dataframe\">\n",
       "  <thead>\n",
       "    <tr style=\"text-align: right;\">\n",
       "      <th></th>\n",
       "      <th>track_id</th>\n",
       "      <th>inconsistent_columns</th>\n",
       "      <th>n_duplicates</th>\n",
       "      <th>example_values</th>\n",
       "    </tr>\n",
       "  </thead>\n",
       "  <tbody>\n",
       "    <tr>\n",
       "      <th>0</th>\n",
       "      <td>5SuOikwiRyPMVoIQDJUgSV</td>\n",
       "      <td>track_genre</td>\n",
       "      <td>4</td>\n",
       "      <td>['acoustic' 'j-pop' 'singer-songwriter']</td>\n",
       "    </tr>\n",
       "    <tr>\n",
       "      <th>1</th>\n",
       "      <td>4qPNDBW1i3p13qLCt0Ki3A</td>\n",
       "      <td>track_genre</td>\n",
       "      <td>2</td>\n",
       "      <td>['acoustic' 'chill']</td>\n",
       "    </tr>\n",
       "    <tr>\n",
       "      <th>2</th>\n",
       "      <td>01MVOl9KtVTNfFiBU9I7dc</td>\n",
       "      <td>track_genre</td>\n",
       "      <td>2</td>\n",
       "      <td>['acoustic' 'indie-pop']</td>\n",
       "    </tr>\n",
       "    <tr>\n",
       "      <th>3</th>\n",
       "      <td>6Vc5wAMmXdKIAM7WUoEb7N</td>\n",
       "      <td>track_genre</td>\n",
       "      <td>2</td>\n",
       "      <td>['acoustic' 'piano']</td>\n",
       "    </tr>\n",
       "    <tr>\n",
       "      <th>4</th>\n",
       "      <td>1EzrEOXmMH3G43AXT1y7pA</td>\n",
       "      <td>track_genre</td>\n",
       "      <td>2</td>\n",
       "      <td>['acoustic' 'rock']</td>\n",
       "    </tr>\n",
       "    <tr>\n",
       "      <th>...</th>\n",
       "      <td>...</td>\n",
       "      <td>...</td>\n",
       "      <td>...</td>\n",
       "      <td>...</td>\n",
       "    </tr>\n",
       "    <tr>\n",
       "      <th>16294</th>\n",
       "      <td>79cxnmnGiC0qZfxi5ogp4j</td>\n",
       "      <td>track_genre</td>\n",
       "      <td>2</td>\n",
       "      <td>['techno' 'trance']</td>\n",
       "    </tr>\n",
       "    <tr>\n",
       "      <th>16295</th>\n",
       "      <td>1B0FEDRzzN5GP7HGZZfNQl</td>\n",
       "      <td>track_genre</td>\n",
       "      <td>2</td>\n",
       "      <td>['techno' 'trance']</td>\n",
       "    </tr>\n",
       "    <tr>\n",
       "      <th>16296</th>\n",
       "      <td>4D41idYLHmXYGaHZeRWtPT</td>\n",
       "      <td>track_genre</td>\n",
       "      <td>2</td>\n",
       "      <td>['techno' 'trip-hop']</td>\n",
       "    </tr>\n",
       "    <tr>\n",
       "      <th>16297</th>\n",
       "      <td>27nGU2v3syK7aU3AVY2vUO</td>\n",
       "      <td>track_genre</td>\n",
       "      <td>2</td>\n",
       "      <td>['techno' 'trance']</td>\n",
       "    </tr>\n",
       "    <tr>\n",
       "      <th>16298</th>\n",
       "      <td>2TgTGJyiWf1ptW5g3QG938</td>\n",
       "      <td>track_genre</td>\n",
       "      <td>2</td>\n",
       "      <td>['techno' 'trip-hop']</td>\n",
       "    </tr>\n",
       "  </tbody>\n",
       "</table>\n",
       "<p>16299 rows × 4 columns</p>\n",
       "</div>"
      ],
      "text/plain": [
       "                     track_id inconsistent_columns  n_duplicates  \\\n",
       "0      5SuOikwiRyPMVoIQDJUgSV          track_genre             4   \n",
       "1      4qPNDBW1i3p13qLCt0Ki3A          track_genre             2   \n",
       "2      01MVOl9KtVTNfFiBU9I7dc          track_genre             2   \n",
       "3      6Vc5wAMmXdKIAM7WUoEb7N          track_genre             2   \n",
       "4      1EzrEOXmMH3G43AXT1y7pA          track_genre             2   \n",
       "...                       ...                  ...           ...   \n",
       "16294  79cxnmnGiC0qZfxi5ogp4j          track_genre             2   \n",
       "16295  1B0FEDRzzN5GP7HGZZfNQl          track_genre             2   \n",
       "16296  4D41idYLHmXYGaHZeRWtPT          track_genre             2   \n",
       "16297  27nGU2v3syK7aU3AVY2vUO          track_genre             2   \n",
       "16298  2TgTGJyiWf1ptW5g3QG938          track_genre             2   \n",
       "\n",
       "                                 example_values  \n",
       "0      ['acoustic' 'j-pop' 'singer-songwriter']  \n",
       "1                          ['acoustic' 'chill']  \n",
       "2                      ['acoustic' 'indie-pop']  \n",
       "3                          ['acoustic' 'piano']  \n",
       "4                           ['acoustic' 'rock']  \n",
       "...                                         ...  \n",
       "16294                       ['techno' 'trance']  \n",
       "16295                       ['techno' 'trance']  \n",
       "16296                     ['techno' 'trip-hop']  \n",
       "16297                       ['techno' 'trance']  \n",
       "16298                     ['techno' 'trip-hop']  \n",
       "\n",
       "[16299 rows x 4 columns]"
      ]
     },
     "metadata": {},
     "output_type": "display_data"
    }
   ],
   "source": [
    "inconsistencies = check_inconsistencies(duplicates_id)\n",
    "if inconsistencies.empty:\n",
    "    print(\"No se encontraron inconsistencias en duplicados\")\n",
    "else:\n",
    "    print(\"Inconsistencias encontradas:\")\n",
    "    display(inconsistencies)"
   ]
  },
  {
   "cell_type": "code",
   "execution_count": 137,
   "metadata": {},
   "outputs": [],
   "source": [
    "def handle_duplicates_simple(df, id_col='track_id', strategy='first'):\n",
    "    \"\"\"\n",
    "    Maneja duplicados de forma eficiente con estrategias básicas.\n",
    "    \n",
    "    Args:\n",
    "        df: DataFrame de pandas\n",
    "        id_col: Columna para identificar duplicados (default 'track_id')\n",
    "        strategy: 'first' (keep first), 'last' (keep last), \n",
    "                 'mean' (promedio numérico/moda categórica),\n",
    "                 'concat' (une valores únicos con '|')\n",
    "    \n",
    "    Returns:\n",
    "        DataFrame procesado sin duplicados\n",
    "    \"\"\"\n",
    "    # Verificación rápida de duplicados\n",
    "    dup_mask = df.duplicated(subset=id_col, keep=False)\n",
    "    \n",
    "    if not dup_mask.any():\n",
    "        return df.copy()\n",
    "    \n",
    "    # Estrategias simples\n",
    "    if strategy in ['first', 'last']:\n",
    "        return df.drop_duplicates(subset=id_col, keep=strategy)\n",
    "    \n",
    "    # Estrategias que requieren agrupación\n",
    "    grouped = df.groupby(id_col)\n",
    "    \n",
    "    if strategy == 'mean':\n",
    "        return grouped.agg(lambda x: x.mean() if np.issubdtype(x.dtype, np.number) \n",
    "                          else x.mode()[0] if not x.mode().empty else x.iloc[0]).reset_index()\n",
    "    \n",
    "    if strategy == 'concat':\n",
    "        return grouped.agg(lambda x: '|'.join(map(str, x.unique()))).reset_index()\n",
    "    \n",
    "    raise ValueError(f\"Estrategia no válida: {strategy}. Usar 'first', 'last', 'mean' o 'concat'\")"
   ]
  },
  {
   "cell_type": "markdown",
   "metadata": {},
   "source": [
    "### Checking categorical values in `track_genre`"
   ]
  },
  {
   "cell_type": "code",
   "execution_count": 138,
   "metadata": {},
   "outputs": [
    {
     "data": {
      "text/plain": [
       "array(['acoustic', 'afrobeat', 'alt-rock', 'alternative', 'ambient',\n",
       "       'anime', 'black-metal', 'bluegrass', 'blues', 'brazil',\n",
       "       'breakbeat', 'british', 'cantopop', 'chicago-house', 'children',\n",
       "       'chill', 'classical', 'club', 'comedy', 'country', 'dance',\n",
       "       'dancehall', 'death-metal', 'deep-house', 'detroit-techno',\n",
       "       'disco', 'disney', 'drum-and-bass', 'dub', 'dubstep', 'edm',\n",
       "       'electro', 'electronic', 'emo', 'folk', 'forro', 'french', 'funk',\n",
       "       'garage', 'german', 'gospel', 'goth', 'grindcore', 'groove',\n",
       "       'grunge', 'guitar', 'happy', 'hard-rock', 'hardcore', 'hardstyle',\n",
       "       'heavy-metal', 'hip-hop', 'honky-tonk', 'house', 'idm', 'indian',\n",
       "       'indie', 'indie-pop', 'industrial', 'iranian', 'j-dance', 'j-idol',\n",
       "       'j-pop', 'j-rock', 'jazz', 'k-pop', 'kids', 'latin', 'latino',\n",
       "       'malay', 'mandopop', 'metal', 'metalcore', 'minimal-techno', 'mpb',\n",
       "       'new-age', 'opera', 'pagode', 'party', 'piano', 'pop', 'pop-film',\n",
       "       'power-pop', 'progressive-house', 'psych-rock', 'punk',\n",
       "       'punk-rock', 'r-n-b', 'reggae', 'reggaeton', 'rock', 'rock-n-roll',\n",
       "       'rockabilly', 'romance', 'sad', 'salsa', 'samba', 'sertanejo',\n",
       "       'show-tunes', 'singer-songwriter', 'ska', 'sleep', 'songwriter',\n",
       "       'soul', 'spanish', 'study', 'swedish', 'synth-pop', 'tango',\n",
       "       'techno', 'trance', 'trip-hop', 'turkish', 'world-music'],\n",
       "      dtype=object)"
      ]
     },
     "execution_count": 138,
     "metadata": {},
     "output_type": "execute_result"
    }
   ],
   "source": [
    "np.sort(df.track_genre.unique())"
   ]
  }
 ],
 "metadata": {
  "kernelspec": {
   "display_name": "venv",
   "language": "python",
   "name": "python3"
  },
  "language_info": {
   "codemirror_mode": {
    "name": "ipython",
    "version": 3
   },
   "file_extension": ".py",
   "mimetype": "text/x-python",
   "name": "python",
   "nbconvert_exporter": "python",
   "pygments_lexer": "ipython3",
   "version": "3.12.3"
  }
 },
 "nbformat": 4,
 "nbformat_minor": 2
}
