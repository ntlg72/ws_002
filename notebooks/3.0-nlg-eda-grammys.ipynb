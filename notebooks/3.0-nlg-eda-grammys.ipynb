{
 "cells": [
  {
   "cell_type": "markdown",
   "metadata": {},
   "source": [
    "# Workshop #2 :\n",
    "## EDA - Grammy Awards Dataset\n",
    "\n",
    "------------------------------------------------------------"
   ]
  },
  {
   "cell_type": "markdown",
   "metadata": {},
   "source": [
    "https://www.kaggle.com/datasets/unanimad/grammy-awards"
   ]
  },
  {
   "cell_type": "markdown",
   "metadata": {},
   "source": [
    "## Importing utilities & Setup"
   ]
  },
  {
   "cell_type": "code",
   "execution_count": 1,
   "metadata": {},
   "outputs": [],
   "source": [
    "import sys\n",
    "import os\n",
    "import pandas as pd\n",
    "import numpy as np\n",
    "import logging\n",
    "import re\n",
    "\n",
    "\n",
    "sys.path.append(os.path.abspath('../'))\n",
    "from src.params import Params\n",
    "from src.client import DatabaseClient\n",
    "from src.logging_config import setup_logging"
   ]
  },
  {
   "cell_type": "code",
   "execution_count": 2,
   "metadata": {},
   "outputs": [],
   "source": [
    "setup_logging()"
   ]
  },
  {
   "cell_type": "markdown",
   "metadata": {},
   "source": [
    "## Data load"
   ]
  },
  {
   "cell_type": "markdown",
   "metadata": {},
   "source": [
    "A Parameters class centralizes anything that can be parametrized in the code. As we want to use the parameters for the connection to the PostgrSQL databases, params are instantiated as `params = Params()`."
   ]
  },
  {
   "cell_type": "code",
   "execution_count": 3,
   "metadata": {},
   "outputs": [
    {
     "name": "stderr",
     "output_type": "stream",
     "text": [
      "2025-04-08 15:04:58,347 - INFO - root - Successfully connected to the database.\n"
     ]
    }
   ],
   "source": [
    "# Parames instance\n",
    "params = Params()\n",
    "\n",
    "# Connection to the database\n",
    "db_client = DatabaseClient(params)"
   ]
  },
  {
   "cell_type": "markdown",
   "metadata": {},
   "source": [
    "The \"Grammy Awards\" data (in the table \"grammys_raw\") is fetched from our PostgreSQL database, using the `db_client`  `.engine` method."
   ]
  },
  {
   "cell_type": "code",
   "execution_count": 4,
   "metadata": {},
   "outputs": [
    {
     "name": "stderr",
     "output_type": "stream",
     "text": [
      "2025-04-08 15:04:58,449 - INFO - root - Data retrieved suscessfully.\n"
     ]
    }
   ],
   "source": [
    "try:\n",
    "    df = pd.read_sql_table(\"grammys_raw\",  con=db_client.engine)\n",
    "    logging.info(\"Data retrieved suscessfully.\")\n",
    "    \n",
    "except Exception as e:\n",
    "\n",
    "    logging.warning(f\"An exception occurred: {e}\")"
   ]
  },
  {
   "cell_type": "markdown",
   "metadata": {},
   "source": [
    "The connection to the dadtabase is close to save resources."
   ]
  },
  {
   "cell_type": "code",
   "execution_count": 5,
   "metadata": {},
   "outputs": [
    {
     "name": "stderr",
     "output_type": "stream",
     "text": [
      "2025-04-08 15:04:58,459 - INFO - root - Connection to database closed successfully.\n"
     ]
    }
   ],
   "source": [
    "try:\n",
    "    db_client.close()\n",
    "except Exception as e:\n",
    "    logging.error(f\"Failed to close connection to the database.\")\n",
    "    logging.error(f\"Error details: {e}\")"
   ]
  },
  {
   "cell_type": "markdown",
   "metadata": {},
   "source": [
    "## Data Overview an Descriptive Statistics"
   ]
  },
  {
   "cell_type": "markdown",
   "metadata": {},
   "source": [
    "### Overview"
   ]
  },
  {
   "cell_type": "markdown",
   "metadata": {},
   "source": [
    "The number of observations and features are obtained through Panda's `.shape` method. The \"Spotify\" dataset contains **4.810 observations (rows)** and **10 features (columns)**."
   ]
  },
  {
   "cell_type": "code",
   "execution_count": 6,
   "metadata": {},
   "outputs": [
    {
     "data": {
      "text/plain": [
       "(4810, 10)"
      ]
     },
     "execution_count": 6,
     "metadata": {},
     "output_type": "execute_result"
    }
   ],
   "source": [
    "df.shape"
   ]
  },
  {
   "cell_type": "markdown",
   "metadata": {},
   "source": [
    "The data types are obtained through Panda's `.dtypes` method. `Year` is the only numerical feature, and `winner` is the only boolean one. The other features are qualitative.\n"
   ]
  },
  {
   "cell_type": "code",
   "execution_count": 7,
   "metadata": {},
   "outputs": [
    {
     "name": "stdout",
     "output_type": "stream",
     "text": [
      "<class 'pandas.core.frame.DataFrame'>\n",
      "RangeIndex: 4810 entries, 0 to 4809\n",
      "Data columns (total 10 columns):\n",
      " #   Column        Non-Null Count  Dtype \n",
      "---  ------        --------------  ----- \n",
      " 0   year          4810 non-null   int64 \n",
      " 1   title         4810 non-null   object\n",
      " 2   published_at  4810 non-null   object\n",
      " 3   updated_at    4810 non-null   object\n",
      " 4   category      4810 non-null   object\n",
      " 5   nominee       4804 non-null   object\n",
      " 6   artist        2970 non-null   object\n",
      " 7   workers       2620 non-null   object\n",
      " 8   img           3443 non-null   object\n",
      " 9   winner        4810 non-null   bool  \n",
      "dtypes: bool(1), int64(1), object(8)\n",
      "memory usage: 343.0+ KB\n"
     ]
    }
   ],
   "source": [
    "df.info()"
   ]
  },
  {
   "cell_type": "markdown",
   "metadata": {},
   "source": [
    "The duplicated rows are obtained through Panda's `.duplicated` method. "
   ]
  },
  {
   "cell_type": "code",
   "execution_count": 8,
   "metadata": {},
   "outputs": [
    {
     "name": "stderr",
     "output_type": "stream",
     "text": [
      "2025-04-08 15:04:58,531 - INFO - root - There are 0 duplicated rows.\n"
     ]
    }
   ],
   "source": [
    "logging.info (f\"There are {df[df.duplicated()].shape[0]} duplicated rows.\")"
   ]
  },
  {
   "cell_type": "markdown",
   "metadata": {},
   "source": [
    "The missing values per feature are obtained through Panda's `.isnull().sum()` method. Only the features `artist`, `workers`, `nominee` and `img` have missing values. This features, as indicated by their object datatype, are qualitative variables."
   ]
  },
  {
   "cell_type": "code",
   "execution_count": 9,
   "metadata": {},
   "outputs": [
    {
     "data": {
      "text/plain": [
       "year               0\n",
       "title              0\n",
       "published_at       0\n",
       "updated_at         0\n",
       "category           0\n",
       "nominee            6\n",
       "artist          1840\n",
       "workers         2190\n",
       "img             1367\n",
       "winner             0\n",
       "dtype: int64"
      ]
     },
     "execution_count": 9,
     "metadata": {},
     "output_type": "execute_result"
    }
   ],
   "source": [
    "df.isnull().sum()"
   ]
  },
  {
   "cell_type": "markdown",
   "metadata": {},
   "source": [
    "Rows with null values are filtered  using the `.isnull()` method combined with `.any(axis=1)`. Only one row contains the missing values."
   ]
  },
  {
   "cell_type": "code",
   "execution_count": 10,
   "metadata": {},
   "outputs": [
    {
     "name": "stderr",
     "output_type": "stream",
     "text": [
      "2025-04-08 15:04:58,567 - INFO - root - 3976 rows contain missing values\n"
     ]
    }
   ],
   "source": [
    "filtered_rows = df[df.isnull().any(axis=1)]\n",
    "\n",
    "logging.info(f\"{filtered_rows.shape[0]} rows contain missing values\")"
   ]
  },
  {
   "cell_type": "markdown",
   "metadata": {},
   "source": [
    "The percentage of missing data is aproximmately 11.23%."
   ]
  },
  {
   "cell_type": "code",
   "execution_count": 11,
   "metadata": {},
   "outputs": [
    {
     "data": {
      "text/plain": [
       "np.float64(11.2328)"
      ]
     },
     "execution_count": 11,
     "metadata": {},
     "output_type": "execute_result"
    }
   ],
   "source": [
    "round(df.isnull().sum().sum() / df.size * 100, 4) "
   ]
  },
  {
   "cell_type": "markdown",
   "metadata": {},
   "source": [
    "### Descriptive statistics"
   ]
  },
  {
   "cell_type": "markdown",
   "metadata": {},
   "source": [
    "#### Quantitative variables"
   ]
  },
  {
   "cell_type": "markdown",
   "metadata": {},
   "source": [
    "Descriptive statistics of the only numeric feature (`year`) are generated through Panda's `.describe` method.\n",
    "\n"
   ]
  },
  {
   "cell_type": "code",
   "execution_count": 12,
   "metadata": {},
   "outputs": [
    {
     "data": {
      "text/html": [
       "<div>\n",
       "<style scoped>\n",
       "    .dataframe tbody tr th:only-of-type {\n",
       "        vertical-align: middle;\n",
       "    }\n",
       "\n",
       "    .dataframe tbody tr th {\n",
       "        vertical-align: top;\n",
       "    }\n",
       "\n",
       "    .dataframe thead th {\n",
       "        text-align: right;\n",
       "    }\n",
       "</style>\n",
       "<table border=\"1\" class=\"dataframe\">\n",
       "  <thead>\n",
       "    <tr style=\"text-align: right;\">\n",
       "      <th></th>\n",
       "      <th>year</th>\n",
       "    </tr>\n",
       "  </thead>\n",
       "  <tbody>\n",
       "    <tr>\n",
       "      <th>count</th>\n",
       "      <td>4810.000000</td>\n",
       "    </tr>\n",
       "    <tr>\n",
       "      <th>mean</th>\n",
       "      <td>1995.566944</td>\n",
       "    </tr>\n",
       "    <tr>\n",
       "      <th>std</th>\n",
       "      <td>17.149720</td>\n",
       "    </tr>\n",
       "    <tr>\n",
       "      <th>min</th>\n",
       "      <td>1958.000000</td>\n",
       "    </tr>\n",
       "    <tr>\n",
       "      <th>25%</th>\n",
       "      <td>1983.000000</td>\n",
       "    </tr>\n",
       "    <tr>\n",
       "      <th>50%</th>\n",
       "      <td>1998.000000</td>\n",
       "    </tr>\n",
       "    <tr>\n",
       "      <th>75%</th>\n",
       "      <td>2010.000000</td>\n",
       "    </tr>\n",
       "    <tr>\n",
       "      <th>max</th>\n",
       "      <td>2019.000000</td>\n",
       "    </tr>\n",
       "  </tbody>\n",
       "</table>\n",
       "</div>"
      ],
      "text/plain": [
       "              year\n",
       "count  4810.000000\n",
       "mean   1995.566944\n",
       "std      17.149720\n",
       "min    1958.000000\n",
       "25%    1983.000000\n",
       "50%    1998.000000\n",
       "75%    2010.000000\n",
       "max    2019.000000"
      ]
     },
     "execution_count": 12,
     "metadata": {},
     "output_type": "execute_result"
    }
   ],
   "source": [
    "df.describe()"
   ]
  },
  {
   "cell_type": "markdown",
   "metadata": {},
   "source": [
    "We need to review if the number of unique values of the column `year` is equal to the `title` of the Grammy's edition. It should be consistent."
   ]
  },
  {
   "cell_type": "code",
   "execution_count": 13,
   "metadata": {},
   "outputs": [
    {
     "name": "stderr",
     "output_type": "stream",
     "text": [
      "2025-04-08 15:04:58,620 - INFO - root - The number of unique years matches the Grammy's edition title.\n"
     ]
    }
   ],
   "source": [
    "unique_years = df['year'].unique()\n",
    "\n",
    "is_consistent = len(unique_years) == df['title'].nunique()\n",
    "\n",
    "if is_consistent:\n",
    "    logging.info(\"The number of unique years matches the Grammy's edition title.\")\n",
    "else:\n",
    "    logging.info(\"Mismatch: The number of unique years does not match the Grammy's edition title.\")"
   ]
  },
  {
   "cell_type": "markdown",
   "metadata": {},
   "source": [
    "#### Qualitative variables"
   ]
  },
  {
   "cell_type": "markdown",
   "metadata": {},
   "source": [
    "Panda's `.describe` method is used with the parameter `include='object'` for describing all qualitative columns of the DataFrame."
   ]
  },
  {
   "cell_type": "code",
   "execution_count": 14,
   "metadata": {},
   "outputs": [
    {
     "data": {
      "text/html": [
       "<div>\n",
       "<style scoped>\n",
       "    .dataframe tbody tr th:only-of-type {\n",
       "        vertical-align: middle;\n",
       "    }\n",
       "\n",
       "    .dataframe tbody tr th {\n",
       "        vertical-align: top;\n",
       "    }\n",
       "\n",
       "    .dataframe thead th {\n",
       "        text-align: right;\n",
       "    }\n",
       "</style>\n",
       "<table border=\"1\" class=\"dataframe\">\n",
       "  <thead>\n",
       "    <tr style=\"text-align: right;\">\n",
       "      <th></th>\n",
       "      <th>title</th>\n",
       "      <th>published_at</th>\n",
       "      <th>updated_at</th>\n",
       "      <th>category</th>\n",
       "      <th>nominee</th>\n",
       "      <th>artist</th>\n",
       "      <th>workers</th>\n",
       "      <th>img</th>\n",
       "    </tr>\n",
       "  </thead>\n",
       "  <tbody>\n",
       "    <tr>\n",
       "      <th>count</th>\n",
       "      <td>4810</td>\n",
       "      <td>4810</td>\n",
       "      <td>4810</td>\n",
       "      <td>4810</td>\n",
       "      <td>4804</td>\n",
       "      <td>2970</td>\n",
       "      <td>2620</td>\n",
       "      <td>3443</td>\n",
       "    </tr>\n",
       "    <tr>\n",
       "      <th>unique</th>\n",
       "      <td>62</td>\n",
       "      <td>4</td>\n",
       "      <td>10</td>\n",
       "      <td>638</td>\n",
       "      <td>4131</td>\n",
       "      <td>1658</td>\n",
       "      <td>2366</td>\n",
       "      <td>1463</td>\n",
       "    </tr>\n",
       "    <tr>\n",
       "      <th>top</th>\n",
       "      <td>62nd Annual GRAMMY Awards  (2019)</td>\n",
       "      <td>2017-11-28T00:03:45-08:00</td>\n",
       "      <td>2019-09-10T01:08:19-07:00</td>\n",
       "      <td>Song Of The Year</td>\n",
       "      <td>Robert Woods</td>\n",
       "      <td>(Various Artists)</td>\n",
       "      <td>John Williams, composer (John Williams)</td>\n",
       "      <td>https://www.grammy.com/sites/com/files/styles/...</td>\n",
       "    </tr>\n",
       "    <tr>\n",
       "      <th>freq</th>\n",
       "      <td>433</td>\n",
       "      <td>4205</td>\n",
       "      <td>778</td>\n",
       "      <td>70</td>\n",
       "      <td>7</td>\n",
       "      <td>66</td>\n",
       "      <td>20</td>\n",
       "      <td>26</td>\n",
       "    </tr>\n",
       "  </tbody>\n",
       "</table>\n",
       "</div>"
      ],
      "text/plain": [
       "                                    title               published_at  \\\n",
       "count                                4810                       4810   \n",
       "unique                                 62                          4   \n",
       "top     62nd Annual GRAMMY Awards  (2019)  2017-11-28T00:03:45-08:00   \n",
       "freq                                  433                       4205   \n",
       "\n",
       "                       updated_at          category       nominee  \\\n",
       "count                        4810              4810          4804   \n",
       "unique                         10               638          4131   \n",
       "top     2019-09-10T01:08:19-07:00  Song Of The Year  Robert Woods   \n",
       "freq                          778                70             7   \n",
       "\n",
       "                   artist                                  workers  \\\n",
       "count                2970                                     2620   \n",
       "unique               1658                                     2366   \n",
       "top     (Various Artists)  John Williams, composer (John Williams)   \n",
       "freq                   66                                       20   \n",
       "\n",
       "                                                      img  \n",
       "count                                                3443  \n",
       "unique                                               1463  \n",
       "top     https://www.grammy.com/sites/com/files/styles/...  \n",
       "freq                                                   26  "
      ]
     },
     "execution_count": 14,
     "metadata": {},
     "output_type": "execute_result"
    }
   ],
   "source": [
    "df.describe(include='object') "
   ]
  },
  {
   "cell_type": "markdown",
   "metadata": {},
   "source": [
    "\n",
    "   - **`title`**: There are 62 unique titles, with the most frequent being *\"62nd Annual GRAMMY Awards (2019)\"* (appearing 433 times). This indicates repeated focus on specific award shows or events in the dataset.\n",
    "   - **`published_at`** and **`updated_at`**: Both are timestamps but differ significantly:\n",
    "     - `published_at` has only 4 unique dates, suggesting most records were initially published at the same time.\n",
    "     - `updated_at` shows 10 unique values, with the most frequent update timestamp appearing 778 times, indicating frequent revisions or modifications over time.\n",
    "   - **`category`**: Features 638 unique categories, with \"Song Of The Year\" being the most represented (70 times). This diversity highlights a rich variety of award categories.\n",
    "   - **`nominee`**: 4.131 unique nominees, with \"Robert Woods\" appearing most frequently (7 times). Some nominees likely appear multiple times across categories or events.\n",
    "   - **`artist`**: Only 1.658 unique artists, significantly fewer than nominees, with \"(Various Artists)\" being the most common entry (66 times). Due to the missing values in this feature, they could be less artists.\n",
    "   - **`workers`**: 2,366 unique worker entries (e.g., composers, engineers), with *John Williams, composer (John Williams)* appearing most often (20 times), reflecting repeated recognition for specific individuals.\n",
    "   - **`img`**: Contains 1,463 unique URLs, likely linking to visual media (e.g., images for nominees or events). However, 3443 entries in this column indicate incomplete visual data, that may not be relevant for our analysis.\n"
   ]
  },
  {
   "cell_type": "markdown",
   "metadata": {},
   "source": [
    "Panda's `.describe` method is used with the parameter `include='boolean'` for describing the only boolean feature (`winner`) in the DataFrame."
   ]
  },
  {
   "cell_type": "code",
   "execution_count": 15,
   "metadata": {},
   "outputs": [
    {
     "data": {
      "text/html": [
       "<div>\n",
       "<style scoped>\n",
       "    .dataframe tbody tr th:only-of-type {\n",
       "        vertical-align: middle;\n",
       "    }\n",
       "\n",
       "    .dataframe tbody tr th {\n",
       "        vertical-align: top;\n",
       "    }\n",
       "\n",
       "    .dataframe thead th {\n",
       "        text-align: right;\n",
       "    }\n",
       "</style>\n",
       "<table border=\"1\" class=\"dataframe\">\n",
       "  <thead>\n",
       "    <tr style=\"text-align: right;\">\n",
       "      <th></th>\n",
       "      <th>winner</th>\n",
       "    </tr>\n",
       "  </thead>\n",
       "  <tbody>\n",
       "    <tr>\n",
       "      <th>count</th>\n",
       "      <td>4810</td>\n",
       "    </tr>\n",
       "    <tr>\n",
       "      <th>unique</th>\n",
       "      <td>1</td>\n",
       "    </tr>\n",
       "    <tr>\n",
       "      <th>top</th>\n",
       "      <td>True</td>\n",
       "    </tr>\n",
       "    <tr>\n",
       "      <th>freq</th>\n",
       "      <td>4810</td>\n",
       "    </tr>\n",
       "  </tbody>\n",
       "</table>\n",
       "</div>"
      ],
      "text/plain": [
       "       winner\n",
       "count    4810\n",
       "unique      1\n",
       "top      True\n",
       "freq     4810"
      ]
     },
     "execution_count": 15,
     "metadata": {},
     "output_type": "execute_result"
    }
   ],
   "source": [
    "df.describe(include='boolean') "
   ]
  },
  {
   "cell_type": "markdown",
   "metadata": {},
   "source": [
    "* There's only 1 unique value (`True`), meaning every entry in this column is the same.\n",
    "* The `winner` column might be redundant since it does not provide any variation or distinguishing information. If the purpose is to flag winners, this column's structure suggests that all entries are winners, and it may need to be reassessed or filtered further for meaningful analysis."
   ]
  },
  {
   "cell_type": "markdown",
   "metadata": {},
   "source": [
    "## Handling missing values"
   ]
  },
  {
   "cell_type": "markdown",
   "metadata": {},
   "source": [
    "### `img`"
   ]
  },
  {
   "cell_type": "markdown",
   "metadata": {},
   "source": [
    "In this feature we are working with URLs for images and, regardless if the URL is valid or accessible, this type of content might not provide direct insights for now, so this column is going to be dropped. "
   ]
  },
  {
   "cell_type": "markdown",
   "metadata": {},
   "source": [
    "This is applied to a copy of the original Dataframe."
   ]
  },
  {
   "cell_type": "code",
   "execution_count": 16,
   "metadata": {},
   "outputs": [],
   "source": [
    "df1 = df.copy()\n",
    "df1 = df1.drop('img', axis=1)"
   ]
  },
  {
   "cell_type": "markdown",
   "metadata": {},
   "source": [
    "### `nominee` column"
   ]
  },
  {
   "cell_type": "markdown",
   "metadata": {},
   "source": [
    "The nominee column only presents 6 null records, which gives us the possibility to further inspect them in detail."
   ]
  },
  {
   "cell_type": "code",
   "execution_count": 17,
   "metadata": {},
   "outputs": [
    {
     "data": {
      "text/html": [
       "<div>\n",
       "<style scoped>\n",
       "    .dataframe tbody tr th:only-of-type {\n",
       "        vertical-align: middle;\n",
       "    }\n",
       "\n",
       "    .dataframe tbody tr th {\n",
       "        vertical-align: top;\n",
       "    }\n",
       "\n",
       "    .dataframe thead th {\n",
       "        text-align: right;\n",
       "    }\n",
       "</style>\n",
       "<table border=\"1\" class=\"dataframe\">\n",
       "  <thead>\n",
       "    <tr style=\"text-align: right;\">\n",
       "      <th></th>\n",
       "      <th>year</th>\n",
       "      <th>title</th>\n",
       "      <th>published_at</th>\n",
       "      <th>updated_at</th>\n",
       "      <th>category</th>\n",
       "      <th>nominee</th>\n",
       "      <th>artist</th>\n",
       "      <th>workers</th>\n",
       "      <th>winner</th>\n",
       "    </tr>\n",
       "  </thead>\n",
       "  <tbody>\n",
       "    <tr>\n",
       "      <th>2274</th>\n",
       "      <td>2000</td>\n",
       "      <td>43rd Annual GRAMMY Awards  (2000)</td>\n",
       "      <td>2017-11-28T00:03:45-08:00</td>\n",
       "      <td>2019-09-10T01:11:09-07:00</td>\n",
       "      <td>Remixer of the Year, Non-Classical</td>\n",
       "      <td>None</td>\n",
       "      <td>None</td>\n",
       "      <td>None</td>\n",
       "      <td>True</td>\n",
       "    </tr>\n",
       "    <tr>\n",
       "      <th>2372</th>\n",
       "      <td>1999</td>\n",
       "      <td>42nd Annual GRAMMY Awards  (1999)</td>\n",
       "      <td>2017-11-28T00:03:45-08:00</td>\n",
       "      <td>2019-09-10T01:09:02-07:00</td>\n",
       "      <td>Remixer Of The Year, Non-Classical</td>\n",
       "      <td>None</td>\n",
       "      <td>None</td>\n",
       "      <td>None</td>\n",
       "      <td>True</td>\n",
       "    </tr>\n",
       "    <tr>\n",
       "      <th>2464</th>\n",
       "      <td>1998</td>\n",
       "      <td>41st Annual GRAMMY Awards  (1998)</td>\n",
       "      <td>2017-11-28T00:03:45-08:00</td>\n",
       "      <td>2019-09-10T01:08:19-07:00</td>\n",
       "      <td>Remixer Of The Year, Non-classical</td>\n",
       "      <td>None</td>\n",
       "      <td>None</td>\n",
       "      <td>None</td>\n",
       "      <td>True</td>\n",
       "    </tr>\n",
       "    <tr>\n",
       "      <th>2560</th>\n",
       "      <td>1997</td>\n",
       "      <td>40th Annual GRAMMY Awards  (1997)</td>\n",
       "      <td>2017-11-28T00:03:45-08:00</td>\n",
       "      <td>2019-09-10T01:07:37-07:00</td>\n",
       "      <td>Remixer Of The Year, Non-Classical</td>\n",
       "      <td>None</td>\n",
       "      <td>None</td>\n",
       "      <td>None</td>\n",
       "      <td>True</td>\n",
       "    </tr>\n",
       "    <tr>\n",
       "      <th>4527</th>\n",
       "      <td>1965</td>\n",
       "      <td>8th Annual GRAMMY Awards  (1965)</td>\n",
       "      <td>2017-11-28T00:03:45-08:00</td>\n",
       "      <td>2019-09-10T01:06:59-07:00</td>\n",
       "      <td>Best New Country &amp; Western Artist</td>\n",
       "      <td>None</td>\n",
       "      <td>None</td>\n",
       "      <td>None</td>\n",
       "      <td>True</td>\n",
       "    </tr>\n",
       "    <tr>\n",
       "      <th>4574</th>\n",
       "      <td>1964</td>\n",
       "      <td>7th Annual GRAMMY Awards  (1964)</td>\n",
       "      <td>2017-11-28T00:03:45-08:00</td>\n",
       "      <td>2019-09-10T01:06:11-07:00</td>\n",
       "      <td>Best New Country &amp; Western Artist Of 1964</td>\n",
       "      <td>None</td>\n",
       "      <td>None</td>\n",
       "      <td>None</td>\n",
       "      <td>True</td>\n",
       "    </tr>\n",
       "  </tbody>\n",
       "</table>\n",
       "</div>"
      ],
      "text/plain": [
       "      year                              title               published_at  \\\n",
       "2274  2000  43rd Annual GRAMMY Awards  (2000)  2017-11-28T00:03:45-08:00   \n",
       "2372  1999  42nd Annual GRAMMY Awards  (1999)  2017-11-28T00:03:45-08:00   \n",
       "2464  1998  41st Annual GRAMMY Awards  (1998)  2017-11-28T00:03:45-08:00   \n",
       "2560  1997  40th Annual GRAMMY Awards  (1997)  2017-11-28T00:03:45-08:00   \n",
       "4527  1965   8th Annual GRAMMY Awards  (1965)  2017-11-28T00:03:45-08:00   \n",
       "4574  1964   7th Annual GRAMMY Awards  (1964)  2017-11-28T00:03:45-08:00   \n",
       "\n",
       "                     updated_at                                   category  \\\n",
       "2274  2019-09-10T01:11:09-07:00         Remixer of the Year, Non-Classical   \n",
       "2372  2019-09-10T01:09:02-07:00         Remixer Of The Year, Non-Classical   \n",
       "2464  2019-09-10T01:08:19-07:00         Remixer Of The Year, Non-classical   \n",
       "2560  2019-09-10T01:07:37-07:00         Remixer Of The Year, Non-Classical   \n",
       "4527  2019-09-10T01:06:59-07:00          Best New Country & Western Artist   \n",
       "4574  2019-09-10T01:06:11-07:00  Best New Country & Western Artist Of 1964   \n",
       "\n",
       "     nominee artist workers  winner  \n",
       "2274    None   None    None    True  \n",
       "2372    None   None    None    True  \n",
       "2464    None   None    None    True  \n",
       "2560    None   None    None    True  \n",
       "4527    None   None    None    True  \n",
       "4574    None   None    None    True  "
      ]
     },
     "execution_count": 17,
     "metadata": {},
     "output_type": "execute_result"
    }
   ],
   "source": [
    "filtered_rows = df1[df1['nominee'].isnull()]\n",
    "filtered_rows"
   ]
  },
  {
   "cell_type": "markdown",
   "metadata": {},
   "source": [
    "We note that the missing values correspond to different years but mostly to the same category (Remixer of the Year, Non-Classical), and four consecutive years (1997-2000). To preserve the records about these entries we can input values by reviewing online information in the official Grammys website. In the cases (\"Best\" and \"of the Year\") the artist is the nominee at the same time."
   ]
  },
  {
   "cell_type": "code",
   "execution_count": 18,
   "metadata": {},
   "outputs": [],
   "source": [
    "# Define the indices and their corresponding values\n",
    "update = {\n",
    "    2274: \"Hex Hector\",\n",
    "    2372: \"Club 69 (Peter Rauhofer)\",\n",
    "    2464: \"David Morales\",\n",
    "    2560: \"Frankie Knuckles\",\n",
    "    4527: \"The Statler Brothers\",\n",
    "    4574: \"Roger Miller\"\n",
    "}\n",
    "\n",
    "# Update the 'nominee' column\n",
    "for index, value in update.items():\n",
    "    df1.loc[index, 'nominee'] = value\n",
    "\n",
    "# Update the 'artist' column\n",
    "for index, value in update.items():\n",
    "    df1.loc[index, 'artist'] = value\n"
   ]
  },
  {
   "cell_type": "markdown",
   "metadata": {},
   "source": [
    "Now we review the changes."
   ]
  },
  {
   "cell_type": "code",
   "execution_count": 19,
   "metadata": {},
   "outputs": [
    {
     "data": {
      "text/html": [
       "<div>\n",
       "<style scoped>\n",
       "    .dataframe tbody tr th:only-of-type {\n",
       "        vertical-align: middle;\n",
       "    }\n",
       "\n",
       "    .dataframe tbody tr th {\n",
       "        vertical-align: top;\n",
       "    }\n",
       "\n",
       "    .dataframe thead th {\n",
       "        text-align: right;\n",
       "    }\n",
       "</style>\n",
       "<table border=\"1\" class=\"dataframe\">\n",
       "  <thead>\n",
       "    <tr style=\"text-align: right;\">\n",
       "      <th></th>\n",
       "      <th>year</th>\n",
       "      <th>title</th>\n",
       "      <th>published_at</th>\n",
       "      <th>updated_at</th>\n",
       "      <th>category</th>\n",
       "      <th>nominee</th>\n",
       "      <th>artist</th>\n",
       "      <th>workers</th>\n",
       "      <th>winner</th>\n",
       "    </tr>\n",
       "  </thead>\n",
       "  <tbody>\n",
       "    <tr>\n",
       "      <th>2274</th>\n",
       "      <td>2000</td>\n",
       "      <td>43rd Annual GRAMMY Awards  (2000)</td>\n",
       "      <td>2017-11-28T00:03:45-08:00</td>\n",
       "      <td>2019-09-10T01:11:09-07:00</td>\n",
       "      <td>Remixer of the Year, Non-Classical</td>\n",
       "      <td>Hex Hector</td>\n",
       "      <td>Hex Hector</td>\n",
       "      <td>None</td>\n",
       "      <td>True</td>\n",
       "    </tr>\n",
       "    <tr>\n",
       "      <th>2372</th>\n",
       "      <td>1999</td>\n",
       "      <td>42nd Annual GRAMMY Awards  (1999)</td>\n",
       "      <td>2017-11-28T00:03:45-08:00</td>\n",
       "      <td>2019-09-10T01:09:02-07:00</td>\n",
       "      <td>Remixer Of The Year, Non-Classical</td>\n",
       "      <td>Club 69 (Peter Rauhofer)</td>\n",
       "      <td>Club 69 (Peter Rauhofer)</td>\n",
       "      <td>None</td>\n",
       "      <td>True</td>\n",
       "    </tr>\n",
       "    <tr>\n",
       "      <th>2464</th>\n",
       "      <td>1998</td>\n",
       "      <td>41st Annual GRAMMY Awards  (1998)</td>\n",
       "      <td>2017-11-28T00:03:45-08:00</td>\n",
       "      <td>2019-09-10T01:08:19-07:00</td>\n",
       "      <td>Remixer Of The Year, Non-classical</td>\n",
       "      <td>David Morales</td>\n",
       "      <td>David Morales</td>\n",
       "      <td>None</td>\n",
       "      <td>True</td>\n",
       "    </tr>\n",
       "    <tr>\n",
       "      <th>2560</th>\n",
       "      <td>1997</td>\n",
       "      <td>40th Annual GRAMMY Awards  (1997)</td>\n",
       "      <td>2017-11-28T00:03:45-08:00</td>\n",
       "      <td>2019-09-10T01:07:37-07:00</td>\n",
       "      <td>Remixer Of The Year, Non-Classical</td>\n",
       "      <td>Frankie Knuckles</td>\n",
       "      <td>Frankie Knuckles</td>\n",
       "      <td>None</td>\n",
       "      <td>True</td>\n",
       "    </tr>\n",
       "    <tr>\n",
       "      <th>4527</th>\n",
       "      <td>1965</td>\n",
       "      <td>8th Annual GRAMMY Awards  (1965)</td>\n",
       "      <td>2017-11-28T00:03:45-08:00</td>\n",
       "      <td>2019-09-10T01:06:59-07:00</td>\n",
       "      <td>Best New Country &amp; Western Artist</td>\n",
       "      <td>The Statler Brothers</td>\n",
       "      <td>The Statler Brothers</td>\n",
       "      <td>None</td>\n",
       "      <td>True</td>\n",
       "    </tr>\n",
       "    <tr>\n",
       "      <th>4574</th>\n",
       "      <td>1964</td>\n",
       "      <td>7th Annual GRAMMY Awards  (1964)</td>\n",
       "      <td>2017-11-28T00:03:45-08:00</td>\n",
       "      <td>2019-09-10T01:06:11-07:00</td>\n",
       "      <td>Best New Country &amp; Western Artist Of 1964</td>\n",
       "      <td>Roger Miller</td>\n",
       "      <td>Roger Miller</td>\n",
       "      <td>None</td>\n",
       "      <td>True</td>\n",
       "    </tr>\n",
       "  </tbody>\n",
       "</table>\n",
       "</div>"
      ],
      "text/plain": [
       "      year                              title               published_at  \\\n",
       "2274  2000  43rd Annual GRAMMY Awards  (2000)  2017-11-28T00:03:45-08:00   \n",
       "2372  1999  42nd Annual GRAMMY Awards  (1999)  2017-11-28T00:03:45-08:00   \n",
       "2464  1998  41st Annual GRAMMY Awards  (1998)  2017-11-28T00:03:45-08:00   \n",
       "2560  1997  40th Annual GRAMMY Awards  (1997)  2017-11-28T00:03:45-08:00   \n",
       "4527  1965   8th Annual GRAMMY Awards  (1965)  2017-11-28T00:03:45-08:00   \n",
       "4574  1964   7th Annual GRAMMY Awards  (1964)  2017-11-28T00:03:45-08:00   \n",
       "\n",
       "                     updated_at                                   category  \\\n",
       "2274  2019-09-10T01:11:09-07:00         Remixer of the Year, Non-Classical   \n",
       "2372  2019-09-10T01:09:02-07:00         Remixer Of The Year, Non-Classical   \n",
       "2464  2019-09-10T01:08:19-07:00         Remixer Of The Year, Non-classical   \n",
       "2560  2019-09-10T01:07:37-07:00         Remixer Of The Year, Non-Classical   \n",
       "4527  2019-09-10T01:06:59-07:00          Best New Country & Western Artist   \n",
       "4574  2019-09-10T01:06:11-07:00  Best New Country & Western Artist Of 1964   \n",
       "\n",
       "                       nominee                    artist workers  winner  \n",
       "2274                Hex Hector                Hex Hector    None    True  \n",
       "2372  Club 69 (Peter Rauhofer)  Club 69 (Peter Rauhofer)    None    True  \n",
       "2464             David Morales             David Morales    None    True  \n",
       "2560          Frankie Knuckles          Frankie Knuckles    None    True  \n",
       "4527      The Statler Brothers      The Statler Brothers    None    True  \n",
       "4574              Roger Miller              Roger Miller    None    True  "
      ]
     },
     "execution_count": 19,
     "metadata": {},
     "output_type": "execute_result"
    }
   ],
   "source": [
    "df1.loc[list(update.keys())]"
   ]
  },
  {
   "cell_type": "markdown",
   "metadata": {},
   "source": [
    "### `artist` column"
   ]
  },
  {
   "cell_type": "markdown",
   "metadata": {},
   "source": [
    "In the cases when the `category` contains \"Best\" or \"of the Year\" and \"artist\" the `artist` is the `nominee` at the same time. However, it may not always be the case, so we are going to review this cases. \n"
   ]
  },
  {
   "cell_type": "markdown",
   "metadata": {},
   "source": [
    "### Missing `artist` and `workers`"
   ]
  },
  {
   "cell_type": "markdown",
   "metadata": {},
   "source": [
    "We filter rows where `artist` and `workers` are null."
   ]
  },
  {
   "cell_type": "code",
   "execution_count": 20,
   "metadata": {},
   "outputs": [
    {
     "name": "stderr",
     "output_type": "stream",
     "text": [
      "2025-04-08 15:04:58,771 - INFO - root - category\n",
      "Best New Artist                                                                              50\n",
      "Producer Of The Year, Non-Classical                                                          22\n",
      "Producer Of The Year, Classical                                                              22\n",
      "Classical Producer Of The Year                                                               18\n",
      "Producer Of The Year (Non-Classical)                                                         10\n",
      "Producer Of The Year                                                                         10\n",
      "Best New Artist Of The Year                                                                   9\n",
      "Best Classical Vocal Soloist Performance                                                      7\n",
      "Best Classical Vocal Performance                                                              4\n",
      "Best Small Ensemble Performance (With Or Without Conductor)                                   4\n",
      "Best Classical Performance - Instrumental Soloist Or Soloists (With Or Without Orchestra)     4\n",
      "Best Producer Of The Year                                                                     3\n",
      "Most Promising New Classical Recording Artist                                                 3\n",
      "Best Classical Performance - Vocal Soloist (With Or Without Orchestra)                        2\n",
      "Producer Of The Year (Non Classical)                                                          1\n",
      "Best New Classical Artist                                                                     1\n",
      "Best Classical Vocal Soloist                                                                  1\n",
      "Producer Of The Year, (Non Classical)                                                         1\n",
      "Best Performance - Instrumental Soloist Or Soloists (With Or Without Orchestra)               1\n",
      "Best Classical Performance - Vocal Soloist                                                    1\n",
      "Best New Artist Of 1963                                                                       1\n",
      "Best New Artist Of 1964                                                                       1\n",
      "Best New Artist Of 1962                                                                       1\n",
      "Best New Artist Of 1961                                                                       1\n",
      "Best New Artist Of 1960                                                                       1\n",
      "Best New Artist Of 1959                                                                       1\n",
      "Name: count, dtype: int64\n"
     ]
    }
   ],
   "source": [
    "# Filter rows where 'artist' and 'workers' are null\n",
    "filtered_null_rows = df1[(df1['artist'].isnull()) & (df1['workers'].isnull())]\n",
    "\n",
    "# Compute value counts for the 'category' column in these rows\n",
    "category_counts = filtered_null_rows['category'].value_counts()\n",
    "\n",
    "logging.info(category_counts)"
   ]
  },
  {
   "cell_type": "markdown",
   "metadata": {},
   "source": [
    "### Value counts for the `category` column in these rows is one"
   ]
  },
  {
   "cell_type": "markdown",
   "metadata": {},
   "source": [
    "For the cases in which there are only one missing for category we are going to input data based on online information."
   ]
  },
  {
   "cell_type": "code",
   "execution_count": 21,
   "metadata": {},
   "outputs": [
    {
     "data": {
      "text/html": [
       "<div>\n",
       "<style scoped>\n",
       "    .dataframe tbody tr th:only-of-type {\n",
       "        vertical-align: middle;\n",
       "    }\n",
       "\n",
       "    .dataframe tbody tr th {\n",
       "        vertical-align: top;\n",
       "    }\n",
       "\n",
       "    .dataframe thead th {\n",
       "        text-align: right;\n",
       "    }\n",
       "</style>\n",
       "<table border=\"1\" class=\"dataframe\">\n",
       "  <thead>\n",
       "    <tr style=\"text-align: right;\">\n",
       "      <th></th>\n",
       "      <th>year</th>\n",
       "      <th>title</th>\n",
       "      <th>published_at</th>\n",
       "      <th>updated_at</th>\n",
       "      <th>category</th>\n",
       "      <th>nominee</th>\n",
       "      <th>artist</th>\n",
       "      <th>workers</th>\n",
       "      <th>winner</th>\n",
       "    </tr>\n",
       "  </thead>\n",
       "  <tbody>\n",
       "    <tr>\n",
       "      <th>3066</th>\n",
       "      <td>1991</td>\n",
       "      <td>34th Annual GRAMMY Awards  (1991)</td>\n",
       "      <td>2017-11-28T00:03:45-08:00</td>\n",
       "      <td>2019-09-10T01:06:59-07:00</td>\n",
       "      <td>Producer Of The Year (Non Classical)</td>\n",
       "      <td>David Foster</td>\n",
       "      <td>None</td>\n",
       "      <td>None</td>\n",
       "      <td>True</td>\n",
       "    </tr>\n",
       "    <tr>\n",
       "      <th>3076</th>\n",
       "      <td>1991</td>\n",
       "      <td>34th Annual GRAMMY Awards  (1991)</td>\n",
       "      <td>2017-11-28T00:03:45-08:00</td>\n",
       "      <td>2019-09-10T01:06:59-07:00</td>\n",
       "      <td>Best Classical Vocal Soloist</td>\n",
       "      <td>The Girl With Orange Lips (Falla, Ravel, etc.)</td>\n",
       "      <td>None</td>\n",
       "      <td>None</td>\n",
       "      <td>True</td>\n",
       "    </tr>\n",
       "    <tr>\n",
       "      <th>3366</th>\n",
       "      <td>1987</td>\n",
       "      <td>30th Annual GRAMMY Awards  (1987)</td>\n",
       "      <td>2017-11-28T00:03:45-08:00</td>\n",
       "      <td>2019-09-10T01:07:37-07:00</td>\n",
       "      <td>Producer Of The Year, (Non Classical)</td>\n",
       "      <td>Narada Michael Walden</td>\n",
       "      <td>None</td>\n",
       "      <td>None</td>\n",
       "      <td>True</td>\n",
       "    </tr>\n",
       "    <tr>\n",
       "      <th>3515</th>\n",
       "      <td>1985</td>\n",
       "      <td>28th Annual GRAMMY Awards  (1985)</td>\n",
       "      <td>2017-11-28T00:03:45-08:00</td>\n",
       "      <td>2019-09-10T01:06:11-07:00</td>\n",
       "      <td>Best New Classical Artist</td>\n",
       "      <td>Stravinsky: L' Histoire Du Soldat (The Soldier...</td>\n",
       "      <td>None</td>\n",
       "      <td>None</td>\n",
       "      <td>True</td>\n",
       "    </tr>\n",
       "    <tr>\n",
       "      <th>4178</th>\n",
       "      <td>1960</td>\n",
       "      <td>3rd Annual GRAMMY Awards  (1960)</td>\n",
       "      <td>2017-11-28T00:03:45-08:00</td>\n",
       "      <td>2019-09-10T01:07:37-07:00</td>\n",
       "      <td>Best Classical Performance - Vocal Soloist</td>\n",
       "      <td>A Program Of Song - Leontyne Price Recital</td>\n",
       "      <td>None</td>\n",
       "      <td>None</td>\n",
       "      <td>True</td>\n",
       "    </tr>\n",
       "    <tr>\n",
       "      <th>4397</th>\n",
       "      <td>1968</td>\n",
       "      <td>11th Annual GRAMMY Awards  (1968)</td>\n",
       "      <td>2017-11-28T00:03:45-08:00</td>\n",
       "      <td>2019-09-10T01:11:09-07:00</td>\n",
       "      <td>Best Performance - Instrumental Soloist Or Sol...</td>\n",
       "      <td>Horowitz On Television (Chopin, Scriabin, Scar...</td>\n",
       "      <td>None</td>\n",
       "      <td>None</td>\n",
       "      <td>True</td>\n",
       "    </tr>\n",
       "    <tr>\n",
       "      <th>4569</th>\n",
       "      <td>1964</td>\n",
       "      <td>7th Annual GRAMMY Awards  (1964)</td>\n",
       "      <td>2017-11-28T00:03:45-08:00</td>\n",
       "      <td>2019-09-10T01:06:11-07:00</td>\n",
       "      <td>Best New Artist Of 1964</td>\n",
       "      <td>The Beatles</td>\n",
       "      <td>None</td>\n",
       "      <td>None</td>\n",
       "      <td>True</td>\n",
       "    </tr>\n",
       "    <tr>\n",
       "      <th>4628</th>\n",
       "      <td>1963</td>\n",
       "      <td>6th Annual GRAMMY Awards  (1963)</td>\n",
       "      <td>2017-11-28T00:03:45-08:00</td>\n",
       "      <td>2019-09-10T01:11:09-07:00</td>\n",
       "      <td>Best New Artist Of 1963</td>\n",
       "      <td>Ward Swingle (The Swingle Singers)</td>\n",
       "      <td>None</td>\n",
       "      <td>None</td>\n",
       "      <td>True</td>\n",
       "    </tr>\n",
       "    <tr>\n",
       "      <th>4667</th>\n",
       "      <td>1962</td>\n",
       "      <td>5th Annual GRAMMY Awards  (1962)</td>\n",
       "      <td>2017-11-28T00:03:45-08:00</td>\n",
       "      <td>2019-09-10T01:09:02-07:00</td>\n",
       "      <td>Best New Artist Of 1962</td>\n",
       "      <td>Robert Goulet</td>\n",
       "      <td>None</td>\n",
       "      <td>None</td>\n",
       "      <td>True</td>\n",
       "    </tr>\n",
       "    <tr>\n",
       "      <th>4699</th>\n",
       "      <td>1961</td>\n",
       "      <td>4th Annual GRAMMY Awards  (1961)</td>\n",
       "      <td>2017-11-28T00:03:45-08:00</td>\n",
       "      <td>2019-09-10T01:08:19-07:00</td>\n",
       "      <td>Best New Artist Of 1961</td>\n",
       "      <td>Peter Nero</td>\n",
       "      <td>None</td>\n",
       "      <td>None</td>\n",
       "      <td>True</td>\n",
       "    </tr>\n",
       "    <tr>\n",
       "      <th>4745</th>\n",
       "      <td>1960</td>\n",
       "      <td>3rd Annual GRAMMY Awards  (1960)</td>\n",
       "      <td>2017-11-28T00:03:45-08:00</td>\n",
       "      <td>2019-09-10T01:07:37-07:00</td>\n",
       "      <td>Best New Artist Of 1960</td>\n",
       "      <td>Bob Newhart</td>\n",
       "      <td>None</td>\n",
       "      <td>None</td>\n",
       "      <td>True</td>\n",
       "    </tr>\n",
       "    <tr>\n",
       "      <th>4781</th>\n",
       "      <td>1959</td>\n",
       "      <td>2nd Annual GRAMMY Awards  (1959)</td>\n",
       "      <td>2017-11-28T00:03:45-08:00</td>\n",
       "      <td>2019-09-10T01:06:59-07:00</td>\n",
       "      <td>Best New Artist Of 1959</td>\n",
       "      <td>Bobby Darin</td>\n",
       "      <td>None</td>\n",
       "      <td>None</td>\n",
       "      <td>True</td>\n",
       "    </tr>\n",
       "  </tbody>\n",
       "</table>\n",
       "</div>"
      ],
      "text/plain": [
       "      year                              title               published_at  \\\n",
       "3066  1991  34th Annual GRAMMY Awards  (1991)  2017-11-28T00:03:45-08:00   \n",
       "3076  1991  34th Annual GRAMMY Awards  (1991)  2017-11-28T00:03:45-08:00   \n",
       "3366  1987  30th Annual GRAMMY Awards  (1987)  2017-11-28T00:03:45-08:00   \n",
       "3515  1985  28th Annual GRAMMY Awards  (1985)  2017-11-28T00:03:45-08:00   \n",
       "4178  1960   3rd Annual GRAMMY Awards  (1960)  2017-11-28T00:03:45-08:00   \n",
       "4397  1968  11th Annual GRAMMY Awards  (1968)  2017-11-28T00:03:45-08:00   \n",
       "4569  1964   7th Annual GRAMMY Awards  (1964)  2017-11-28T00:03:45-08:00   \n",
       "4628  1963   6th Annual GRAMMY Awards  (1963)  2017-11-28T00:03:45-08:00   \n",
       "4667  1962   5th Annual GRAMMY Awards  (1962)  2017-11-28T00:03:45-08:00   \n",
       "4699  1961   4th Annual GRAMMY Awards  (1961)  2017-11-28T00:03:45-08:00   \n",
       "4745  1960   3rd Annual GRAMMY Awards  (1960)  2017-11-28T00:03:45-08:00   \n",
       "4781  1959   2nd Annual GRAMMY Awards  (1959)  2017-11-28T00:03:45-08:00   \n",
       "\n",
       "                     updated_at  \\\n",
       "3066  2019-09-10T01:06:59-07:00   \n",
       "3076  2019-09-10T01:06:59-07:00   \n",
       "3366  2019-09-10T01:07:37-07:00   \n",
       "3515  2019-09-10T01:06:11-07:00   \n",
       "4178  2019-09-10T01:07:37-07:00   \n",
       "4397  2019-09-10T01:11:09-07:00   \n",
       "4569  2019-09-10T01:06:11-07:00   \n",
       "4628  2019-09-10T01:11:09-07:00   \n",
       "4667  2019-09-10T01:09:02-07:00   \n",
       "4699  2019-09-10T01:08:19-07:00   \n",
       "4745  2019-09-10T01:07:37-07:00   \n",
       "4781  2019-09-10T01:06:59-07:00   \n",
       "\n",
       "                                               category  \\\n",
       "3066               Producer Of The Year (Non Classical)   \n",
       "3076                       Best Classical Vocal Soloist   \n",
       "3366              Producer Of The Year, (Non Classical)   \n",
       "3515                          Best New Classical Artist   \n",
       "4178         Best Classical Performance - Vocal Soloist   \n",
       "4397  Best Performance - Instrumental Soloist Or Sol...   \n",
       "4569                            Best New Artist Of 1964   \n",
       "4628                            Best New Artist Of 1963   \n",
       "4667                            Best New Artist Of 1962   \n",
       "4699                            Best New Artist Of 1961   \n",
       "4745                            Best New Artist Of 1960   \n",
       "4781                            Best New Artist Of 1959   \n",
       "\n",
       "                                                nominee artist workers  winner  \n",
       "3066                                       David Foster   None    None    True  \n",
       "3076     The Girl With Orange Lips (Falla, Ravel, etc.)   None    None    True  \n",
       "3366                              Narada Michael Walden   None    None    True  \n",
       "3515  Stravinsky: L' Histoire Du Soldat (The Soldier...   None    None    True  \n",
       "4178         A Program Of Song - Leontyne Price Recital   None    None    True  \n",
       "4397  Horowitz On Television (Chopin, Scriabin, Scar...   None    None    True  \n",
       "4569                                        The Beatles   None    None    True  \n",
       "4628                 Ward Swingle (The Swingle Singers)   None    None    True  \n",
       "4667                                      Robert Goulet   None    None    True  \n",
       "4699                                         Peter Nero   None    None    True  \n",
       "4745                                        Bob Newhart   None    None    True  \n",
       "4781                                        Bobby Darin   None    None    True  "
      ]
     },
     "execution_count": 21,
     "metadata": {},
     "output_type": "execute_result"
    }
   ],
   "source": [
    "#Filter categories where the count is 1\n",
    "categories_with_one_count = category_counts[category_counts == 1].index\n",
    "\n",
    "# Filter the original DataFrame using these categories\n",
    "filtered_df = filtered_null_rows[filtered_null_rows['category'].isin(categories_with_one_count)]\n",
    "\n",
    "# Display the filtered DataFrame\n",
    "filtered_df\n"
   ]
  },
  {
   "cell_type": "markdown",
   "metadata": {},
   "source": [
    "We note that the missing values correspond to different years but mostly to the same category (Remixer of the Year, Non-Classical), and four consecutive years (1997-2000). To preserve the records about these entries we can input values by reviewing online information in the official Grammys website. In the cases (\"Best\" and \"of the Year\") the artist is the nominee at the same time."
   ]
  },
  {
   "cell_type": "code",
   "execution_count": 22,
   "metadata": {},
   "outputs": [],
   "source": [
    "# Define the indices and their corresponding values\n",
    "update1 = {\n",
    "    3066: \"David Foster\",\n",
    "    3076: \"Dawn Upshaw\",\n",
    "    3366: \"Narada Michael Walden\",\n",
    "    3515: \"Chicago Pro Musica\",\n",
    "    4178: \"Leontyne Price\",\n",
    "    4397: \"Vladimir Horowitz\",\n",
    "    4569: \"The Beatles\",\n",
    "    4628: \"Ward Swingle(The Swingle Singers)\",\n",
    "    4667: \"Robert Goulet\",\n",
    "    4699: \"Peter Nero\",\n",
    "    4745: \"Bob Newhart\",\n",
    "    4781: \"Bobby Darin\"\n",
    "}\n",
    "\n",
    "\n",
    "# Update the 'artist' column\n",
    "for index, value in update1.items():\n",
    "    df1.loc[index, 'artist'] = value"
   ]
  },
  {
   "cell_type": "markdown",
   "metadata": {},
   "source": [
    "Now we review the changes."
   ]
  },
  {
   "cell_type": "code",
   "execution_count": 23,
   "metadata": {},
   "outputs": [
    {
     "data": {
      "text/html": [
       "<div>\n",
       "<style scoped>\n",
       "    .dataframe tbody tr th:only-of-type {\n",
       "        vertical-align: middle;\n",
       "    }\n",
       "\n",
       "    .dataframe tbody tr th {\n",
       "        vertical-align: top;\n",
       "    }\n",
       "\n",
       "    .dataframe thead th {\n",
       "        text-align: right;\n",
       "    }\n",
       "</style>\n",
       "<table border=\"1\" class=\"dataframe\">\n",
       "  <thead>\n",
       "    <tr style=\"text-align: right;\">\n",
       "      <th></th>\n",
       "      <th>year</th>\n",
       "      <th>title</th>\n",
       "      <th>published_at</th>\n",
       "      <th>updated_at</th>\n",
       "      <th>category</th>\n",
       "      <th>nominee</th>\n",
       "      <th>artist</th>\n",
       "      <th>workers</th>\n",
       "      <th>winner</th>\n",
       "    </tr>\n",
       "  </thead>\n",
       "  <tbody>\n",
       "    <tr>\n",
       "      <th>3066</th>\n",
       "      <td>1991</td>\n",
       "      <td>34th Annual GRAMMY Awards  (1991)</td>\n",
       "      <td>2017-11-28T00:03:45-08:00</td>\n",
       "      <td>2019-09-10T01:06:59-07:00</td>\n",
       "      <td>Producer Of The Year (Non Classical)</td>\n",
       "      <td>David Foster</td>\n",
       "      <td>David Foster</td>\n",
       "      <td>None</td>\n",
       "      <td>True</td>\n",
       "    </tr>\n",
       "    <tr>\n",
       "      <th>3076</th>\n",
       "      <td>1991</td>\n",
       "      <td>34th Annual GRAMMY Awards  (1991)</td>\n",
       "      <td>2017-11-28T00:03:45-08:00</td>\n",
       "      <td>2019-09-10T01:06:59-07:00</td>\n",
       "      <td>Best Classical Vocal Soloist</td>\n",
       "      <td>The Girl With Orange Lips (Falla, Ravel, etc.)</td>\n",
       "      <td>Dawn Upshaw</td>\n",
       "      <td>None</td>\n",
       "      <td>True</td>\n",
       "    </tr>\n",
       "    <tr>\n",
       "      <th>3366</th>\n",
       "      <td>1987</td>\n",
       "      <td>30th Annual GRAMMY Awards  (1987)</td>\n",
       "      <td>2017-11-28T00:03:45-08:00</td>\n",
       "      <td>2019-09-10T01:07:37-07:00</td>\n",
       "      <td>Producer Of The Year, (Non Classical)</td>\n",
       "      <td>Narada Michael Walden</td>\n",
       "      <td>Narada Michael Walden</td>\n",
       "      <td>None</td>\n",
       "      <td>True</td>\n",
       "    </tr>\n",
       "    <tr>\n",
       "      <th>3515</th>\n",
       "      <td>1985</td>\n",
       "      <td>28th Annual GRAMMY Awards  (1985)</td>\n",
       "      <td>2017-11-28T00:03:45-08:00</td>\n",
       "      <td>2019-09-10T01:06:11-07:00</td>\n",
       "      <td>Best New Classical Artist</td>\n",
       "      <td>Stravinsky: L' Histoire Du Soldat (The Soldier...</td>\n",
       "      <td>Chicago Pro Musica</td>\n",
       "      <td>None</td>\n",
       "      <td>True</td>\n",
       "    </tr>\n",
       "    <tr>\n",
       "      <th>4178</th>\n",
       "      <td>1960</td>\n",
       "      <td>3rd Annual GRAMMY Awards  (1960)</td>\n",
       "      <td>2017-11-28T00:03:45-08:00</td>\n",
       "      <td>2019-09-10T01:07:37-07:00</td>\n",
       "      <td>Best Classical Performance - Vocal Soloist</td>\n",
       "      <td>A Program Of Song - Leontyne Price Recital</td>\n",
       "      <td>Leontyne Price</td>\n",
       "      <td>None</td>\n",
       "      <td>True</td>\n",
       "    </tr>\n",
       "    <tr>\n",
       "      <th>4397</th>\n",
       "      <td>1968</td>\n",
       "      <td>11th Annual GRAMMY Awards  (1968)</td>\n",
       "      <td>2017-11-28T00:03:45-08:00</td>\n",
       "      <td>2019-09-10T01:11:09-07:00</td>\n",
       "      <td>Best Performance - Instrumental Soloist Or Sol...</td>\n",
       "      <td>Horowitz On Television (Chopin, Scriabin, Scar...</td>\n",
       "      <td>Vladimir Horowitz</td>\n",
       "      <td>None</td>\n",
       "      <td>True</td>\n",
       "    </tr>\n",
       "    <tr>\n",
       "      <th>4569</th>\n",
       "      <td>1964</td>\n",
       "      <td>7th Annual GRAMMY Awards  (1964)</td>\n",
       "      <td>2017-11-28T00:03:45-08:00</td>\n",
       "      <td>2019-09-10T01:06:11-07:00</td>\n",
       "      <td>Best New Artist Of 1964</td>\n",
       "      <td>The Beatles</td>\n",
       "      <td>The Beatles</td>\n",
       "      <td>None</td>\n",
       "      <td>True</td>\n",
       "    </tr>\n",
       "    <tr>\n",
       "      <th>4628</th>\n",
       "      <td>1963</td>\n",
       "      <td>6th Annual GRAMMY Awards  (1963)</td>\n",
       "      <td>2017-11-28T00:03:45-08:00</td>\n",
       "      <td>2019-09-10T01:11:09-07:00</td>\n",
       "      <td>Best New Artist Of 1963</td>\n",
       "      <td>Ward Swingle (The Swingle Singers)</td>\n",
       "      <td>Ward Swingle(The Swingle Singers)</td>\n",
       "      <td>None</td>\n",
       "      <td>True</td>\n",
       "    </tr>\n",
       "    <tr>\n",
       "      <th>4667</th>\n",
       "      <td>1962</td>\n",
       "      <td>5th Annual GRAMMY Awards  (1962)</td>\n",
       "      <td>2017-11-28T00:03:45-08:00</td>\n",
       "      <td>2019-09-10T01:09:02-07:00</td>\n",
       "      <td>Best New Artist Of 1962</td>\n",
       "      <td>Robert Goulet</td>\n",
       "      <td>Robert Goulet</td>\n",
       "      <td>None</td>\n",
       "      <td>True</td>\n",
       "    </tr>\n",
       "    <tr>\n",
       "      <th>4699</th>\n",
       "      <td>1961</td>\n",
       "      <td>4th Annual GRAMMY Awards  (1961)</td>\n",
       "      <td>2017-11-28T00:03:45-08:00</td>\n",
       "      <td>2019-09-10T01:08:19-07:00</td>\n",
       "      <td>Best New Artist Of 1961</td>\n",
       "      <td>Peter Nero</td>\n",
       "      <td>Peter Nero</td>\n",
       "      <td>None</td>\n",
       "      <td>True</td>\n",
       "    </tr>\n",
       "    <tr>\n",
       "      <th>4745</th>\n",
       "      <td>1960</td>\n",
       "      <td>3rd Annual GRAMMY Awards  (1960)</td>\n",
       "      <td>2017-11-28T00:03:45-08:00</td>\n",
       "      <td>2019-09-10T01:07:37-07:00</td>\n",
       "      <td>Best New Artist Of 1960</td>\n",
       "      <td>Bob Newhart</td>\n",
       "      <td>Bob Newhart</td>\n",
       "      <td>None</td>\n",
       "      <td>True</td>\n",
       "    </tr>\n",
       "    <tr>\n",
       "      <th>4781</th>\n",
       "      <td>1959</td>\n",
       "      <td>2nd Annual GRAMMY Awards  (1959)</td>\n",
       "      <td>2017-11-28T00:03:45-08:00</td>\n",
       "      <td>2019-09-10T01:06:59-07:00</td>\n",
       "      <td>Best New Artist Of 1959</td>\n",
       "      <td>Bobby Darin</td>\n",
       "      <td>Bobby Darin</td>\n",
       "      <td>None</td>\n",
       "      <td>True</td>\n",
       "    </tr>\n",
       "  </tbody>\n",
       "</table>\n",
       "</div>"
      ],
      "text/plain": [
       "      year                              title               published_at  \\\n",
       "3066  1991  34th Annual GRAMMY Awards  (1991)  2017-11-28T00:03:45-08:00   \n",
       "3076  1991  34th Annual GRAMMY Awards  (1991)  2017-11-28T00:03:45-08:00   \n",
       "3366  1987  30th Annual GRAMMY Awards  (1987)  2017-11-28T00:03:45-08:00   \n",
       "3515  1985  28th Annual GRAMMY Awards  (1985)  2017-11-28T00:03:45-08:00   \n",
       "4178  1960   3rd Annual GRAMMY Awards  (1960)  2017-11-28T00:03:45-08:00   \n",
       "4397  1968  11th Annual GRAMMY Awards  (1968)  2017-11-28T00:03:45-08:00   \n",
       "4569  1964   7th Annual GRAMMY Awards  (1964)  2017-11-28T00:03:45-08:00   \n",
       "4628  1963   6th Annual GRAMMY Awards  (1963)  2017-11-28T00:03:45-08:00   \n",
       "4667  1962   5th Annual GRAMMY Awards  (1962)  2017-11-28T00:03:45-08:00   \n",
       "4699  1961   4th Annual GRAMMY Awards  (1961)  2017-11-28T00:03:45-08:00   \n",
       "4745  1960   3rd Annual GRAMMY Awards  (1960)  2017-11-28T00:03:45-08:00   \n",
       "4781  1959   2nd Annual GRAMMY Awards  (1959)  2017-11-28T00:03:45-08:00   \n",
       "\n",
       "                     updated_at  \\\n",
       "3066  2019-09-10T01:06:59-07:00   \n",
       "3076  2019-09-10T01:06:59-07:00   \n",
       "3366  2019-09-10T01:07:37-07:00   \n",
       "3515  2019-09-10T01:06:11-07:00   \n",
       "4178  2019-09-10T01:07:37-07:00   \n",
       "4397  2019-09-10T01:11:09-07:00   \n",
       "4569  2019-09-10T01:06:11-07:00   \n",
       "4628  2019-09-10T01:11:09-07:00   \n",
       "4667  2019-09-10T01:09:02-07:00   \n",
       "4699  2019-09-10T01:08:19-07:00   \n",
       "4745  2019-09-10T01:07:37-07:00   \n",
       "4781  2019-09-10T01:06:59-07:00   \n",
       "\n",
       "                                               category  \\\n",
       "3066               Producer Of The Year (Non Classical)   \n",
       "3076                       Best Classical Vocal Soloist   \n",
       "3366              Producer Of The Year, (Non Classical)   \n",
       "3515                          Best New Classical Artist   \n",
       "4178         Best Classical Performance - Vocal Soloist   \n",
       "4397  Best Performance - Instrumental Soloist Or Sol...   \n",
       "4569                            Best New Artist Of 1964   \n",
       "4628                            Best New Artist Of 1963   \n",
       "4667                            Best New Artist Of 1962   \n",
       "4699                            Best New Artist Of 1961   \n",
       "4745                            Best New Artist Of 1960   \n",
       "4781                            Best New Artist Of 1959   \n",
       "\n",
       "                                                nominee  \\\n",
       "3066                                       David Foster   \n",
       "3076     The Girl With Orange Lips (Falla, Ravel, etc.)   \n",
       "3366                              Narada Michael Walden   \n",
       "3515  Stravinsky: L' Histoire Du Soldat (The Soldier...   \n",
       "4178         A Program Of Song - Leontyne Price Recital   \n",
       "4397  Horowitz On Television (Chopin, Scriabin, Scar...   \n",
       "4569                                        The Beatles   \n",
       "4628                 Ward Swingle (The Swingle Singers)   \n",
       "4667                                      Robert Goulet   \n",
       "4699                                         Peter Nero   \n",
       "4745                                        Bob Newhart   \n",
       "4781                                        Bobby Darin   \n",
       "\n",
       "                                 artist workers  winner  \n",
       "3066                       David Foster    None    True  \n",
       "3076                        Dawn Upshaw    None    True  \n",
       "3366              Narada Michael Walden    None    True  \n",
       "3515                 Chicago Pro Musica    None    True  \n",
       "4178                     Leontyne Price    None    True  \n",
       "4397                  Vladimir Horowitz    None    True  \n",
       "4569                        The Beatles    None    True  \n",
       "4628  Ward Swingle(The Swingle Singers)    None    True  \n",
       "4667                      Robert Goulet    None    True  \n",
       "4699                         Peter Nero    None    True  \n",
       "4745                        Bob Newhart    None    True  \n",
       "4781                        Bobby Darin    None    True  "
      ]
     },
     "execution_count": 23,
     "metadata": {},
     "output_type": "execute_result"
    }
   ],
   "source": [
    "df1.loc[list(update1.keys())]"
   ]
  },
  {
   "cell_type": "markdown",
   "metadata": {},
   "source": [
    "### Value counts for the `category` column in these rows is more than one"
   ]
  },
  {
   "cell_type": "markdown",
   "metadata": {},
   "source": [
    "Of these categories with rows with missing `artist` and `workers` we need to filter those that do not contain a regular artist name to handle them separetely. In this case, the criteria is that they contain special characters in their `nominee` column. "
   ]
  },
  {
   "cell_type": "code",
   "execution_count": 24,
   "metadata": {},
   "outputs": [
    {
     "name": "stdout",
     "output_type": "stream",
     "text": [
      "category\n",
      "Producer Of The Year (Non-Classical)                                                         6\n",
      "Best Classical Vocal Soloist Performance                                                     5\n",
      "Best New Artist                                                                              4\n",
      "Best Small Ensemble Performance (With Or Without Conductor)                                  4\n",
      "Best Classical Vocal Performance                                                             4\n",
      "Best Classical Performance - Instrumental Soloist Or Soloists (With Or Without Orchestra)    4\n",
      "Most Promising New Classical Recording Artist                                                3\n",
      "Producer Of The Year, Non-Classical                                                          2\n",
      "Producer Of The Year, Classical                                                              1\n",
      "Classical Producer Of The Year                                                               1\n",
      "Producer Of The Year                                                                         1\n",
      "Best New Artist Of The Year                                                                  1\n",
      "Name: count, dtype: int64\n"
     ]
    }
   ],
   "source": [
    "# Filter rows where 'artist' and 'workers' are null\n",
    "filtered_null_rows = df1[(df1['artist'].isnull()) & (df1['workers'].isnull())]\n",
    "\n",
    "# Filter rows where 'nominee' contains special characters and 'artist' is null\n",
    "filtered_rows = filtered_null_rows[(filtered_null_rows['nominee'].str.contains(r'[^\\w\\s]', regex=True))]\n",
    "\n",
    "# Count the number of rows per 'category'\n",
    "category_counts = filtered_rows['category'].value_counts()\n",
    "\n",
    "# Display the counts\n",
    "print(category_counts)"
   ]
  },
  {
   "cell_type": "markdown",
   "metadata": {},
   "source": [
    "As these columns may need reviewing and we operate on the assumption that those whitout special characters don't, we are going to input the `artist` value using the `nominee` value on the cases where `nominee` does not have special characters, and the `worker` is null."
   ]
  },
  {
   "cell_type": "code",
   "execution_count": 25,
   "metadata": {},
   "outputs": [],
   "source": [
    "df1.loc[\n",
    "    (df1[\"artist\"].isnull()) & \n",
    "    (df1[\"workers\"].isnull()) & \n",
    "    (~df1[\"nominee\"].str.contains(r'[^\\w\\s]', regex=True)), \n",
    "    \"artist\"\n",
    "] = df1[\"nominee\"]"
   ]
  },
  {
   "cell_type": "markdown",
   "metadata": {},
   "source": [
    "### Cases with special characters in `nominee`"
   ]
  },
  {
   "cell_type": "markdown",
   "metadata": {},
   "source": [
    "##### Producer Of The Year (Non-Classical)"
   ]
  },
  {
   "cell_type": "code",
   "execution_count": 26,
   "metadata": {},
   "outputs": [],
   "source": [
    "def filter_rows_column_to_review(df, category):\n",
    "    \"\"\"\n",
    "    Filters rows in the dataframe where the specified category matches\n",
    "    and the 'artist' column is null.\n",
    "\n",
    "    Args:\n",
    "        df (DataFrame): The input dataframe.\n",
    "        category (str): The category value to filter by.\n",
    "\n",
    "    Returns:\n",
    "        DataFrame: Filtered rows.\n",
    "    \"\"\"\n",
    "    filtered_null_rows = df[(df['category'] == category) & (df['artist'].isnull())]\n",
    "    return filtered_null_rows"
   ]
  },
  {
   "cell_type": "code",
   "execution_count": 27,
   "metadata": {},
   "outputs": [
    {
     "data": {
      "text/html": [
       "<div>\n",
       "<style scoped>\n",
       "    .dataframe tbody tr th:only-of-type {\n",
       "        vertical-align: middle;\n",
       "    }\n",
       "\n",
       "    .dataframe tbody tr th {\n",
       "        vertical-align: top;\n",
       "    }\n",
       "\n",
       "    .dataframe thead th {\n",
       "        text-align: right;\n",
       "    }\n",
       "</style>\n",
       "<table border=\"1\" class=\"dataframe\">\n",
       "  <thead>\n",
       "    <tr style=\"text-align: right;\">\n",
       "      <th></th>\n",
       "      <th>year</th>\n",
       "      <th>title</th>\n",
       "      <th>published_at</th>\n",
       "      <th>updated_at</th>\n",
       "      <th>category</th>\n",
       "      <th>nominee</th>\n",
       "      <th>artist</th>\n",
       "      <th>workers</th>\n",
       "      <th>winner</th>\n",
       "    </tr>\n",
       "  </thead>\n",
       "  <tbody>\n",
       "    <tr>\n",
       "      <th>2986</th>\n",
       "      <td>1992</td>\n",
       "      <td>35th Annual GRAMMY Awards  (1992)</td>\n",
       "      <td>2017-11-28T00:03:45-08:00</td>\n",
       "      <td>2019-09-10T01:07:37-07:00</td>\n",
       "      <td>Producer Of The Year (Non-Classical)</td>\n",
       "      <td>Babyface &amp; L.A. Reid</td>\n",
       "      <td>None</td>\n",
       "      <td>None</td>\n",
       "      <td>True</td>\n",
       "    </tr>\n",
       "    <tr>\n",
       "      <th>2987</th>\n",
       "      <td>1992</td>\n",
       "      <td>35th Annual GRAMMY Awards  (1992)</td>\n",
       "      <td>2017-11-28T00:03:45-08:00</td>\n",
       "      <td>2019-09-10T01:07:37-07:00</td>\n",
       "      <td>Producer Of The Year (Non-Classical)</td>\n",
       "      <td>Brian Eno &amp; Daniel Lanois</td>\n",
       "      <td>None</td>\n",
       "      <td>None</td>\n",
       "      <td>True</td>\n",
       "    </tr>\n",
       "    <tr>\n",
       "      <th>3436</th>\n",
       "      <td>1986</td>\n",
       "      <td>29th Annual GRAMMY Awards  (1986)</td>\n",
       "      <td>2017-11-28T00:03:45-08:00</td>\n",
       "      <td>2019-09-10T01:06:59-07:00</td>\n",
       "      <td>Producer Of The Year (Non-Classical)</td>\n",
       "      <td>Jimmy Jam &amp; Terry Lewis</td>\n",
       "      <td>None</td>\n",
       "      <td>None</td>\n",
       "      <td>True</td>\n",
       "    </tr>\n",
       "    <tr>\n",
       "      <th>3505</th>\n",
       "      <td>1985</td>\n",
       "      <td>28th Annual GRAMMY Awards  (1985)</td>\n",
       "      <td>2017-11-28T00:03:45-08:00</td>\n",
       "      <td>2019-09-10T01:06:11-07:00</td>\n",
       "      <td>Producer Of The Year (Non-Classical)</td>\n",
       "      <td>Phil Collins &amp; Hugh Padgham</td>\n",
       "      <td>None</td>\n",
       "      <td>None</td>\n",
       "      <td>True</td>\n",
       "    </tr>\n",
       "    <tr>\n",
       "      <th>3576</th>\n",
       "      <td>1984</td>\n",
       "      <td>27th Annual GRAMMY Awards  (1984)</td>\n",
       "      <td>2017-11-28T00:03:45-08:00</td>\n",
       "      <td>2019-09-10T01:11:09-07:00</td>\n",
       "      <td>Producer Of The Year (Non-Classical)</td>\n",
       "      <td>James Anthony Carmichael &amp; Lionel Richie</td>\n",
       "      <td>None</td>\n",
       "      <td>None</td>\n",
       "      <td>True</td>\n",
       "    </tr>\n",
       "    <tr>\n",
       "      <th>3645</th>\n",
       "      <td>1983</td>\n",
       "      <td>26th Annual GRAMMY Awards  (1983)</td>\n",
       "      <td>2017-11-28T00:03:45-08:00</td>\n",
       "      <td>2019-09-10T01:09:02-07:00</td>\n",
       "      <td>Producer Of The Year (Non-Classical)</td>\n",
       "      <td>Michael Jackson &amp; Quincy Jones</td>\n",
       "      <td>None</td>\n",
       "      <td>None</td>\n",
       "      <td>True</td>\n",
       "    </tr>\n",
       "  </tbody>\n",
       "</table>\n",
       "</div>"
      ],
      "text/plain": [
       "      year                              title               published_at  \\\n",
       "2986  1992  35th Annual GRAMMY Awards  (1992)  2017-11-28T00:03:45-08:00   \n",
       "2987  1992  35th Annual GRAMMY Awards  (1992)  2017-11-28T00:03:45-08:00   \n",
       "3436  1986  29th Annual GRAMMY Awards  (1986)  2017-11-28T00:03:45-08:00   \n",
       "3505  1985  28th Annual GRAMMY Awards  (1985)  2017-11-28T00:03:45-08:00   \n",
       "3576  1984  27th Annual GRAMMY Awards  (1984)  2017-11-28T00:03:45-08:00   \n",
       "3645  1983  26th Annual GRAMMY Awards  (1983)  2017-11-28T00:03:45-08:00   \n",
       "\n",
       "                     updated_at                              category  \\\n",
       "2986  2019-09-10T01:07:37-07:00  Producer Of The Year (Non-Classical)   \n",
       "2987  2019-09-10T01:07:37-07:00  Producer Of The Year (Non-Classical)   \n",
       "3436  2019-09-10T01:06:59-07:00  Producer Of The Year (Non-Classical)   \n",
       "3505  2019-09-10T01:06:11-07:00  Producer Of The Year (Non-Classical)   \n",
       "3576  2019-09-10T01:11:09-07:00  Producer Of The Year (Non-Classical)   \n",
       "3645  2019-09-10T01:09:02-07:00  Producer Of The Year (Non-Classical)   \n",
       "\n",
       "                                       nominee artist workers  winner  \n",
       "2986                      Babyface & L.A. Reid   None    None    True  \n",
       "2987                 Brian Eno & Daniel Lanois   None    None    True  \n",
       "3436                   Jimmy Jam & Terry Lewis   None    None    True  \n",
       "3505               Phil Collins & Hugh Padgham   None    None    True  \n",
       "3576  James Anthony Carmichael & Lionel Richie   None    None    True  \n",
       "3645            Michael Jackson & Quincy Jones   None    None    True  "
      ]
     },
     "execution_count": 27,
     "metadata": {},
     "output_type": "execute_result"
    }
   ],
   "source": [
    "filter_rows_column_to_review(df1, \"Producer Of The Year (Non-Classical)\")"
   ]
  },
  {
   "cell_type": "markdown",
   "metadata": {},
   "source": [
    "It seems in this cases the special character is due to nominee being a duo, there is not major problem. When the `category` contains \"Best\" or \"of the Year\" and \"artist\" the `artist` is the `nominee` at the same time.  We are going to apply this logic to input values for rows with the category \"Producer Of The Year, Non-Classical\"."
   ]
  },
  {
   "cell_type": "code",
   "execution_count": 28,
   "metadata": {},
   "outputs": [],
   "source": [
    "def assign_nominee_to_artist(df, category):\n",
    "    \"\"\"\n",
    "    Assigns the value from the 'nominee' column to the 'artist' column\n",
    "    for rows where the specified category matches and the 'artist' column is null.\n",
    "\n",
    "    Args:\n",
    "        df (DataFrame): The input dataframe.\n",
    "        category (str): The category value to filter by.\n",
    "\n",
    "    Returns:\n",
    "        DataFrame: Updated dataframe with modifications.\n",
    "    \"\"\"\n",
    "    df.loc[(df['category'] == category) & (df['artist'].isnull()), 'artist'] = df['nominee']\n",
    "    return df"
   ]
  },
  {
   "cell_type": "code",
   "execution_count": 29,
   "metadata": {},
   "outputs": [],
   "source": [
    "df1 = assign_nominee_to_artist(df1, \"Producer Of The Year (Non-Classical)\")"
   ]
  },
  {
   "cell_type": "markdown",
   "metadata": {},
   "source": [
    "To review the changes we filter `category` for \"Producer Of The Year (Non-Classical)\" and check for nulls in the `artist` column. There are now none for this category.\n"
   ]
  },
  {
   "cell_type": "code",
   "execution_count": 30,
   "metadata": {},
   "outputs": [],
   "source": [
    "def log_null_count(df, category):\n",
    "    \"\"\"\n",
    "    Logs the count of null values in the 'artist' column for the specified category.\n",
    "\n",
    "    Args:\n",
    "        df (DataFrame): The input dataframe.\n",
    "        category (str): The category value to filter by.\n",
    "\n",
    "    Returns:\n",
    "        int: The count of null values.\n",
    "    \"\"\"\n",
    "    null_count = df[(df['category'] == category) & (df['artist'].isnull())].shape[0]\n",
    "    logging.info(f\"There are {null_count} null values in the 'artist' column for '{category}'.\")\n",
    "    return null_count"
   ]
  },
  {
   "cell_type": "code",
   "execution_count": 31,
   "metadata": {},
   "outputs": [
    {
     "name": "stderr",
     "output_type": "stream",
     "text": [
      "2025-04-08 15:04:58,959 - INFO - root - There are 0 null values in the 'artist' column for 'Producer Of The Year (Non-Classical)'.\n"
     ]
    },
    {
     "data": {
      "text/plain": [
       "0"
      ]
     },
     "execution_count": 31,
     "metadata": {},
     "output_type": "execute_result"
    }
   ],
   "source": [
    "log_null_count(df1, \"Producer Of The Year (Non-Classical)\")"
   ]
  },
  {
   "cell_type": "markdown",
   "metadata": {},
   "source": [
    "##### "
   ]
  },
  {
   "cell_type": "markdown",
   "metadata": {},
   "source": [
    "#### Best Classical Vocal Soloist Performance"
   ]
  },
  {
   "cell_type": "code",
   "execution_count": 32,
   "metadata": {},
   "outputs": [
    {
     "data": {
      "text/html": [
       "<div>\n",
       "<style scoped>\n",
       "    .dataframe tbody tr th:only-of-type {\n",
       "        vertical-align: middle;\n",
       "    }\n",
       "\n",
       "    .dataframe tbody tr th {\n",
       "        vertical-align: top;\n",
       "    }\n",
       "\n",
       "    .dataframe thead th {\n",
       "        text-align: right;\n",
       "    }\n",
       "</style>\n",
       "<table border=\"1\" class=\"dataframe\">\n",
       "  <thead>\n",
       "    <tr style=\"text-align: right;\">\n",
       "      <th></th>\n",
       "      <th>year</th>\n",
       "      <th>title</th>\n",
       "      <th>published_at</th>\n",
       "      <th>updated_at</th>\n",
       "      <th>category</th>\n",
       "      <th>nominee</th>\n",
       "      <th>artist</th>\n",
       "      <th>workers</th>\n",
       "      <th>winner</th>\n",
       "    </tr>\n",
       "  </thead>\n",
       "  <tbody>\n",
       "    <tr>\n",
       "      <th>1816</th>\n",
       "      <td>1977</td>\n",
       "      <td>20th Annual GRAMMY Awards  (1977)</td>\n",
       "      <td>2017-11-28T00:03:45-08:00</td>\n",
       "      <td>2019-09-10T01:08:19-07:00</td>\n",
       "      <td>Best Classical Vocal Soloist Performance</td>\n",
       "      <td>Bach: Arias</td>\n",
       "      <td>None</td>\n",
       "      <td>(Academy Of St. Martin-In-The Fields)</td>\n",
       "      <td>True</td>\n",
       "    </tr>\n",
       "    <tr>\n",
       "      <th>3230</th>\n",
       "      <td>1989</td>\n",
       "      <td>32nd Annual GRAMMY Awards  (1989)</td>\n",
       "      <td>2017-11-28T00:03:45-08:00</td>\n",
       "      <td>2019-09-10T01:09:02-07:00</td>\n",
       "      <td>Best Classical Vocal Soloist Performance</td>\n",
       "      <td>Knoxville - Summer Of 1915 (Music Of Barber, M...</td>\n",
       "      <td>None</td>\n",
       "      <td>(Orchestra Of St. Luke's)</td>\n",
       "      <td>True</td>\n",
       "    </tr>\n",
       "    <tr>\n",
       "      <th>3303</th>\n",
       "      <td>1988</td>\n",
       "      <td>31st Annual GRAMMY Awards  (1988)</td>\n",
       "      <td>2017-11-28T00:03:45-08:00</td>\n",
       "      <td>2019-09-10T01:08:19-07:00</td>\n",
       "      <td>Best Classical Vocal Soloist Performance</td>\n",
       "      <td>Luciano Pavarotti In Concert</td>\n",
       "      <td>None</td>\n",
       "      <td>(Symphony Orchestra Of Amelia Romangna)</td>\n",
       "      <td>True</td>\n",
       "    </tr>\n",
       "    <tr>\n",
       "      <th>3374</th>\n",
       "      <td>1987</td>\n",
       "      <td>30th Annual GRAMMY Awards  (1987)</td>\n",
       "      <td>2017-11-28T00:03:45-08:00</td>\n",
       "      <td>2019-09-10T01:07:37-07:00</td>\n",
       "      <td>Best Classical Vocal Soloist Performance</td>\n",
       "      <td>Kathleen Battle - Salzburg Recital</td>\n",
       "      <td>None</td>\n",
       "      <td>None</td>\n",
       "      <td>True</td>\n",
       "    </tr>\n",
       "    <tr>\n",
       "      <th>3443</th>\n",
       "      <td>1986</td>\n",
       "      <td>29th Annual GRAMMY Awards  (1986)</td>\n",
       "      <td>2017-11-28T00:03:45-08:00</td>\n",
       "      <td>2019-09-10T01:06:59-07:00</td>\n",
       "      <td>Best Classical Vocal Soloist Performance</td>\n",
       "      <td>Mozart: Kathleen Battle Sings Mozart</td>\n",
       "      <td>None</td>\n",
       "      <td>(Andre Previn; Royal Philharmonic Orchestra)</td>\n",
       "      <td>True</td>\n",
       "    </tr>\n",
       "    <tr>\n",
       "      <th>3514</th>\n",
       "      <td>1985</td>\n",
       "      <td>28th Annual GRAMMY Awards  (1985)</td>\n",
       "      <td>2017-11-28T00:03:45-08:00</td>\n",
       "      <td>2019-09-10T01:06:11-07:00</td>\n",
       "      <td>Best Classical Vocal Soloist Performance</td>\n",
       "      <td>Berlioz: Requiem</td>\n",
       "      <td>None</td>\n",
       "      <td>(Robert Shaw; Atlanta Symphony Orchestra)</td>\n",
       "      <td>True</td>\n",
       "    </tr>\n",
       "    <tr>\n",
       "      <th>3585</th>\n",
       "      <td>1984</td>\n",
       "      <td>27th Annual GRAMMY Awards  (1984)</td>\n",
       "      <td>2017-11-28T00:03:45-08:00</td>\n",
       "      <td>2019-09-10T01:11:09-07:00</td>\n",
       "      <td>Best Classical Vocal Soloist Performance</td>\n",
       "      <td>Ravel: Songs Of Maurice Ravel</td>\n",
       "      <td>None</td>\n",
       "      <td>(Pierre Boulez; BBC Symphony Orchestra &amp; Ensem...</td>\n",
       "      <td>True</td>\n",
       "    </tr>\n",
       "    <tr>\n",
       "      <th>3654</th>\n",
       "      <td>1983</td>\n",
       "      <td>26th Annual GRAMMY Awards  (1983)</td>\n",
       "      <td>2017-11-28T00:03:45-08:00</td>\n",
       "      <td>2019-09-10T01:09:02-07:00</td>\n",
       "      <td>Best Classical Vocal Soloist Performance</td>\n",
       "      <td>Leontyne Price &amp; Marilyn Horne In Concert At T...</td>\n",
       "      <td>None</td>\n",
       "      <td>(James Levine; Metropolitan Opera Orchestra)</td>\n",
       "      <td>True</td>\n",
       "    </tr>\n",
       "    <tr>\n",
       "      <th>3718</th>\n",
       "      <td>1982</td>\n",
       "      <td>25th Annual GRAMMY Awards  (1982)</td>\n",
       "      <td>2017-11-28T00:03:45-08:00</td>\n",
       "      <td>2019-09-10T01:08:19-07:00</td>\n",
       "      <td>Best Classical Vocal Soloist Performance</td>\n",
       "      <td>Verdi: Arias (Leontyne Price Sings Verdi)</td>\n",
       "      <td>None</td>\n",
       "      <td>(Zubin Mehta; Israel Philharmonic Orchestra)</td>\n",
       "      <td>True</td>\n",
       "    </tr>\n",
       "    <tr>\n",
       "      <th>3767</th>\n",
       "      <td>1972</td>\n",
       "      <td>15th Annual GRAMMY Awards  (1972)</td>\n",
       "      <td>2017-11-28T00:03:45-08:00</td>\n",
       "      <td>2019-09-10T01:08:19-07:00</td>\n",
       "      <td>Best Classical Vocal Soloist Performance</td>\n",
       "      <td>Brahms: Die Schone Magelone</td>\n",
       "      <td>None</td>\n",
       "      <td>None</td>\n",
       "      <td>True</td>\n",
       "    </tr>\n",
       "    <tr>\n",
       "      <th>3775</th>\n",
       "      <td>1981</td>\n",
       "      <td>24th Annual GRAMMY Awards  (1981)</td>\n",
       "      <td>2017-11-28T00:03:45-08:00</td>\n",
       "      <td>2019-09-10T01:06:59-07:00</td>\n",
       "      <td>Best Classical Vocal Soloist Performance</td>\n",
       "      <td>Live From Lincoln Center - Sutherland/Horne/Pa...</td>\n",
       "      <td>None</td>\n",
       "      <td>(Richard Bonynge; New York City Opera Orchestra)</td>\n",
       "      <td>True</td>\n",
       "    </tr>\n",
       "    <tr>\n",
       "      <th>3835</th>\n",
       "      <td>1980</td>\n",
       "      <td>23rd Annual GRAMMY Awards  (1980)</td>\n",
       "      <td>2017-11-28T00:03:45-08:00</td>\n",
       "      <td>2019-09-10T01:06:11-07:00</td>\n",
       "      <td>Best Classical Vocal Soloist Performance</td>\n",
       "      <td>Prima Donna, Vol. 5 - Great Soprano Arias From...</td>\n",
       "      <td>None</td>\n",
       "      <td>(Henry Lewis; Philharmonia Orchestra)</td>\n",
       "      <td>True</td>\n",
       "    </tr>\n",
       "    <tr>\n",
       "      <th>3888</th>\n",
       "      <td>1979</td>\n",
       "      <td>22nd Annual GRAMMY Awards  (1979)</td>\n",
       "      <td>2017-11-28T00:03:45-08:00</td>\n",
       "      <td>2019-09-10T01:11:09-07:00</td>\n",
       "      <td>Best Classical Vocal Soloist Performance</td>\n",
       "      <td>O Sole Mio - Favorite Neapolitan Songs</td>\n",
       "      <td>None</td>\n",
       "      <td>(Bologna Orchestra)</td>\n",
       "      <td>True</td>\n",
       "    </tr>\n",
       "    <tr>\n",
       "      <th>3942</th>\n",
       "      <td>1978</td>\n",
       "      <td>21st Annual GRAMMY Awards  (1978)</td>\n",
       "      <td>2017-11-28T00:03:45-08:00</td>\n",
       "      <td>2019-09-10T01:09:02-07:00</td>\n",
       "      <td>Best Classical Vocal Soloist Performance</td>\n",
       "      <td>Luciano Pavarotti - Hits From Lincoln Center</td>\n",
       "      <td>None</td>\n",
       "      <td>None</td>\n",
       "      <td>True</td>\n",
       "    </tr>\n",
       "    <tr>\n",
       "      <th>4039</th>\n",
       "      <td>1976</td>\n",
       "      <td>19th Annual GRAMMY Awards  (1976)</td>\n",
       "      <td>2017-11-28T00:03:45-08:00</td>\n",
       "      <td>2019-09-10T01:07:37-07:00</td>\n",
       "      <td>Best Classical Vocal Soloist Performance</td>\n",
       "      <td>Herbert: Music Of Victor Herbert</td>\n",
       "      <td>None</td>\n",
       "      <td>None</td>\n",
       "      <td>True</td>\n",
       "    </tr>\n",
       "    <tr>\n",
       "      <th>4088</th>\n",
       "      <td>1975</td>\n",
       "      <td>18th Annual GRAMMY Awards  (1975)</td>\n",
       "      <td>2017-11-28T00:03:45-08:00</td>\n",
       "      <td>2019-09-10T01:06:59-07:00</td>\n",
       "      <td>Best Classical Vocal Soloist Performance</td>\n",
       "      <td>Mahler: Kindertotenlieder</td>\n",
       "      <td>None</td>\n",
       "      <td>(Israel Philharmonic Orchestra)</td>\n",
       "      <td>True</td>\n",
       "    </tr>\n",
       "    <tr>\n",
       "      <th>4183</th>\n",
       "      <td>1973</td>\n",
       "      <td>16th Annual GRAMMY Awards  (1973)</td>\n",
       "      <td>2017-11-28T00:03:45-08:00</td>\n",
       "      <td>2019-09-10T01:11:09-07:00</td>\n",
       "      <td>Best Classical Vocal Soloist Performance</td>\n",
       "      <td>Puccini: Heroines</td>\n",
       "      <td>None</td>\n",
       "      <td>(Sir Edward Downes; New Philharmonia Orchestra)</td>\n",
       "      <td>True</td>\n",
       "    </tr>\n",
       "    <tr>\n",
       "      <th>4315</th>\n",
       "      <td>1970</td>\n",
       "      <td>13th Annual GRAMMY Awards  (1970)</td>\n",
       "      <td>2017-11-28T00:03:45-08:00</td>\n",
       "      <td>2019-09-10T01:06:59-07:00</td>\n",
       "      <td>Best Classical Vocal Soloist Performance</td>\n",
       "      <td>Schubert: Lieder</td>\n",
       "      <td>None</td>\n",
       "      <td>None</td>\n",
       "      <td>True</td>\n",
       "    </tr>\n",
       "    <tr>\n",
       "      <th>4450</th>\n",
       "      <td>1967</td>\n",
       "      <td>10th Annual GRAMMY Awards  (1967)</td>\n",
       "      <td>2017-11-28T00:03:45-08:00</td>\n",
       "      <td>2019-09-10T01:09:02-07:00</td>\n",
       "      <td>Best Classical Vocal Soloist Performance</td>\n",
       "      <td>Prima Donna, Volume 2</td>\n",
       "      <td>None</td>\n",
       "      <td>(RCA Italiana Opera Orchestra)</td>\n",
       "      <td>True</td>\n",
       "    </tr>\n",
       "    <tr>\n",
       "      <th>4538</th>\n",
       "      <td>1965</td>\n",
       "      <td>8th Annual GRAMMY Awards  (1965)</td>\n",
       "      <td>2017-11-28T00:03:45-08:00</td>\n",
       "      <td>2019-09-10T01:06:59-07:00</td>\n",
       "      <td>Best Classical Vocal Soloist Performance</td>\n",
       "      <td>Strauss: Salome (Dance Of The Seven Veils, Int...</td>\n",
       "      <td>None</td>\n",
       "      <td>(Boston Symphony Orchestra)</td>\n",
       "      <td>True</td>\n",
       "    </tr>\n",
       "  </tbody>\n",
       "</table>\n",
       "</div>"
      ],
      "text/plain": [
       "      year                              title               published_at  \\\n",
       "1816  1977  20th Annual GRAMMY Awards  (1977)  2017-11-28T00:03:45-08:00   \n",
       "3230  1989  32nd Annual GRAMMY Awards  (1989)  2017-11-28T00:03:45-08:00   \n",
       "3303  1988  31st Annual GRAMMY Awards  (1988)  2017-11-28T00:03:45-08:00   \n",
       "3374  1987  30th Annual GRAMMY Awards  (1987)  2017-11-28T00:03:45-08:00   \n",
       "3443  1986  29th Annual GRAMMY Awards  (1986)  2017-11-28T00:03:45-08:00   \n",
       "3514  1985  28th Annual GRAMMY Awards  (1985)  2017-11-28T00:03:45-08:00   \n",
       "3585  1984  27th Annual GRAMMY Awards  (1984)  2017-11-28T00:03:45-08:00   \n",
       "3654  1983  26th Annual GRAMMY Awards  (1983)  2017-11-28T00:03:45-08:00   \n",
       "3718  1982  25th Annual GRAMMY Awards  (1982)  2017-11-28T00:03:45-08:00   \n",
       "3767  1972  15th Annual GRAMMY Awards  (1972)  2017-11-28T00:03:45-08:00   \n",
       "3775  1981  24th Annual GRAMMY Awards  (1981)  2017-11-28T00:03:45-08:00   \n",
       "3835  1980  23rd Annual GRAMMY Awards  (1980)  2017-11-28T00:03:45-08:00   \n",
       "3888  1979  22nd Annual GRAMMY Awards  (1979)  2017-11-28T00:03:45-08:00   \n",
       "3942  1978  21st Annual GRAMMY Awards  (1978)  2017-11-28T00:03:45-08:00   \n",
       "4039  1976  19th Annual GRAMMY Awards  (1976)  2017-11-28T00:03:45-08:00   \n",
       "4088  1975  18th Annual GRAMMY Awards  (1975)  2017-11-28T00:03:45-08:00   \n",
       "4183  1973  16th Annual GRAMMY Awards  (1973)  2017-11-28T00:03:45-08:00   \n",
       "4315  1970  13th Annual GRAMMY Awards  (1970)  2017-11-28T00:03:45-08:00   \n",
       "4450  1967  10th Annual GRAMMY Awards  (1967)  2017-11-28T00:03:45-08:00   \n",
       "4538  1965   8th Annual GRAMMY Awards  (1965)  2017-11-28T00:03:45-08:00   \n",
       "\n",
       "                     updated_at                                  category  \\\n",
       "1816  2019-09-10T01:08:19-07:00  Best Classical Vocal Soloist Performance   \n",
       "3230  2019-09-10T01:09:02-07:00  Best Classical Vocal Soloist Performance   \n",
       "3303  2019-09-10T01:08:19-07:00  Best Classical Vocal Soloist Performance   \n",
       "3374  2019-09-10T01:07:37-07:00  Best Classical Vocal Soloist Performance   \n",
       "3443  2019-09-10T01:06:59-07:00  Best Classical Vocal Soloist Performance   \n",
       "3514  2019-09-10T01:06:11-07:00  Best Classical Vocal Soloist Performance   \n",
       "3585  2019-09-10T01:11:09-07:00  Best Classical Vocal Soloist Performance   \n",
       "3654  2019-09-10T01:09:02-07:00  Best Classical Vocal Soloist Performance   \n",
       "3718  2019-09-10T01:08:19-07:00  Best Classical Vocal Soloist Performance   \n",
       "3767  2019-09-10T01:08:19-07:00  Best Classical Vocal Soloist Performance   \n",
       "3775  2019-09-10T01:06:59-07:00  Best Classical Vocal Soloist Performance   \n",
       "3835  2019-09-10T01:06:11-07:00  Best Classical Vocal Soloist Performance   \n",
       "3888  2019-09-10T01:11:09-07:00  Best Classical Vocal Soloist Performance   \n",
       "3942  2019-09-10T01:09:02-07:00  Best Classical Vocal Soloist Performance   \n",
       "4039  2019-09-10T01:07:37-07:00  Best Classical Vocal Soloist Performance   \n",
       "4088  2019-09-10T01:06:59-07:00  Best Classical Vocal Soloist Performance   \n",
       "4183  2019-09-10T01:11:09-07:00  Best Classical Vocal Soloist Performance   \n",
       "4315  2019-09-10T01:06:59-07:00  Best Classical Vocal Soloist Performance   \n",
       "4450  2019-09-10T01:09:02-07:00  Best Classical Vocal Soloist Performance   \n",
       "4538  2019-09-10T01:06:59-07:00  Best Classical Vocal Soloist Performance   \n",
       "\n",
       "                                                nominee artist  \\\n",
       "1816                                        Bach: Arias   None   \n",
       "3230  Knoxville - Summer Of 1915 (Music Of Barber, M...   None   \n",
       "3303                       Luciano Pavarotti In Concert   None   \n",
       "3374                 Kathleen Battle - Salzburg Recital   None   \n",
       "3443               Mozart: Kathleen Battle Sings Mozart   None   \n",
       "3514                                   Berlioz: Requiem   None   \n",
       "3585                      Ravel: Songs Of Maurice Ravel   None   \n",
       "3654  Leontyne Price & Marilyn Horne In Concert At T...   None   \n",
       "3718          Verdi: Arias (Leontyne Price Sings Verdi)   None   \n",
       "3767                        Brahms: Die Schone Magelone   None   \n",
       "3775  Live From Lincoln Center - Sutherland/Horne/Pa...   None   \n",
       "3835  Prima Donna, Vol. 5 - Great Soprano Arias From...   None   \n",
       "3888             O Sole Mio - Favorite Neapolitan Songs   None   \n",
       "3942       Luciano Pavarotti - Hits From Lincoln Center   None   \n",
       "4039                   Herbert: Music Of Victor Herbert   None   \n",
       "4088                          Mahler: Kindertotenlieder   None   \n",
       "4183                                  Puccini: Heroines   None   \n",
       "4315                                   Schubert: Lieder   None   \n",
       "4450                              Prima Donna, Volume 2   None   \n",
       "4538  Strauss: Salome (Dance Of The Seven Veils, Int...   None   \n",
       "\n",
       "                                                workers  winner  \n",
       "1816              (Academy Of St. Martin-In-The Fields)    True  \n",
       "3230                          (Orchestra Of St. Luke's)    True  \n",
       "3303            (Symphony Orchestra Of Amelia Romangna)    True  \n",
       "3374                                               None    True  \n",
       "3443       (Andre Previn; Royal Philharmonic Orchestra)    True  \n",
       "3514          (Robert Shaw; Atlanta Symphony Orchestra)    True  \n",
       "3585  (Pierre Boulez; BBC Symphony Orchestra & Ensem...    True  \n",
       "3654       (James Levine; Metropolitan Opera Orchestra)    True  \n",
       "3718       (Zubin Mehta; Israel Philharmonic Orchestra)    True  \n",
       "3767                                               None    True  \n",
       "3775   (Richard Bonynge; New York City Opera Orchestra)    True  \n",
       "3835              (Henry Lewis; Philharmonia Orchestra)    True  \n",
       "3888                                (Bologna Orchestra)    True  \n",
       "3942                                               None    True  \n",
       "4039                                               None    True  \n",
       "4088                    (Israel Philharmonic Orchestra)    True  \n",
       "4183    (Sir Edward Downes; New Philharmonia Orchestra)    True  \n",
       "4315                                               None    True  \n",
       "4450                     (RCA Italiana Opera Orchestra)    True  \n",
       "4538                        (Boston Symphony Orchestra)    True  "
      ]
     },
     "execution_count": 32,
     "metadata": {},
     "output_type": "execute_result"
    }
   ],
   "source": [
    "filter_rows_column_to_review(df1, \"Best Classical Vocal Soloist Performance\")"
   ]
  },
  {
   "cell_type": "markdown",
   "metadata": {},
   "source": [
    "It seems in this cases we see that the `nominee` is a record. We are going to input `artist` values based on online information."
   ]
  },
  {
   "cell_type": "code",
   "execution_count": 33,
   "metadata": {},
   "outputs": [],
   "source": [
    "def update_columns(df, updates):\n",
    "    \"\"\"\n",
    "    Updates the 'nominee' and 'artist' columns in the dataframe based on the provided index-value mapping.\n",
    "\n",
    "    Args:\n",
    "        df (DataFrame): The input dataframe.\n",
    "        updates (dict): A dictionary where keys are indices and values are the corresponding updates.\n",
    "\n",
    "    Returns:\n",
    "        DataFrame: Updated dataframe with modifications.\n",
    "    \"\"\"\n",
    "    for index, value in updates.items():\n",
    "        df.loc[index, 'nominee'] = value\n",
    "        df.loc[index, 'artist'] = value\n",
    "    return df"
   ]
  },
  {
   "cell_type": "code",
   "execution_count": 34,
   "metadata": {},
   "outputs": [],
   "source": [
    "def get_indices_list(df, category):\n",
    "    \"\"\"\n",
    "    Retrieves the list of indices for rows filtered by the specified category.\n",
    "\n",
    "    Args:\n",
    "        df (DataFrame): The input dataframe.\n",
    "        category (str): The category value to filter by.\n",
    "\n",
    "    Returns:\n",
    "        list: List of indices for the filtered rows.\n",
    "    \"\"\"\n",
    "    indices_list = filter_rows_column_to_review(df, category).index.tolist()\n",
    "    return indices_list"
   ]
  },
  {
   "cell_type": "code",
   "execution_count": 35,
   "metadata": {},
   "outputs": [
    {
     "data": {
      "text/plain": [
       "[1816,\n",
       " 3230,\n",
       " 3303,\n",
       " 3374,\n",
       " 3443,\n",
       " 3514,\n",
       " 3585,\n",
       " 3654,\n",
       " 3718,\n",
       " 3767,\n",
       " 3775,\n",
       " 3835,\n",
       " 3888,\n",
       " 3942,\n",
       " 4039,\n",
       " 4088,\n",
       " 4183,\n",
       " 4315,\n",
       " 4450,\n",
       " 4538]"
      ]
     },
     "execution_count": 35,
     "metadata": {},
     "output_type": "execute_result"
    }
   ],
   "source": [
    "get_indices_list(df1, \"Best Classical Vocal Soloist Performance\")"
   ]
  },
  {
   "cell_type": "code",
   "execution_count": 36,
   "metadata": {},
   "outputs": [],
   "source": [
    "updates_best_classical_vocal={1816:\"Janet Baker\",\n",
    "                            3230:\"Dawn Upshaw\" ,\n",
    "                            3374:\"Kathleen Battle\",\n",
    "                            3443:\"Kathleen Battle\",\n",
    "                            3514:\"John Aler\",\n",
    "                            3585:\"Heather Harper, Jessye Norman, Jose van Dam\",\n",
    "                            3654:\"Marilyn Horne, Leontyne Price\",\n",
    "                            3718:\"Leontyne Price\",\n",
    "                            3767:\"Dietrich Fischer-Dieskau\",\n",
    "                            3775:\"Marilyn Horne, Luciano Pavarotti, Joan Sutherland\",\n",
    "                            3835:\"Leontyne Price\",\n",
    "                            3888:\"Luciano Pavarotti\",\n",
    "                            3942:\"Luciano Pavarotti\",\n",
    "                            4039:\"Beverly Sills\",\n",
    "                            4088:\"Janet Baker\",\n",
    "                            4183:\"Leontyne Price\",\n",
    "                            4315:\"Dietrich Fischer-Dieskau\",\n",
    "                            4450:\"Leontyne Price\",\n",
    "                            4538:\"Leontyne Price\"\n",
    "\n",
    "}\n",
    "\n",
    "df1 = update_columns(df1, updates=updates_best_classical_vocal)"
   ]
  },
  {
   "cell_type": "markdown",
   "metadata": {},
   "source": [
    "To review the changes we filter `category` for \"Best Classical Vocal Soloist Performance\" and check for nulls in the `artist` column. There are now none for this category.\n"
   ]
  },
  {
   "cell_type": "code",
   "execution_count": 37,
   "metadata": {},
   "outputs": [
    {
     "name": "stderr",
     "output_type": "stream",
     "text": [
      "2025-04-08 15:04:59,072 - INFO - root - There are 1 null values in the 'artist' column for 'Best Classical Vocal Soloist Performance'.\n"
     ]
    },
    {
     "data": {
      "text/plain": [
       "1"
      ]
     },
     "execution_count": 37,
     "metadata": {},
     "output_type": "execute_result"
    }
   ],
   "source": [
    "log_null_count(df1, \"Best Classical Vocal Soloist Performance\")"
   ]
  },
  {
   "cell_type": "markdown",
   "metadata": {},
   "source": [
    "##### "
   ]
  },
  {
   "cell_type": "markdown",
   "metadata": {},
   "source": [
    "#### Best New Artist  "
   ]
  },
  {
   "cell_type": "code",
   "execution_count": 38,
   "metadata": {},
   "outputs": [
    {
     "data": {
      "text/html": [
       "<div>\n",
       "<style scoped>\n",
       "    .dataframe tbody tr th:only-of-type {\n",
       "        vertical-align: middle;\n",
       "    }\n",
       "\n",
       "    .dataframe tbody tr th {\n",
       "        vertical-align: top;\n",
       "    }\n",
       "\n",
       "    .dataframe thead th {\n",
       "        text-align: right;\n",
       "    }\n",
       "</style>\n",
       "<table border=\"1\" class=\"dataframe\">\n",
       "  <thead>\n",
       "    <tr style=\"text-align: right;\">\n",
       "      <th></th>\n",
       "      <th>year</th>\n",
       "      <th>title</th>\n",
       "      <th>published_at</th>\n",
       "      <th>updated_at</th>\n",
       "      <th>category</th>\n",
       "      <th>nominee</th>\n",
       "      <th>artist</th>\n",
       "      <th>workers</th>\n",
       "      <th>winner</th>\n",
       "    </tr>\n",
       "  </thead>\n",
       "  <tbody>\n",
       "    <tr>\n",
       "      <th>869</th>\n",
       "      <td>2013</td>\n",
       "      <td>56th Annual GRAMMY Awards  (2013)</td>\n",
       "      <td>2017-11-28T00:03:45-08:00</td>\n",
       "      <td>2019-09-10T01:06:59-07:00</td>\n",
       "      <td>Best New Artist</td>\n",
       "      <td>Macklemore &amp; Ryan Lewis</td>\n",
       "      <td>None</td>\n",
       "      <td>None</td>\n",
       "      <td>True</td>\n",
       "    </tr>\n",
       "    <tr>\n",
       "      <th>953</th>\n",
       "      <td>2012</td>\n",
       "      <td>55th Annual GRAMMY Awards  (2012)</td>\n",
       "      <td>2017-11-28T00:03:45-08:00</td>\n",
       "      <td>2019-09-10T01:06:11-07:00</td>\n",
       "      <td>Best New Artist</td>\n",
       "      <td>Fun.</td>\n",
       "      <td>None</td>\n",
       "      <td>None</td>\n",
       "      <td>True</td>\n",
       "    </tr>\n",
       "    <tr>\n",
       "      <th>2666</th>\n",
       "      <td>1995</td>\n",
       "      <td>38th Annual GRAMMY Awards  (1995)</td>\n",
       "      <td>2017-11-28T00:03:45-08:00</td>\n",
       "      <td>2019-09-10T01:11:09-07:00</td>\n",
       "      <td>Best New Artist</td>\n",
       "      <td>Hootie &amp; The Blowfish</td>\n",
       "      <td>None</td>\n",
       "      <td>None</td>\n",
       "      <td>True</td>\n",
       "    </tr>\n",
       "    <tr>\n",
       "      <th>3381</th>\n",
       "      <td>1986</td>\n",
       "      <td>29th Annual GRAMMY Awards  (1986)</td>\n",
       "      <td>2017-11-28T00:03:45-08:00</td>\n",
       "      <td>2019-09-10T01:06:59-07:00</td>\n",
       "      <td>Best New Artist</td>\n",
       "      <td>Bruce Hornsby &amp; The Range</td>\n",
       "      <td>None</td>\n",
       "      <td>None</td>\n",
       "      <td>True</td>\n",
       "    </tr>\n",
       "  </tbody>\n",
       "</table>\n",
       "</div>"
      ],
      "text/plain": [
       "      year                              title               published_at  \\\n",
       "869   2013  56th Annual GRAMMY Awards  (2013)  2017-11-28T00:03:45-08:00   \n",
       "953   2012  55th Annual GRAMMY Awards  (2012)  2017-11-28T00:03:45-08:00   \n",
       "2666  1995  38th Annual GRAMMY Awards  (1995)  2017-11-28T00:03:45-08:00   \n",
       "3381  1986  29th Annual GRAMMY Awards  (1986)  2017-11-28T00:03:45-08:00   \n",
       "\n",
       "                     updated_at         category                    nominee  \\\n",
       "869   2019-09-10T01:06:59-07:00  Best New Artist    Macklemore & Ryan Lewis   \n",
       "953   2019-09-10T01:06:11-07:00  Best New Artist                       Fun.   \n",
       "2666  2019-09-10T01:11:09-07:00  Best New Artist      Hootie & The Blowfish   \n",
       "3381  2019-09-10T01:06:59-07:00  Best New Artist  Bruce Hornsby & The Range   \n",
       "\n",
       "     artist workers  winner  \n",
       "869    None    None    True  \n",
       "953    None    None    True  \n",
       "2666   None    None    True  \n",
       "3381   None    None    True  "
      ]
     },
     "execution_count": 38,
     "metadata": {},
     "output_type": "execute_result"
    }
   ],
   "source": [
    "filter_rows_column_to_review(df1, \"Best New Artist\")\n"
   ]
  },
  {
   "cell_type": "markdown",
   "metadata": {},
   "source": [
    "There does not appear to be anny issues, just `artist` that seem to be duos. In the cases when the `category` contains \"Best\" or \"of the Year\" and \"artist\" the `artist` is the `nominee` at the same time.  We are going to apply this logic to input values for rows with the category \"Best New Artist\"."
   ]
  },
  {
   "cell_type": "code",
   "execution_count": 39,
   "metadata": {},
   "outputs": [],
   "source": [
    "df1 = assign_nominee_to_artist(df1, \"Best New Artist\")"
   ]
  },
  {
   "cell_type": "markdown",
   "metadata": {},
   "source": [
    "To review the changes we filter `category` for \"Best New Artist\" and check for nulls in the `artist` column. There are now none for this category."
   ]
  },
  {
   "cell_type": "code",
   "execution_count": 40,
   "metadata": {},
   "outputs": [
    {
     "name": "stderr",
     "output_type": "stream",
     "text": [
      "2025-04-08 15:04:59,128 - INFO - root - There are 0 null values in the 'artist' column for 'Best New Artist'.\n"
     ]
    },
    {
     "data": {
      "text/plain": [
       "0"
      ]
     },
     "execution_count": 40,
     "metadata": {},
     "output_type": "execute_result"
    }
   ],
   "source": [
    "log_null_count(df1, \"Best New Artist\")"
   ]
  },
  {
   "cell_type": "markdown",
   "metadata": {},
   "source": [
    "#### Best Small Ensemble Performance (With Or Without Conductor) "
   ]
  },
  {
   "cell_type": "code",
   "execution_count": 41,
   "metadata": {},
   "outputs": [
    {
     "data": {
      "text/html": [
       "<div>\n",
       "<style scoped>\n",
       "    .dataframe tbody tr th:only-of-type {\n",
       "        vertical-align: middle;\n",
       "    }\n",
       "\n",
       "    .dataframe tbody tr th {\n",
       "        vertical-align: top;\n",
       "    }\n",
       "\n",
       "    .dataframe thead th {\n",
       "        text-align: right;\n",
       "    }\n",
       "</style>\n",
       "<table border=\"1\" class=\"dataframe\">\n",
       "  <thead>\n",
       "    <tr style=\"text-align: right;\">\n",
       "      <th></th>\n",
       "      <th>year</th>\n",
       "      <th>title</th>\n",
       "      <th>published_at</th>\n",
       "      <th>updated_at</th>\n",
       "      <th>category</th>\n",
       "      <th>nominee</th>\n",
       "      <th>artist</th>\n",
       "      <th>workers</th>\n",
       "      <th>winner</th>\n",
       "    </tr>\n",
       "  </thead>\n",
       "  <tbody>\n",
       "    <tr>\n",
       "      <th>2382</th>\n",
       "      <td>1999</td>\n",
       "      <td>42nd Annual GRAMMY Awards  (1999)</td>\n",
       "      <td>2017-11-28T00:03:45-08:00</td>\n",
       "      <td>2019-09-10T01:09:02-07:00</td>\n",
       "      <td>Best Small Ensemble Performance (With Or Witho...</td>\n",
       "      <td>Colors Of Love - Works Of Thomas, Stucky, Tave...</td>\n",
       "      <td>None</td>\n",
       "      <td>None</td>\n",
       "      <td>True</td>\n",
       "    </tr>\n",
       "    <tr>\n",
       "      <th>2475</th>\n",
       "      <td>1998</td>\n",
       "      <td>41st Annual GRAMMY Awards  (1998)</td>\n",
       "      <td>2017-11-28T00:03:45-08:00</td>\n",
       "      <td>2019-09-10T01:08:19-07:00</td>\n",
       "      <td>Best Small Ensemble Performance (With Or Witho...</td>\n",
       "      <td>Reich: Music For 18 Musicians</td>\n",
       "      <td>None</td>\n",
       "      <td>None</td>\n",
       "      <td>True</td>\n",
       "    </tr>\n",
       "    <tr>\n",
       "      <th>2570</th>\n",
       "      <td>1997</td>\n",
       "      <td>40th Annual GRAMMY Awards  (1997)</td>\n",
       "      <td>2017-11-28T00:03:45-08:00</td>\n",
       "      <td>2019-09-10T01:07:37-07:00</td>\n",
       "      <td>Best Small Ensemble Performance (With Or Witho...</td>\n",
       "      <td>Hindemith: Kammermusik No. 1 With Finale 1921,...</td>\n",
       "      <td>None</td>\n",
       "      <td>None</td>\n",
       "      <td>True</td>\n",
       "    </tr>\n",
       "    <tr>\n",
       "      <th>2658</th>\n",
       "      <td>1996</td>\n",
       "      <td>39th Annual GRAMMY Awards  (1996)</td>\n",
       "      <td>2017-11-28T00:03:45-08:00</td>\n",
       "      <td>2019-09-10T01:06:11-07:00</td>\n",
       "      <td>Best Small Ensemble Performance (With Or Witho...</td>\n",
       "      <td>Boulez: ...Explosante-Fixe...</td>\n",
       "      <td>None</td>\n",
       "      <td>None</td>\n",
       "      <td>True</td>\n",
       "    </tr>\n",
       "  </tbody>\n",
       "</table>\n",
       "</div>"
      ],
      "text/plain": [
       "      year                              title               published_at  \\\n",
       "2382  1999  42nd Annual GRAMMY Awards  (1999)  2017-11-28T00:03:45-08:00   \n",
       "2475  1998  41st Annual GRAMMY Awards  (1998)  2017-11-28T00:03:45-08:00   \n",
       "2570  1997  40th Annual GRAMMY Awards  (1997)  2017-11-28T00:03:45-08:00   \n",
       "2658  1996  39th Annual GRAMMY Awards  (1996)  2017-11-28T00:03:45-08:00   \n",
       "\n",
       "                     updated_at  \\\n",
       "2382  2019-09-10T01:09:02-07:00   \n",
       "2475  2019-09-10T01:08:19-07:00   \n",
       "2570  2019-09-10T01:07:37-07:00   \n",
       "2658  2019-09-10T01:06:11-07:00   \n",
       "\n",
       "                                               category  \\\n",
       "2382  Best Small Ensemble Performance (With Or Witho...   \n",
       "2475  Best Small Ensemble Performance (With Or Witho...   \n",
       "2570  Best Small Ensemble Performance (With Or Witho...   \n",
       "2658  Best Small Ensemble Performance (With Or Witho...   \n",
       "\n",
       "                                                nominee artist workers  winner  \n",
       "2382  Colors Of Love - Works Of Thomas, Stucky, Tave...   None    None    True  \n",
       "2475                      Reich: Music For 18 Musicians   None    None    True  \n",
       "2570  Hindemith: Kammermusik No. 1 With Finale 1921,...   None    None    True  \n",
       "2658                      Boulez: ...Explosante-Fixe...   None    None    True  "
      ]
     },
     "execution_count": 41,
     "metadata": {},
     "output_type": "execute_result"
    }
   ],
   "source": [
    "filter_rows_column_to_review(df1, \"Best Small Ensemble Performance (With Or Without Conductor)\")"
   ]
  },
  {
   "cell_type": "markdown",
   "metadata": {},
   "source": [
    "It seems in this cases we see that the `nominee` is a record. We are going to input `artist` values based on online information."
   ]
  },
  {
   "cell_type": "code",
   "execution_count": 42,
   "metadata": {},
   "outputs": [
    {
     "data": {
      "text/plain": [
       "[2382, 2475, 2570, 2658]"
      ]
     },
     "execution_count": 42,
     "metadata": {},
     "output_type": "execute_result"
    }
   ],
   "source": [
    "get_indices_list(df1, \"Best Small Ensemble Performance (With Or Without Conductor)\")"
   ]
  },
  {
   "cell_type": "code",
   "execution_count": 43,
   "metadata": {},
   "outputs": [],
   "source": [
    "updates_best_small_essemble={2382:\"Joseph Jennings (conductor) and Chanticleer\", \n",
    "                             2475:\"Steve Reich (conductor), Steve Reich and Musicians\", \n",
    "                             2570:\"Claudio Abbado (conductor), Berliner Philharmonic\", \n",
    "                             2658:\"Pierre Boulez (conductor) and the Ensemble Inter-Contemporain\"\n",
    "\n",
    "}\n",
    "\n",
    "df1 = update_columns(df1, updates=updates_best_small_essemble)"
   ]
  },
  {
   "cell_type": "markdown",
   "metadata": {},
   "source": [
    "To review the changes we filter `category` for \"Best Small Ensemble Performance (With Or Without Conductor)\" and check for nulls in the `artist` column. There are now none for this category.\n"
   ]
  },
  {
   "cell_type": "code",
   "execution_count": 44,
   "metadata": {},
   "outputs": [
    {
     "name": "stderr",
     "output_type": "stream",
     "text": [
      "2025-04-08 15:04:59,199 - INFO - root - There are 0 null values in the 'artist' column for 'Best Small Ensemble Performance (With Or Without Conductor)'.\n"
     ]
    },
    {
     "data": {
      "text/plain": [
       "0"
      ]
     },
     "execution_count": 44,
     "metadata": {},
     "output_type": "execute_result"
    }
   ],
   "source": [
    "log_null_count(df1, \"Best Small Ensemble Performance (With Or Without Conductor)\")"
   ]
  },
  {
   "cell_type": "markdown",
   "metadata": {},
   "source": [
    "#### Best Classical Vocal Performance  "
   ]
  },
  {
   "cell_type": "code",
   "execution_count": 45,
   "metadata": {},
   "outputs": [
    {
     "data": {
      "text/html": [
       "<div>\n",
       "<style scoped>\n",
       "    .dataframe tbody tr th:only-of-type {\n",
       "        vertical-align: middle;\n",
       "    }\n",
       "\n",
       "    .dataframe tbody tr th {\n",
       "        vertical-align: top;\n",
       "    }\n",
       "\n",
       "    .dataframe thead th {\n",
       "        text-align: right;\n",
       "    }\n",
       "</style>\n",
       "<table border=\"1\" class=\"dataframe\">\n",
       "  <thead>\n",
       "    <tr style=\"text-align: right;\">\n",
       "      <th></th>\n",
       "      <th>year</th>\n",
       "      <th>title</th>\n",
       "      <th>published_at</th>\n",
       "      <th>updated_at</th>\n",
       "      <th>category</th>\n",
       "      <th>nominee</th>\n",
       "      <th>artist</th>\n",
       "      <th>workers</th>\n",
       "      <th>winner</th>\n",
       "    </tr>\n",
       "  </thead>\n",
       "  <tbody>\n",
       "    <tr>\n",
       "      <th>1213</th>\n",
       "      <td>2010</td>\n",
       "      <td>53rd Annual GRAMMY Awards  (2010)</td>\n",
       "      <td>2017-11-28T00:03:45-08:00</td>\n",
       "      <td>2019-09-10T01:08:19-07:00</td>\n",
       "      <td>Best Classical Vocal Performance</td>\n",
       "      <td>Sacrificium</td>\n",
       "      <td>None</td>\n",
       "      <td>Cecilia Bartoli, soloist; Arend Prohmann, prod...</td>\n",
       "      <td>True</td>\n",
       "    </tr>\n",
       "    <tr>\n",
       "      <th>1322</th>\n",
       "      <td>2009</td>\n",
       "      <td>52nd Annual GRAMMY Awards  (2009)</td>\n",
       "      <td>2017-11-28T00:03:45-08:00</td>\n",
       "      <td>2019-09-10T01:08:19-07:00</td>\n",
       "      <td>Best Classical Vocal Performance</td>\n",
       "      <td>Verismo Arias</td>\n",
       "      <td>None</td>\n",
       "      <td>Renée Fleming, soloist; David Frost, producer;...</td>\n",
       "      <td>True</td>\n",
       "    </tr>\n",
       "    <tr>\n",
       "      <th>1433</th>\n",
       "      <td>2008</td>\n",
       "      <td>51st Annual GRAMMY Awards  (2008)</td>\n",
       "      <td>2017-11-28T00:03:45-08:00</td>\n",
       "      <td>2019-09-10T01:07:37-07:00</td>\n",
       "      <td>Best Classical Vocal Performance</td>\n",
       "      <td>Corigliano: Mr. Tambourine Man: Seven Poems Of...</td>\n",
       "      <td>None</td>\n",
       "      <td>Hila Plitmann, soloist; John Corigliano &amp; Tim ...</td>\n",
       "      <td>True</td>\n",
       "    </tr>\n",
       "    <tr>\n",
       "      <th>1543</th>\n",
       "      <td>2007</td>\n",
       "      <td>50th Annual GRAMMY Awards  (2007)</td>\n",
       "      <td>2017-11-28T00:03:45-08:00</td>\n",
       "      <td>2019-09-10T01:06:59-07:00</td>\n",
       "      <td>Best Classical Vocal Performance</td>\n",
       "      <td>Lorraine Hunt Lieberson Sings Peter Lieberson:...</td>\n",
       "      <td>None</td>\n",
       "      <td>Lorraine Hunt Lieberson, soloist; Dirk Sobotka...</td>\n",
       "      <td>True</td>\n",
       "    </tr>\n",
       "    <tr>\n",
       "      <th>1654</th>\n",
       "      <td>2006</td>\n",
       "      <td>49th Annual GRAMMY Awards  (2006)</td>\n",
       "      <td>2017-11-28T00:03:45-08:00</td>\n",
       "      <td>2019-09-10T01:11:09-07:00</td>\n",
       "      <td>Best Classical Vocal Performance</td>\n",
       "      <td>Rilke Songs</td>\n",
       "      <td>None</td>\n",
       "      <td>Lorraine Hunt Lieberson, soloist</td>\n",
       "      <td>True</td>\n",
       "    </tr>\n",
       "    <tr>\n",
       "      <th>1762</th>\n",
       "      <td>2005</td>\n",
       "      <td>48th Annual GRAMMY Awards  (2005)</td>\n",
       "      <td>2017-11-28T00:03:45-08:00</td>\n",
       "      <td>2017-11-28T00:03:45-08:00</td>\n",
       "      <td>Best Classical Vocal Performance</td>\n",
       "      <td>Bach: Cantatas</td>\n",
       "      <td>None</td>\n",
       "      <td>Thomas Quasthoff, soloist; Christopher Alder, ...</td>\n",
       "      <td>True</td>\n",
       "    </tr>\n",
       "    <tr>\n",
       "      <th>1871</th>\n",
       "      <td>2004</td>\n",
       "      <td>47th Annual GRAMMY Awards  (2004)</td>\n",
       "      <td>2017-11-28T00:03:45-08:00</td>\n",
       "      <td>2019-09-10T01:08:19-07:00</td>\n",
       "      <td>Best Classical Vocal Performance</td>\n",
       "      <td>Ives: Songs (The Things Our Fathers Loved; The...</td>\n",
       "      <td>None</td>\n",
       "      <td>Susan Graham, soloist</td>\n",
       "      <td>True</td>\n",
       "    </tr>\n",
       "    <tr>\n",
       "      <th>1977</th>\n",
       "      <td>2003</td>\n",
       "      <td>46th Annual GRAMMY Awards  (2003)</td>\n",
       "      <td>2017-11-28T00:03:45-08:00</td>\n",
       "      <td>2019-09-10T01:07:37-07:00</td>\n",
       "      <td>Best Classical Vocal Performance</td>\n",
       "      <td>Schubert: Lieder With Orchestra</td>\n",
       "      <td>None</td>\n",
       "      <td>Thomas Quasthoff &amp; Anne Sofie von Otter, soloi...</td>\n",
       "      <td>True</td>\n",
       "    </tr>\n",
       "    <tr>\n",
       "      <th>2084</th>\n",
       "      <td>2002</td>\n",
       "      <td>45th Annual GRAMMY Awards  (2002)</td>\n",
       "      <td>2017-11-28T00:03:45-08:00</td>\n",
       "      <td>2019-09-10T01:06:59-07:00</td>\n",
       "      <td>Best Classical Vocal Performance</td>\n",
       "      <td>Bel Canto - Bellini, Donizetti &amp; Rossini</td>\n",
       "      <td>None</td>\n",
       "      <td>Erik Smith, producer; Neil Hutchinson, Tom Laz...</td>\n",
       "      <td>True</td>\n",
       "    </tr>\n",
       "    <tr>\n",
       "      <th>2183</th>\n",
       "      <td>2001</td>\n",
       "      <td>44th Annual GRAMMY Awards  (2001)</td>\n",
       "      <td>2017-11-28T00:03:45-08:00</td>\n",
       "      <td>2019-09-10T01:06:11-07:00</td>\n",
       "      <td>Best Classical Vocal Performance</td>\n",
       "      <td>Dreams &amp; Fables - Gluck Italian Arias: Tremo F...</td>\n",
       "      <td>None</td>\n",
       "      <td>Christopher Raeburn, producer; Jonathan Stokes...</td>\n",
       "      <td>True</td>\n",
       "    </tr>\n",
       "    <tr>\n",
       "      <th>2286</th>\n",
       "      <td>2000</td>\n",
       "      <td>43rd Annual GRAMMY Awards  (2000)</td>\n",
       "      <td>2017-11-28T00:03:45-08:00</td>\n",
       "      <td>2019-09-10T01:11:09-07:00</td>\n",
       "      <td>Best Classical Vocal Performance</td>\n",
       "      <td>The Vivaldi Album - Dell'aura al sussurrar, Al...</td>\n",
       "      <td>None</td>\n",
       "      <td>Christopher Raeburn, producer; Jonathan Stokes...</td>\n",
       "      <td>True</td>\n",
       "    </tr>\n",
       "    <tr>\n",
       "      <th>2383</th>\n",
       "      <td>1999</td>\n",
       "      <td>42nd Annual GRAMMY Awards  (1999)</td>\n",
       "      <td>2017-11-28T00:03:45-08:00</td>\n",
       "      <td>2019-09-10T01:09:02-07:00</td>\n",
       "      <td>Best Classical Vocal Performance</td>\n",
       "      <td>Mahler: Des Knaben Wunderhorn</td>\n",
       "      <td>None</td>\n",
       "      <td>(Berliner Philharmonic)</td>\n",
       "      <td>True</td>\n",
       "    </tr>\n",
       "    <tr>\n",
       "      <th>2476</th>\n",
       "      <td>1998</td>\n",
       "      <td>41st Annual GRAMMY Awards  (1998)</td>\n",
       "      <td>2017-11-28T00:03:45-08:00</td>\n",
       "      <td>2019-09-10T01:08:19-07:00</td>\n",
       "      <td>Best Classical Vocal Performance</td>\n",
       "      <td>The Beautiful Voice - Works Of Charpentier, Go...</td>\n",
       "      <td>None</td>\n",
       "      <td>(English Chamber Orchestra)</td>\n",
       "      <td>True</td>\n",
       "    </tr>\n",
       "    <tr>\n",
       "      <th>2571</th>\n",
       "      <td>1997</td>\n",
       "      <td>40th Annual GRAMMY Awards  (1997)</td>\n",
       "      <td>2017-11-28T00:03:45-08:00</td>\n",
       "      <td>2019-09-10T01:07:37-07:00</td>\n",
       "      <td>Best Classical Vocal Performance</td>\n",
       "      <td>An Italian Songbook - Works Of Bellini, Donize...</td>\n",
       "      <td>None</td>\n",
       "      <td>None</td>\n",
       "      <td>True</td>\n",
       "    </tr>\n",
       "    <tr>\n",
       "      <th>2659</th>\n",
       "      <td>1996</td>\n",
       "      <td>39th Annual GRAMMY Awards  (1996)</td>\n",
       "      <td>2017-11-28T00:03:45-08:00</td>\n",
       "      <td>2019-09-10T01:06:11-07:00</td>\n",
       "      <td>Best Classical Vocal Performance</td>\n",
       "      <td>Opera Arias - Works Of Mozart, Wagner, Borodin</td>\n",
       "      <td>None</td>\n",
       "      <td>(Metropolitan Opera Orchestra)</td>\n",
       "      <td>True</td>\n",
       "    </tr>\n",
       "    <tr>\n",
       "      <th>2723</th>\n",
       "      <td>1995</td>\n",
       "      <td>38th Annual GRAMMY Awards  (1995)</td>\n",
       "      <td>2017-11-28T00:03:45-08:00</td>\n",
       "      <td>2019-09-10T01:11:09-07:00</td>\n",
       "      <td>Best Classical Vocal Performance</td>\n",
       "      <td>The Echoing Air - The Music Of Henry Purcell</td>\n",
       "      <td>None</td>\n",
       "      <td>(Academy Of Ancient Music)</td>\n",
       "      <td>True</td>\n",
       "    </tr>\n",
       "    <tr>\n",
       "      <th>2834</th>\n",
       "      <td>1994</td>\n",
       "      <td>37th Annual GRAMMY Awards  (1994)</td>\n",
       "      <td>2017-11-28T00:03:45-08:00</td>\n",
       "      <td>2019-09-10T01:09:02-07:00</td>\n",
       "      <td>Best Classical Vocal Performance</td>\n",
       "      <td>The Impatient Lover - Italian Songs By Beethov...</td>\n",
       "      <td>None</td>\n",
       "      <td>None</td>\n",
       "      <td>True</td>\n",
       "    </tr>\n",
       "    <tr>\n",
       "      <th>2915</th>\n",
       "      <td>1993</td>\n",
       "      <td>36th Annual GRAMMY Awards  (1993)</td>\n",
       "      <td>2017-11-28T00:03:45-08:00</td>\n",
       "      <td>2019-09-10T01:08:19-07:00</td>\n",
       "      <td>Best Classical Vocal Performance</td>\n",
       "      <td>The Art Of Arleen Auger (Works Of Larsen, Purc...</td>\n",
       "      <td>None</td>\n",
       "      <td>None</td>\n",
       "      <td>True</td>\n",
       "    </tr>\n",
       "    <tr>\n",
       "      <th>2999</th>\n",
       "      <td>1992</td>\n",
       "      <td>35th Annual GRAMMY Awards  (1992)</td>\n",
       "      <td>2017-11-28T00:03:45-08:00</td>\n",
       "      <td>2019-09-10T01:07:37-07:00</td>\n",
       "      <td>Best Classical Vocal Performance</td>\n",
       "      <td>Kathleen Battle At Carnegie Hall (Handel, Moza...</td>\n",
       "      <td>None</td>\n",
       "      <td>None</td>\n",
       "      <td>True</td>\n",
       "    </tr>\n",
       "    <tr>\n",
       "      <th>3154</th>\n",
       "      <td>1990</td>\n",
       "      <td>33rd Annual GRAMMY Awards  (1990)</td>\n",
       "      <td>2017-11-28T00:03:45-08:00</td>\n",
       "      <td>2019-09-10T01:11:09-07:00</td>\n",
       "      <td>Best Classical Vocal Performance</td>\n",
       "      <td>Carreras, Domingo, Pavarotti In Concert</td>\n",
       "      <td>None</td>\n",
       "      <td>(Orchestra Del Maggio Musicale)</td>\n",
       "      <td>True</td>\n",
       "    </tr>\n",
       "  </tbody>\n",
       "</table>\n",
       "</div>"
      ],
      "text/plain": [
       "      year                              title               published_at  \\\n",
       "1213  2010  53rd Annual GRAMMY Awards  (2010)  2017-11-28T00:03:45-08:00   \n",
       "1322  2009  52nd Annual GRAMMY Awards  (2009)  2017-11-28T00:03:45-08:00   \n",
       "1433  2008  51st Annual GRAMMY Awards  (2008)  2017-11-28T00:03:45-08:00   \n",
       "1543  2007  50th Annual GRAMMY Awards  (2007)  2017-11-28T00:03:45-08:00   \n",
       "1654  2006  49th Annual GRAMMY Awards  (2006)  2017-11-28T00:03:45-08:00   \n",
       "1762  2005  48th Annual GRAMMY Awards  (2005)  2017-11-28T00:03:45-08:00   \n",
       "1871  2004  47th Annual GRAMMY Awards  (2004)  2017-11-28T00:03:45-08:00   \n",
       "1977  2003  46th Annual GRAMMY Awards  (2003)  2017-11-28T00:03:45-08:00   \n",
       "2084  2002  45th Annual GRAMMY Awards  (2002)  2017-11-28T00:03:45-08:00   \n",
       "2183  2001  44th Annual GRAMMY Awards  (2001)  2017-11-28T00:03:45-08:00   \n",
       "2286  2000  43rd Annual GRAMMY Awards  (2000)  2017-11-28T00:03:45-08:00   \n",
       "2383  1999  42nd Annual GRAMMY Awards  (1999)  2017-11-28T00:03:45-08:00   \n",
       "2476  1998  41st Annual GRAMMY Awards  (1998)  2017-11-28T00:03:45-08:00   \n",
       "2571  1997  40th Annual GRAMMY Awards  (1997)  2017-11-28T00:03:45-08:00   \n",
       "2659  1996  39th Annual GRAMMY Awards  (1996)  2017-11-28T00:03:45-08:00   \n",
       "2723  1995  38th Annual GRAMMY Awards  (1995)  2017-11-28T00:03:45-08:00   \n",
       "2834  1994  37th Annual GRAMMY Awards  (1994)  2017-11-28T00:03:45-08:00   \n",
       "2915  1993  36th Annual GRAMMY Awards  (1993)  2017-11-28T00:03:45-08:00   \n",
       "2999  1992  35th Annual GRAMMY Awards  (1992)  2017-11-28T00:03:45-08:00   \n",
       "3154  1990  33rd Annual GRAMMY Awards  (1990)  2017-11-28T00:03:45-08:00   \n",
       "\n",
       "                     updated_at                          category  \\\n",
       "1213  2019-09-10T01:08:19-07:00  Best Classical Vocal Performance   \n",
       "1322  2019-09-10T01:08:19-07:00  Best Classical Vocal Performance   \n",
       "1433  2019-09-10T01:07:37-07:00  Best Classical Vocal Performance   \n",
       "1543  2019-09-10T01:06:59-07:00  Best Classical Vocal Performance   \n",
       "1654  2019-09-10T01:11:09-07:00  Best Classical Vocal Performance   \n",
       "1762  2017-11-28T00:03:45-08:00  Best Classical Vocal Performance   \n",
       "1871  2019-09-10T01:08:19-07:00  Best Classical Vocal Performance   \n",
       "1977  2019-09-10T01:07:37-07:00  Best Classical Vocal Performance   \n",
       "2084  2019-09-10T01:06:59-07:00  Best Classical Vocal Performance   \n",
       "2183  2019-09-10T01:06:11-07:00  Best Classical Vocal Performance   \n",
       "2286  2019-09-10T01:11:09-07:00  Best Classical Vocal Performance   \n",
       "2383  2019-09-10T01:09:02-07:00  Best Classical Vocal Performance   \n",
       "2476  2019-09-10T01:08:19-07:00  Best Classical Vocal Performance   \n",
       "2571  2019-09-10T01:07:37-07:00  Best Classical Vocal Performance   \n",
       "2659  2019-09-10T01:06:11-07:00  Best Classical Vocal Performance   \n",
       "2723  2019-09-10T01:11:09-07:00  Best Classical Vocal Performance   \n",
       "2834  2019-09-10T01:09:02-07:00  Best Classical Vocal Performance   \n",
       "2915  2019-09-10T01:08:19-07:00  Best Classical Vocal Performance   \n",
       "2999  2019-09-10T01:07:37-07:00  Best Classical Vocal Performance   \n",
       "3154  2019-09-10T01:11:09-07:00  Best Classical Vocal Performance   \n",
       "\n",
       "                                                nominee artist  \\\n",
       "1213                                        Sacrificium   None   \n",
       "1322                                      Verismo Arias   None   \n",
       "1433  Corigliano: Mr. Tambourine Man: Seven Poems Of...   None   \n",
       "1543  Lorraine Hunt Lieberson Sings Peter Lieberson:...   None   \n",
       "1654                                        Rilke Songs   None   \n",
       "1762                                     Bach: Cantatas   None   \n",
       "1871  Ives: Songs (The Things Our Fathers Loved; The...   None   \n",
       "1977                    Schubert: Lieder With Orchestra   None   \n",
       "2084           Bel Canto - Bellini, Donizetti & Rossini   None   \n",
       "2183  Dreams & Fables - Gluck Italian Arias: Tremo F...   None   \n",
       "2286  The Vivaldi Album - Dell'aura al sussurrar, Al...   None   \n",
       "2383                      Mahler: Des Knaben Wunderhorn   None   \n",
       "2476  The Beautiful Voice - Works Of Charpentier, Go...   None   \n",
       "2571  An Italian Songbook - Works Of Bellini, Donize...   None   \n",
       "2659     Opera Arias - Works Of Mozart, Wagner, Borodin   None   \n",
       "2723       The Echoing Air - The Music Of Henry Purcell   None   \n",
       "2834  The Impatient Lover - Italian Songs By Beethov...   None   \n",
       "2915  The Art Of Arleen Auger (Works Of Larsen, Purc...   None   \n",
       "2999  Kathleen Battle At Carnegie Hall (Handel, Moza...   None   \n",
       "3154            Carreras, Domingo, Pavarotti In Concert   None   \n",
       "\n",
       "                                                workers  winner  \n",
       "1213  Cecilia Bartoli, soloist; Arend Prohmann, prod...    True  \n",
       "1322  Renée Fleming, soloist; David Frost, producer;...    True  \n",
       "1433  Hila Plitmann, soloist; John Corigliano & Tim ...    True  \n",
       "1543  Lorraine Hunt Lieberson, soloist; Dirk Sobotka...    True  \n",
       "1654                   Lorraine Hunt Lieberson, soloist    True  \n",
       "1762  Thomas Quasthoff, soloist; Christopher Alder, ...    True  \n",
       "1871                              Susan Graham, soloist    True  \n",
       "1977  Thomas Quasthoff & Anne Sofie von Otter, soloi...    True  \n",
       "2084  Erik Smith, producer; Neil Hutchinson, Tom Laz...    True  \n",
       "2183  Christopher Raeburn, producer; Jonathan Stokes...    True  \n",
       "2286  Christopher Raeburn, producer; Jonathan Stokes...    True  \n",
       "2383                            (Berliner Philharmonic)    True  \n",
       "2476                        (English Chamber Orchestra)    True  \n",
       "2571                                               None    True  \n",
       "2659                     (Metropolitan Opera Orchestra)    True  \n",
       "2723                         (Academy Of Ancient Music)    True  \n",
       "2834                                               None    True  \n",
       "2915                                               None    True  \n",
       "2999                                               None    True  \n",
       "3154                    (Orchestra Del Maggio Musicale)    True  "
      ]
     },
     "execution_count": 45,
     "metadata": {},
     "output_type": "execute_result"
    }
   ],
   "source": [
    "filter_rows_column_to_review(df1, \"Best Classical Vocal Performance\")"
   ]
  },
  {
   "cell_type": "markdown",
   "metadata": {},
   "source": [
    "It seems in this cases we see that the `nominee` is a record. We are going to input `artist` values based on online information."
   ]
  },
  {
   "cell_type": "code",
   "execution_count": 46,
   "metadata": {},
   "outputs": [
    {
     "data": {
      "text/plain": [
       "[1213,\n",
       " 1322,\n",
       " 1433,\n",
       " 1543,\n",
       " 1654,\n",
       " 1762,\n",
       " 1871,\n",
       " 1977,\n",
       " 2084,\n",
       " 2183,\n",
       " 2286,\n",
       " 2383,\n",
       " 2476,\n",
       " 2571,\n",
       " 2659,\n",
       " 2723,\n",
       " 2834,\n",
       " 2915,\n",
       " 2999,\n",
       " 3154]"
      ]
     },
     "execution_count": 46,
     "metadata": {},
     "output_type": "execute_result"
    }
   ],
   "source": [
    "get_indices_list(df1, \"Best Classical Vocal Performance\")"
   ]
  },
  {
   "cell_type": "code",
   "execution_count": 47,
   "metadata": {},
   "outputs": [],
   "source": [
    "updates_best_vocal_classical_per={2382:\"Joseph Jennings (conductor) and Chanticleer\", \n",
    "                             2475:\"Steve Reich (conductor), Steve Reich and Musicians\", \n",
    "                             2570:\"Claudio Abbado (conductor), Berliner Philharmonic\", \n",
    "                             2658:\"Pierre Boulez (conductor) and the Ensemble Inter-Contemporain\"\n",
    "\n",
    "}\n",
    "\n",
    "df1 = update_columns(df1, updates=updates_best_vocal_classical_per)"
   ]
  },
  {
   "cell_type": "markdown",
   "metadata": {},
   "source": [
    "To review the changes we filter `category` for \"Best Small Ensemble Performance (With Or Without Conductor)\" and check for nulls in the `artist` column. There are now none for this category.\n"
   ]
  },
  {
   "cell_type": "code",
   "execution_count": 48,
   "metadata": {},
   "outputs": [
    {
     "name": "stderr",
     "output_type": "stream",
     "text": [
      "2025-04-08 15:04:59,273 - INFO - root - There are 0 null values in the 'artist' column for 'Best Small Ensemble Performance (With Or Without Conductor)'.\n"
     ]
    },
    {
     "data": {
      "text/plain": [
       "0"
      ]
     },
     "execution_count": 48,
     "metadata": {},
     "output_type": "execute_result"
    }
   ],
   "source": [
    "log_null_count(df1, \"Best Small Ensemble Performance (With Or Without Conductor)\")"
   ]
  },
  {
   "cell_type": "markdown",
   "metadata": {},
   "source": [
    "#### Best Classical Performance - Instrumental Soloist Or Soloists (With Or Without Orchestra)"
   ]
  },
  {
   "cell_type": "code",
   "execution_count": 49,
   "metadata": {},
   "outputs": [
    {
     "data": {
      "text/html": [
       "<div>\n",
       "<style scoped>\n",
       "    .dataframe tbody tr th:only-of-type {\n",
       "        vertical-align: middle;\n",
       "    }\n",
       "\n",
       "    .dataframe tbody tr th {\n",
       "        vertical-align: top;\n",
       "    }\n",
       "\n",
       "    .dataframe thead th {\n",
       "        text-align: right;\n",
       "    }\n",
       "</style>\n",
       "<table border=\"1\" class=\"dataframe\">\n",
       "  <thead>\n",
       "    <tr style=\"text-align: right;\">\n",
       "      <th></th>\n",
       "      <th>year</th>\n",
       "      <th>title</th>\n",
       "      <th>published_at</th>\n",
       "      <th>updated_at</th>\n",
       "      <th>category</th>\n",
       "      <th>nominee</th>\n",
       "      <th>artist</th>\n",
       "      <th>workers</th>\n",
       "      <th>winner</th>\n",
       "    </tr>\n",
       "  </thead>\n",
       "  <tbody>\n",
       "    <tr>\n",
       "      <th>3441</th>\n",
       "      <td>1986</td>\n",
       "      <td>29th Annual GRAMMY Awards  (1986)</td>\n",
       "      <td>2017-11-28T00:03:45-08:00</td>\n",
       "      <td>2019-09-10T01:06:59-07:00</td>\n",
       "      <td>Best Classical Performance - Instrumental Solo...</td>\n",
       "      <td>Horowitz - The Studio Recordings, New York 1985</td>\n",
       "      <td>None</td>\n",
       "      <td>None</td>\n",
       "      <td>True</td>\n",
       "    </tr>\n",
       "    <tr>\n",
       "      <th>4312</th>\n",
       "      <td>1970</td>\n",
       "      <td>13th Annual GRAMMY Awards  (1970)</td>\n",
       "      <td>2017-11-28T00:03:45-08:00</td>\n",
       "      <td>2019-09-10T01:06:59-07:00</td>\n",
       "      <td>Best Classical Performance - Instrumental Solo...</td>\n",
       "      <td>Brahms: Double Concerto (Concerto In A Minor F...</td>\n",
       "      <td>None</td>\n",
       "      <td>(Cleveland Orchestra)</td>\n",
       "      <td>True</td>\n",
       "    </tr>\n",
       "    <tr>\n",
       "      <th>4358</th>\n",
       "      <td>1969</td>\n",
       "      <td>12th Annual GRAMMY Awards  (1969)</td>\n",
       "      <td>2017-11-28T00:03:45-08:00</td>\n",
       "      <td>2019-09-10T01:06:11-07:00</td>\n",
       "      <td>Best Classical Performance - Instrumental Solo...</td>\n",
       "      <td>Switched-On-Bach</td>\n",
       "      <td>None</td>\n",
       "      <td>None</td>\n",
       "      <td>True</td>\n",
       "    </tr>\n",
       "    <tr>\n",
       "      <th>4446</th>\n",
       "      <td>1967</td>\n",
       "      <td>10th Annual GRAMMY Awards  (1967)</td>\n",
       "      <td>2017-11-28T00:03:45-08:00</td>\n",
       "      <td>2019-09-10T01:09:02-07:00</td>\n",
       "      <td>Best Classical Performance - Instrumental Solo...</td>\n",
       "      <td>Horowitz In Concert (Haydn, Schumann, Scriabin...</td>\n",
       "      <td>None</td>\n",
       "      <td>None</td>\n",
       "      <td>True</td>\n",
       "    </tr>\n",
       "    <tr>\n",
       "      <th>4490</th>\n",
       "      <td>1966</td>\n",
       "      <td>9th Annual GRAMMY Awards  (1966)</td>\n",
       "      <td>2017-11-28T00:03:45-08:00</td>\n",
       "      <td>2019-09-10T01:07:37-07:00</td>\n",
       "      <td>Best Classical Performance - Instrumental Solo...</td>\n",
       "      <td>Baroque Guitar (Works Of Bach, Sanz, Weiss, Etc.)</td>\n",
       "      <td>None</td>\n",
       "      <td>None</td>\n",
       "      <td>True</td>\n",
       "    </tr>\n",
       "  </tbody>\n",
       "</table>\n",
       "</div>"
      ],
      "text/plain": [
       "      year                              title               published_at  \\\n",
       "3441  1986  29th Annual GRAMMY Awards  (1986)  2017-11-28T00:03:45-08:00   \n",
       "4312  1970  13th Annual GRAMMY Awards  (1970)  2017-11-28T00:03:45-08:00   \n",
       "4358  1969  12th Annual GRAMMY Awards  (1969)  2017-11-28T00:03:45-08:00   \n",
       "4446  1967  10th Annual GRAMMY Awards  (1967)  2017-11-28T00:03:45-08:00   \n",
       "4490  1966   9th Annual GRAMMY Awards  (1966)  2017-11-28T00:03:45-08:00   \n",
       "\n",
       "                     updated_at  \\\n",
       "3441  2019-09-10T01:06:59-07:00   \n",
       "4312  2019-09-10T01:06:59-07:00   \n",
       "4358  2019-09-10T01:06:11-07:00   \n",
       "4446  2019-09-10T01:09:02-07:00   \n",
       "4490  2019-09-10T01:07:37-07:00   \n",
       "\n",
       "                                               category  \\\n",
       "3441  Best Classical Performance - Instrumental Solo...   \n",
       "4312  Best Classical Performance - Instrumental Solo...   \n",
       "4358  Best Classical Performance - Instrumental Solo...   \n",
       "4446  Best Classical Performance - Instrumental Solo...   \n",
       "4490  Best Classical Performance - Instrumental Solo...   \n",
       "\n",
       "                                                nominee artist  \\\n",
       "3441    Horowitz - The Studio Recordings, New York 1985   None   \n",
       "4312  Brahms: Double Concerto (Concerto In A Minor F...   None   \n",
       "4358                                   Switched-On-Bach   None   \n",
       "4446  Horowitz In Concert (Haydn, Schumann, Scriabin...   None   \n",
       "4490  Baroque Guitar (Works Of Bach, Sanz, Weiss, Etc.)   None   \n",
       "\n",
       "                    workers  winner  \n",
       "3441                   None    True  \n",
       "4312  (Cleveland Orchestra)    True  \n",
       "4358                   None    True  \n",
       "4446                   None    True  \n",
       "4490                   None    True  "
      ]
     },
     "execution_count": 49,
     "metadata": {},
     "output_type": "execute_result"
    }
   ],
   "source": [
    "filter_rows_column_to_review(df1, \"Best Classical Performance - Instrumental Soloist Or Soloists (With Or Without Orchestra)\")"
   ]
  },
  {
   "cell_type": "markdown",
   "metadata": {},
   "source": [
    "It seems in this cases we see that the `nominee` is a record. We are going to input `artist` values based on online information."
   ]
  },
  {
   "cell_type": "code",
   "execution_count": 50,
   "metadata": {},
   "outputs": [
    {
     "data": {
      "text/plain": [
       "[3441, 4312, 4358, 4446, 4490]"
      ]
     },
     "execution_count": 50,
     "metadata": {},
     "output_type": "execute_result"
    }
   ],
   "source": [
    "get_indices_list(df1, \"Best Classical Performance - Instrumental Soloist Or Soloists (With Or Without Orchestra)\")"
   ]
  },
  {
   "cell_type": "code",
   "execution_count": 51,
   "metadata": {},
   "outputs": [],
   "source": [
    "updates_best_soloist={3441: \"Vladimir Horowitz\", \n",
    "                    4312:\"Cleveland Orchestra\", \n",
    "                    4358: \"Wendy Carlos\", \n",
    "                    4446: \"Vladimir Horowitz\", \n",
    "                    4490: \"Julian Bream\"\n",
    "\n",
    "}\n",
    "\n",
    "df1 = update_columns(df1, updates=updates_best_soloist)"
   ]
  },
  {
   "cell_type": "markdown",
   "metadata": {},
   "source": [
    "To review the changes we filter `category` for \"Best Small Ensemble Performance (With Or Without Conductor)\" and check for nulls in the `artist` column. There are now none for this category.\n"
   ]
  },
  {
   "cell_type": "code",
   "execution_count": 52,
   "metadata": {},
   "outputs": [
    {
     "name": "stderr",
     "output_type": "stream",
     "text": [
      "2025-04-08 15:04:59,334 - INFO - root - There are 0 null values in the 'artist' column for 'Best Classical Performance - Instrumental Soloist Or Soloists (With Or Without Orchestra)'.\n"
     ]
    },
    {
     "data": {
      "text/plain": [
       "0"
      ]
     },
     "execution_count": 52,
     "metadata": {},
     "output_type": "execute_result"
    }
   ],
   "source": [
    "log_null_count(df1, \"Best Classical Performance - Instrumental Soloist Or Soloists (With Or Without Orchestra)\")"
   ]
  },
  {
   "cell_type": "markdown",
   "metadata": {},
   "source": [
    "#### Most Promising New Classical Recording Artist"
   ]
  },
  {
   "cell_type": "code",
   "execution_count": 53,
   "metadata": {},
   "outputs": [
    {
     "data": {
      "text/html": [
       "<div>\n",
       "<style scoped>\n",
       "    .dataframe tbody tr th:only-of-type {\n",
       "        vertical-align: middle;\n",
       "    }\n",
       "\n",
       "    .dataframe tbody tr th {\n",
       "        vertical-align: top;\n",
       "    }\n",
       "\n",
       "    .dataframe thead th {\n",
       "        text-align: right;\n",
       "    }\n",
       "</style>\n",
       "<table border=\"1\" class=\"dataframe\">\n",
       "  <thead>\n",
       "    <tr style=\"text-align: right;\">\n",
       "      <th></th>\n",
       "      <th>year</th>\n",
       "      <th>title</th>\n",
       "      <th>published_at</th>\n",
       "      <th>updated_at</th>\n",
       "      <th>category</th>\n",
       "      <th>nominee</th>\n",
       "      <th>artist</th>\n",
       "      <th>workers</th>\n",
       "      <th>winner</th>\n",
       "    </tr>\n",
       "  </thead>\n",
       "  <tbody>\n",
       "    <tr>\n",
       "      <th>4540</th>\n",
       "      <td>1965</td>\n",
       "      <td>8th Annual GRAMMY Awards  (1965)</td>\n",
       "      <td>2017-11-28T00:03:45-08:00</td>\n",
       "      <td>2019-09-10T01:06:59-07:00</td>\n",
       "      <td>Most Promising New Classical Recording Artist</td>\n",
       "      <td>Bach: Goldberg Variations</td>\n",
       "      <td>None</td>\n",
       "      <td>None</td>\n",
       "      <td>True</td>\n",
       "    </tr>\n",
       "    <tr>\n",
       "      <th>4586</th>\n",
       "      <td>1964</td>\n",
       "      <td>7th Annual GRAMMY Awards  (1964)</td>\n",
       "      <td>2017-11-28T00:03:45-08:00</td>\n",
       "      <td>2019-09-10T01:06:11-07:00</td>\n",
       "      <td>Most Promising New Classical Recording Artist</td>\n",
       "      <td>The Age Of Bel Canto: Operatic Scenes (Boyngne...</td>\n",
       "      <td>None</td>\n",
       "      <td>None</td>\n",
       "      <td>True</td>\n",
       "    </tr>\n",
       "    <tr>\n",
       "      <th>4616</th>\n",
       "      <td>1963</td>\n",
       "      <td>6th Annual GRAMMY Awards  (1963)</td>\n",
       "      <td>2017-11-28T00:03:45-08:00</td>\n",
       "      <td>2019-09-10T01:11:09-07:00</td>\n",
       "      <td>Most Promising New Classical Recording Artist</td>\n",
       "      <td>Liszt: Concerto No. 1 For Piano &amp; Orchestra (B...</td>\n",
       "      <td>None</td>\n",
       "      <td>None</td>\n",
       "      <td>True</td>\n",
       "    </tr>\n",
       "  </tbody>\n",
       "</table>\n",
       "</div>"
      ],
      "text/plain": [
       "      year                             title               published_at  \\\n",
       "4540  1965  8th Annual GRAMMY Awards  (1965)  2017-11-28T00:03:45-08:00   \n",
       "4586  1964  7th Annual GRAMMY Awards  (1964)  2017-11-28T00:03:45-08:00   \n",
       "4616  1963  6th Annual GRAMMY Awards  (1963)  2017-11-28T00:03:45-08:00   \n",
       "\n",
       "                     updated_at  \\\n",
       "4540  2019-09-10T01:06:59-07:00   \n",
       "4586  2019-09-10T01:06:11-07:00   \n",
       "4616  2019-09-10T01:11:09-07:00   \n",
       "\n",
       "                                           category  \\\n",
       "4540  Most Promising New Classical Recording Artist   \n",
       "4586  Most Promising New Classical Recording Artist   \n",
       "4616  Most Promising New Classical Recording Artist   \n",
       "\n",
       "                                                nominee artist workers  winner  \n",
       "4540                          Bach: Goldberg Variations   None    None    True  \n",
       "4586  The Age Of Bel Canto: Operatic Scenes (Boyngne...   None    None    True  \n",
       "4616  Liszt: Concerto No. 1 For Piano & Orchestra (B...   None    None    True  "
      ]
     },
     "execution_count": 53,
     "metadata": {},
     "output_type": "execute_result"
    }
   ],
   "source": [
    "filter_rows_column_to_review(df1, \"Most Promising New Classical Recording Artist\")"
   ]
  },
  {
   "cell_type": "markdown",
   "metadata": {},
   "source": [
    "It seems in this cases we see that the `nominee` is a record. We are going to input `artist` values based on online information."
   ]
  },
  {
   "cell_type": "code",
   "execution_count": 54,
   "metadata": {},
   "outputs": [
    {
     "data": {
      "text/plain": [
       "[4540, 4586, 4616]"
      ]
     },
     "execution_count": 54,
     "metadata": {},
     "output_type": "execute_result"
    }
   ],
   "source": [
    "get_indices_list(df1, \"Most Promising New Classical Recording Artist\")"
   ]
  },
  {
   "cell_type": "code",
   "execution_count": 55,
   "metadata": {},
   "outputs": [],
   "source": [
    "updates_best_promising_classical={4540:\"Peter Serkin\", \n",
    "                      4586:\"Marilyn Horne\", \n",
    "                      4616:\"André Watts\"\n",
    "\n",
    "}\n",
    "\n",
    "df1 = update_columns(df1, updates=updates_best_promising_classical)"
   ]
  },
  {
   "cell_type": "markdown",
   "metadata": {},
   "source": [
    "To review the changes we filter `category` for \"Best Small Ensemble Performance (With Or Without Conductor)\" and check for nulls in the `artist` column. There are now none for this category.\n"
   ]
  },
  {
   "cell_type": "code",
   "execution_count": 56,
   "metadata": {},
   "outputs": [
    {
     "name": "stderr",
     "output_type": "stream",
     "text": [
      "2025-04-08 15:04:59,397 - INFO - root - There are 0 null values in the 'artist' column for 'Most Promising New Classical Recording Artist'.\n"
     ]
    },
    {
     "data": {
      "text/plain": [
       "0"
      ]
     },
     "execution_count": 56,
     "metadata": {},
     "output_type": "execute_result"
    }
   ],
   "source": [
    "log_null_count(df1, \"Most Promising New Classical Recording Artist\")"
   ]
  },
  {
   "cell_type": "markdown",
   "metadata": {},
   "source": [
    "#### Producer Of The Year, Non-Classical"
   ]
  },
  {
   "cell_type": "code",
   "execution_count": 57,
   "metadata": {},
   "outputs": [
    {
     "data": {
      "text/html": [
       "<div>\n",
       "<style scoped>\n",
       "    .dataframe tbody tr th:only-of-type {\n",
       "        vertical-align: middle;\n",
       "    }\n",
       "\n",
       "    .dataframe tbody tr th {\n",
       "        vertical-align: top;\n",
       "    }\n",
       "\n",
       "    .dataframe thead th {\n",
       "        text-align: right;\n",
       "    }\n",
       "</style>\n",
       "<table border=\"1\" class=\"dataframe\">\n",
       "  <thead>\n",
       "    <tr style=\"text-align: right;\">\n",
       "      <th></th>\n",
       "      <th>year</th>\n",
       "      <th>title</th>\n",
       "      <th>published_at</th>\n",
       "      <th>updated_at</th>\n",
       "      <th>category</th>\n",
       "      <th>nominee</th>\n",
       "      <th>artist</th>\n",
       "      <th>workers</th>\n",
       "      <th>winner</th>\n",
       "    </tr>\n",
       "  </thead>\n",
       "  <tbody>\n",
       "    <tr>\n",
       "      <th>362</th>\n",
       "      <td>2019</td>\n",
       "      <td>62nd Annual GRAMMY Awards  (2019)</td>\n",
       "      <td>2020-05-19T05:10:28-07:00</td>\n",
       "      <td>2020-05-19T05:10:28-07:00</td>\n",
       "      <td>Producer Of The Year, Non-Classical</td>\n",
       "      <td>Finneas</td>\n",
       "      <td>None</td>\n",
       "      <td>• When We Fall Asleep, Where Do We Go? (Billie...</td>\n",
       "      <td>True</td>\n",
       "    </tr>\n",
       "    <tr>\n",
       "      <th>363</th>\n",
       "      <td>2019</td>\n",
       "      <td>62nd Annual GRAMMY Awards  (2019)</td>\n",
       "      <td>2020-05-19T05:10:28-07:00</td>\n",
       "      <td>2020-05-19T05:10:28-07:00</td>\n",
       "      <td>Producer Of The Year, Non-Classical</td>\n",
       "      <td>Jack Antonoff</td>\n",
       "      <td>None</td>\n",
       "      <td>• Arizona Baby (Kevin Abstract) (A)  • Lover (...</td>\n",
       "      <td>True</td>\n",
       "    </tr>\n",
       "    <tr>\n",
       "      <th>364</th>\n",
       "      <td>2019</td>\n",
       "      <td>62nd Annual GRAMMY Awards  (2019)</td>\n",
       "      <td>2020-05-19T05:10:28-07:00</td>\n",
       "      <td>2020-05-19T05:10:28-07:00</td>\n",
       "      <td>Producer Of The Year, Non-Classical</td>\n",
       "      <td>Dan Auerbach</td>\n",
       "      <td>None</td>\n",
       "      <td>• The Angels In Heaven Done Signed My Name (Le...</td>\n",
       "      <td>True</td>\n",
       "    </tr>\n",
       "    <tr>\n",
       "      <th>365</th>\n",
       "      <td>2019</td>\n",
       "      <td>62nd Annual GRAMMY Awards  (2019)</td>\n",
       "      <td>2020-05-19T05:10:28-07:00</td>\n",
       "      <td>2020-05-19T05:10:28-07:00</td>\n",
       "      <td>Producer Of The Year, Non-Classical</td>\n",
       "      <td>John Hill</td>\n",
       "      <td>None</td>\n",
       "      <td>• Heat Of The Summer (Young The Giant) (T)  • ...</td>\n",
       "      <td>True</td>\n",
       "    </tr>\n",
       "    <tr>\n",
       "      <th>366</th>\n",
       "      <td>2019</td>\n",
       "      <td>62nd Annual GRAMMY Awards  (2019)</td>\n",
       "      <td>2020-05-19T05:10:28-07:00</td>\n",
       "      <td>2020-05-19T05:10:28-07:00</td>\n",
       "      <td>Producer Of The Year, Non-Classical</td>\n",
       "      <td>Ricky Reed</td>\n",
       "      <td>None</td>\n",
       "      <td>• Almost Free (Fidlar) (A)  • Burning (Maggie ...</td>\n",
       "      <td>True</td>\n",
       "    </tr>\n",
       "    <tr>\n",
       "      <th>1309</th>\n",
       "      <td>2009</td>\n",
       "      <td>52nd Annual GRAMMY Awards  (2009)</td>\n",
       "      <td>2017-11-28T00:03:45-08:00</td>\n",
       "      <td>2019-09-10T01:08:19-07:00</td>\n",
       "      <td>Producer Of The Year, Non-Classical</td>\n",
       "      <td>Brendan O'Brien</td>\n",
       "      <td>None</td>\n",
       "      <td>None</td>\n",
       "      <td>True</td>\n",
       "    </tr>\n",
       "    <tr>\n",
       "      <th>2273</th>\n",
       "      <td>2000</td>\n",
       "      <td>43rd Annual GRAMMY Awards  (2000)</td>\n",
       "      <td>2017-11-28T00:03:45-08:00</td>\n",
       "      <td>2019-09-10T01:11:09-07:00</td>\n",
       "      <td>Producer Of The Year, Non-Classical</td>\n",
       "      <td>Dr. Dre</td>\n",
       "      <td>None</td>\n",
       "      <td>None</td>\n",
       "      <td>True</td>\n",
       "    </tr>\n",
       "  </tbody>\n",
       "</table>\n",
       "</div>"
      ],
      "text/plain": [
       "      year                              title               published_at  \\\n",
       "362   2019  62nd Annual GRAMMY Awards  (2019)  2020-05-19T05:10:28-07:00   \n",
       "363   2019  62nd Annual GRAMMY Awards  (2019)  2020-05-19T05:10:28-07:00   \n",
       "364   2019  62nd Annual GRAMMY Awards  (2019)  2020-05-19T05:10:28-07:00   \n",
       "365   2019  62nd Annual GRAMMY Awards  (2019)  2020-05-19T05:10:28-07:00   \n",
       "366   2019  62nd Annual GRAMMY Awards  (2019)  2020-05-19T05:10:28-07:00   \n",
       "1309  2009  52nd Annual GRAMMY Awards  (2009)  2017-11-28T00:03:45-08:00   \n",
       "2273  2000  43rd Annual GRAMMY Awards  (2000)  2017-11-28T00:03:45-08:00   \n",
       "\n",
       "                     updated_at                             category  \\\n",
       "362   2020-05-19T05:10:28-07:00  Producer Of The Year, Non-Classical   \n",
       "363   2020-05-19T05:10:28-07:00  Producer Of The Year, Non-Classical   \n",
       "364   2020-05-19T05:10:28-07:00  Producer Of The Year, Non-Classical   \n",
       "365   2020-05-19T05:10:28-07:00  Producer Of The Year, Non-Classical   \n",
       "366   2020-05-19T05:10:28-07:00  Producer Of The Year, Non-Classical   \n",
       "1309  2019-09-10T01:08:19-07:00  Producer Of The Year, Non-Classical   \n",
       "2273  2019-09-10T01:11:09-07:00  Producer Of The Year, Non-Classical   \n",
       "\n",
       "              nominee artist  \\\n",
       "362           Finneas   None   \n",
       "363     Jack Antonoff   None   \n",
       "364      Dan Auerbach   None   \n",
       "365         John Hill   None   \n",
       "366        Ricky Reed   None   \n",
       "1309  Brendan O'Brien   None   \n",
       "2273          Dr. Dre   None   \n",
       "\n",
       "                                                workers  winner  \n",
       "362   • When We Fall Asleep, Where Do We Go? (Billie...    True  \n",
       "363   • Arizona Baby (Kevin Abstract) (A)  • Lover (...    True  \n",
       "364   • The Angels In Heaven Done Signed My Name (Le...    True  \n",
       "365   • Heat Of The Summer (Young The Giant) (T)  • ...    True  \n",
       "366   • Almost Free (Fidlar) (A)  • Burning (Maggie ...    True  \n",
       "1309                                               None    True  \n",
       "2273                                               None    True  "
      ]
     },
     "execution_count": 57,
     "metadata": {},
     "output_type": "execute_result"
    }
   ],
   "source": [
    "filter_rows_column_to_review(df1, \"Producer Of The Year, Non-Classical\")"
   ]
  },
  {
   "cell_type": "markdown",
   "metadata": {},
   "source": [
    "There does not appear to be anny issues, just `artist` with dots or apostophres. In the cases when the `category` contains \"Best\" or \"of the Year\" and \"artist\" the `artist` is the `nominee` at the same time.  We are going to apply this logic to input values for rows with the category \"Best New Artist\"."
   ]
  },
  {
   "cell_type": "code",
   "execution_count": 58,
   "metadata": {},
   "outputs": [],
   "source": [
    "df1 = assign_nominee_to_artist(df1, \"Producer Of The Year, Non-Classical\")"
   ]
  },
  {
   "cell_type": "markdown",
   "metadata": {},
   "source": [
    "To review the changes we filter `category` for \"Producer Of The Year, Non-Classical\" and check for nulls in the `artist` column. There are now none for this category.\n"
   ]
  },
  {
   "cell_type": "code",
   "execution_count": 59,
   "metadata": {},
   "outputs": [
    {
     "name": "stderr",
     "output_type": "stream",
     "text": [
      "2025-04-08 15:04:59,448 - INFO - root - There are 0 null values in the 'artist' column for 'Producer Of The Year, Non-Classical'.\n"
     ]
    },
    {
     "data": {
      "text/plain": [
       "0"
      ]
     },
     "execution_count": 59,
     "metadata": {},
     "output_type": "execute_result"
    }
   ],
   "source": [
    "log_null_count(df1, \"Producer Of The Year, Non-Classical\")"
   ]
  },
  {
   "cell_type": "markdown",
   "metadata": {},
   "source": [
    "#### Classical Producer Of The Year"
   ]
  },
  {
   "cell_type": "code",
   "execution_count": 60,
   "metadata": {},
   "outputs": [
    {
     "data": {
      "text/html": [
       "<div>\n",
       "<style scoped>\n",
       "    .dataframe tbody tr th:only-of-type {\n",
       "        vertical-align: middle;\n",
       "    }\n",
       "\n",
       "    .dataframe tbody tr th {\n",
       "        vertical-align: top;\n",
       "    }\n",
       "\n",
       "    .dataframe thead th {\n",
       "        text-align: right;\n",
       "    }\n",
       "</style>\n",
       "<table border=\"1\" class=\"dataframe\">\n",
       "  <thead>\n",
       "    <tr style=\"text-align: right;\">\n",
       "      <th></th>\n",
       "      <th>year</th>\n",
       "      <th>title</th>\n",
       "      <th>published_at</th>\n",
       "      <th>updated_at</th>\n",
       "      <th>category</th>\n",
       "      <th>nominee</th>\n",
       "      <th>artist</th>\n",
       "      <th>workers</th>\n",
       "      <th>winner</th>\n",
       "    </tr>\n",
       "  </thead>\n",
       "  <tbody>\n",
       "    <tr>\n",
       "      <th>3656</th>\n",
       "      <td>1983</td>\n",
       "      <td>26th Annual GRAMMY Awards  (1983)</td>\n",
       "      <td>2017-11-28T00:03:45-08:00</td>\n",
       "      <td>2019-09-10T01:09:02-07:00</td>\n",
       "      <td>Classical Producer Of The Year</td>\n",
       "      <td>Marc Aubort &amp; Joanna Nickrenz</td>\n",
       "      <td>None</td>\n",
       "      <td>None</td>\n",
       "      <td>True</td>\n",
       "    </tr>\n",
       "  </tbody>\n",
       "</table>\n",
       "</div>"
      ],
      "text/plain": [
       "      year                              title               published_at  \\\n",
       "3656  1983  26th Annual GRAMMY Awards  (1983)  2017-11-28T00:03:45-08:00   \n",
       "\n",
       "                     updated_at                        category  \\\n",
       "3656  2019-09-10T01:09:02-07:00  Classical Producer Of The Year   \n",
       "\n",
       "                            nominee artist workers  winner  \n",
       "3656  Marc Aubort & Joanna Nickrenz   None    None    True  "
      ]
     },
     "execution_count": 60,
     "metadata": {},
     "output_type": "execute_result"
    }
   ],
   "source": [
    "filter_rows_column_to_review(df1, \"Classical Producer Of The Year\")"
   ]
  },
  {
   "cell_type": "markdown",
   "metadata": {},
   "source": [
    "There does not appear to be anny issues, just and `artist` duo. In the cases when the `category` contains \"Best\" or \"of the Year\" and \"artist\" the `artist` is the `nominee` at the same time.  We are going to apply this logic to input values for rows with the category \"Classical Producer Of The Year\"."
   ]
  },
  {
   "cell_type": "code",
   "execution_count": 61,
   "metadata": {},
   "outputs": [],
   "source": [
    "df1 = assign_nominee_to_artist(df1, \"Classical Producer Of The Year\")"
   ]
  },
  {
   "cell_type": "markdown",
   "metadata": {},
   "source": [
    "To review the changes we filter `category` for \"Producer Of The Year, Non-Classical\" and check for nulls in the `artist` column. There are now none for this category.\n"
   ]
  },
  {
   "cell_type": "code",
   "execution_count": 62,
   "metadata": {},
   "outputs": [
    {
     "name": "stderr",
     "output_type": "stream",
     "text": [
      "2025-04-08 15:04:59,508 - INFO - root - There are 0 null values in the 'artist' column for 'Classical Producer Of The Year'.\n"
     ]
    },
    {
     "data": {
      "text/plain": [
       "0"
      ]
     },
     "execution_count": 62,
     "metadata": {},
     "output_type": "execute_result"
    }
   ],
   "source": [
    "log_null_count(df1, \"Classical Producer Of The Year\")"
   ]
  },
  {
   "cell_type": "markdown",
   "metadata": {},
   "source": [
    "#### Producer Of The Year, Classical "
   ]
  },
  {
   "cell_type": "code",
   "execution_count": 63,
   "metadata": {},
   "outputs": [
    {
     "data": {
      "text/html": [
       "<div>\n",
       "<style scoped>\n",
       "    .dataframe tbody tr th:only-of-type {\n",
       "        vertical-align: middle;\n",
       "    }\n",
       "\n",
       "    .dataframe tbody tr th {\n",
       "        vertical-align: top;\n",
       "    }\n",
       "\n",
       "    .dataframe thead th {\n",
       "        text-align: right;\n",
       "    }\n",
       "</style>\n",
       "<table border=\"1\" class=\"dataframe\">\n",
       "  <thead>\n",
       "    <tr style=\"text-align: right;\">\n",
       "      <th></th>\n",
       "      <th>year</th>\n",
       "      <th>title</th>\n",
       "      <th>published_at</th>\n",
       "      <th>updated_at</th>\n",
       "      <th>category</th>\n",
       "      <th>nominee</th>\n",
       "      <th>artist</th>\n",
       "      <th>workers</th>\n",
       "      <th>winner</th>\n",
       "    </tr>\n",
       "  </thead>\n",
       "  <tbody>\n",
       "    <tr>\n",
       "      <th>381</th>\n",
       "      <td>2019</td>\n",
       "      <td>62nd Annual GRAMMY Awards  (2019)</td>\n",
       "      <td>2020-05-19T05:10:28-07:00</td>\n",
       "      <td>2020-05-19T05:10:28-07:00</td>\n",
       "      <td>Producer Of The Year, Classical</td>\n",
       "      <td>Blanton Alspaugh</td>\n",
       "      <td>None</td>\n",
       "      <td>• Artifacts - The Music Of Michael McGlynn (Ch...</td>\n",
       "      <td>True</td>\n",
       "    </tr>\n",
       "    <tr>\n",
       "      <th>382</th>\n",
       "      <td>2019</td>\n",
       "      <td>62nd Annual GRAMMY Awards  (2019)</td>\n",
       "      <td>2020-05-19T05:10:28-07:00</td>\n",
       "      <td>2020-05-19T05:10:28-07:00</td>\n",
       "      <td>Producer Of The Year, Classical</td>\n",
       "      <td>James Ginsburg</td>\n",
       "      <td>None</td>\n",
       "      <td>• Project W - Works By Diverse Women Composers...</td>\n",
       "      <td>True</td>\n",
       "    </tr>\n",
       "    <tr>\n",
       "      <th>383</th>\n",
       "      <td>2019</td>\n",
       "      <td>62nd Annual GRAMMY Awards  (2019)</td>\n",
       "      <td>2020-05-19T05:10:28-07:00</td>\n",
       "      <td>2020-05-19T05:10:28-07:00</td>\n",
       "      <td>Producer Of The Year, Classical</td>\n",
       "      <td>Marina A. Ledin, Victor Ledin</td>\n",
       "      <td>None</td>\n",
       "      <td>• Bates: Children Of Adam; Vaughan Williams: D...</td>\n",
       "      <td>True</td>\n",
       "    </tr>\n",
       "    <tr>\n",
       "      <th>384</th>\n",
       "      <td>2019</td>\n",
       "      <td>62nd Annual GRAMMY Awards  (2019)</td>\n",
       "      <td>2020-05-19T05:10:28-07:00</td>\n",
       "      <td>2020-05-19T05:10:28-07:00</td>\n",
       "      <td>Producer Of The Year, Classical</td>\n",
       "      <td>Morten Lindberg</td>\n",
       "      <td>None</td>\n",
       "      <td>• Himmelborgen (Elisabeth Holte, Kåre Nordstog...</td>\n",
       "      <td>True</td>\n",
       "    </tr>\n",
       "    <tr>\n",
       "      <th>385</th>\n",
       "      <td>2019</td>\n",
       "      <td>62nd Annual GRAMMY Awards  (2019)</td>\n",
       "      <td>2020-05-19T05:10:28-07:00</td>\n",
       "      <td>2020-05-19T05:10:28-07:00</td>\n",
       "      <td>Producer Of The Year, Classical</td>\n",
       "      <td>Dirk Sobotka</td>\n",
       "      <td>None</td>\n",
       "      <td>• Bruckner: Symphony No. 9 (Manfred Honeck &amp; P...</td>\n",
       "      <td>True</td>\n",
       "    </tr>\n",
       "    <tr>\n",
       "      <th>1020</th>\n",
       "      <td>2012</td>\n",
       "      <td>55th Annual GRAMMY Awards  (2012)</td>\n",
       "      <td>2017-11-28T00:03:45-08:00</td>\n",
       "      <td>2019-09-10T01:06:11-07:00</td>\n",
       "      <td>Producer Of The Year, Classical</td>\n",
       "      <td>Blanton Alspaugh (producer)</td>\n",
       "      <td>None</td>\n",
       "      <td>None</td>\n",
       "      <td>True</td>\n",
       "    </tr>\n",
       "  </tbody>\n",
       "</table>\n",
       "</div>"
      ],
      "text/plain": [
       "      year                              title               published_at  \\\n",
       "381   2019  62nd Annual GRAMMY Awards  (2019)  2020-05-19T05:10:28-07:00   \n",
       "382   2019  62nd Annual GRAMMY Awards  (2019)  2020-05-19T05:10:28-07:00   \n",
       "383   2019  62nd Annual GRAMMY Awards  (2019)  2020-05-19T05:10:28-07:00   \n",
       "384   2019  62nd Annual GRAMMY Awards  (2019)  2020-05-19T05:10:28-07:00   \n",
       "385   2019  62nd Annual GRAMMY Awards  (2019)  2020-05-19T05:10:28-07:00   \n",
       "1020  2012  55th Annual GRAMMY Awards  (2012)  2017-11-28T00:03:45-08:00   \n",
       "\n",
       "                     updated_at                         category  \\\n",
       "381   2020-05-19T05:10:28-07:00  Producer Of The Year, Classical   \n",
       "382   2020-05-19T05:10:28-07:00  Producer Of The Year, Classical   \n",
       "383   2020-05-19T05:10:28-07:00  Producer Of The Year, Classical   \n",
       "384   2020-05-19T05:10:28-07:00  Producer Of The Year, Classical   \n",
       "385   2020-05-19T05:10:28-07:00  Producer Of The Year, Classical   \n",
       "1020  2019-09-10T01:06:11-07:00  Producer Of The Year, Classical   \n",
       "\n",
       "                            nominee artist  \\\n",
       "381                Blanton Alspaugh   None   \n",
       "382                  James Ginsburg   None   \n",
       "383   Marina A. Ledin, Victor Ledin   None   \n",
       "384                 Morten Lindberg   None   \n",
       "385                    Dirk Sobotka   None   \n",
       "1020    Blanton Alspaugh (producer)   None   \n",
       "\n",
       "                                                workers  winner  \n",
       "381   • Artifacts - The Music Of Michael McGlynn (Ch...    True  \n",
       "382   • Project W - Works By Diverse Women Composers...    True  \n",
       "383   • Bates: Children Of Adam; Vaughan Williams: D...    True  \n",
       "384   • Himmelborgen (Elisabeth Holte, Kåre Nordstog...    True  \n",
       "385   • Bruckner: Symphony No. 9 (Manfred Honeck & P...    True  \n",
       "1020                                               None    True  "
      ]
     },
     "execution_count": 63,
     "metadata": {},
     "output_type": "execute_result"
    }
   ],
   "source": [
    "filter_rows_column_to_review(df1, \"Producer Of The Year, Classical\")"
   ]
  },
  {
   "cell_type": "markdown",
   "metadata": {},
   "source": [
    "There does not appear to be anny issues, just and `artist` duo and an artist as a producer. In the cases when the `category` contains \"Best\" or \"of the Year\" and \"artist\" the `artist` is the `nominee` at the same time.  We are going to apply this logic to input values for rows with the category \"Producer Of The Year, Classical\"."
   ]
  },
  {
   "cell_type": "code",
   "execution_count": 64,
   "metadata": {},
   "outputs": [],
   "source": [
    "df1 = assign_nominee_to_artist(df1, \"Producer Of The Year, Classical\")"
   ]
  },
  {
   "cell_type": "markdown",
   "metadata": {},
   "source": [
    "To review the changes we filter `category` for \"Producer Of The Year, Classical\" and check for nulls in the `artist` column. There are now none for this category.\n"
   ]
  },
  {
   "cell_type": "code",
   "execution_count": 65,
   "metadata": {},
   "outputs": [
    {
     "name": "stderr",
     "output_type": "stream",
     "text": [
      "2025-04-08 15:04:59,560 - INFO - root - There are 0 null values in the 'artist' column for 'Producer Of The Year, Classical'.\n"
     ]
    },
    {
     "data": {
      "text/plain": [
       "0"
      ]
     },
     "execution_count": 65,
     "metadata": {},
     "output_type": "execute_result"
    }
   ],
   "source": [
    "log_null_count(df1, \"Producer Of The Year, Classical\")"
   ]
  },
  {
   "cell_type": "markdown",
   "metadata": {},
   "source": [
    "#### Producer Of The Year                                                                         "
   ]
  },
  {
   "cell_type": "code",
   "execution_count": 66,
   "metadata": {},
   "outputs": [
    {
     "data": {
      "text/html": [
       "<div>\n",
       "<style scoped>\n",
       "    .dataframe tbody tr th:only-of-type {\n",
       "        vertical-align: middle;\n",
       "    }\n",
       "\n",
       "    .dataframe tbody tr th {\n",
       "        vertical-align: top;\n",
       "    }\n",
       "\n",
       "    .dataframe thead th {\n",
       "        text-align: right;\n",
       "    }\n",
       "</style>\n",
       "<table border=\"1\" class=\"dataframe\">\n",
       "  <thead>\n",
       "    <tr style=\"text-align: right;\">\n",
       "      <th></th>\n",
       "      <th>year</th>\n",
       "      <th>title</th>\n",
       "      <th>published_at</th>\n",
       "      <th>updated_at</th>\n",
       "      <th>category</th>\n",
       "      <th>nominee</th>\n",
       "      <th>artist</th>\n",
       "      <th>workers</th>\n",
       "      <th>winner</th>\n",
       "    </tr>\n",
       "  </thead>\n",
       "  <tbody>\n",
       "    <tr>\n",
       "      <th>3933</th>\n",
       "      <td>1978</td>\n",
       "      <td>21st Annual GRAMMY Awards  (1978)</td>\n",
       "      <td>2017-11-28T00:03:45-08:00</td>\n",
       "      <td>2019-09-10T01:09:02-07:00</td>\n",
       "      <td>Producer Of The Year</td>\n",
       "      <td>Bee Gees, Albhy Galuten &amp; Karl Richardson</td>\n",
       "      <td>None</td>\n",
       "      <td>None</td>\n",
       "      <td>True</td>\n",
       "    </tr>\n",
       "  </tbody>\n",
       "</table>\n",
       "</div>"
      ],
      "text/plain": [
       "      year                              title               published_at  \\\n",
       "3933  1978  21st Annual GRAMMY Awards  (1978)  2017-11-28T00:03:45-08:00   \n",
       "\n",
       "                     updated_at              category  \\\n",
       "3933  2019-09-10T01:09:02-07:00  Producer Of The Year   \n",
       "\n",
       "                                        nominee artist workers  winner  \n",
       "3933  Bee Gees, Albhy Galuten & Karl Richardson   None    None    True  "
      ]
     },
     "execution_count": 66,
     "metadata": {},
     "output_type": "execute_result"
    }
   ],
   "source": [
    "filter_rows_column_to_review(df1, \"Producer Of The Year\")"
   ]
  },
  {
   "cell_type": "markdown",
   "metadata": {},
   "source": [
    "There does not appear to be anny issues, just and `artist` duo. In the cases when the `category` contains \"Best\" or \"of the Year\" and \"artist\" the `artist` is the `nominee` at the same time.  We are going to apply this logic to input values for rows with the category \"Producer Of The Year."
   ]
  },
  {
   "cell_type": "code",
   "execution_count": 67,
   "metadata": {},
   "outputs": [],
   "source": [
    "df1 = assign_nominee_to_artist(df1, \"Producer Of The Year\")"
   ]
  },
  {
   "cell_type": "markdown",
   "metadata": {},
   "source": [
    "To review the changes we filter `category` for \"Producer Of The Year\" and check for nulls in the `artist` column. There are now none for this category.\n"
   ]
  },
  {
   "cell_type": "code",
   "execution_count": 68,
   "metadata": {},
   "outputs": [
    {
     "name": "stderr",
     "output_type": "stream",
     "text": [
      "2025-04-08 15:04:59,607 - INFO - root - There are 0 null values in the 'artist' column for 'Producer Of The Year'.\n"
     ]
    },
    {
     "data": {
      "text/plain": [
       "0"
      ]
     },
     "execution_count": 68,
     "metadata": {},
     "output_type": "execute_result"
    }
   ],
   "source": [
    "log_null_count(df1, \"Producer Of The Year\")"
   ]
  },
  {
   "cell_type": "markdown",
   "metadata": {},
   "source": [
    "#### Best New Artist Of The Year     "
   ]
  },
  {
   "cell_type": "code",
   "execution_count": 69,
   "metadata": {},
   "outputs": [
    {
     "data": {
      "text/html": [
       "<div>\n",
       "<style scoped>\n",
       "    .dataframe tbody tr th:only-of-type {\n",
       "        vertical-align: middle;\n",
       "    }\n",
       "\n",
       "    .dataframe tbody tr th {\n",
       "        vertical-align: top;\n",
       "    }\n",
       "\n",
       "    .dataframe thead th {\n",
       "        text-align: right;\n",
       "    }\n",
       "</style>\n",
       "<table border=\"1\" class=\"dataframe\">\n",
       "  <thead>\n",
       "    <tr style=\"text-align: right;\">\n",
       "      <th></th>\n",
       "      <th>year</th>\n",
       "      <th>title</th>\n",
       "      <th>published_at</th>\n",
       "      <th>updated_at</th>\n",
       "      <th>category</th>\n",
       "      <th>nominee</th>\n",
       "      <th>artist</th>\n",
       "      <th>workers</th>\n",
       "      <th>winner</th>\n",
       "    </tr>\n",
       "  </thead>\n",
       "  <tbody>\n",
       "    <tr>\n",
       "      <th>4321</th>\n",
       "      <td>1969</td>\n",
       "      <td>12th Annual GRAMMY Awards  (1969)</td>\n",
       "      <td>2017-11-28T00:03:45-08:00</td>\n",
       "      <td>2019-09-10T01:06:11-07:00</td>\n",
       "      <td>Best New Artist Of The Year</td>\n",
       "      <td>Crosby, Stills And Nash</td>\n",
       "      <td>None</td>\n",
       "      <td>None</td>\n",
       "      <td>True</td>\n",
       "    </tr>\n",
       "  </tbody>\n",
       "</table>\n",
       "</div>"
      ],
      "text/plain": [
       "      year                              title               published_at  \\\n",
       "4321  1969  12th Annual GRAMMY Awards  (1969)  2017-11-28T00:03:45-08:00   \n",
       "\n",
       "                     updated_at                     category  \\\n",
       "4321  2019-09-10T01:06:11-07:00  Best New Artist Of The Year   \n",
       "\n",
       "                      nominee artist workers  winner  \n",
       "4321  Crosby, Stills And Nash   None    None    True  "
      ]
     },
     "execution_count": 69,
     "metadata": {},
     "output_type": "execute_result"
    }
   ],
   "source": [
    "filter_rows_column_to_review(df1, \"Best New Artist Of The Year\")"
   ]
  },
  {
   "cell_type": "markdown",
   "metadata": {},
   "source": [
    "There does not appear to be anny issues, just and `artist` duo. In the cases when the `category` contains \"Best\" or \"of the Year\" and \"artist\" the `artist` is the `nominee` at the same time.  We are going to apply this logic to input values for rows with the category \"Best New Artist Of The Year\"."
   ]
  },
  {
   "cell_type": "code",
   "execution_count": 70,
   "metadata": {},
   "outputs": [],
   "source": [
    "df1 = assign_nominee_to_artist(df1, \"Best New Artist Of The Year\")"
   ]
  },
  {
   "cell_type": "markdown",
   "metadata": {},
   "source": [
    "To review the changes we filter `category` for \"Producer Of The Year, Classical\" and check for nulls in the `artist` column. There are now none for this category.\n"
   ]
  },
  {
   "cell_type": "code",
   "execution_count": 71,
   "metadata": {},
   "outputs": [
    {
     "name": "stderr",
     "output_type": "stream",
     "text": [
      "2025-04-08 15:04:59,662 - INFO - root - There are 0 null values in the 'artist' column for 'Best New Artist Of The Year'.\n"
     ]
    },
    {
     "data": {
      "text/plain": [
       "0"
      ]
     },
     "execution_count": 71,
     "metadata": {},
     "output_type": "execute_result"
    }
   ],
   "source": [
    "log_null_count(df1, \"Best New Artist Of The Year\")"
   ]
  },
  {
   "cell_type": "markdown",
   "metadata": {},
   "source": [
    "### Missing `artist`"
   ]
  },
  {
   "cell_type": "markdown",
   "metadata": {},
   "source": [
    "We still have to handle the cases where `artist` is null, `worker` is not."
   ]
  },
  {
   "cell_type": "code",
   "execution_count": 72,
   "metadata": {},
   "outputs": [
    {
     "name": "stderr",
     "output_type": "stream",
     "text": [
      "2025-04-08 15:04:59,678 - INFO - root - There are 1629 null values in the 'artist' column.\n"
     ]
    }
   ],
   "source": [
    "# Filter rows where 'artist' is null and 'workers' is not null\n",
    "filtered_null_rows = df1[(df1['artist'].isnull()) & (~df1['workers'].isnull())]\n",
    "\n",
    "# Count null values specifically in the 'artist' column\n",
    "null_count_artist = filtered_null_rows['artist'].isnull().sum()\n",
    "logging.info(f\"There are {null_count_artist} null values in the 'artist' column.\")"
   ]
  },
  {
   "cell_type": "markdown",
   "metadata": {},
   "source": [
    "We inspect the firts 30 unique values in workers to asses the type of information available."
   ]
  },
  {
   "cell_type": "code",
   "execution_count": 73,
   "metadata": {},
   "outputs": [
    {
     "data": {
      "text/plain": [
       "array([\"Finneas O'Connell, producer; Rob Kinelski & Finneas O'Connell, engineers/mixers; John Greenham, mastering engineer\",\n",
       "       'BJ Burton, Brad Cook, Chris Messina & Justin Vernon, producers; BJ Burton, Zach Hanson & Chris Messina, engineers/mixers; Greg Calbi, mastering engineer',\n",
       "       'Charles Anderson, Tommy Brown, Michael Foster & Victoria Monet, producers; Serban Ghenea, John Hanes, Billy Hickey & Brendan Morawski, engineers/mixers; Randy Merrill, mastering engineer',\n",
       "       'Rodney “Darkchild” Jerkins, producer; Joseph Hurtado, Jaycen Joshua, Derek Keota & Miki Tsutsumi, engineers/mixers; Colin Leonard, mastering engineer',\n",
       "       'Disclosure & Denis Kosiak, producers; Ingmar Carlson, Jon Castelli, Josh Deguzman, John Kercy, Denis Kosiak, Guy Lawrence & Michael Romero, engineers/mixers; Dale Becker, mastering engineer',\n",
       "       'Andrew \"VoxGod\" Bolooki, Jocelyn “Jozzy” Donald & YoungKio, producers; Andrew \"VoxGod\" Bolooki, Cinco & Joe Grasso, engineers/mixers; Eric Lagg, mastering engineer',\n",
       "       'Ricky Reed & Tele, producers; Chris Galland, Manny Marroquin & Ethan Shumaker, engineers/mixers; Chris Gehringer, mastering engineer',\n",
       "       'Louis Bell & Carter Lang, producers; Louis Bell & Manny Marroquin, engineers/mixers; Mike Bozzi, mastering engineer',\n",
       "       \"Finneas O'Connell, producer; Rob Kinelski & Finneas O'Connell, engineers/mixers; Billie Eilish O'Connell\\xa0& Finneas O'Connell, songwriters; John Greenham, mastering engineer\",\n",
       "       'Brad Cook, Chris Messina & Justin Vernon, producers; Zach Hanson & Chris Messina, engineers/mixers; BJ Burton, Brad Cook & Justin Vernon, songwriters; Greg Calbi, mastering engineer',\n",
       "       'Jack Antonoff & Lana Del Rey, producers; Jack Antonoff & Laura Sisk, engineers/mixers; Jack Antonoff & Lana Del Rey, songwriters; Chris Gehringer, mastering engineer',\n",
       "       'Tommy Brown, Ilya, Max Martin & Victoria Monet, producers; Serban Ghenea, Sam Holland & Brendan Morawski, engineers/mixers; Tommy Brown, Ariana Grande, Savan Kotecha, Max Martin, Victoria Monet, Tayla Parx & Ilya Salmanzadeh, songwriters; Randy Merrill, mastering engineer',\n",
       "       'David \"Swagg R\\'Celious\" Harris, H.E.R., Walter Jones & Jeff Robinson, producers; Miki Tsutsumi, engineer/mixer; Sam Ashworth, Jeff “Gitty” Gitelman, David \"Swagg R\\'Celious\" Harris & H.E.R., songwriters; Dave Kutch, mastering engineer',\n",
       "       'Joe Grasso, engineer/mixer; Montero Lamar Hill, songwriter; Eric Lagg, mastering engineer',\n",
       "       'Ricky Reed, producer; Manny Marroquin & Ethan Shumaker, engineers/mixers; Eric Frederic & Melissa Jefferson, songwriters; Chris Gehringer, mastering engineer',\n",
       "       'Ezra Koenig & Ariel Rechtshaid, producers; John DeBold, Chris Kasych, Takemasa Kosaka, Ariel Rechtshaid & Hiroya Takayama, engineers/mixers; Ezra Koenig, songwriter; Emily Lazar, mastering engineer',\n",
       "       \"Billie Eilish O'Connell & Finneas O'Connell, songwriters (Billie Eilish)\",\n",
       "       'Natalie Hemby, Lady Gaga, Hillary Lindsey & Lori McKenna, songwriters (Lady Gaga)',\n",
       "       'Brandi Carlile, Phil Hanseroth, Tim Hanseroth & Tanya Tucker, songwriters (Tanya Tucker)',\n",
       "       'Ruby Amanfu, Sam Ashworth, D. Arcelious Harris, H.E.R. & Rodney Jerkins, songwriters (H.E.R.)',\n",
       "       'Taylor Swift, songwriter (Taylor Swift)',\n",
       "       'Jack Antonoff & Lana Del Rey, songwriters (Lana Del Rey)',\n",
       "       'Tom Barnes, Lewis Capaldi, Pete Kelleher, Benjamin Kohn & Sam Roman, songwriters (Lewis Capaldi)',\n",
       "       'Steven Cheung, Eric Frederic, Melissa Jefferson & Jesse Saint John, songwriters (Lizzo)',\n",
       "       'The Chemical Brothers, producers; Steve Dub Jones & Tom Rowlands, mixers',\n",
       "       'Simon Green, producer; Simon Green & Frank Merritt, mixers',\n",
       "       'Simone Giani, Luca De Gregorio & Mattia Vitale, producers; Simone Giani, Luca De Gregorio & Mattia Vitale, mixers',\n",
       "       'Jason Evigan & RÜFÜS DU SOL, producers; Cassian Stewart-Kasimba, mixer',\n",
       "       'Boys Noize & Skrillex, producers; Tom Norris & Skrillex, mixers',\n",
       "       'Gary Clark Jr., songwriter (Gary Clark Jr.)'], dtype=object)"
      ]
     },
     "execution_count": 73,
     "metadata": {},
     "output_type": "execute_result"
    }
   ],
   "source": [
    "df[\"workers\"].dropna().unique()[:30]"
   ]
  },
  {
   "cell_type": "markdown",
   "metadata": {},
   "source": [
    "There seem to be roles that may help us input values in `artist` when `worker` is not null. Arround XXX of the records have special characters with parentheses that may help with these."
   ]
  },
  {
   "cell_type": "code",
   "execution_count": 74,
   "metadata": {},
   "outputs": [
    {
     "name": "stderr",
     "output_type": "stream",
     "text": [
      "2025-04-08 15:04:59,708 - INFO - root - There are 1341 rows in 'workers' with parentheses where 'artist' is null.\n"
     ]
    }
   ],
   "source": [
    "# Filter rows where 'artist' is null and 'workers' is not null\n",
    "filtered_rows = df1[(df1[\"artist\"].isnull()) & (~df1[\"workers\"].isnull())]\n",
    "\n",
    "# Count how many rows in 'workers' contain parentheses\n",
    "count_parentheses = filtered_rows[\"workers\"].str.contains(r'\\(.*?\\)', na=False).sum()\n",
    "\n",
    "# Log the count\n",
    "logging.info(f\"There are {count_parentheses} rows in 'workers' with parentheses where 'artist' is null.\")"
   ]
  },
  {
   "cell_type": "markdown",
   "metadata": {},
   "source": [
    "Arround XXX of the records have the word \"featuring\", information that may be util for inputing data in `artist`."
   ]
  },
  {
   "cell_type": "code",
   "execution_count": 75,
   "metadata": {},
   "outputs": [
    {
     "name": "stderr",
     "output_type": "stream",
     "text": [
      "2025-04-08 15:04:59,720 - INFO - root - There are 32 rows in 'workers' with the word 'featuring' where 'artist' is null.\n"
     ]
    }
   ],
   "source": [
    "# Count how many rows in 'workers' contain the word 'featuring'\n",
    "count_featuring = filtered_rows[\"workers\"].str.contains(r'featuring', case=False, na=False).sum()\n",
    "\n",
    "# Log the count\n",
    "logging.info(f\"There are {count_featuring} rows in 'workers' with the word 'featuring' where 'artist' is null.\")"
   ]
  },
  {
   "cell_type": "markdown",
   "metadata": {},
   "source": [
    "Now, we are going to tetect roles (e.g., artist, composer, soloist) that frequently appear in the workers column to design extraction rules later."
   ]
  },
  {
   "cell_type": "code",
   "execution_count": 76,
   "metadata": {},
   "outputs": [
    {
     "name": "stderr",
     "output_type": "stream",
     "text": [
      "2025-04-08 15:04:59,750 - INFO - root - Top 25 roles:\n",
      "role_candidate\n",
      "producer       235\n",
      "conductor      219\n",
      "composer       197\n",
      "engineer       193\n",
      "songwriters    184\n",
      "artist         117\n",
      "engineers      112\n",
      "songwriter     102\n",
      "art            102\n",
      "arranger       101\n",
      "soloist         74\n",
      "album           67\n",
      "producers       61\n",
      "mastering       54\n",
      "artists         53\n",
      "surround        41\n",
      "arrangers       35\n",
      "compilation     32\n",
      "composers       30\n",
      "david           24\n",
      "john            19\n",
      "choir           18\n",
      "soloists        17\n",
      "remixer         17\n",
      "ensembles       17\n"
     ]
    }
   ],
   "source": [
    "# Clean the 'workers' column and create a lowercase version\n",
    "df1[\"workers_clean\"] = df1[\"workers\"].str.lower().fillna(\"\")\n",
    "\n",
    "# Filter rows where 'artist' is null and 'workers_clean' is not empty\n",
    "filtered_rows = df1[(df1[\"artist\"].isnull()) & (df1[\"workers_clean\"] != \"\")]\n",
    "\n",
    "# Extract roles from the 'workers_clean' column\n",
    "roles_found = filtered_rows[\"workers_clean\"].str.extractall(r',\\s*([a-zA-Z/\\s]+?)\\b')\n",
    "roles_found.columns = [\"role_candidate\"]\n",
    "\n",
    "# Count occurrences of roles\n",
    "role_counts = roles_found[\"role_candidate\"].value_counts()\n",
    "\n",
    "# Log the top 20 roles\n",
    "logging.info(f\"Top 25 roles:\\n{role_counts.head(25).to_string()}\")"
   ]
  },
  {
   "cell_type": "markdown",
   "metadata": {},
   "source": [
    "Note there are both strings separated by commmas and semicolons."
   ]
  },
  {
   "cell_type": "code",
   "execution_count": 77,
   "metadata": {},
   "outputs": [
    {
     "data": {
      "text/html": [
       "<div>\n",
       "<style scoped>\n",
       "    .dataframe tbody tr th:only-of-type {\n",
       "        vertical-align: middle;\n",
       "    }\n",
       "\n",
       "    .dataframe tbody tr th {\n",
       "        vertical-align: top;\n",
       "    }\n",
       "\n",
       "    .dataframe thead th {\n",
       "        text-align: right;\n",
       "    }\n",
       "</style>\n",
       "<table border=\"1\" class=\"dataframe\">\n",
       "  <thead>\n",
       "    <tr style=\"text-align: right;\">\n",
       "      <th></th>\n",
       "      <th>nominee</th>\n",
       "      <th>artist</th>\n",
       "      <th>workers</th>\n",
       "    </tr>\n",
       "  </thead>\n",
       "  <tbody>\n",
       "    <tr>\n",
       "      <th>16</th>\n",
       "      <td>Bad Guy</td>\n",
       "      <td>None</td>\n",
       "      <td>Billie Eilish O'Connell &amp; Finneas O'Connell, s...</td>\n",
       "    </tr>\n",
       "    <tr>\n",
       "      <th>17</th>\n",
       "      <td>Always Remember Us This Way</td>\n",
       "      <td>None</td>\n",
       "      <td>Natalie Hemby, Lady Gaga, Hillary Lindsey &amp; Lo...</td>\n",
       "    </tr>\n",
       "    <tr>\n",
       "      <th>18</th>\n",
       "      <td>Bring My Flowers Now</td>\n",
       "      <td>None</td>\n",
       "      <td>Brandi Carlile, Phil Hanseroth, Tim Hanseroth ...</td>\n",
       "    </tr>\n",
       "    <tr>\n",
       "      <th>19</th>\n",
       "      <td>Hard Place</td>\n",
       "      <td>None</td>\n",
       "      <td>Ruby Amanfu, Sam Ashworth, D. Arcelious Harris...</td>\n",
       "    </tr>\n",
       "    <tr>\n",
       "      <th>20</th>\n",
       "      <td>Lover</td>\n",
       "      <td>None</td>\n",
       "      <td>Taylor Swift, songwriter (Taylor Swift)</td>\n",
       "    </tr>\n",
       "  </tbody>\n",
       "</table>\n",
       "</div>"
      ],
      "text/plain": [
       "                        nominee artist  \\\n",
       "16                      Bad Guy   None   \n",
       "17  Always Remember Us This Way   None   \n",
       "18         Bring My Flowers Now   None   \n",
       "19                   Hard Place   None   \n",
       "20                        Lover   None   \n",
       "\n",
       "                                              workers  \n",
       "16  Billie Eilish O'Connell & Finneas O'Connell, s...  \n",
       "17  Natalie Hemby, Lady Gaga, Hillary Lindsey & Lo...  \n",
       "18  Brandi Carlile, Phil Hanseroth, Tim Hanseroth ...  \n",
       "19  Ruby Amanfu, Sam Ashworth, D. Arcelious Harris...  \n",
       "20            Taylor Swift, songwriter (Taylor Swift)  "
      ]
     },
     "execution_count": 77,
     "metadata": {},
     "output_type": "execute_result"
    }
   ],
   "source": [
    "df1[df1[\"workers\"].str.contains(r'\\(.*?\\)', na=False)][[\"nominee\", \"artist\", \"workers\"]].head(5)"
   ]
  },
  {
   "cell_type": "code",
   "execution_count": 78,
   "metadata": {},
   "outputs": [
    {
     "data": {
      "text/html": [
       "<div>\n",
       "<style scoped>\n",
       "    .dataframe tbody tr th:only-of-type {\n",
       "        vertical-align: middle;\n",
       "    }\n",
       "\n",
       "    .dataframe tbody tr th {\n",
       "        vertical-align: top;\n",
       "    }\n",
       "\n",
       "    .dataframe thead th {\n",
       "        text-align: right;\n",
       "    }\n",
       "</style>\n",
       "<table border=\"1\" class=\"dataframe\">\n",
       "  <thead>\n",
       "    <tr style=\"text-align: right;\">\n",
       "      <th></th>\n",
       "      <th>nominee</th>\n",
       "      <th>artist</th>\n",
       "      <th>workers</th>\n",
       "    </tr>\n",
       "  </thead>\n",
       "  <tbody>\n",
       "    <tr>\n",
       "      <th>0</th>\n",
       "      <td>Bad Guy</td>\n",
       "      <td>Billie Eilish</td>\n",
       "      <td>Finneas O'Connell, producer; Rob Kinelski &amp; Fi...</td>\n",
       "    </tr>\n",
       "    <tr>\n",
       "      <th>1</th>\n",
       "      <td>Hey, Ma</td>\n",
       "      <td>Bon Iver</td>\n",
       "      <td>BJ Burton, Brad Cook, Chris Messina &amp; Justin V...</td>\n",
       "    </tr>\n",
       "    <tr>\n",
       "      <th>2</th>\n",
       "      <td>7 rings</td>\n",
       "      <td>Ariana Grande</td>\n",
       "      <td>Charles Anderson, Tommy Brown, Michael Foster ...</td>\n",
       "    </tr>\n",
       "    <tr>\n",
       "      <th>3</th>\n",
       "      <td>Hard Place</td>\n",
       "      <td>H.E.R.</td>\n",
       "      <td>Rodney “Darkchild” Jerkins, producer; Joseph H...</td>\n",
       "    </tr>\n",
       "    <tr>\n",
       "      <th>4</th>\n",
       "      <td>Talk</td>\n",
       "      <td>Khalid</td>\n",
       "      <td>Disclosure &amp; Denis Kosiak, producers; Ingmar C...</td>\n",
       "    </tr>\n",
       "  </tbody>\n",
       "</table>\n",
       "</div>"
      ],
      "text/plain": [
       "      nominee         artist  \\\n",
       "0     Bad Guy  Billie Eilish   \n",
       "1     Hey, Ma       Bon Iver   \n",
       "2     7 rings  Ariana Grande   \n",
       "3  Hard Place         H.E.R.   \n",
       "4        Talk         Khalid   \n",
       "\n",
       "                                             workers  \n",
       "0  Finneas O'Connell, producer; Rob Kinelski & Fi...  \n",
       "1  BJ Burton, Brad Cook, Chris Messina & Justin V...  \n",
       "2  Charles Anderson, Tommy Brown, Michael Foster ...  \n",
       "3  Rodney “Darkchild” Jerkins, producer; Joseph H...  \n",
       "4  Disclosure & Denis Kosiak, producers; Ingmar C...  "
      ]
     },
     "execution_count": 78,
     "metadata": {},
     "output_type": "execute_result"
    }
   ],
   "source": [
    "df1[df1[\"workers\"].str.contains(r';', na=False)][[\"nominee\", \"artist\", \"workers\"]].head(5)"
   ]
  },
  {
   "cell_type": "markdown",
   "metadata": {},
   "source": [
    "Through this identified traits, we are going to define a funtion to input values in `artist` in the cases when `artist` is null but worker is not."
   ]
  },
  {
   "cell_type": "code",
   "execution_count": 1,
   "metadata": {},
   "outputs": [],
   "source": [
    "def update_artist_from_workers_advanced(df):\n",
    "    \"\"\"\n",
    "    Enhances the 'artist' column by extracting artist names from the 'workers' column\n",
    "    using common textual patterns and filtering by relevant roles.\n",
    "\n",
    "    Applies the update only where 'artist' is null (missing).\n",
    "\n",
    "    Extraction logic:\n",
    "    1. Text inside parentheses (e.g., \"(Billie Eilish)\").\n",
    "    2. Names separated by semicolons, prioritizing those with \"featuring\".\n",
    "    3. Names separated by commas, filtering out known non-artist roles and keeping relevant ones.\n",
    "\n",
    "    Args:\n",
    "        df (pd.DataFrame): A DataFrame containing 'artist' and 'workers' columns.\n",
    "\n",
    "    Returns:\n",
    "        pd.DataFrame: Updated DataFrame with enriched 'artist' column and 'workers' column removed.\n",
    "    \"\"\"\n",
    "\n",
    "    # Useful and non-useful roles for identifying main artists\n",
    "    artist_roles = [\n",
    "        \"artist\", \"artists\", \"soloist\", \"soloists\", \"choir\", \"ensembles\"\n",
    "    ]\n",
    "\n",
    "    non_artist_roles = [\n",
    "        \"producer\", \"producers\", \"composer\", \"composers\", \"engineer\", \"engineers\",\n",
    "        \"songwriter\", \"songwriters\", \"arranger\", \"arrangers\", \"mastering\",\n",
    "        \"remixer\", \"art\", \"album\", \"surround\", \"compilation\", \"david\", \"john\"\n",
    "    ]\n",
    "\n",
    "    def extract_artists(workers):\n",
    "        if not isinstance(workers, str):\n",
    "            return None\n",
    "\n",
    "        # Step 1: Parentheses\n",
    "        match = re.search(r'\\((.*?)\\)', workers)\n",
    "        if match:\n",
    "            return match.group(1).strip()\n",
    "\n",
    "        # Step 2: Semicolon-separated names\n",
    "        if \";\" in workers:\n",
    "            parts = [part.strip() for part in workers.split(\";\")]\n",
    "            featuring_parts = [p for p in parts if \"featuring\" in p.lower()]\n",
    "            if featuring_parts:\n",
    "                return \" / \".join(featuring_parts)\n",
    "            return \" / \".join(parts)\n",
    "\n",
    "        # Step 3: Comma-separated names with role filtering\n",
    "        artists = []\n",
    "        for part in [p.strip() for p in workers.split(\",\")]:\n",
    "            lowered = part.lower()\n",
    "            if any(role in lowered for role in artist_roles):\n",
    "                artists.append(part)\n",
    "            elif not any(role in lowered for role in non_artist_roles):\n",
    "                artists.append(part)\n",
    "        if artists:\n",
    "            return \" / \".join(artists)\n",
    "\n",
    "        return None\n",
    "\n",
    "    # Normalize artist null values\n",
    "    df[\"artist\"] = df[\"artist\"].replace([\"None\", \"\"], pd.NA)\n",
    "\n",
    "    # Apply extraction only where artist is missing\n",
    "    missing_mask = df[\"artist\"].isna()\n",
    "    df.loc[missing_mask, \"artist\"] = df.loc[missing_mask, \"workers\"].apply(extract_artists)\n",
    "\n",
    "    # Drop workers column\n",
    "    df.drop(columns=[\"workers\"], inplace=True)\n",
    "\n",
    "    return df\n"
   ]
  },
  {
   "cell_type": "code",
   "execution_count": 83,
   "metadata": {},
   "outputs": [
    {
     "ename": "KeyError",
     "evalue": "'workers'",
     "output_type": "error",
     "traceback": [
      "\u001b[31m---------------------------------------------------------------------------\u001b[39m",
      "\u001b[31mKeyError\u001b[39m                                  Traceback (most recent call last)",
      "\u001b[36mFile \u001b[39m\u001b[32m~/ws_002/venv/lib/python3.12/site-packages/pandas/core/indexes/base.py:3805\u001b[39m, in \u001b[36mIndex.get_loc\u001b[39m\u001b[34m(self, key)\u001b[39m\n\u001b[32m   3804\u001b[39m \u001b[38;5;28;01mtry\u001b[39;00m:\n\u001b[32m-> \u001b[39m\u001b[32m3805\u001b[39m     \u001b[38;5;28;01mreturn\u001b[39;00m \u001b[38;5;28;43mself\u001b[39;49m\u001b[43m.\u001b[49m\u001b[43m_engine\u001b[49m\u001b[43m.\u001b[49m\u001b[43mget_loc\u001b[49m\u001b[43m(\u001b[49m\u001b[43mcasted_key\u001b[49m\u001b[43m)\u001b[49m\n\u001b[32m   3806\u001b[39m \u001b[38;5;28;01mexcept\u001b[39;00m \u001b[38;5;167;01mKeyError\u001b[39;00m \u001b[38;5;28;01mas\u001b[39;00m err:\n",
      "\u001b[36mFile \u001b[39m\u001b[32mindex.pyx:167\u001b[39m, in \u001b[36mpandas._libs.index.IndexEngine.get_loc\u001b[39m\u001b[34m()\u001b[39m\n",
      "\u001b[36mFile \u001b[39m\u001b[32mindex.pyx:196\u001b[39m, in \u001b[36mpandas._libs.index.IndexEngine.get_loc\u001b[39m\u001b[34m()\u001b[39m\n",
      "\u001b[36mFile \u001b[39m\u001b[32mpandas/_libs/hashtable_class_helper.pxi:7081\u001b[39m, in \u001b[36mpandas._libs.hashtable.PyObjectHashTable.get_item\u001b[39m\u001b[34m()\u001b[39m\n",
      "\u001b[36mFile \u001b[39m\u001b[32mpandas/_libs/hashtable_class_helper.pxi:7089\u001b[39m, in \u001b[36mpandas._libs.hashtable.PyObjectHashTable.get_item\u001b[39m\u001b[34m()\u001b[39m\n",
      "\u001b[31mKeyError\u001b[39m: 'workers'",
      "\nThe above exception was the direct cause of the following exception:\n",
      "\u001b[31mKeyError\u001b[39m                                  Traceback (most recent call last)",
      "\u001b[36mCell\u001b[39m\u001b[36m \u001b[39m\u001b[32mIn[83]\u001b[39m\u001b[32m, line 1\u001b[39m\n\u001b[32m----> \u001b[39m\u001b[32m1\u001b[39m df1 = \u001b[43mupdate_artist_from_workers_advanced\u001b[49m\u001b[43m(\u001b[49m\u001b[43mdf1\u001b[49m\u001b[43m)\u001b[49m\n",
      "\u001b[36mCell\u001b[39m\u001b[36m \u001b[39m\u001b[32mIn[79]\u001b[39m\u001b[32m, line 66\u001b[39m, in \u001b[36mupdate_artist_from_workers_advanced\u001b[39m\u001b[34m(df)\u001b[39m\n\u001b[32m     64\u001b[39m \u001b[38;5;66;03m# Apply extraction only where artist is missing\u001b[39;00m\n\u001b[32m     65\u001b[39m missing_mask = df[\u001b[33m\"\u001b[39m\u001b[33martist\u001b[39m\u001b[33m\"\u001b[39m].isna()\n\u001b[32m---> \u001b[39m\u001b[32m66\u001b[39m df.loc[missing_mask, \u001b[33m\"\u001b[39m\u001b[33martist\u001b[39m\u001b[33m\"\u001b[39m] = \u001b[43mdf\u001b[49m\u001b[43m.\u001b[49m\u001b[43mloc\u001b[49m\u001b[43m[\u001b[49m\u001b[43mmissing_mask\u001b[49m\u001b[43m,\u001b[49m\u001b[43m \u001b[49m\u001b[33;43m\"\u001b[39;49m\u001b[33;43mworkers\u001b[39;49m\u001b[33;43m\"\u001b[39;49m\u001b[43m]\u001b[49m.apply(extract_artists)\n\u001b[32m     68\u001b[39m \u001b[38;5;66;03m# Drop workers column\u001b[39;00m\n\u001b[32m     69\u001b[39m df.drop(columns=[\u001b[33m\"\u001b[39m\u001b[33mworkers\u001b[39m\u001b[33m\"\u001b[39m], inplace=\u001b[38;5;28;01mTrue\u001b[39;00m)\n",
      "\u001b[36mFile \u001b[39m\u001b[32m~/ws_002/venv/lib/python3.12/site-packages/pandas/core/indexing.py:1184\u001b[39m, in \u001b[36m_LocationIndexer.__getitem__\u001b[39m\u001b[34m(self, key)\u001b[39m\n\u001b[32m   1182\u001b[39m     \u001b[38;5;28;01mif\u001b[39;00m \u001b[38;5;28mself\u001b[39m._is_scalar_access(key):\n\u001b[32m   1183\u001b[39m         \u001b[38;5;28;01mreturn\u001b[39;00m \u001b[38;5;28mself\u001b[39m.obj._get_value(*key, takeable=\u001b[38;5;28mself\u001b[39m._takeable)\n\u001b[32m-> \u001b[39m\u001b[32m1184\u001b[39m     \u001b[38;5;28;01mreturn\u001b[39;00m \u001b[38;5;28;43mself\u001b[39;49m\u001b[43m.\u001b[49m\u001b[43m_getitem_tuple\u001b[49m\u001b[43m(\u001b[49m\u001b[43mkey\u001b[49m\u001b[43m)\u001b[49m\n\u001b[32m   1185\u001b[39m \u001b[38;5;28;01melse\u001b[39;00m:\n\u001b[32m   1186\u001b[39m     \u001b[38;5;66;03m# we by definition only have the 0th axis\u001b[39;00m\n\u001b[32m   1187\u001b[39m     axis = \u001b[38;5;28mself\u001b[39m.axis \u001b[38;5;129;01mor\u001b[39;00m \u001b[32m0\u001b[39m\n",
      "\u001b[36mFile \u001b[39m\u001b[32m~/ws_002/venv/lib/python3.12/site-packages/pandas/core/indexing.py:1368\u001b[39m, in \u001b[36m_LocIndexer._getitem_tuple\u001b[39m\u001b[34m(self, tup)\u001b[39m\n\u001b[32m   1366\u001b[39m \u001b[38;5;28;01mwith\u001b[39;00m suppress(IndexingError):\n\u001b[32m   1367\u001b[39m     tup = \u001b[38;5;28mself\u001b[39m._expand_ellipsis(tup)\n\u001b[32m-> \u001b[39m\u001b[32m1368\u001b[39m     \u001b[38;5;28;01mreturn\u001b[39;00m \u001b[38;5;28;43mself\u001b[39;49m\u001b[43m.\u001b[49m\u001b[43m_getitem_lowerdim\u001b[49m\u001b[43m(\u001b[49m\u001b[43mtup\u001b[49m\u001b[43m)\u001b[49m\n\u001b[32m   1370\u001b[39m \u001b[38;5;66;03m# no multi-index, so validate all of the indexers\u001b[39;00m\n\u001b[32m   1371\u001b[39m tup = \u001b[38;5;28mself\u001b[39m._validate_tuple_indexer(tup)\n",
      "\u001b[36mFile \u001b[39m\u001b[32m~/ws_002/venv/lib/python3.12/site-packages/pandas/core/indexing.py:1065\u001b[39m, in \u001b[36m_LocationIndexer._getitem_lowerdim\u001b[39m\u001b[34m(self, tup)\u001b[39m\n\u001b[32m   1061\u001b[39m \u001b[38;5;28;01mfor\u001b[39;00m i, key \u001b[38;5;129;01min\u001b[39;00m \u001b[38;5;28menumerate\u001b[39m(tup):\n\u001b[32m   1062\u001b[39m     \u001b[38;5;28;01mif\u001b[39;00m is_label_like(key):\n\u001b[32m   1063\u001b[39m         \u001b[38;5;66;03m# We don't need to check for tuples here because those are\u001b[39;00m\n\u001b[32m   1064\u001b[39m         \u001b[38;5;66;03m#  caught by the _is_nested_tuple_indexer check above.\u001b[39;00m\n\u001b[32m-> \u001b[39m\u001b[32m1065\u001b[39m         section = \u001b[38;5;28;43mself\u001b[39;49m\u001b[43m.\u001b[49m\u001b[43m_getitem_axis\u001b[49m\u001b[43m(\u001b[49m\u001b[43mkey\u001b[49m\u001b[43m,\u001b[49m\u001b[43m \u001b[49m\u001b[43maxis\u001b[49m\u001b[43m=\u001b[49m\u001b[43mi\u001b[49m\u001b[43m)\u001b[49m\n\u001b[32m   1067\u001b[39m         \u001b[38;5;66;03m# We should never have a scalar section here, because\u001b[39;00m\n\u001b[32m   1068\u001b[39m         \u001b[38;5;66;03m#  _getitem_lowerdim is only called after a check for\u001b[39;00m\n\u001b[32m   1069\u001b[39m         \u001b[38;5;66;03m#  is_scalar_access, which that would be.\u001b[39;00m\n\u001b[32m   1070\u001b[39m         \u001b[38;5;28;01mif\u001b[39;00m section.ndim == \u001b[38;5;28mself\u001b[39m.ndim:\n\u001b[32m   1071\u001b[39m             \u001b[38;5;66;03m# we're in the middle of slicing through a MultiIndex\u001b[39;00m\n\u001b[32m   1072\u001b[39m             \u001b[38;5;66;03m# revise the key wrt to `section` by inserting an _NS\u001b[39;00m\n",
      "\u001b[36mFile \u001b[39m\u001b[32m~/ws_002/venv/lib/python3.12/site-packages/pandas/core/indexing.py:1431\u001b[39m, in \u001b[36m_LocIndexer._getitem_axis\u001b[39m\u001b[34m(self, key, axis)\u001b[39m\n\u001b[32m   1429\u001b[39m \u001b[38;5;66;03m# fall thru to straight lookup\u001b[39;00m\n\u001b[32m   1430\u001b[39m \u001b[38;5;28mself\u001b[39m._validate_key(key, axis)\n\u001b[32m-> \u001b[39m\u001b[32m1431\u001b[39m \u001b[38;5;28;01mreturn\u001b[39;00m \u001b[38;5;28;43mself\u001b[39;49m\u001b[43m.\u001b[49m\u001b[43m_get_label\u001b[49m\u001b[43m(\u001b[49m\u001b[43mkey\u001b[49m\u001b[43m,\u001b[49m\u001b[43m \u001b[49m\u001b[43maxis\u001b[49m\u001b[43m=\u001b[49m\u001b[43maxis\u001b[49m\u001b[43m)\u001b[49m\n",
      "\u001b[36mFile \u001b[39m\u001b[32m~/ws_002/venv/lib/python3.12/site-packages/pandas/core/indexing.py:1381\u001b[39m, in \u001b[36m_LocIndexer._get_label\u001b[39m\u001b[34m(self, label, axis)\u001b[39m\n\u001b[32m   1379\u001b[39m \u001b[38;5;28;01mdef\u001b[39;00m\u001b[38;5;250m \u001b[39m\u001b[34m_get_label\u001b[39m(\u001b[38;5;28mself\u001b[39m, label, axis: AxisInt):\n\u001b[32m   1380\u001b[39m     \u001b[38;5;66;03m# GH#5567 this will fail if the label is not present in the axis.\u001b[39;00m\n\u001b[32m-> \u001b[39m\u001b[32m1381\u001b[39m     \u001b[38;5;28;01mreturn\u001b[39;00m \u001b[38;5;28;43mself\u001b[39;49m\u001b[43m.\u001b[49m\u001b[43mobj\u001b[49m\u001b[43m.\u001b[49m\u001b[43mxs\u001b[49m\u001b[43m(\u001b[49m\u001b[43mlabel\u001b[49m\u001b[43m,\u001b[49m\u001b[43m \u001b[49m\u001b[43maxis\u001b[49m\u001b[43m=\u001b[49m\u001b[43maxis\u001b[49m\u001b[43m)\u001b[49m\n",
      "\u001b[36mFile \u001b[39m\u001b[32m~/ws_002/venv/lib/python3.12/site-packages/pandas/core/generic.py:4287\u001b[39m, in \u001b[36mNDFrame.xs\u001b[39m\u001b[34m(self, key, axis, level, drop_level)\u001b[39m\n\u001b[32m   4285\u001b[39m \u001b[38;5;28;01mif\u001b[39;00m axis == \u001b[32m1\u001b[39m:\n\u001b[32m   4286\u001b[39m     \u001b[38;5;28;01mif\u001b[39;00m drop_level:\n\u001b[32m-> \u001b[39m\u001b[32m4287\u001b[39m         \u001b[38;5;28;01mreturn\u001b[39;00m \u001b[38;5;28;43mself\u001b[39;49m\u001b[43m[\u001b[49m\u001b[43mkey\u001b[49m\u001b[43m]\u001b[49m\n\u001b[32m   4288\u001b[39m     index = \u001b[38;5;28mself\u001b[39m.columns\n\u001b[32m   4289\u001b[39m \u001b[38;5;28;01melse\u001b[39;00m:\n",
      "\u001b[36mFile \u001b[39m\u001b[32m~/ws_002/venv/lib/python3.12/site-packages/pandas/core/frame.py:4102\u001b[39m, in \u001b[36mDataFrame.__getitem__\u001b[39m\u001b[34m(self, key)\u001b[39m\n\u001b[32m   4100\u001b[39m \u001b[38;5;28;01mif\u001b[39;00m \u001b[38;5;28mself\u001b[39m.columns.nlevels > \u001b[32m1\u001b[39m:\n\u001b[32m   4101\u001b[39m     \u001b[38;5;28;01mreturn\u001b[39;00m \u001b[38;5;28mself\u001b[39m._getitem_multilevel(key)\n\u001b[32m-> \u001b[39m\u001b[32m4102\u001b[39m indexer = \u001b[38;5;28;43mself\u001b[39;49m\u001b[43m.\u001b[49m\u001b[43mcolumns\u001b[49m\u001b[43m.\u001b[49m\u001b[43mget_loc\u001b[49m\u001b[43m(\u001b[49m\u001b[43mkey\u001b[49m\u001b[43m)\u001b[49m\n\u001b[32m   4103\u001b[39m \u001b[38;5;28;01mif\u001b[39;00m is_integer(indexer):\n\u001b[32m   4104\u001b[39m     indexer = [indexer]\n",
      "\u001b[36mFile \u001b[39m\u001b[32m~/ws_002/venv/lib/python3.12/site-packages/pandas/core/indexes/base.py:3812\u001b[39m, in \u001b[36mIndex.get_loc\u001b[39m\u001b[34m(self, key)\u001b[39m\n\u001b[32m   3807\u001b[39m     \u001b[38;5;28;01mif\u001b[39;00m \u001b[38;5;28misinstance\u001b[39m(casted_key, \u001b[38;5;28mslice\u001b[39m) \u001b[38;5;129;01mor\u001b[39;00m (\n\u001b[32m   3808\u001b[39m         \u001b[38;5;28misinstance\u001b[39m(casted_key, abc.Iterable)\n\u001b[32m   3809\u001b[39m         \u001b[38;5;129;01mand\u001b[39;00m \u001b[38;5;28many\u001b[39m(\u001b[38;5;28misinstance\u001b[39m(x, \u001b[38;5;28mslice\u001b[39m) \u001b[38;5;28;01mfor\u001b[39;00m x \u001b[38;5;129;01min\u001b[39;00m casted_key)\n\u001b[32m   3810\u001b[39m     ):\n\u001b[32m   3811\u001b[39m         \u001b[38;5;28;01mraise\u001b[39;00m InvalidIndexError(key)\n\u001b[32m-> \u001b[39m\u001b[32m3812\u001b[39m     \u001b[38;5;28;01mraise\u001b[39;00m \u001b[38;5;167;01mKeyError\u001b[39;00m(key) \u001b[38;5;28;01mfrom\u001b[39;00m\u001b[38;5;250m \u001b[39m\u001b[34;01merr\u001b[39;00m\n\u001b[32m   3813\u001b[39m \u001b[38;5;28;01mexcept\u001b[39;00m \u001b[38;5;167;01mTypeError\u001b[39;00m:\n\u001b[32m   3814\u001b[39m     \u001b[38;5;66;03m# If we have a listlike key, _check_indexing_error will raise\u001b[39;00m\n\u001b[32m   3815\u001b[39m     \u001b[38;5;66;03m#  InvalidIndexError. Otherwise we fall through and re-raise\u001b[39;00m\n\u001b[32m   3816\u001b[39m     \u001b[38;5;66;03m#  the TypeError.\u001b[39;00m\n\u001b[32m   3817\u001b[39m     \u001b[38;5;28mself\u001b[39m._check_indexing_error(key)\n",
      "\u001b[31mKeyError\u001b[39m: 'workers'"
     ]
    }
   ],
   "source": [
    "df1 = update_artist_from_workers_advanced(df1)"
   ]
  },
  {
   "cell_type": "code",
   "execution_count": 81,
   "metadata": {},
   "outputs": [
    {
     "data": {
      "text/html": [
       "<div>\n",
       "<style scoped>\n",
       "    .dataframe tbody tr th:only-of-type {\n",
       "        vertical-align: middle;\n",
       "    }\n",
       "\n",
       "    .dataframe tbody tr th {\n",
       "        vertical-align: top;\n",
       "    }\n",
       "\n",
       "    .dataframe thead th {\n",
       "        text-align: right;\n",
       "    }\n",
       "</style>\n",
       "<table border=\"1\" class=\"dataframe\">\n",
       "  <thead>\n",
       "    <tr style=\"text-align: right;\">\n",
       "      <th></th>\n",
       "      <th>year</th>\n",
       "      <th>title</th>\n",
       "      <th>published_at</th>\n",
       "      <th>updated_at</th>\n",
       "      <th>category</th>\n",
       "      <th>nominee</th>\n",
       "      <th>artist</th>\n",
       "      <th>winner</th>\n",
       "      <th>workers_clean</th>\n",
       "    </tr>\n",
       "  </thead>\n",
       "  <tbody>\n",
       "    <tr>\n",
       "      <th>402</th>\n",
       "      <td>2019</td>\n",
       "      <td>62nd Annual GRAMMY Awards  (2019)</td>\n",
       "      <td>2020-05-19T05:10:28-07:00</td>\n",
       "      <td>2020-05-19T05:10:28-07:00</td>\n",
       "      <td>Best Chamber Music/Small Ensemble Performance</td>\n",
       "      <td>Shaw: Orange</td>\n",
       "      <td>None</td>\n",
       "      <td>True</td>\n",
       "      <td>attacca quartet</td>\n",
       "    </tr>\n",
       "    <tr>\n",
       "      <th>404</th>\n",
       "      <td>2019</td>\n",
       "      <td>62nd Annual GRAMMY Awards  (2019)</td>\n",
       "      <td>2020-05-19T05:10:28-07:00</td>\n",
       "      <td>2020-05-19T05:10:28-07:00</td>\n",
       "      <td>Best Chamber Music/Small Ensemble Performance</td>\n",
       "      <td>Freedom &amp; Faith</td>\n",
       "      <td>None</td>\n",
       "      <td>True</td>\n",
       "      <td>publiquartet</td>\n",
       "    </tr>\n",
       "    <tr>\n",
       "      <th>462</th>\n",
       "      <td>2014</td>\n",
       "      <td>57th Annual GRAMMY Awards  (2014)</td>\n",
       "      <td>2017-11-28T00:03:45-08:00</td>\n",
       "      <td>2020-09-01T12:16:40-07:00</td>\n",
       "      <td>Best Contemporary Classical Composition</td>\n",
       "      <td>Adams, John Luther: Become Ocean</td>\n",
       "      <td>None</td>\n",
       "      <td>True</td>\n",
       "      <td>john luther adams, composer</td>\n",
       "    </tr>\n",
       "    <tr>\n",
       "      <th>1028</th>\n",
       "      <td>2012</td>\n",
       "      <td>55th Annual GRAMMY Awards  (2012)</td>\n",
       "      <td>2017-11-28T00:03:45-08:00</td>\n",
       "      <td>2019-09-10T01:06:11-07:00</td>\n",
       "      <td>Best Contemporary Classical  Composition</td>\n",
       "      <td>Hartke, Stephen: Meanwhile - Incidental Music ...</td>\n",
       "      <td>None</td>\n",
       "      <td>True</td>\n",
       "      <td>stephen hartke, composer</td>\n",
       "    </tr>\n",
       "    <tr>\n",
       "      <th>1434</th>\n",
       "      <td>2008</td>\n",
       "      <td>51st Annual GRAMMY Awards  (2008)</td>\n",
       "      <td>2017-11-28T00:03:45-08:00</td>\n",
       "      <td>2019-09-10T01:07:37-07:00</td>\n",
       "      <td>Best Classical Contemporary Composition</td>\n",
       "      <td>Mr. Tambourine Man: Seven Poems Of Bob Dylan</td>\n",
       "      <td>None</td>\n",
       "      <td>True</td>\n",
       "      <td>john corigliano, composer</td>\n",
       "    </tr>\n",
       "    <tr>\n",
       "      <th>1872</th>\n",
       "      <td>2004</td>\n",
       "      <td>47th Annual GRAMMY Awards  (2004)</td>\n",
       "      <td>2017-11-28T00:03:45-08:00</td>\n",
       "      <td>2019-09-10T01:08:19-07:00</td>\n",
       "      <td>Best Classical Contemporary Composition</td>\n",
       "      <td>Adams: On The Transmigration Of Souls</td>\n",
       "      <td>None</td>\n",
       "      <td>True</td>\n",
       "      <td>john adams, composer</td>\n",
       "    </tr>\n",
       "    <tr>\n",
       "      <th>2085</th>\n",
       "      <td>2002</td>\n",
       "      <td>45th Annual GRAMMY Awards  (2002)</td>\n",
       "      <td>2017-11-28T00:03:45-08:00</td>\n",
       "      <td>2019-09-10T01:06:59-07:00</td>\n",
       "      <td>Best Classical Contemporary Composition</td>\n",
       "      <td>Tavener: Lamentations &amp; Praises</td>\n",
       "      <td>None</td>\n",
       "      <td>True</td>\n",
       "      <td>john tavener, composer</td>\n",
       "    </tr>\n",
       "    <tr>\n",
       "      <th>2571</th>\n",
       "      <td>1997</td>\n",
       "      <td>40th Annual GRAMMY Awards  (1997)</td>\n",
       "      <td>2017-11-28T00:03:45-08:00</td>\n",
       "      <td>2019-09-10T01:07:37-07:00</td>\n",
       "      <td>Best Classical Vocal Performance</td>\n",
       "      <td>An Italian Songbook - Works Of Bellini, Donize...</td>\n",
       "      <td>None</td>\n",
       "      <td>True</td>\n",
       "      <td></td>\n",
       "    </tr>\n",
       "    <tr>\n",
       "      <th>2572</th>\n",
       "      <td>1997</td>\n",
       "      <td>40th Annual GRAMMY Awards  (1997)</td>\n",
       "      <td>2017-11-28T00:03:45-08:00</td>\n",
       "      <td>2019-09-10T01:07:37-07:00</td>\n",
       "      <td>Best Classical Contemporary Composition</td>\n",
       "      <td>Adams: El Dorado</td>\n",
       "      <td>None</td>\n",
       "      <td>True</td>\n",
       "      <td>john adams, composer</td>\n",
       "    </tr>\n",
       "    <tr>\n",
       "      <th>2660</th>\n",
       "      <td>1996</td>\n",
       "      <td>39th Annual GRAMMY Awards  (1996)</td>\n",
       "      <td>2017-11-28T00:03:45-08:00</td>\n",
       "      <td>2019-09-10T01:06:11-07:00</td>\n",
       "      <td>Best Classical Contemporary Composition</td>\n",
       "      <td>Corigliano: String Quartet</td>\n",
       "      <td>None</td>\n",
       "      <td>True</td>\n",
       "      <td>john corigliano, composer</td>\n",
       "    </tr>\n",
       "    <tr>\n",
       "      <th>2834</th>\n",
       "      <td>1994</td>\n",
       "      <td>37th Annual GRAMMY Awards  (1994)</td>\n",
       "      <td>2017-11-28T00:03:45-08:00</td>\n",
       "      <td>2019-09-10T01:09:02-07:00</td>\n",
       "      <td>Best Classical Vocal Performance</td>\n",
       "      <td>The Impatient Lover - Italian Songs By Beethov...</td>\n",
       "      <td>None</td>\n",
       "      <td>True</td>\n",
       "      <td></td>\n",
       "    </tr>\n",
       "    <tr>\n",
       "      <th>2915</th>\n",
       "      <td>1993</td>\n",
       "      <td>36th Annual GRAMMY Awards  (1993)</td>\n",
       "      <td>2017-11-28T00:03:45-08:00</td>\n",
       "      <td>2019-09-10T01:08:19-07:00</td>\n",
       "      <td>Best Classical Vocal Performance</td>\n",
       "      <td>The Art Of Arleen Auger (Works Of Larsen, Purc...</td>\n",
       "      <td>None</td>\n",
       "      <td>True</td>\n",
       "      <td></td>\n",
       "    </tr>\n",
       "    <tr>\n",
       "      <th>2916</th>\n",
       "      <td>1993</td>\n",
       "      <td>36th Annual GRAMMY Awards  (1993)</td>\n",
       "      <td>2017-11-28T00:03:45-08:00</td>\n",
       "      <td>2019-09-10T01:08:19-07:00</td>\n",
       "      <td>Best Contemporary Composition</td>\n",
       "      <td>Carter: Violin Concerto</td>\n",
       "      <td>None</td>\n",
       "      <td>True</td>\n",
       "      <td>elliott carter, composer</td>\n",
       "    </tr>\n",
       "    <tr>\n",
       "      <th>2999</th>\n",
       "      <td>1992</td>\n",
       "      <td>35th Annual GRAMMY Awards  (1992)</td>\n",
       "      <td>2017-11-28T00:03:45-08:00</td>\n",
       "      <td>2019-09-10T01:07:37-07:00</td>\n",
       "      <td>Best Classical Vocal Performance</td>\n",
       "      <td>Kathleen Battle At Carnegie Hall (Handel, Moza...</td>\n",
       "      <td>None</td>\n",
       "      <td>True</td>\n",
       "      <td></td>\n",
       "    </tr>\n",
       "    <tr>\n",
       "      <th>3077</th>\n",
       "      <td>1991</td>\n",
       "      <td>34th Annual GRAMMY Awards  (1991)</td>\n",
       "      <td>2017-11-28T00:03:45-08:00</td>\n",
       "      <td>2019-09-10T01:06:59-07:00</td>\n",
       "      <td>Best Contemporary Composition</td>\n",
       "      <td>Corigliano: Symphony No. 1</td>\n",
       "      <td>None</td>\n",
       "      <td>True</td>\n",
       "      <td>john corigliano, composer</td>\n",
       "    </tr>\n",
       "    <tr>\n",
       "      <th>3304</th>\n",
       "      <td>1988</td>\n",
       "      <td>31st Annual GRAMMY Awards  (1988)</td>\n",
       "      <td>2017-11-28T00:03:45-08:00</td>\n",
       "      <td>2019-09-10T01:08:19-07:00</td>\n",
       "      <td>Best Contemporary Composition</td>\n",
       "      <td>Adams: Nixon In China</td>\n",
       "      <td>None</td>\n",
       "      <td>True</td>\n",
       "      <td>john adams, composer</td>\n",
       "    </tr>\n",
       "  </tbody>\n",
       "</table>\n",
       "</div>"
      ],
      "text/plain": [
       "      year                              title               published_at  \\\n",
       "402   2019  62nd Annual GRAMMY Awards  (2019)  2020-05-19T05:10:28-07:00   \n",
       "404   2019  62nd Annual GRAMMY Awards  (2019)  2020-05-19T05:10:28-07:00   \n",
       "462   2014  57th Annual GRAMMY Awards  (2014)  2017-11-28T00:03:45-08:00   \n",
       "1028  2012  55th Annual GRAMMY Awards  (2012)  2017-11-28T00:03:45-08:00   \n",
       "1434  2008  51st Annual GRAMMY Awards  (2008)  2017-11-28T00:03:45-08:00   \n",
       "1872  2004  47th Annual GRAMMY Awards  (2004)  2017-11-28T00:03:45-08:00   \n",
       "2085  2002  45th Annual GRAMMY Awards  (2002)  2017-11-28T00:03:45-08:00   \n",
       "2571  1997  40th Annual GRAMMY Awards  (1997)  2017-11-28T00:03:45-08:00   \n",
       "2572  1997  40th Annual GRAMMY Awards  (1997)  2017-11-28T00:03:45-08:00   \n",
       "2660  1996  39th Annual GRAMMY Awards  (1996)  2017-11-28T00:03:45-08:00   \n",
       "2834  1994  37th Annual GRAMMY Awards  (1994)  2017-11-28T00:03:45-08:00   \n",
       "2915  1993  36th Annual GRAMMY Awards  (1993)  2017-11-28T00:03:45-08:00   \n",
       "2916  1993  36th Annual GRAMMY Awards  (1993)  2017-11-28T00:03:45-08:00   \n",
       "2999  1992  35th Annual GRAMMY Awards  (1992)  2017-11-28T00:03:45-08:00   \n",
       "3077  1991  34th Annual GRAMMY Awards  (1991)  2017-11-28T00:03:45-08:00   \n",
       "3304  1988  31st Annual GRAMMY Awards  (1988)  2017-11-28T00:03:45-08:00   \n",
       "\n",
       "                     updated_at  \\\n",
       "402   2020-05-19T05:10:28-07:00   \n",
       "404   2020-05-19T05:10:28-07:00   \n",
       "462   2020-09-01T12:16:40-07:00   \n",
       "1028  2019-09-10T01:06:11-07:00   \n",
       "1434  2019-09-10T01:07:37-07:00   \n",
       "1872  2019-09-10T01:08:19-07:00   \n",
       "2085  2019-09-10T01:06:59-07:00   \n",
       "2571  2019-09-10T01:07:37-07:00   \n",
       "2572  2019-09-10T01:07:37-07:00   \n",
       "2660  2019-09-10T01:06:11-07:00   \n",
       "2834  2019-09-10T01:09:02-07:00   \n",
       "2915  2019-09-10T01:08:19-07:00   \n",
       "2916  2019-09-10T01:08:19-07:00   \n",
       "2999  2019-09-10T01:07:37-07:00   \n",
       "3077  2019-09-10T01:06:59-07:00   \n",
       "3304  2019-09-10T01:08:19-07:00   \n",
       "\n",
       "                                           category  \\\n",
       "402   Best Chamber Music/Small Ensemble Performance   \n",
       "404   Best Chamber Music/Small Ensemble Performance   \n",
       "462         Best Contemporary Classical Composition   \n",
       "1028       Best Contemporary Classical  Composition   \n",
       "1434        Best Classical Contemporary Composition   \n",
       "1872        Best Classical Contemporary Composition   \n",
       "2085        Best Classical Contemporary Composition   \n",
       "2571               Best Classical Vocal Performance   \n",
       "2572        Best Classical Contemporary Composition   \n",
       "2660        Best Classical Contemporary Composition   \n",
       "2834               Best Classical Vocal Performance   \n",
       "2915               Best Classical Vocal Performance   \n",
       "2916                  Best Contemporary Composition   \n",
       "2999               Best Classical Vocal Performance   \n",
       "3077                  Best Contemporary Composition   \n",
       "3304                  Best Contemporary Composition   \n",
       "\n",
       "                                                nominee artist  winner  \\\n",
       "402                                        Shaw: Orange   None    True   \n",
       "404                                     Freedom & Faith   None    True   \n",
       "462                    Adams, John Luther: Become Ocean   None    True   \n",
       "1028  Hartke, Stephen: Meanwhile - Incidental Music ...   None    True   \n",
       "1434       Mr. Tambourine Man: Seven Poems Of Bob Dylan   None    True   \n",
       "1872              Adams: On The Transmigration Of Souls   None    True   \n",
       "2085                    Tavener: Lamentations & Praises   None    True   \n",
       "2571  An Italian Songbook - Works Of Bellini, Donize...   None    True   \n",
       "2572                                   Adams: El Dorado   None    True   \n",
       "2660                         Corigliano: String Quartet   None    True   \n",
       "2834  The Impatient Lover - Italian Songs By Beethov...   None    True   \n",
       "2915  The Art Of Arleen Auger (Works Of Larsen, Purc...   None    True   \n",
       "2916                            Carter: Violin Concerto   None    True   \n",
       "2999  Kathleen Battle At Carnegie Hall (Handel, Moza...   None    True   \n",
       "3077                         Corigliano: Symphony No. 1   None    True   \n",
       "3304                              Adams: Nixon In China   None    True   \n",
       "\n",
       "                    workers_clean  \n",
       "402               attacca quartet  \n",
       "404                  publiquartet  \n",
       "462   john luther adams, composer  \n",
       "1028     stephen hartke, composer  \n",
       "1434    john corigliano, composer  \n",
       "1872         john adams, composer  \n",
       "2085       john tavener, composer  \n",
       "2571                               \n",
       "2572         john adams, composer  \n",
       "2660    john corigliano, composer  \n",
       "2834                               \n",
       "2915                               \n",
       "2916     elliott carter, composer  \n",
       "2999                               \n",
       "3077    john corigliano, composer  \n",
       "3304         john adams, composer  "
      ]
     },
     "execution_count": 81,
     "metadata": {},
     "output_type": "execute_result"
    }
   ],
   "source": [
    "# Filter rows where 'artist' column is null\n",
    "null_rows_df = df1[df1[\"artist\"].isnull()]\n",
    "null_rows_df"
   ]
  },
  {
   "cell_type": "markdown",
   "metadata": {},
   "source": [
    "## Disposing of columns"
   ]
  },
  {
   "cell_type": "markdown",
   "metadata": {},
   "source": [
    "### `published_at` and `updated_at` columns"
   ]
  },
  {
   "cell_type": "markdown",
   "metadata": {},
   "source": [
    "In the analysis of the dataset I could not apply a clear use of the values of these two columns. The dates have no relation with the date of the event, or with any ephemeris related to this event. Therefore, I am going to delete them from the dataframe."
   ]
  },
  {
   "cell_type": "code",
   "execution_count": 82,
   "metadata": {},
   "outputs": [],
   "source": [
    "# Drop the specified columns\n",
    "df1 = df1.drop(columns=['published_at', 'updated_at'])"
   ]
  }
 ],
 "metadata": {
  "kernelspec": {
   "display_name": "venv",
   "language": "python",
   "name": "python3"
  },
  "language_info": {
   "codemirror_mode": {
    "name": "ipython",
    "version": 3
   },
   "file_extension": ".py",
   "mimetype": "text/x-python",
   "name": "python",
   "nbconvert_exporter": "python",
   "pygments_lexer": "ipython3",
   "version": "3.12.3"
  }
 },
 "nbformat": 4,
 "nbformat_minor": 2
}
