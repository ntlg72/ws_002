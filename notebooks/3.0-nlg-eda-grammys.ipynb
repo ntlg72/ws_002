{
 "cells": [
  {
   "cell_type": "markdown",
   "metadata": {},
   "source": [
    "# Workshop #2 :\n",
    "## EDA - Grammy Awards Dataset\n",
    "\n",
    "------------------------------------------------------------"
   ]
  },
  {
   "cell_type": "markdown",
   "metadata": {},
   "source": [
    "https://www.kaggle.com/datasets/unanimad/grammy-awards"
   ]
  },
  {
   "cell_type": "markdown",
   "metadata": {},
   "source": [
    "## Importing utilities & Setup"
   ]
  },
  {
   "cell_type": "code",
   "execution_count": 1,
   "metadata": {},
   "outputs": [],
   "source": [
    "import sys\n",
    "import os\n",
    "import pandas as pd\n",
    "import numpy as np\n",
    "import logging\n",
    "import re\n",
    "\n",
    "\n",
    "sys.path.append(os.path.abspath('../'))\n",
    "from src.params import Params\n",
    "from src.client import DatabaseClient\n",
    "from src.logging_config import setup_logging"
   ]
  },
  {
   "cell_type": "code",
   "execution_count": 2,
   "metadata": {},
   "outputs": [],
   "source": [
    "setup_logging()"
   ]
  },
  {
   "cell_type": "markdown",
   "metadata": {},
   "source": [
    "## Data load"
   ]
  },
  {
   "cell_type": "markdown",
   "metadata": {},
   "source": [
    "A Parameters class centralizes anything that can be parametrized in the code. As we want to use the parameters for the connection to the PostgrSQL databases, params are instantiated as `params = Params()`."
   ]
  },
  {
   "cell_type": "code",
   "execution_count": 3,
   "metadata": {},
   "outputs": [
    {
     "name": "stderr",
     "output_type": "stream",
     "text": [
      "2025-04-06 14:12:57,932 - INFO - root - Successfully connected to the database.\n"
     ]
    }
   ],
   "source": [
    "# Parames instance\n",
    "params = Params()\n",
    "\n",
    "# Connection to the database\n",
    "db_client = DatabaseClient(params)"
   ]
  },
  {
   "cell_type": "markdown",
   "metadata": {},
   "source": [
    "The \"Grammy Awards\" data (in the table \"grammys_raw\") is fetched from our PostgreSQL database, using the `db_client`  `.engine` method."
   ]
  },
  {
   "cell_type": "code",
   "execution_count": 4,
   "metadata": {},
   "outputs": [
    {
     "name": "stderr",
     "output_type": "stream",
     "text": [
      "2025-04-06 14:12:58,044 - INFO - root - Data retrieved suscessfully.\n"
     ]
    }
   ],
   "source": [
    "try:\n",
    "    df = pd.read_sql_table(\"grammys_raw\",  con=db_client.engine)\n",
    "    logging.info(\"Data retrieved suscessfully.\")\n",
    "    \n",
    "except Exception as e:\n",
    "\n",
    "    logging.warning(f\"An exception occurred: {e}\")"
   ]
  },
  {
   "cell_type": "markdown",
   "metadata": {},
   "source": [
    "The connection to the dadtabase is close to save resources."
   ]
  },
  {
   "cell_type": "code",
   "execution_count": 5,
   "metadata": {},
   "outputs": [
    {
     "name": "stderr",
     "output_type": "stream",
     "text": [
      "2025-04-06 14:12:58,054 - INFO - root - Connection to database closed successfully.\n"
     ]
    }
   ],
   "source": [
    "try:\n",
    "    db_client.close()\n",
    "except Exception as e:\n",
    "    logging.error(f\"Failed to close connection to the database.\")\n",
    "    logging.error(f\"Error details: {e}\")"
   ]
  },
  {
   "cell_type": "markdown",
   "metadata": {},
   "source": [
    "## Data Overview an Descriptive Statistics"
   ]
  },
  {
   "cell_type": "markdown",
   "metadata": {},
   "source": [
    "### Overview"
   ]
  },
  {
   "cell_type": "markdown",
   "metadata": {},
   "source": [
    "The number of observations and features are obtained through Panda's `.shape` method. The \"Spotify\" dataset contains **4.810 observations (rows)** and **10 features (columns)**."
   ]
  },
  {
   "cell_type": "code",
   "execution_count": 6,
   "metadata": {},
   "outputs": [
    {
     "data": {
      "text/plain": [
       "(4810, 10)"
      ]
     },
     "execution_count": 6,
     "metadata": {},
     "output_type": "execute_result"
    }
   ],
   "source": [
    "df.shape"
   ]
  },
  {
   "cell_type": "markdown",
   "metadata": {},
   "source": [
    "The data types are obtained through Panda's `.dtypes` method. `Year` is the only numerical feature, and `winner` is the only boolean one. The other features are qualitative.\n"
   ]
  },
  {
   "cell_type": "code",
   "execution_count": 7,
   "metadata": {},
   "outputs": [
    {
     "name": "stdout",
     "output_type": "stream",
     "text": [
      "<class 'pandas.core.frame.DataFrame'>\n",
      "RangeIndex: 4810 entries, 0 to 4809\n",
      "Data columns (total 10 columns):\n",
      " #   Column        Non-Null Count  Dtype \n",
      "---  ------        --------------  ----- \n",
      " 0   year          4810 non-null   int64 \n",
      " 1   title         4810 non-null   object\n",
      " 2   published_at  4810 non-null   object\n",
      " 3   updated_at    4810 non-null   object\n",
      " 4   category      4810 non-null   object\n",
      " 5   nominee       4804 non-null   object\n",
      " 6   artist        2970 non-null   object\n",
      " 7   workers       2620 non-null   object\n",
      " 8   img           3443 non-null   object\n",
      " 9   winner        4810 non-null   bool  \n",
      "dtypes: bool(1), int64(1), object(8)\n",
      "memory usage: 343.0+ KB\n"
     ]
    }
   ],
   "source": [
    "df.info()"
   ]
  },
  {
   "cell_type": "markdown",
   "metadata": {},
   "source": [
    "The duplicated rows are obtained through Panda's `.duplicated` method. "
   ]
  },
  {
   "cell_type": "code",
   "execution_count": 8,
   "metadata": {},
   "outputs": [
    {
     "name": "stderr",
     "output_type": "stream",
     "text": [
      "2025-04-06 14:13:00,115 - INFO - root - There are 0 duplicated rows.\n"
     ]
    }
   ],
   "source": [
    "logging.info (f\"There are {df[df.duplicated()].shape[0]} duplicated rows.\")"
   ]
  },
  {
   "cell_type": "markdown",
   "metadata": {},
   "source": [
    "The missing values per feature are obtained through Panda's `.isnull().sum()` method. Only the features `artist`, `workers`, `nominee` and `img` have missing values. This features, as indicated by their object datatype, are qualitative variables."
   ]
  },
  {
   "cell_type": "code",
   "execution_count": 9,
   "metadata": {},
   "outputs": [
    {
     "data": {
      "text/plain": [
       "year               0\n",
       "title              0\n",
       "published_at       0\n",
       "updated_at         0\n",
       "category           0\n",
       "nominee            6\n",
       "artist          1840\n",
       "workers         2190\n",
       "img             1367\n",
       "winner             0\n",
       "dtype: int64"
      ]
     },
     "execution_count": 9,
     "metadata": {},
     "output_type": "execute_result"
    }
   ],
   "source": [
    "df.isnull().sum()"
   ]
  },
  {
   "cell_type": "markdown",
   "metadata": {},
   "source": [
    "Rows with null values are filtered  using the `.isnull()` method combined with `.any(axis=1)`. Only one row contains the missing values."
   ]
  },
  {
   "cell_type": "code",
   "execution_count": 10,
   "metadata": {},
   "outputs": [
    {
     "name": "stderr",
     "output_type": "stream",
     "text": [
      "2025-04-06 14:13:00,151 - INFO - root - 3976 rows contain missing values\n"
     ]
    }
   ],
   "source": [
    "filtered_rows = df[df.isnull().any(axis=1)]\n",
    "\n",
    "logging.info(f\"{filtered_rows.shape[0]} rows contain missing values\")"
   ]
  },
  {
   "cell_type": "markdown",
   "metadata": {},
   "source": [
    "The percentage of missing data is aproximmately 11.23%."
   ]
  },
  {
   "cell_type": "code",
   "execution_count": 11,
   "metadata": {},
   "outputs": [
    {
     "data": {
      "text/plain": [
       "np.float64(11.2328)"
      ]
     },
     "execution_count": 11,
     "metadata": {},
     "output_type": "execute_result"
    }
   ],
   "source": [
    "round(df.isnull().sum().sum() / df.size * 100, 4) "
   ]
  },
  {
   "cell_type": "markdown",
   "metadata": {},
   "source": [
    "### Descriptive statistics"
   ]
  },
  {
   "cell_type": "markdown",
   "metadata": {},
   "source": [
    "#### Quantitative variables"
   ]
  },
  {
   "cell_type": "markdown",
   "metadata": {},
   "source": [
    "Descriptive statistics of the only numeric feature (`year`) are generated through Panda's `.describe` method.\n",
    "\n"
   ]
  },
  {
   "cell_type": "code",
   "execution_count": 12,
   "metadata": {},
   "outputs": [
    {
     "data": {
      "text/html": [
       "<div>\n",
       "<style scoped>\n",
       "    .dataframe tbody tr th:only-of-type {\n",
       "        vertical-align: middle;\n",
       "    }\n",
       "\n",
       "    .dataframe tbody tr th {\n",
       "        vertical-align: top;\n",
       "    }\n",
       "\n",
       "    .dataframe thead th {\n",
       "        text-align: right;\n",
       "    }\n",
       "</style>\n",
       "<table border=\"1\" class=\"dataframe\">\n",
       "  <thead>\n",
       "    <tr style=\"text-align: right;\">\n",
       "      <th></th>\n",
       "      <th>year</th>\n",
       "    </tr>\n",
       "  </thead>\n",
       "  <tbody>\n",
       "    <tr>\n",
       "      <th>count</th>\n",
       "      <td>4810.000000</td>\n",
       "    </tr>\n",
       "    <tr>\n",
       "      <th>mean</th>\n",
       "      <td>1995.566944</td>\n",
       "    </tr>\n",
       "    <tr>\n",
       "      <th>std</th>\n",
       "      <td>17.149720</td>\n",
       "    </tr>\n",
       "    <tr>\n",
       "      <th>min</th>\n",
       "      <td>1958.000000</td>\n",
       "    </tr>\n",
       "    <tr>\n",
       "      <th>25%</th>\n",
       "      <td>1983.000000</td>\n",
       "    </tr>\n",
       "    <tr>\n",
       "      <th>50%</th>\n",
       "      <td>1998.000000</td>\n",
       "    </tr>\n",
       "    <tr>\n",
       "      <th>75%</th>\n",
       "      <td>2010.000000</td>\n",
       "    </tr>\n",
       "    <tr>\n",
       "      <th>max</th>\n",
       "      <td>2019.000000</td>\n",
       "    </tr>\n",
       "  </tbody>\n",
       "</table>\n",
       "</div>"
      ],
      "text/plain": [
       "              year\n",
       "count  4810.000000\n",
       "mean   1995.566944\n",
       "std      17.149720\n",
       "min    1958.000000\n",
       "25%    1983.000000\n",
       "50%    1998.000000\n",
       "75%    2010.000000\n",
       "max    2019.000000"
      ]
     },
     "execution_count": 12,
     "metadata": {},
     "output_type": "execute_result"
    }
   ],
   "source": [
    "df.describe()"
   ]
  },
  {
   "cell_type": "markdown",
   "metadata": {},
   "source": [
    "We need to review if the number of unique values of the column `year` is equal to the `title` of the Grammy's edition. It should be consistent."
   ]
  },
  {
   "cell_type": "code",
   "execution_count": 13,
   "metadata": {},
   "outputs": [
    {
     "name": "stderr",
     "output_type": "stream",
     "text": [
      "2025-04-06 14:13:01,157 - INFO - root - The number of unique years matches the Grammy's edition title.\n"
     ]
    }
   ],
   "source": [
    "unique_years = df['year'].unique()\n",
    "\n",
    "is_consistent = len(unique_years) == df['title'].nunique()\n",
    "\n",
    "if is_consistent:\n",
    "    logging.info(\"The number of unique years matches the Grammy's edition title.\")\n",
    "else:\n",
    "    logging.info(\"Mismatch: The number of unique years does not match the Grammy's edition title.\")"
   ]
  },
  {
   "cell_type": "markdown",
   "metadata": {},
   "source": [
    "#### Qualitative variables"
   ]
  },
  {
   "cell_type": "markdown",
   "metadata": {},
   "source": [
    "Panda's `.describe` method is used with the parameter `include='object'` for describing all qualitative columns of the DataFrame."
   ]
  },
  {
   "cell_type": "code",
   "execution_count": 14,
   "metadata": {},
   "outputs": [
    {
     "data": {
      "text/html": [
       "<div>\n",
       "<style scoped>\n",
       "    .dataframe tbody tr th:only-of-type {\n",
       "        vertical-align: middle;\n",
       "    }\n",
       "\n",
       "    .dataframe tbody tr th {\n",
       "        vertical-align: top;\n",
       "    }\n",
       "\n",
       "    .dataframe thead th {\n",
       "        text-align: right;\n",
       "    }\n",
       "</style>\n",
       "<table border=\"1\" class=\"dataframe\">\n",
       "  <thead>\n",
       "    <tr style=\"text-align: right;\">\n",
       "      <th></th>\n",
       "      <th>title</th>\n",
       "      <th>published_at</th>\n",
       "      <th>updated_at</th>\n",
       "      <th>category</th>\n",
       "      <th>nominee</th>\n",
       "      <th>artist</th>\n",
       "      <th>workers</th>\n",
       "      <th>img</th>\n",
       "    </tr>\n",
       "  </thead>\n",
       "  <tbody>\n",
       "    <tr>\n",
       "      <th>count</th>\n",
       "      <td>4810</td>\n",
       "      <td>4810</td>\n",
       "      <td>4810</td>\n",
       "      <td>4810</td>\n",
       "      <td>4804</td>\n",
       "      <td>2970</td>\n",
       "      <td>2620</td>\n",
       "      <td>3443</td>\n",
       "    </tr>\n",
       "    <tr>\n",
       "      <th>unique</th>\n",
       "      <td>62</td>\n",
       "      <td>4</td>\n",
       "      <td>10</td>\n",
       "      <td>638</td>\n",
       "      <td>4131</td>\n",
       "      <td>1658</td>\n",
       "      <td>2366</td>\n",
       "      <td>1463</td>\n",
       "    </tr>\n",
       "    <tr>\n",
       "      <th>top</th>\n",
       "      <td>62nd Annual GRAMMY Awards  (2019)</td>\n",
       "      <td>2017-11-28T00:03:45-08:00</td>\n",
       "      <td>2019-09-10T01:08:19-07:00</td>\n",
       "      <td>Song Of The Year</td>\n",
       "      <td>Robert Woods</td>\n",
       "      <td>(Various Artists)</td>\n",
       "      <td>John Williams, composer (John Williams)</td>\n",
       "      <td>https://www.grammy.com/sites/com/files/styles/...</td>\n",
       "    </tr>\n",
       "    <tr>\n",
       "      <th>freq</th>\n",
       "      <td>433</td>\n",
       "      <td>4205</td>\n",
       "      <td>778</td>\n",
       "      <td>70</td>\n",
       "      <td>7</td>\n",
       "      <td>66</td>\n",
       "      <td>20</td>\n",
       "      <td>26</td>\n",
       "    </tr>\n",
       "  </tbody>\n",
       "</table>\n",
       "</div>"
      ],
      "text/plain": [
       "                                    title               published_at  \\\n",
       "count                                4810                       4810   \n",
       "unique                                 62                          4   \n",
       "top     62nd Annual GRAMMY Awards  (2019)  2017-11-28T00:03:45-08:00   \n",
       "freq                                  433                       4205   \n",
       "\n",
       "                       updated_at          category       nominee  \\\n",
       "count                        4810              4810          4804   \n",
       "unique                         10               638          4131   \n",
       "top     2019-09-10T01:08:19-07:00  Song Of The Year  Robert Woods   \n",
       "freq                          778                70             7   \n",
       "\n",
       "                   artist                                  workers  \\\n",
       "count                2970                                     2620   \n",
       "unique               1658                                     2366   \n",
       "top     (Various Artists)  John Williams, composer (John Williams)   \n",
       "freq                   66                                       20   \n",
       "\n",
       "                                                      img  \n",
       "count                                                3443  \n",
       "unique                                               1463  \n",
       "top     https://www.grammy.com/sites/com/files/styles/...  \n",
       "freq                                                   26  "
      ]
     },
     "execution_count": 14,
     "metadata": {},
     "output_type": "execute_result"
    }
   ],
   "source": [
    "df.describe(include='object') "
   ]
  },
  {
   "cell_type": "markdown",
   "metadata": {},
   "source": [
    "\n",
    "   - **`title`**: There are 62 unique titles, with the most frequent being *\"62nd Annual GRAMMY Awards (2019)\"* (appearing 433 times). This indicates repeated focus on specific award shows or events in the dataset.\n",
    "   - **`published_at`** and **`updated_at`**: Both are timestamps but differ significantly:\n",
    "     - `published_at` has only 4 unique dates, suggesting most records were initially published at the same time.\n",
    "     - `updated_at` shows 10 unique values, with the most frequent update timestamp appearing 778 times, indicating frequent revisions or modifications over time.\n",
    "   - **`category`**: Features 638 unique categories, with \"Song Of The Year\" being the most represented (70 times). This diversity highlights a rich variety of award categories.\n",
    "   - **`nominee`**: 4.131 unique nominees, with \"Robert Woods\" appearing most frequently (7 times). Some nominees likely appear multiple times across categories or events.\n",
    "   - **`artist`**: Only 1.658 unique artists, significantly fewer than nominees, with \"(Various Artists)\" being the most common entry (66 times). Due to the missing values in this feature, they could be less artists.\n",
    "   - **`workers`**: 2,366 unique worker entries (e.g., composers, engineers), with *John Williams, composer (John Williams)* appearing most often (20 times), reflecting repeated recognition for specific individuals.\n",
    "   - **`img`**: Contains 1,463 unique URLs, likely linking to visual media (e.g., images for nominees or events). However, 3443 entries in this column indicate incomplete visual data, that may not be relevant for our analysis.\n"
   ]
  },
  {
   "cell_type": "markdown",
   "metadata": {},
   "source": [
    "Panda's `.describe` method is used with the parameter `include='boolean'` for describing the only boolean feature (`winner`) in the DataFrame."
   ]
  },
  {
   "cell_type": "code",
   "execution_count": 15,
   "metadata": {},
   "outputs": [
    {
     "data": {
      "text/html": [
       "<div>\n",
       "<style scoped>\n",
       "    .dataframe tbody tr th:only-of-type {\n",
       "        vertical-align: middle;\n",
       "    }\n",
       "\n",
       "    .dataframe tbody tr th {\n",
       "        vertical-align: top;\n",
       "    }\n",
       "\n",
       "    .dataframe thead th {\n",
       "        text-align: right;\n",
       "    }\n",
       "</style>\n",
       "<table border=\"1\" class=\"dataframe\">\n",
       "  <thead>\n",
       "    <tr style=\"text-align: right;\">\n",
       "      <th></th>\n",
       "      <th>winner</th>\n",
       "    </tr>\n",
       "  </thead>\n",
       "  <tbody>\n",
       "    <tr>\n",
       "      <th>count</th>\n",
       "      <td>4810</td>\n",
       "    </tr>\n",
       "    <tr>\n",
       "      <th>unique</th>\n",
       "      <td>1</td>\n",
       "    </tr>\n",
       "    <tr>\n",
       "      <th>top</th>\n",
       "      <td>True</td>\n",
       "    </tr>\n",
       "    <tr>\n",
       "      <th>freq</th>\n",
       "      <td>4810</td>\n",
       "    </tr>\n",
       "  </tbody>\n",
       "</table>\n",
       "</div>"
      ],
      "text/plain": [
       "       winner\n",
       "count    4810\n",
       "unique      1\n",
       "top      True\n",
       "freq     4810"
      ]
     },
     "execution_count": 15,
     "metadata": {},
     "output_type": "execute_result"
    }
   ],
   "source": [
    "df.describe(include='boolean') "
   ]
  },
  {
   "cell_type": "markdown",
   "metadata": {},
   "source": [
    "* There's only 1 unique value (`True`), meaning every entry in this column is the same.\n",
    "* The `winner` column might be redundant since it does not provide any variation or distinguishing information. If the purpose is to flag winners, this column's structure suggests that all entries are winners, and it may need to be reassessed or filtered further for meaningful analysis."
   ]
  },
  {
   "cell_type": "markdown",
   "metadata": {},
   "source": [
    "## Handling missing values"
   ]
  },
  {
   "cell_type": "markdown",
   "metadata": {},
   "source": [
    "### `img`"
   ]
  },
  {
   "cell_type": "markdown",
   "metadata": {},
   "source": [
    "In this feature we are working with URLs for images and, regardless if the URL is valid or accessible, this type of content might not provide direct insights for now, so this column is going to be dropped. "
   ]
  },
  {
   "cell_type": "markdown",
   "metadata": {},
   "source": [
    "This is applied to a copy of the original Dataframe."
   ]
  },
  {
   "cell_type": "code",
   "execution_count": 17,
   "metadata": {},
   "outputs": [],
   "source": [
    "df1 = df.copy()\n",
    "df1 = df1.drop('img', axis=1)"
   ]
  },
  {
   "cell_type": "markdown",
   "metadata": {},
   "source": [
    "### `nominee` column"
   ]
  },
  {
   "cell_type": "markdown",
   "metadata": {},
   "source": [
    "The nominee column only presents 6 null records, which gives us the possibility to further inspect them in detail."
   ]
  },
  {
   "cell_type": "code",
   "execution_count": 18,
   "metadata": {},
   "outputs": [
    {
     "data": {
      "text/html": [
       "<div>\n",
       "<style scoped>\n",
       "    .dataframe tbody tr th:only-of-type {\n",
       "        vertical-align: middle;\n",
       "    }\n",
       "\n",
       "    .dataframe tbody tr th {\n",
       "        vertical-align: top;\n",
       "    }\n",
       "\n",
       "    .dataframe thead th {\n",
       "        text-align: right;\n",
       "    }\n",
       "</style>\n",
       "<table border=\"1\" class=\"dataframe\">\n",
       "  <thead>\n",
       "    <tr style=\"text-align: right;\">\n",
       "      <th></th>\n",
       "      <th>year</th>\n",
       "      <th>title</th>\n",
       "      <th>published_at</th>\n",
       "      <th>updated_at</th>\n",
       "      <th>category</th>\n",
       "      <th>nominee</th>\n",
       "      <th>artist</th>\n",
       "      <th>workers</th>\n",
       "      <th>winner</th>\n",
       "    </tr>\n",
       "  </thead>\n",
       "  <tbody>\n",
       "    <tr>\n",
       "      <th>2274</th>\n",
       "      <td>2000</td>\n",
       "      <td>43rd Annual GRAMMY Awards  (2000)</td>\n",
       "      <td>2017-11-28T00:03:45-08:00</td>\n",
       "      <td>2019-09-10T01:11:09-07:00</td>\n",
       "      <td>Remixer of the Year, Non-Classical</td>\n",
       "      <td>None</td>\n",
       "      <td>None</td>\n",
       "      <td>None</td>\n",
       "      <td>True</td>\n",
       "    </tr>\n",
       "    <tr>\n",
       "      <th>2372</th>\n",
       "      <td>1999</td>\n",
       "      <td>42nd Annual GRAMMY Awards  (1999)</td>\n",
       "      <td>2017-11-28T00:03:45-08:00</td>\n",
       "      <td>2019-09-10T01:09:02-07:00</td>\n",
       "      <td>Remixer Of The Year, Non-Classical</td>\n",
       "      <td>None</td>\n",
       "      <td>None</td>\n",
       "      <td>None</td>\n",
       "      <td>True</td>\n",
       "    </tr>\n",
       "    <tr>\n",
       "      <th>2464</th>\n",
       "      <td>1998</td>\n",
       "      <td>41st Annual GRAMMY Awards  (1998)</td>\n",
       "      <td>2017-11-28T00:03:45-08:00</td>\n",
       "      <td>2019-09-10T01:08:19-07:00</td>\n",
       "      <td>Remixer Of The Year, Non-classical</td>\n",
       "      <td>None</td>\n",
       "      <td>None</td>\n",
       "      <td>None</td>\n",
       "      <td>True</td>\n",
       "    </tr>\n",
       "    <tr>\n",
       "      <th>2560</th>\n",
       "      <td>1997</td>\n",
       "      <td>40th Annual GRAMMY Awards  (1997)</td>\n",
       "      <td>2017-11-28T00:03:45-08:00</td>\n",
       "      <td>2019-09-10T01:07:37-07:00</td>\n",
       "      <td>Remixer Of The Year, Non-Classical</td>\n",
       "      <td>None</td>\n",
       "      <td>None</td>\n",
       "      <td>None</td>\n",
       "      <td>True</td>\n",
       "    </tr>\n",
       "    <tr>\n",
       "      <th>4527</th>\n",
       "      <td>1965</td>\n",
       "      <td>8th Annual GRAMMY Awards  (1965)</td>\n",
       "      <td>2017-11-28T00:03:45-08:00</td>\n",
       "      <td>2019-09-10T01:06:59-07:00</td>\n",
       "      <td>Best New Country &amp; Western Artist</td>\n",
       "      <td>None</td>\n",
       "      <td>None</td>\n",
       "      <td>None</td>\n",
       "      <td>True</td>\n",
       "    </tr>\n",
       "    <tr>\n",
       "      <th>4574</th>\n",
       "      <td>1964</td>\n",
       "      <td>7th Annual GRAMMY Awards  (1964)</td>\n",
       "      <td>2017-11-28T00:03:45-08:00</td>\n",
       "      <td>2019-09-10T01:06:11-07:00</td>\n",
       "      <td>Best New Country &amp; Western Artist Of 1964</td>\n",
       "      <td>None</td>\n",
       "      <td>None</td>\n",
       "      <td>None</td>\n",
       "      <td>True</td>\n",
       "    </tr>\n",
       "  </tbody>\n",
       "</table>\n",
       "</div>"
      ],
      "text/plain": [
       "      year                              title               published_at  \\\n",
       "2274  2000  43rd Annual GRAMMY Awards  (2000)  2017-11-28T00:03:45-08:00   \n",
       "2372  1999  42nd Annual GRAMMY Awards  (1999)  2017-11-28T00:03:45-08:00   \n",
       "2464  1998  41st Annual GRAMMY Awards  (1998)  2017-11-28T00:03:45-08:00   \n",
       "2560  1997  40th Annual GRAMMY Awards  (1997)  2017-11-28T00:03:45-08:00   \n",
       "4527  1965   8th Annual GRAMMY Awards  (1965)  2017-11-28T00:03:45-08:00   \n",
       "4574  1964   7th Annual GRAMMY Awards  (1964)  2017-11-28T00:03:45-08:00   \n",
       "\n",
       "                     updated_at                                   category  \\\n",
       "2274  2019-09-10T01:11:09-07:00         Remixer of the Year, Non-Classical   \n",
       "2372  2019-09-10T01:09:02-07:00         Remixer Of The Year, Non-Classical   \n",
       "2464  2019-09-10T01:08:19-07:00         Remixer Of The Year, Non-classical   \n",
       "2560  2019-09-10T01:07:37-07:00         Remixer Of The Year, Non-Classical   \n",
       "4527  2019-09-10T01:06:59-07:00          Best New Country & Western Artist   \n",
       "4574  2019-09-10T01:06:11-07:00  Best New Country & Western Artist Of 1964   \n",
       "\n",
       "     nominee artist workers  winner  \n",
       "2274    None   None    None    True  \n",
       "2372    None   None    None    True  \n",
       "2464    None   None    None    True  \n",
       "2560    None   None    None    True  \n",
       "4527    None   None    None    True  \n",
       "4574    None   None    None    True  "
      ]
     },
     "execution_count": 18,
     "metadata": {},
     "output_type": "execute_result"
    }
   ],
   "source": [
    "filtered_rows = df1[df1['nominee'].isnull()]\n",
    "filtered_rows"
   ]
  },
  {
   "cell_type": "markdown",
   "metadata": {},
   "source": [
    "We note that the missing values correspond to different years but mostly to the same category (Remixer of the Year, Non-Classical), and four consecutive years (1997-2000). To preserve the records about these entries we can input values by reviewing online information in the official Grammys website. In the cases (\"Best\" and \"of the Year\") the artist is the nominee at the same time."
   ]
  },
  {
   "cell_type": "code",
   "execution_count": 19,
   "metadata": {},
   "outputs": [],
   "source": [
    "# Define the indices and their corresponding values\n",
    "update = {\n",
    "    2274: \"Hex Hector\",\n",
    "    2372: \"Club 69 (Peter Rauhofer)\",\n",
    "    2464: \"David Morales\",\n",
    "    2560: \"Frankie Knuckles\",\n",
    "    4527: \"The Statler Brothers\",\n",
    "    4574: \"Roger Miller\"\n",
    "}\n",
    "\n",
    "# Update the 'nominee' column\n",
    "for index, value in update.items():\n",
    "    df1.loc[index, 'nominee'] = value\n",
    "\n",
    "# Update the 'artist' column\n",
    "for index, value in update.items():\n",
    "    df1.loc[index, 'artist'] = value\n"
   ]
  },
  {
   "cell_type": "markdown",
   "metadata": {},
   "source": [
    "Now we review the changes."
   ]
  },
  {
   "cell_type": "code",
   "execution_count": 20,
   "metadata": {},
   "outputs": [
    {
     "data": {
      "text/html": [
       "<div>\n",
       "<style scoped>\n",
       "    .dataframe tbody tr th:only-of-type {\n",
       "        vertical-align: middle;\n",
       "    }\n",
       "\n",
       "    .dataframe tbody tr th {\n",
       "        vertical-align: top;\n",
       "    }\n",
       "\n",
       "    .dataframe thead th {\n",
       "        text-align: right;\n",
       "    }\n",
       "</style>\n",
       "<table border=\"1\" class=\"dataframe\">\n",
       "  <thead>\n",
       "    <tr style=\"text-align: right;\">\n",
       "      <th></th>\n",
       "      <th>year</th>\n",
       "      <th>title</th>\n",
       "      <th>published_at</th>\n",
       "      <th>updated_at</th>\n",
       "      <th>category</th>\n",
       "      <th>nominee</th>\n",
       "      <th>artist</th>\n",
       "      <th>workers</th>\n",
       "      <th>winner</th>\n",
       "    </tr>\n",
       "  </thead>\n",
       "  <tbody>\n",
       "    <tr>\n",
       "      <th>2274</th>\n",
       "      <td>2000</td>\n",
       "      <td>43rd Annual GRAMMY Awards  (2000)</td>\n",
       "      <td>2017-11-28T00:03:45-08:00</td>\n",
       "      <td>2019-09-10T01:11:09-07:00</td>\n",
       "      <td>Remixer of the Year, Non-Classical</td>\n",
       "      <td>Hex Hector</td>\n",
       "      <td>Hex Hector</td>\n",
       "      <td>None</td>\n",
       "      <td>True</td>\n",
       "    </tr>\n",
       "    <tr>\n",
       "      <th>2372</th>\n",
       "      <td>1999</td>\n",
       "      <td>42nd Annual GRAMMY Awards  (1999)</td>\n",
       "      <td>2017-11-28T00:03:45-08:00</td>\n",
       "      <td>2019-09-10T01:09:02-07:00</td>\n",
       "      <td>Remixer Of The Year, Non-Classical</td>\n",
       "      <td>Club 69 (Peter Rauhofer)</td>\n",
       "      <td>Club 69 (Peter Rauhofer)</td>\n",
       "      <td>None</td>\n",
       "      <td>True</td>\n",
       "    </tr>\n",
       "    <tr>\n",
       "      <th>2464</th>\n",
       "      <td>1998</td>\n",
       "      <td>41st Annual GRAMMY Awards  (1998)</td>\n",
       "      <td>2017-11-28T00:03:45-08:00</td>\n",
       "      <td>2019-09-10T01:08:19-07:00</td>\n",
       "      <td>Remixer Of The Year, Non-classical</td>\n",
       "      <td>David Morales</td>\n",
       "      <td>David Morales</td>\n",
       "      <td>None</td>\n",
       "      <td>True</td>\n",
       "    </tr>\n",
       "    <tr>\n",
       "      <th>2560</th>\n",
       "      <td>1997</td>\n",
       "      <td>40th Annual GRAMMY Awards  (1997)</td>\n",
       "      <td>2017-11-28T00:03:45-08:00</td>\n",
       "      <td>2019-09-10T01:07:37-07:00</td>\n",
       "      <td>Remixer Of The Year, Non-Classical</td>\n",
       "      <td>Frankie Knuckles</td>\n",
       "      <td>Frankie Knuckles</td>\n",
       "      <td>None</td>\n",
       "      <td>True</td>\n",
       "    </tr>\n",
       "    <tr>\n",
       "      <th>4527</th>\n",
       "      <td>1965</td>\n",
       "      <td>8th Annual GRAMMY Awards  (1965)</td>\n",
       "      <td>2017-11-28T00:03:45-08:00</td>\n",
       "      <td>2019-09-10T01:06:59-07:00</td>\n",
       "      <td>Best New Country &amp; Western Artist</td>\n",
       "      <td>The Statler Brothers</td>\n",
       "      <td>The Statler Brothers</td>\n",
       "      <td>None</td>\n",
       "      <td>True</td>\n",
       "    </tr>\n",
       "    <tr>\n",
       "      <th>4574</th>\n",
       "      <td>1964</td>\n",
       "      <td>7th Annual GRAMMY Awards  (1964)</td>\n",
       "      <td>2017-11-28T00:03:45-08:00</td>\n",
       "      <td>2019-09-10T01:06:11-07:00</td>\n",
       "      <td>Best New Country &amp; Western Artist Of 1964</td>\n",
       "      <td>Roger Miller</td>\n",
       "      <td>Roger Miller</td>\n",
       "      <td>None</td>\n",
       "      <td>True</td>\n",
       "    </tr>\n",
       "  </tbody>\n",
       "</table>\n",
       "</div>"
      ],
      "text/plain": [
       "      year                              title               published_at  \\\n",
       "2274  2000  43rd Annual GRAMMY Awards  (2000)  2017-11-28T00:03:45-08:00   \n",
       "2372  1999  42nd Annual GRAMMY Awards  (1999)  2017-11-28T00:03:45-08:00   \n",
       "2464  1998  41st Annual GRAMMY Awards  (1998)  2017-11-28T00:03:45-08:00   \n",
       "2560  1997  40th Annual GRAMMY Awards  (1997)  2017-11-28T00:03:45-08:00   \n",
       "4527  1965   8th Annual GRAMMY Awards  (1965)  2017-11-28T00:03:45-08:00   \n",
       "4574  1964   7th Annual GRAMMY Awards  (1964)  2017-11-28T00:03:45-08:00   \n",
       "\n",
       "                     updated_at                                   category  \\\n",
       "2274  2019-09-10T01:11:09-07:00         Remixer of the Year, Non-Classical   \n",
       "2372  2019-09-10T01:09:02-07:00         Remixer Of The Year, Non-Classical   \n",
       "2464  2019-09-10T01:08:19-07:00         Remixer Of The Year, Non-classical   \n",
       "2560  2019-09-10T01:07:37-07:00         Remixer Of The Year, Non-Classical   \n",
       "4527  2019-09-10T01:06:59-07:00          Best New Country & Western Artist   \n",
       "4574  2019-09-10T01:06:11-07:00  Best New Country & Western Artist Of 1964   \n",
       "\n",
       "                       nominee                    artist workers  winner  \n",
       "2274                Hex Hector                Hex Hector    None    True  \n",
       "2372  Club 69 (Peter Rauhofer)  Club 69 (Peter Rauhofer)    None    True  \n",
       "2464             David Morales             David Morales    None    True  \n",
       "2560          Frankie Knuckles          Frankie Knuckles    None    True  \n",
       "4527      The Statler Brothers      The Statler Brothers    None    True  \n",
       "4574              Roger Miller              Roger Miller    None    True  "
      ]
     },
     "execution_count": 20,
     "metadata": {},
     "output_type": "execute_result"
    }
   ],
   "source": [
    "df1.loc[list(update.keys())]"
   ]
  },
  {
   "cell_type": "markdown",
   "metadata": {},
   "source": [
    "### `artist` column"
   ]
  },
  {
   "cell_type": "markdown",
   "metadata": {},
   "source": [
    "In the cases when the `category` contains \"Best\" or \"of the Year\" and \"artist\" the `artist` is the `nominee` at the same time. However, it may not always be the case, so we are going to review this cases. \n"
   ]
  },
  {
   "cell_type": "markdown",
   "metadata": {},
   "source": [
    "### Missing `artist` and `workers`"
   ]
  },
  {
   "cell_type": "markdown",
   "metadata": {},
   "source": [
    "We filter rows where `artist` and `workers` are null."
   ]
  },
  {
   "cell_type": "code",
   "execution_count": 23,
   "metadata": {},
   "outputs": [
    {
     "name": "stderr",
     "output_type": "stream",
     "text": [
      "2025-04-06 14:13:15,994 - INFO - root - category\n",
      "Best New Artist                                                                              50\n",
      "Producer Of The Year, Non-Classical                                                          22\n",
      "Producer Of The Year, Classical                                                              22\n",
      "Classical Producer Of The Year                                                               18\n",
      "Producer Of The Year (Non-Classical)                                                         10\n",
      "Producer Of The Year                                                                         10\n",
      "Best New Artist Of The Year                                                                   9\n",
      "Best Classical Vocal Soloist Performance                                                      7\n",
      "Best Classical Vocal Performance                                                              4\n",
      "Best Small Ensemble Performance (With Or Without Conductor)                                   4\n",
      "Best Classical Performance - Instrumental Soloist Or Soloists (With Or Without Orchestra)     4\n",
      "Best Producer Of The Year                                                                     3\n",
      "Most Promising New Classical Recording Artist                                                 3\n",
      "Best Classical Performance - Vocal Soloist (With Or Without Orchestra)                        2\n",
      "Producer Of The Year (Non Classical)                                                          1\n",
      "Best New Classical Artist                                                                     1\n",
      "Best Classical Vocal Soloist                                                                  1\n",
      "Producer Of The Year, (Non Classical)                                                         1\n",
      "Best Performance - Instrumental Soloist Or Soloists (With Or Without Orchestra)               1\n",
      "Best Classical Performance - Vocal Soloist                                                    1\n",
      "Best New Artist Of 1963                                                                       1\n",
      "Best New Artist Of 1964                                                                       1\n",
      "Best New Artist Of 1962                                                                       1\n",
      "Best New Artist Of 1961                                                                       1\n",
      "Best New Artist Of 1960                                                                       1\n",
      "Best New Artist Of 1959                                                                       1\n",
      "Name: count, dtype: int64\n"
     ]
    }
   ],
   "source": [
    "# Filter rows where 'artist' and 'workers' are null\n",
    "filtered_null_rows = df1[(df1['artist'].isnull()) & (df1['workers'].isnull())]\n",
    "\n",
    "# Compute value counts for the 'category' column in these rows\n",
    "category_counts = filtered_null_rows['category'].value_counts()\n",
    "\n",
    "logging.info(category_counts)"
   ]
  },
  {
   "cell_type": "markdown",
   "metadata": {},
   "source": [
    "### Value counts for the `category` column in these rows is one"
   ]
  },
  {
   "cell_type": "markdown",
   "metadata": {},
   "source": [
    "For the cases in which there are only one missing for category we are going to input data based on online information."
   ]
  },
  {
   "cell_type": "code",
   "execution_count": 24,
   "metadata": {},
   "outputs": [
    {
     "data": {
      "text/html": [
       "<div>\n",
       "<style scoped>\n",
       "    .dataframe tbody tr th:only-of-type {\n",
       "        vertical-align: middle;\n",
       "    }\n",
       "\n",
       "    .dataframe tbody tr th {\n",
       "        vertical-align: top;\n",
       "    }\n",
       "\n",
       "    .dataframe thead th {\n",
       "        text-align: right;\n",
       "    }\n",
       "</style>\n",
       "<table border=\"1\" class=\"dataframe\">\n",
       "  <thead>\n",
       "    <tr style=\"text-align: right;\">\n",
       "      <th></th>\n",
       "      <th>year</th>\n",
       "      <th>title</th>\n",
       "      <th>published_at</th>\n",
       "      <th>updated_at</th>\n",
       "      <th>category</th>\n",
       "      <th>nominee</th>\n",
       "      <th>artist</th>\n",
       "      <th>workers</th>\n",
       "      <th>winner</th>\n",
       "    </tr>\n",
       "  </thead>\n",
       "  <tbody>\n",
       "    <tr>\n",
       "      <th>3066</th>\n",
       "      <td>1991</td>\n",
       "      <td>34th Annual GRAMMY Awards  (1991)</td>\n",
       "      <td>2017-11-28T00:03:45-08:00</td>\n",
       "      <td>2019-09-10T01:06:59-07:00</td>\n",
       "      <td>Producer Of The Year (Non Classical)</td>\n",
       "      <td>David Foster</td>\n",
       "      <td>None</td>\n",
       "      <td>None</td>\n",
       "      <td>True</td>\n",
       "    </tr>\n",
       "    <tr>\n",
       "      <th>3076</th>\n",
       "      <td>1991</td>\n",
       "      <td>34th Annual GRAMMY Awards  (1991)</td>\n",
       "      <td>2017-11-28T00:03:45-08:00</td>\n",
       "      <td>2019-09-10T01:06:59-07:00</td>\n",
       "      <td>Best Classical Vocal Soloist</td>\n",
       "      <td>The Girl With Orange Lips (Falla, Ravel, etc.)</td>\n",
       "      <td>None</td>\n",
       "      <td>None</td>\n",
       "      <td>True</td>\n",
       "    </tr>\n",
       "    <tr>\n",
       "      <th>3366</th>\n",
       "      <td>1987</td>\n",
       "      <td>30th Annual GRAMMY Awards  (1987)</td>\n",
       "      <td>2017-11-28T00:03:45-08:00</td>\n",
       "      <td>2019-09-10T01:07:37-07:00</td>\n",
       "      <td>Producer Of The Year, (Non Classical)</td>\n",
       "      <td>Narada Michael Walden</td>\n",
       "      <td>None</td>\n",
       "      <td>None</td>\n",
       "      <td>True</td>\n",
       "    </tr>\n",
       "    <tr>\n",
       "      <th>3515</th>\n",
       "      <td>1985</td>\n",
       "      <td>28th Annual GRAMMY Awards  (1985)</td>\n",
       "      <td>2017-11-28T00:03:45-08:00</td>\n",
       "      <td>2019-09-10T01:06:11-07:00</td>\n",
       "      <td>Best New Classical Artist</td>\n",
       "      <td>Stravinsky: L' Histoire Du Soldat (The Soldier...</td>\n",
       "      <td>None</td>\n",
       "      <td>None</td>\n",
       "      <td>True</td>\n",
       "    </tr>\n",
       "    <tr>\n",
       "      <th>4178</th>\n",
       "      <td>1960</td>\n",
       "      <td>3rd Annual GRAMMY Awards  (1960)</td>\n",
       "      <td>2017-11-28T00:03:45-08:00</td>\n",
       "      <td>2019-09-10T01:07:37-07:00</td>\n",
       "      <td>Best Classical Performance - Vocal Soloist</td>\n",
       "      <td>A Program Of Song - Leontyne Price Recital</td>\n",
       "      <td>None</td>\n",
       "      <td>None</td>\n",
       "      <td>True</td>\n",
       "    </tr>\n",
       "    <tr>\n",
       "      <th>4397</th>\n",
       "      <td>1968</td>\n",
       "      <td>11th Annual GRAMMY Awards  (1968)</td>\n",
       "      <td>2017-11-28T00:03:45-08:00</td>\n",
       "      <td>2019-09-10T01:11:09-07:00</td>\n",
       "      <td>Best Performance - Instrumental Soloist Or Sol...</td>\n",
       "      <td>Horowitz On Television (Chopin, Scriabin, Scar...</td>\n",
       "      <td>None</td>\n",
       "      <td>None</td>\n",
       "      <td>True</td>\n",
       "    </tr>\n",
       "    <tr>\n",
       "      <th>4569</th>\n",
       "      <td>1964</td>\n",
       "      <td>7th Annual GRAMMY Awards  (1964)</td>\n",
       "      <td>2017-11-28T00:03:45-08:00</td>\n",
       "      <td>2019-09-10T01:06:11-07:00</td>\n",
       "      <td>Best New Artist Of 1964</td>\n",
       "      <td>The Beatles</td>\n",
       "      <td>None</td>\n",
       "      <td>None</td>\n",
       "      <td>True</td>\n",
       "    </tr>\n",
       "    <tr>\n",
       "      <th>4628</th>\n",
       "      <td>1963</td>\n",
       "      <td>6th Annual GRAMMY Awards  (1963)</td>\n",
       "      <td>2017-11-28T00:03:45-08:00</td>\n",
       "      <td>2019-09-10T01:11:09-07:00</td>\n",
       "      <td>Best New Artist Of 1963</td>\n",
       "      <td>Ward Swingle (The Swingle Singers)</td>\n",
       "      <td>None</td>\n",
       "      <td>None</td>\n",
       "      <td>True</td>\n",
       "    </tr>\n",
       "    <tr>\n",
       "      <th>4667</th>\n",
       "      <td>1962</td>\n",
       "      <td>5th Annual GRAMMY Awards  (1962)</td>\n",
       "      <td>2017-11-28T00:03:45-08:00</td>\n",
       "      <td>2019-09-10T01:09:02-07:00</td>\n",
       "      <td>Best New Artist Of 1962</td>\n",
       "      <td>Robert Goulet</td>\n",
       "      <td>None</td>\n",
       "      <td>None</td>\n",
       "      <td>True</td>\n",
       "    </tr>\n",
       "    <tr>\n",
       "      <th>4699</th>\n",
       "      <td>1961</td>\n",
       "      <td>4th Annual GRAMMY Awards  (1961)</td>\n",
       "      <td>2017-11-28T00:03:45-08:00</td>\n",
       "      <td>2019-09-10T01:08:19-07:00</td>\n",
       "      <td>Best New Artist Of 1961</td>\n",
       "      <td>Peter Nero</td>\n",
       "      <td>None</td>\n",
       "      <td>None</td>\n",
       "      <td>True</td>\n",
       "    </tr>\n",
       "    <tr>\n",
       "      <th>4745</th>\n",
       "      <td>1960</td>\n",
       "      <td>3rd Annual GRAMMY Awards  (1960)</td>\n",
       "      <td>2017-11-28T00:03:45-08:00</td>\n",
       "      <td>2019-09-10T01:07:37-07:00</td>\n",
       "      <td>Best New Artist Of 1960</td>\n",
       "      <td>Bob Newhart</td>\n",
       "      <td>None</td>\n",
       "      <td>None</td>\n",
       "      <td>True</td>\n",
       "    </tr>\n",
       "    <tr>\n",
       "      <th>4781</th>\n",
       "      <td>1959</td>\n",
       "      <td>2nd Annual GRAMMY Awards  (1959)</td>\n",
       "      <td>2017-11-28T00:03:45-08:00</td>\n",
       "      <td>2019-09-10T01:06:59-07:00</td>\n",
       "      <td>Best New Artist Of 1959</td>\n",
       "      <td>Bobby Darin</td>\n",
       "      <td>None</td>\n",
       "      <td>None</td>\n",
       "      <td>True</td>\n",
       "    </tr>\n",
       "  </tbody>\n",
       "</table>\n",
       "</div>"
      ],
      "text/plain": [
       "      year                              title               published_at  \\\n",
       "3066  1991  34th Annual GRAMMY Awards  (1991)  2017-11-28T00:03:45-08:00   \n",
       "3076  1991  34th Annual GRAMMY Awards  (1991)  2017-11-28T00:03:45-08:00   \n",
       "3366  1987  30th Annual GRAMMY Awards  (1987)  2017-11-28T00:03:45-08:00   \n",
       "3515  1985  28th Annual GRAMMY Awards  (1985)  2017-11-28T00:03:45-08:00   \n",
       "4178  1960   3rd Annual GRAMMY Awards  (1960)  2017-11-28T00:03:45-08:00   \n",
       "4397  1968  11th Annual GRAMMY Awards  (1968)  2017-11-28T00:03:45-08:00   \n",
       "4569  1964   7th Annual GRAMMY Awards  (1964)  2017-11-28T00:03:45-08:00   \n",
       "4628  1963   6th Annual GRAMMY Awards  (1963)  2017-11-28T00:03:45-08:00   \n",
       "4667  1962   5th Annual GRAMMY Awards  (1962)  2017-11-28T00:03:45-08:00   \n",
       "4699  1961   4th Annual GRAMMY Awards  (1961)  2017-11-28T00:03:45-08:00   \n",
       "4745  1960   3rd Annual GRAMMY Awards  (1960)  2017-11-28T00:03:45-08:00   \n",
       "4781  1959   2nd Annual GRAMMY Awards  (1959)  2017-11-28T00:03:45-08:00   \n",
       "\n",
       "                     updated_at  \\\n",
       "3066  2019-09-10T01:06:59-07:00   \n",
       "3076  2019-09-10T01:06:59-07:00   \n",
       "3366  2019-09-10T01:07:37-07:00   \n",
       "3515  2019-09-10T01:06:11-07:00   \n",
       "4178  2019-09-10T01:07:37-07:00   \n",
       "4397  2019-09-10T01:11:09-07:00   \n",
       "4569  2019-09-10T01:06:11-07:00   \n",
       "4628  2019-09-10T01:11:09-07:00   \n",
       "4667  2019-09-10T01:09:02-07:00   \n",
       "4699  2019-09-10T01:08:19-07:00   \n",
       "4745  2019-09-10T01:07:37-07:00   \n",
       "4781  2019-09-10T01:06:59-07:00   \n",
       "\n",
       "                                               category  \\\n",
       "3066               Producer Of The Year (Non Classical)   \n",
       "3076                       Best Classical Vocal Soloist   \n",
       "3366              Producer Of The Year, (Non Classical)   \n",
       "3515                          Best New Classical Artist   \n",
       "4178         Best Classical Performance - Vocal Soloist   \n",
       "4397  Best Performance - Instrumental Soloist Or Sol...   \n",
       "4569                            Best New Artist Of 1964   \n",
       "4628                            Best New Artist Of 1963   \n",
       "4667                            Best New Artist Of 1962   \n",
       "4699                            Best New Artist Of 1961   \n",
       "4745                            Best New Artist Of 1960   \n",
       "4781                            Best New Artist Of 1959   \n",
       "\n",
       "                                                nominee artist workers  winner  \n",
       "3066                                       David Foster   None    None    True  \n",
       "3076     The Girl With Orange Lips (Falla, Ravel, etc.)   None    None    True  \n",
       "3366                              Narada Michael Walden   None    None    True  \n",
       "3515  Stravinsky: L' Histoire Du Soldat (The Soldier...   None    None    True  \n",
       "4178         A Program Of Song - Leontyne Price Recital   None    None    True  \n",
       "4397  Horowitz On Television (Chopin, Scriabin, Scar...   None    None    True  \n",
       "4569                                        The Beatles   None    None    True  \n",
       "4628                 Ward Swingle (The Swingle Singers)   None    None    True  \n",
       "4667                                      Robert Goulet   None    None    True  \n",
       "4699                                         Peter Nero   None    None    True  \n",
       "4745                                        Bob Newhart   None    None    True  \n",
       "4781                                        Bobby Darin   None    None    True  "
      ]
     },
     "execution_count": 24,
     "metadata": {},
     "output_type": "execute_result"
    }
   ],
   "source": [
    "#Filter categories where the count is 1\n",
    "categories_with_one_count = category_counts[category_counts == 1].index\n",
    "\n",
    "# Filter the original DataFrame using these categories\n",
    "filtered_df = filtered_null_rows[filtered_null_rows['category'].isin(categories_with_one_count)]\n",
    "\n",
    "# Display the filtered DataFrame\n",
    "filtered_df\n"
   ]
  },
  {
   "cell_type": "markdown",
   "metadata": {},
   "source": [
    "We note that the missing values correspond to different years but mostly to the same category (Remixer of the Year, Non-Classical), and four consecutive years (1997-2000). To preserve the records about these entries we can input values by reviewing online information in the official Grammys website. In the cases (\"Best\" and \"of the Year\") the artist is the nominee at the same time."
   ]
  },
  {
   "cell_type": "code",
   "execution_count": 27,
   "metadata": {},
   "outputs": [],
   "source": [
    "# Define the indices and their corresponding values\n",
    "update1 = {\n",
    "    3066: \"David Foster\",\n",
    "    3076: \"Dawn Upshaw\",\n",
    "    3366: \"Narada Michael Walden\",\n",
    "    3515: \"Chicago Pro Musica\",\n",
    "    4178: \"Leontyne Price\",\n",
    "    4397: \"Vladimir Horowitz\",\n",
    "    4569: \"The Beatles\",\n",
    "    4628: \"Ward Swingle(The Swingle Singers)\",\n",
    "    4667: \"Robert Goulet\",\n",
    "    4699: \"Peter Nero\",\n",
    "    4745: \"Bob Newhart\",\n",
    "    4781: \"Bobby Darin\"\n",
    "}\n",
    "\n",
    "\n",
    "# Update the 'artist' column\n",
    "for index, value in update1.items():\n",
    "    df1.loc[index, 'artist'] = value"
   ]
  },
  {
   "cell_type": "markdown",
   "metadata": {},
   "source": [
    "Now we review the changes."
   ]
  },
  {
   "cell_type": "code",
   "execution_count": 28,
   "metadata": {},
   "outputs": [
    {
     "data": {
      "text/html": [
       "<div>\n",
       "<style scoped>\n",
       "    .dataframe tbody tr th:only-of-type {\n",
       "        vertical-align: middle;\n",
       "    }\n",
       "\n",
       "    .dataframe tbody tr th {\n",
       "        vertical-align: top;\n",
       "    }\n",
       "\n",
       "    .dataframe thead th {\n",
       "        text-align: right;\n",
       "    }\n",
       "</style>\n",
       "<table border=\"1\" class=\"dataframe\">\n",
       "  <thead>\n",
       "    <tr style=\"text-align: right;\">\n",
       "      <th></th>\n",
       "      <th>year</th>\n",
       "      <th>title</th>\n",
       "      <th>published_at</th>\n",
       "      <th>updated_at</th>\n",
       "      <th>category</th>\n",
       "      <th>nominee</th>\n",
       "      <th>artist</th>\n",
       "      <th>workers</th>\n",
       "      <th>winner</th>\n",
       "    </tr>\n",
       "  </thead>\n",
       "  <tbody>\n",
       "    <tr>\n",
       "      <th>3066</th>\n",
       "      <td>1991</td>\n",
       "      <td>34th Annual GRAMMY Awards  (1991)</td>\n",
       "      <td>2017-11-28T00:03:45-08:00</td>\n",
       "      <td>2019-09-10T01:06:59-07:00</td>\n",
       "      <td>Producer Of The Year (Non Classical)</td>\n",
       "      <td>David Foster</td>\n",
       "      <td>David Foster</td>\n",
       "      <td>None</td>\n",
       "      <td>True</td>\n",
       "    </tr>\n",
       "    <tr>\n",
       "      <th>3076</th>\n",
       "      <td>1991</td>\n",
       "      <td>34th Annual GRAMMY Awards  (1991)</td>\n",
       "      <td>2017-11-28T00:03:45-08:00</td>\n",
       "      <td>2019-09-10T01:06:59-07:00</td>\n",
       "      <td>Best Classical Vocal Soloist</td>\n",
       "      <td>The Girl With Orange Lips (Falla, Ravel, etc.)</td>\n",
       "      <td>Dawn Upshaw</td>\n",
       "      <td>None</td>\n",
       "      <td>True</td>\n",
       "    </tr>\n",
       "    <tr>\n",
       "      <th>3366</th>\n",
       "      <td>1987</td>\n",
       "      <td>30th Annual GRAMMY Awards  (1987)</td>\n",
       "      <td>2017-11-28T00:03:45-08:00</td>\n",
       "      <td>2019-09-10T01:07:37-07:00</td>\n",
       "      <td>Producer Of The Year, (Non Classical)</td>\n",
       "      <td>Narada Michael Walden</td>\n",
       "      <td>Narada Michael Walden</td>\n",
       "      <td>None</td>\n",
       "      <td>True</td>\n",
       "    </tr>\n",
       "    <tr>\n",
       "      <th>3515</th>\n",
       "      <td>1985</td>\n",
       "      <td>28th Annual GRAMMY Awards  (1985)</td>\n",
       "      <td>2017-11-28T00:03:45-08:00</td>\n",
       "      <td>2019-09-10T01:06:11-07:00</td>\n",
       "      <td>Best New Classical Artist</td>\n",
       "      <td>Stravinsky: L' Histoire Du Soldat (The Soldier...</td>\n",
       "      <td>Chicago Pro Musica</td>\n",
       "      <td>None</td>\n",
       "      <td>True</td>\n",
       "    </tr>\n",
       "    <tr>\n",
       "      <th>4178</th>\n",
       "      <td>1960</td>\n",
       "      <td>3rd Annual GRAMMY Awards  (1960)</td>\n",
       "      <td>2017-11-28T00:03:45-08:00</td>\n",
       "      <td>2019-09-10T01:07:37-07:00</td>\n",
       "      <td>Best Classical Performance - Vocal Soloist</td>\n",
       "      <td>A Program Of Song - Leontyne Price Recital</td>\n",
       "      <td>Leontyne Price</td>\n",
       "      <td>None</td>\n",
       "      <td>True</td>\n",
       "    </tr>\n",
       "    <tr>\n",
       "      <th>4397</th>\n",
       "      <td>1968</td>\n",
       "      <td>11th Annual GRAMMY Awards  (1968)</td>\n",
       "      <td>2017-11-28T00:03:45-08:00</td>\n",
       "      <td>2019-09-10T01:11:09-07:00</td>\n",
       "      <td>Best Performance - Instrumental Soloist Or Sol...</td>\n",
       "      <td>Horowitz On Television (Chopin, Scriabin, Scar...</td>\n",
       "      <td>Vladimir Horowitz</td>\n",
       "      <td>None</td>\n",
       "      <td>True</td>\n",
       "    </tr>\n",
       "    <tr>\n",
       "      <th>4569</th>\n",
       "      <td>1964</td>\n",
       "      <td>7th Annual GRAMMY Awards  (1964)</td>\n",
       "      <td>2017-11-28T00:03:45-08:00</td>\n",
       "      <td>2019-09-10T01:06:11-07:00</td>\n",
       "      <td>Best New Artist Of 1964</td>\n",
       "      <td>The Beatles</td>\n",
       "      <td>The Beatles</td>\n",
       "      <td>None</td>\n",
       "      <td>True</td>\n",
       "    </tr>\n",
       "    <tr>\n",
       "      <th>4628</th>\n",
       "      <td>1963</td>\n",
       "      <td>6th Annual GRAMMY Awards  (1963)</td>\n",
       "      <td>2017-11-28T00:03:45-08:00</td>\n",
       "      <td>2019-09-10T01:11:09-07:00</td>\n",
       "      <td>Best New Artist Of 1963</td>\n",
       "      <td>Ward Swingle (The Swingle Singers)</td>\n",
       "      <td>Ward Swingle(The Swingle Singers)</td>\n",
       "      <td>None</td>\n",
       "      <td>True</td>\n",
       "    </tr>\n",
       "    <tr>\n",
       "      <th>4667</th>\n",
       "      <td>1962</td>\n",
       "      <td>5th Annual GRAMMY Awards  (1962)</td>\n",
       "      <td>2017-11-28T00:03:45-08:00</td>\n",
       "      <td>2019-09-10T01:09:02-07:00</td>\n",
       "      <td>Best New Artist Of 1962</td>\n",
       "      <td>Robert Goulet</td>\n",
       "      <td>Robert Goulet</td>\n",
       "      <td>None</td>\n",
       "      <td>True</td>\n",
       "    </tr>\n",
       "    <tr>\n",
       "      <th>4699</th>\n",
       "      <td>1961</td>\n",
       "      <td>4th Annual GRAMMY Awards  (1961)</td>\n",
       "      <td>2017-11-28T00:03:45-08:00</td>\n",
       "      <td>2019-09-10T01:08:19-07:00</td>\n",
       "      <td>Best New Artist Of 1961</td>\n",
       "      <td>Peter Nero</td>\n",
       "      <td>Peter Nero</td>\n",
       "      <td>None</td>\n",
       "      <td>True</td>\n",
       "    </tr>\n",
       "    <tr>\n",
       "      <th>4745</th>\n",
       "      <td>1960</td>\n",
       "      <td>3rd Annual GRAMMY Awards  (1960)</td>\n",
       "      <td>2017-11-28T00:03:45-08:00</td>\n",
       "      <td>2019-09-10T01:07:37-07:00</td>\n",
       "      <td>Best New Artist Of 1960</td>\n",
       "      <td>Bob Newhart</td>\n",
       "      <td>Bob Newhart</td>\n",
       "      <td>None</td>\n",
       "      <td>True</td>\n",
       "    </tr>\n",
       "    <tr>\n",
       "      <th>4781</th>\n",
       "      <td>1959</td>\n",
       "      <td>2nd Annual GRAMMY Awards  (1959)</td>\n",
       "      <td>2017-11-28T00:03:45-08:00</td>\n",
       "      <td>2019-09-10T01:06:59-07:00</td>\n",
       "      <td>Best New Artist Of 1959</td>\n",
       "      <td>Bobby Darin</td>\n",
       "      <td>Bobby Darin</td>\n",
       "      <td>None</td>\n",
       "      <td>True</td>\n",
       "    </tr>\n",
       "  </tbody>\n",
       "</table>\n",
       "</div>"
      ],
      "text/plain": [
       "      year                              title               published_at  \\\n",
       "3066  1991  34th Annual GRAMMY Awards  (1991)  2017-11-28T00:03:45-08:00   \n",
       "3076  1991  34th Annual GRAMMY Awards  (1991)  2017-11-28T00:03:45-08:00   \n",
       "3366  1987  30th Annual GRAMMY Awards  (1987)  2017-11-28T00:03:45-08:00   \n",
       "3515  1985  28th Annual GRAMMY Awards  (1985)  2017-11-28T00:03:45-08:00   \n",
       "4178  1960   3rd Annual GRAMMY Awards  (1960)  2017-11-28T00:03:45-08:00   \n",
       "4397  1968  11th Annual GRAMMY Awards  (1968)  2017-11-28T00:03:45-08:00   \n",
       "4569  1964   7th Annual GRAMMY Awards  (1964)  2017-11-28T00:03:45-08:00   \n",
       "4628  1963   6th Annual GRAMMY Awards  (1963)  2017-11-28T00:03:45-08:00   \n",
       "4667  1962   5th Annual GRAMMY Awards  (1962)  2017-11-28T00:03:45-08:00   \n",
       "4699  1961   4th Annual GRAMMY Awards  (1961)  2017-11-28T00:03:45-08:00   \n",
       "4745  1960   3rd Annual GRAMMY Awards  (1960)  2017-11-28T00:03:45-08:00   \n",
       "4781  1959   2nd Annual GRAMMY Awards  (1959)  2017-11-28T00:03:45-08:00   \n",
       "\n",
       "                     updated_at  \\\n",
       "3066  2019-09-10T01:06:59-07:00   \n",
       "3076  2019-09-10T01:06:59-07:00   \n",
       "3366  2019-09-10T01:07:37-07:00   \n",
       "3515  2019-09-10T01:06:11-07:00   \n",
       "4178  2019-09-10T01:07:37-07:00   \n",
       "4397  2019-09-10T01:11:09-07:00   \n",
       "4569  2019-09-10T01:06:11-07:00   \n",
       "4628  2019-09-10T01:11:09-07:00   \n",
       "4667  2019-09-10T01:09:02-07:00   \n",
       "4699  2019-09-10T01:08:19-07:00   \n",
       "4745  2019-09-10T01:07:37-07:00   \n",
       "4781  2019-09-10T01:06:59-07:00   \n",
       "\n",
       "                                               category  \\\n",
       "3066               Producer Of The Year (Non Classical)   \n",
       "3076                       Best Classical Vocal Soloist   \n",
       "3366              Producer Of The Year, (Non Classical)   \n",
       "3515                          Best New Classical Artist   \n",
       "4178         Best Classical Performance - Vocal Soloist   \n",
       "4397  Best Performance - Instrumental Soloist Or Sol...   \n",
       "4569                            Best New Artist Of 1964   \n",
       "4628                            Best New Artist Of 1963   \n",
       "4667                            Best New Artist Of 1962   \n",
       "4699                            Best New Artist Of 1961   \n",
       "4745                            Best New Artist Of 1960   \n",
       "4781                            Best New Artist Of 1959   \n",
       "\n",
       "                                                nominee  \\\n",
       "3066                                       David Foster   \n",
       "3076     The Girl With Orange Lips (Falla, Ravel, etc.)   \n",
       "3366                              Narada Michael Walden   \n",
       "3515  Stravinsky: L' Histoire Du Soldat (The Soldier...   \n",
       "4178         A Program Of Song - Leontyne Price Recital   \n",
       "4397  Horowitz On Television (Chopin, Scriabin, Scar...   \n",
       "4569                                        The Beatles   \n",
       "4628                 Ward Swingle (The Swingle Singers)   \n",
       "4667                                      Robert Goulet   \n",
       "4699                                         Peter Nero   \n",
       "4745                                        Bob Newhart   \n",
       "4781                                        Bobby Darin   \n",
       "\n",
       "                                 artist workers  winner  \n",
       "3066                       David Foster    None    True  \n",
       "3076                        Dawn Upshaw    None    True  \n",
       "3366              Narada Michael Walden    None    True  \n",
       "3515                 Chicago Pro Musica    None    True  \n",
       "4178                     Leontyne Price    None    True  \n",
       "4397                  Vladimir Horowitz    None    True  \n",
       "4569                        The Beatles    None    True  \n",
       "4628  Ward Swingle(The Swingle Singers)    None    True  \n",
       "4667                      Robert Goulet    None    True  \n",
       "4699                         Peter Nero    None    True  \n",
       "4745                        Bob Newhart    None    True  \n",
       "4781                        Bobby Darin    None    True  "
      ]
     },
     "execution_count": 28,
     "metadata": {},
     "output_type": "execute_result"
    }
   ],
   "source": [
    "df1.loc[list(update1.keys())]"
   ]
  },
  {
   "cell_type": "markdown",
   "metadata": {},
   "source": [
    "### Value counts for the `category` column in these rows is more than one"
   ]
  },
  {
   "cell_type": "markdown",
   "metadata": {},
   "source": [
    "Of these categories with rows with missing `artist` and `workers` we need to filter those that do not contain a regular artist name to handle them separetely. In this case, the criteria is that they contain special characters in their `nominee` column. "
   ]
  },
  {
   "cell_type": "code",
   "execution_count": 30,
   "metadata": {},
   "outputs": [
    {
     "name": "stdout",
     "output_type": "stream",
     "text": [
      "category\n",
      "Producer Of The Year (Non-Classical)                                                         6\n",
      "Best Classical Vocal Soloist Performance                                                     5\n",
      "Best New Artist                                                                              4\n",
      "Best Small Ensemble Performance (With Or Without Conductor)                                  4\n",
      "Best Classical Vocal Performance                                                             4\n",
      "Best Classical Performance - Instrumental Soloist Or Soloists (With Or Without Orchestra)    4\n",
      "Most Promising New Classical Recording Artist                                                3\n",
      "Producer Of The Year, Non-Classical                                                          2\n",
      "Producer Of The Year, Classical                                                              1\n",
      "Classical Producer Of The Year                                                               1\n",
      "Producer Of The Year                                                                         1\n",
      "Best New Artist Of The Year                                                                  1\n",
      "Name: count, dtype: int64\n"
     ]
    }
   ],
   "source": [
    "# Filter rows where 'artist' and 'workers' are null\n",
    "filtered_null_rows = df1[(df1['artist'].isnull()) & (df1['workers'].isnull())]\n",
    "\n",
    "# Filter rows where 'nominee' contains special characters and 'artist' is null\n",
    "filtered_rows = filtered_null_rows[(filtered_null_rows['nominee'].str.contains(r'[^\\w\\s]', regex=True))]\n",
    "\n",
    "# Count the number of rows per 'category'\n",
    "category_counts = filtered_rows['category'].value_counts()\n",
    "\n",
    "# Display the counts\n",
    "print(category_counts)"
   ]
  },
  {
   "cell_type": "markdown",
   "metadata": {},
   "source": [
    "As these columns may need reviewing and we operate on the assumption that those whitout special characters don't. Therefore, we are going to input the `artist` value using the `nominee` value on the cases where `nominee` does not have special characters."
   ]
  },
  {
   "cell_type": "code",
   "execution_count": 31,
   "metadata": {},
   "outputs": [],
   "source": [
    "# Update 'artist' column for rows where 'artist' is null and 'nominee' does not contain special characters\n",
    "df1.loc[(df1['artist'].isnull()) & \n",
    "        (~df1['nominee'].str.contains(r'[^\\w\\s]', regex=True)), 'artist'] = df1['nominee']"
   ]
  },
  {
   "cell_type": "markdown",
   "metadata": {},
   "source": [
    "#### Cases with special characters in `nominee`"
   ]
  },
  {
   "cell_type": "markdown",
   "metadata": {},
   "source": [
    "##### Producer Of The Year, Non-Classical  "
   ]
  },
  {
   "cell_type": "markdown",
   "metadata": {},
   "source": [
    "In the cases when the `category` contains \"Best\" or \"of the Year\" and \"artist\" the `artist` is the `nominee` at the same time.  We are going to apply this logic to input values for rows with the category \"Producer Of The Year, Non-Classical\"."
   ]
  },
  {
   "cell_type": "code",
   "execution_count": null,
   "metadata": {},
   "outputs": [],
   "source": [
    "df1.loc[(df1['category'] == 'Producer Of The Year, Non-Classical') & (df1['artist'].isnull()), 'artist'] = df1['nominee']"
   ]
  },
  {
   "cell_type": "markdown",
   "metadata": {},
   "source": [
    "To review the changes we filter `category` for \"Producer Of The Year, Non-Classical\" and check for nulls in the `artist` column. There are now none for this category.\n"
   ]
  },
  {
   "cell_type": "code",
   "execution_count": null,
   "metadata": {},
   "outputs": [
    {
     "name": "stderr",
     "output_type": "stream",
     "text": [
      "2025-04-06 13:14:14,622 - INFO - root - There are 0 null values in the 'artist' column for 'Producer Of The Year, Non-Classical'.\n"
     ]
    }
   ],
   "source": [
    "null_count = df1[(df1['category'] == 'Producer Of The Year, Non-Classical') & (df1['artist'].isnull())].shape[0]\n",
    "logging.info(f\"There are {null_count} null values in the 'artist' column for 'Producer Of The Year, Non-Classical'.\")"
   ]
  },
  {
   "cell_type": "markdown",
   "metadata": {},
   "source": [
    "##### "
   ]
  },
  {
   "cell_type": "code",
   "execution_count": null,
   "metadata": {},
   "outputs": [],
   "source": [
    "#####"
   ]
  },
  {
   "cell_type": "markdown",
   "metadata": {},
   "source": [
    "#### Best New Artist  "
   ]
  },
  {
   "cell_type": "markdown",
   "metadata": {},
   "source": [
    "In the cases when the `category` contains \"Best\" or \"of the Year\" and \"artist\" the `artist` is the `nominee` at the same time.  We are going to apply this logic to input values for rows with the category \"Best New Artist\"."
   ]
  },
  {
   "cell_type": "code",
   "execution_count": 26,
   "metadata": {},
   "outputs": [],
   "source": [
    "df1.loc[(df1['category'] == 'Best New Artist') & (df1['artist'].isnull()), 'artist'] = df1['nominee']"
   ]
  },
  {
   "cell_type": "markdown",
   "metadata": {},
   "source": [
    "To review the changes we filter `category` for \"Best New Artist\" and check for nulls in the `artist` column. There are now none for this category."
   ]
  },
  {
   "cell_type": "code",
   "execution_count": 32,
   "metadata": {},
   "outputs": [
    {
     "name": "stderr",
     "output_type": "stream",
     "text": [
      "2025-04-06 12:54:53,016 - INFO - root - There are 0 null values in the 'artist' column for 'Best New Artist'.\n"
     ]
    }
   ],
   "source": [
    "null_count = df1[(df1['category'] == 'Best New Artist') & (df1['artist'].isnull())].shape[0]\n",
    "logging.info(f\"There are {null_count} null values in the 'artist' column for 'Best New Artist'.\")"
   ]
  },
  {
   "cell_type": "markdown",
   "metadata": {},
   "source": [
    "#### Producer Of The Year, Classical "
   ]
  },
  {
   "cell_type": "markdown",
   "metadata": {},
   "source": [
    "In the cases when the `category` contains \"Best\" or \"of the Year\" and \"artist\" the `artist` is the `nominee` at the same time.  We are going to apply this logic to input values for rows with the category \"Producer Of The Year, Classical\"."
   ]
  },
  {
   "cell_type": "code",
   "execution_count": 48,
   "metadata": {},
   "outputs": [],
   "source": [
    "df1.loc[(df1['category'] == 'Producer Of The Year, Classical') & (df1['artist'].isnull()), 'artist'] = df1['nominee']"
   ]
  },
  {
   "cell_type": "markdown",
   "metadata": {},
   "source": [
    "To review the changes we filter `category` for \"Producer Of The Year, Classical\" and check for nulls in the `artist` column. There are now none for this category.\n"
   ]
  },
  {
   "cell_type": "code",
   "execution_count": 49,
   "metadata": {},
   "outputs": [
    {
     "name": "stderr",
     "output_type": "stream",
     "text": [
      "2025-04-06 13:17:29,444 - INFO - root - There are 0 null values in the 'artist' column for 'Producer Of The Year, Classical'.\n"
     ]
    }
   ],
   "source": [
    "null_count = df1[(df1['category'] == 'Producer Of The Year, Non-Classical') & (df1['artist'].isnull())].shape[0]\n",
    "logging.info(f\"There are {null_count} null values in the 'artist' column for 'Producer Of The Year, Classical'.\")"
   ]
  },
  {
   "cell_type": "code",
   "execution_count": 46,
   "metadata": {},
   "outputs": [],
   "source": [
    "filtered_null_rows = df1[(df1['category'] == 'Producer Of The Year, Classical') & (df1['artist'].isnull())]"
   ]
  },
  {
   "cell_type": "markdown",
   "metadata": {},
   "source": [
    "#### Classical Producer Of The Year"
   ]
  },
  {
   "cell_type": "markdown",
   "metadata": {},
   "source": [
    "In the cases when the `category` contains \"Best\" or \"of the Year\" and \"artist\" the `artist` is the `nominee` at the same time.  We are going to apply this logic to input values for rows with the category \"Classical Producer Of The Year\"."
   ]
  },
  {
   "cell_type": "code",
   "execution_count": 52,
   "metadata": {},
   "outputs": [],
   "source": [
    "df1.loc[(df1['category'] == 'Classical Producer Of The Year') & (df1['artist'].isnull()), 'artist'] = df1['nominee']"
   ]
  },
  {
   "cell_type": "markdown",
   "metadata": {},
   "source": [
    "To review the changes we filter `category` for \"Producer Of The Year, Classical\" and check for nulls in the `artist` column. There are now none for this category.\n"
   ]
  },
  {
   "cell_type": "code",
   "execution_count": 53,
   "metadata": {},
   "outputs": [
    {
     "name": "stderr",
     "output_type": "stream",
     "text": [
      "2025-04-06 13:20:40,732 - INFO - root - There are 0 null values in the 'artist' column for 'Classical Producer Of The Year'.\n"
     ]
    }
   ],
   "source": [
    "null_count = df1[(df1['category'] == 'Classical Producer Of The Year') & (df1['artist'].isnull())].shape[0]\n",
    "logging.info(f\"There are {null_count} null values in the 'artist' column for 'Classical Producer Of The Year'.\")"
   ]
  },
  {
   "cell_type": "markdown",
   "metadata": {},
   "source": [
    "#### Producer Of The Year (Non-Classical) "
   ]
  },
  {
   "cell_type": "markdown",
   "metadata": {},
   "source": [
    "In the cases when the `category` contains \"Best\" or \"of the Year\" and \"artist\" the `artist` is the `nominee` at the same time.  We are going to apply this logic to input values for rows with the category \"Producer Of The Year (Non-Classical)\"."
   ]
  },
  {
   "cell_type": "code",
   "execution_count": 56,
   "metadata": {},
   "outputs": [],
   "source": [
    "df1.loc[(df1['category'] == 'Producer Of The Year (Non-Classical)') & (df1['artist'].isnull()), 'artist'] = df1['nominee']"
   ]
  },
  {
   "cell_type": "markdown",
   "metadata": {},
   "source": [
    "To review the changes we filter `category` for \"Producer Of The Year (Non-Classical)\" and check for nulls in the `artist` column. There are now none for this category.\n"
   ]
  },
  {
   "cell_type": "code",
   "execution_count": 57,
   "metadata": {},
   "outputs": [
    {
     "name": "stderr",
     "output_type": "stream",
     "text": [
      "2025-04-06 13:31:14,177 - INFO - root - There are 0 null values in the 'artist' column for 'Producer Of The Year (Non-Classical)'.\n"
     ]
    }
   ],
   "source": [
    "null_count = df1[(df1['category'] == 'Producer Of The Year (Non-Classical)') & (df1['artist'].isnull())].shape[0]\n",
    "logging.info(f\"There are {null_count} null values in the 'artist' column for 'Producer Of The Year (Non-Classical)'.\")"
   ]
  },
  {
   "cell_type": "markdown",
   "metadata": {},
   "source": [
    "#### Producer Of The Year   "
   ]
  },
  {
   "cell_type": "markdown",
   "metadata": {},
   "source": [
    "In the cases when the `category` contains \"Best\" or \"of the Year\" and \"artist\" the `artist` is the `nominee` at the same time.  We are going to apply this logic to input values for rows with the category \"Producer Of The Year\"."
   ]
  },
  {
   "cell_type": "code",
   "execution_count": 60,
   "metadata": {},
   "outputs": [],
   "source": [
    "df1.loc[(df1['category'] == 'Producer Of The Year') & (df1['artist'].isnull()), 'artist'] = df1['nominee']"
   ]
  },
  {
   "cell_type": "markdown",
   "metadata": {},
   "source": [
    "To review the changes we filter `category` for \"Producer Of The Year\" and check for nulls in the `artist` column. There are now none for this category.\n"
   ]
  },
  {
   "cell_type": "code",
   "execution_count": 61,
   "metadata": {},
   "outputs": [
    {
     "name": "stderr",
     "output_type": "stream",
     "text": [
      "2025-04-06 13:34:36,173 - INFO - root - There are 0 null values in the 'artist' column for 'Producer Of The Year'.\n"
     ]
    }
   ],
   "source": [
    "null_count = df1[(df1['category'] == 'Producer Of The Year') & (df1['artist'].isnull())].shape[0]\n",
    "logging.info(f\"There are {null_count} null values in the 'artist' column for 'Producer Of The Year'.\")"
   ]
  },
  {
   "cell_type": "markdown",
   "metadata": {},
   "source": [
    "#### Best New Artist Of The Year "
   ]
  },
  {
   "cell_type": "markdown",
   "metadata": {},
   "source": [
    "In the cases when the `category` contains \"Best\" or \"of the Year\" and \"artist\" the `artist` is the `nominee` at the same time.  We are going to apply this logic to input values for rows with the category \"Best New Artist Of The Year\"."
   ]
  },
  {
   "cell_type": "code",
   "execution_count": 62,
   "metadata": {},
   "outputs": [],
   "source": [
    "df1.loc[(df1['category'] == 'Best New Artist Of The Year') & (df1['artist'].isnull()), 'artist'] = df1['nominee']"
   ]
  },
  {
   "cell_type": "markdown",
   "metadata": {},
   "source": [
    "To review the changes we filter `category` for \"Best New Artist Of The Year\" and check for nulls in the `artist` column. There are now none for this category.\n"
   ]
  },
  {
   "cell_type": "code",
   "execution_count": 63,
   "metadata": {},
   "outputs": [
    {
     "name": "stderr",
     "output_type": "stream",
     "text": [
      "2025-04-06 13:36:46,048 - INFO - root - There are 0 null values in the 'artist' column for 'Best New Artist Of The Year'.\n"
     ]
    }
   ],
   "source": [
    "null_count = df1[(df1['category'] == 'Best New Artist Of The Year') & (df1['artist'].isnull())].shape[0]\n",
    "logging.info(f\"There are {null_count} null values in the 'artist' column for 'Best New Artist Of The Year'.\")"
   ]
  },
  {
   "cell_type": "markdown",
   "metadata": {},
   "source": [
    "#### Best Classical Vocal Soloist Performance"
   ]
  },
  {
   "cell_type": "code",
   "execution_count": 67,
   "metadata": {},
   "outputs": [],
   "source": [
    "filtered_null_rows = df1[(df1['category'] == 'Best Classical Vocal Soloist Performance') & (df1['artist'].isnull())]"
   ]
  },
  {
   "cell_type": "code",
   "execution_count": null,
   "metadata": {},
   "outputs": [],
   "source": [
    "filtered_null_rows"
   ]
  },
  {
   "cell_type": "code",
   "execution_count": null,
   "metadata": {},
   "outputs": [],
   "source": [
    "df1.loc[(df1['category'] == 'Best New Artist Of The Year') & (df1['artist'].isnull()), 'artist'] = df1['nominee']"
   ]
  },
  {
   "cell_type": "markdown",
   "metadata": {},
   "source": [
    "## Disposing of columns"
   ]
  },
  {
   "cell_type": "markdown",
   "metadata": {},
   "source": [
    "### `published_at` and `updated_at` columns"
   ]
  },
  {
   "cell_type": "markdown",
   "metadata": {},
   "source": [
    "In the analysis of the dataset I could not apply a clear use of the values of these two columns. The dates have no relation with the date of the event, or with any ephemeris related to this event. Therefore, I am going to delete them from the dataframe."
   ]
  }
 ],
 "metadata": {
  "kernelspec": {
   "display_name": "venv",
   "language": "python",
   "name": "python3"
  },
  "language_info": {
   "codemirror_mode": {
    "name": "ipython",
    "version": 3
   },
   "file_extension": ".py",
   "mimetype": "text/x-python",
   "name": "python",
   "nbconvert_exporter": "python",
   "pygments_lexer": "ipython3",
   "version": "3.12.3"
  }
 },
 "nbformat": 4,
 "nbformat_minor": 2
}
