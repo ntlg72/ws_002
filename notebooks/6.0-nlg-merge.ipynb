{
 "cells": [
  {
   "cell_type": "markdown",
   "id": "6e9a3f93",
   "metadata": {},
   "source": [
    "# Workshop #2 :\n",
    "## Merge\n",
    "\n",
    "------------------------------------------------------------\n",
    "\n",
    "Integrate Grammy, Spotify, and API data into a unified dataset. "
   ]
  },
  {
   "cell_type": "code",
   "execution_count": null,
   "id": "db4f6178",
   "metadata": {},
   "outputs": [],
   "source": [
    "\n",
    "import pandas as pd\n",
    "import numpy as np\n",
    "import logging"
   ]
  },
  {
   "cell_type": "markdown",
   "id": "92b7ff67",
   "metadata": {},
   "source": [
    "Reading clean CSVs as Dataframes for manipulation."
   ]
  },
  {
   "cell_type": "code",
   "execution_count": 23,
   "id": "c50c0082",
   "metadata": {},
   "outputs": [],
   "source": [
    "grammy = pd.read_csv(\"/home/bb-8/Dags/ws_002/data/intermediate/grammys.csv\")\n",
    "spotify = pd.read_csv(\"/home/bb-8/Dags/ws_002/data/intermediate/spotify.csv\")\n",
    "api = pd.read_csv(\"/home/bb-8/Dags/ws_002/data/intermediate/api.csv\")"
   ]
  },
  {
   "cell_type": "markdown",
   "id": "46c76f63",
   "metadata": {},
   "source": [
    "## Reviewing `features` in each dataset"
   ]
  },
  {
   "cell_type": "code",
   "execution_count": 24,
   "id": "a8d1da6d",
   "metadata": {},
   "outputs": [
    {
     "name": "stdout",
     "output_type": "stream",
     "text": [
      "<class 'pandas.core.frame.DataFrame'>\n",
      "RangeIndex: 90 entries, 0 to 89\n",
      "Data columns (total 10 columns):\n",
      " #   Column            Non-Null Count  Dtype  \n",
      "---  ------            --------------  -----  \n",
      " 0   nominee           90 non-null     object \n",
      " 1   acousticness      90 non-null     float64\n",
      " 2   danceability      90 non-null     float64\n",
      " 3   energy            90 non-null     float64\n",
      " 4   instrumentalness  90 non-null     float64\n",
      " 5   liveness          90 non-null     float64\n",
      " 6   loudness          90 non-null     float64\n",
      " 7   speechiness       90 non-null     float64\n",
      " 8   tempo             90 non-null     float64\n",
      " 9   valence           90 non-null     float64\n",
      "dtypes: float64(9), object(1)\n",
      "memory usage: 7.2+ KB\n"
     ]
    }
   ],
   "source": [
    "api.info()"
   ]
  },
  {
   "cell_type": "code",
   "execution_count": 25,
   "id": "b615eb9f",
   "metadata": {},
   "outputs": [
    {
     "name": "stdout",
     "output_type": "stream",
     "text": [
      "<class 'pandas.core.frame.DataFrame'>\n",
      "RangeIndex: 4430 entries, 0 to 4429\n",
      "Data columns (total 6 columns):\n",
      " #   Column               Non-Null Count  Dtype \n",
      "---  ------               --------------  ----- \n",
      " 0   year                 4430 non-null   int64 \n",
      " 1   title                4430 non-null   object\n",
      " 2   nominee              4430 non-null   object\n",
      " 3   artist               4430 non-null   object\n",
      " 4   winner               4430 non-null   bool  \n",
      " 5   normalized_category  4430 non-null   object\n",
      "dtypes: bool(1), int64(1), object(4)\n",
      "memory usage: 177.5+ KB\n"
     ]
    }
   ],
   "source": [
    "grammy.info()"
   ]
  },
  {
   "cell_type": "code",
   "execution_count": 26,
   "id": "e221a01f",
   "metadata": {},
   "outputs": [
    {
     "data": {
      "text/html": [
       "<div>\n",
       "<style scoped>\n",
       "    .dataframe tbody tr th:only-of-type {\n",
       "        vertical-align: middle;\n",
       "    }\n",
       "\n",
       "    .dataframe tbody tr th {\n",
       "        vertical-align: top;\n",
       "    }\n",
       "\n",
       "    .dataframe thead th {\n",
       "        text-align: right;\n",
       "    }\n",
       "</style>\n",
       "<table border=\"1\" class=\"dataframe\">\n",
       "  <thead>\n",
       "    <tr style=\"text-align: right;\">\n",
       "      <th></th>\n",
       "      <th>track_id</th>\n",
       "      <th>artists</th>\n",
       "      <th>album_name</th>\n",
       "      <th>track_name</th>\n",
       "      <th>popularity</th>\n",
       "      <th>duration_ms</th>\n",
       "      <th>explicit</th>\n",
       "      <th>danceability</th>\n",
       "      <th>energy</th>\n",
       "      <th>key</th>\n",
       "      <th>...</th>\n",
       "      <th>acousticness</th>\n",
       "      <th>instrumentalness</th>\n",
       "      <th>liveness</th>\n",
       "      <th>valence</th>\n",
       "      <th>tempo</th>\n",
       "      <th>time_signature</th>\n",
       "      <th>track_genre</th>\n",
       "      <th>minutes</th>\n",
       "      <th>mode_nominal</th>\n",
       "      <th>key_nominal</th>\n",
       "    </tr>\n",
       "  </thead>\n",
       "  <tbody>\n",
       "    <tr>\n",
       "      <th>count</th>\n",
       "      <td>81158</td>\n",
       "      <td>81158</td>\n",
       "      <td>81158</td>\n",
       "      <td>81158</td>\n",
       "      <td>81158.000000</td>\n",
       "      <td>8.115800e+04</td>\n",
       "      <td>81158</td>\n",
       "      <td>81158.000000</td>\n",
       "      <td>81158.000000</td>\n",
       "      <td>81158.000000</td>\n",
       "      <td>...</td>\n",
       "      <td>81158.000000</td>\n",
       "      <td>81158.000000</td>\n",
       "      <td>81158.000000</td>\n",
       "      <td>81158.000000</td>\n",
       "      <td>81158.000000</td>\n",
       "      <td>81158.000000</td>\n",
       "      <td>81158</td>\n",
       "      <td>8.115800e+04</td>\n",
       "      <td>81158</td>\n",
       "      <td>81158</td>\n",
       "    </tr>\n",
       "    <tr>\n",
       "      <th>unique</th>\n",
       "      <td>81158</td>\n",
       "      <td>28157</td>\n",
       "      <td>41877</td>\n",
       "      <td>66331</td>\n",
       "      <td>NaN</td>\n",
       "      <td>NaN</td>\n",
       "      <td>2</td>\n",
       "      <td>NaN</td>\n",
       "      <td>NaN</td>\n",
       "      <td>NaN</td>\n",
       "      <td>...</td>\n",
       "      <td>NaN</td>\n",
       "      <td>NaN</td>\n",
       "      <td>NaN</td>\n",
       "      <td>NaN</td>\n",
       "      <td>NaN</td>\n",
       "      <td>NaN</td>\n",
       "      <td>55</td>\n",
       "      <td>NaN</td>\n",
       "      <td>2</td>\n",
       "      <td>12</td>\n",
       "    </tr>\n",
       "    <tr>\n",
       "      <th>top</th>\n",
       "      <td>5SuOikwiRyPMVoIQDJUgSV</td>\n",
       "      <td>George Jones</td>\n",
       "      <td>The Complete Hank Williams</td>\n",
       "      <td>Rockin' Around The Christmas Tree</td>\n",
       "      <td>NaN</td>\n",
       "      <td>NaN</td>\n",
       "      <td>No</td>\n",
       "      <td>NaN</td>\n",
       "      <td>NaN</td>\n",
       "      <td>NaN</td>\n",
       "      <td>...</td>\n",
       "      <td>NaN</td>\n",
       "      <td>NaN</td>\n",
       "      <td>NaN</td>\n",
       "      <td>NaN</td>\n",
       "      <td>NaN</td>\n",
       "      <td>NaN</td>\n",
       "      <td>punk-rock</td>\n",
       "      <td>NaN</td>\n",
       "      <td>major</td>\n",
       "      <td>G</td>\n",
       "    </tr>\n",
       "    <tr>\n",
       "      <th>freq</th>\n",
       "      <td>1</td>\n",
       "      <td>260</td>\n",
       "      <td>110</td>\n",
       "      <td>48</td>\n",
       "      <td>NaN</td>\n",
       "      <td>NaN</td>\n",
       "      <td>74261</td>\n",
       "      <td>NaN</td>\n",
       "      <td>NaN</td>\n",
       "      <td>NaN</td>\n",
       "      <td>...</td>\n",
       "      <td>NaN</td>\n",
       "      <td>NaN</td>\n",
       "      <td>NaN</td>\n",
       "      <td>NaN</td>\n",
       "      <td>NaN</td>\n",
       "      <td>NaN</td>\n",
       "      <td>3916</td>\n",
       "      <td>NaN</td>\n",
       "      <td>51915</td>\n",
       "      <td>9544</td>\n",
       "    </tr>\n",
       "    <tr>\n",
       "      <th>mean</th>\n",
       "      <td>NaN</td>\n",
       "      <td>NaN</td>\n",
       "      <td>NaN</td>\n",
       "      <td>NaN</td>\n",
       "      <td>33.041179</td>\n",
       "      <td>2.271004e+05</td>\n",
       "      <td>NaN</td>\n",
       "      <td>0.565145</td>\n",
       "      <td>0.639840</td>\n",
       "      <td>5.279677</td>\n",
       "      <td>...</td>\n",
       "      <td>0.324653</td>\n",
       "      <td>0.177126</td>\n",
       "      <td>0.218445</td>\n",
       "      <td>0.476717</td>\n",
       "      <td>122.349142</td>\n",
       "      <td>3.900071</td>\n",
       "      <td>NaN</td>\n",
       "      <td>2.271004e+05</td>\n",
       "      <td>NaN</td>\n",
       "      <td>NaN</td>\n",
       "    </tr>\n",
       "    <tr>\n",
       "      <th>std</th>\n",
       "      <td>NaN</td>\n",
       "      <td>NaN</td>\n",
       "      <td>NaN</td>\n",
       "      <td>NaN</td>\n",
       "      <td>20.730254</td>\n",
       "      <td>1.125687e+05</td>\n",
       "      <td>NaN</td>\n",
       "      <td>0.174687</td>\n",
       "      <td>0.258049</td>\n",
       "      <td>3.557962</td>\n",
       "      <td>...</td>\n",
       "      <td>0.340479</td>\n",
       "      <td>0.325627</td>\n",
       "      <td>0.195963</td>\n",
       "      <td>0.262441</td>\n",
       "      <td>30.116940</td>\n",
       "      <td>0.451439</td>\n",
       "      <td>NaN</td>\n",
       "      <td>1.125687e+05</td>\n",
       "      <td>NaN</td>\n",
       "      <td>NaN</td>\n",
       "    </tr>\n",
       "    <tr>\n",
       "      <th>min</th>\n",
       "      <td>NaN</td>\n",
       "      <td>NaN</td>\n",
       "      <td>NaN</td>\n",
       "      <td>NaN</td>\n",
       "      <td>0.000000</td>\n",
       "      <td>1.745300e+04</td>\n",
       "      <td>NaN</td>\n",
       "      <td>0.000000</td>\n",
       "      <td>0.000000</td>\n",
       "      <td>0.000000</td>\n",
       "      <td>...</td>\n",
       "      <td>0.000000</td>\n",
       "      <td>0.000000</td>\n",
       "      <td>0.000000</td>\n",
       "      <td>0.000000</td>\n",
       "      <td>0.000000</td>\n",
       "      <td>0.000000</td>\n",
       "      <td>NaN</td>\n",
       "      <td>1.745300e+04</td>\n",
       "      <td>NaN</td>\n",
       "      <td>NaN</td>\n",
       "    </tr>\n",
       "    <tr>\n",
       "      <th>25%</th>\n",
       "      <td>NaN</td>\n",
       "      <td>NaN</td>\n",
       "      <td>NaN</td>\n",
       "      <td>NaN</td>\n",
       "      <td>19.000000</td>\n",
       "      <td>1.715005e+05</td>\n",
       "      <td>NaN</td>\n",
       "      <td>0.454000</td>\n",
       "      <td>0.462000</td>\n",
       "      <td>2.000000</td>\n",
       "      <td>...</td>\n",
       "      <td>0.014600</td>\n",
       "      <td>0.000000</td>\n",
       "      <td>0.098100</td>\n",
       "      <td>0.258000</td>\n",
       "      <td>99.907250</td>\n",
       "      <td>4.000000</td>\n",
       "      <td>NaN</td>\n",
       "      <td>1.715005e+05</td>\n",
       "      <td>NaN</td>\n",
       "      <td>NaN</td>\n",
       "    </tr>\n",
       "    <tr>\n",
       "      <th>50%</th>\n",
       "      <td>NaN</td>\n",
       "      <td>NaN</td>\n",
       "      <td>NaN</td>\n",
       "      <td>NaN</td>\n",
       "      <td>32.000000</td>\n",
       "      <td>2.116380e+05</td>\n",
       "      <td>NaN</td>\n",
       "      <td>0.579000</td>\n",
       "      <td>0.686000</td>\n",
       "      <td>5.000000</td>\n",
       "      <td>...</td>\n",
       "      <td>0.176000</td>\n",
       "      <td>0.000074</td>\n",
       "      <td>0.133000</td>\n",
       "      <td>0.468000</td>\n",
       "      <td>122.129500</td>\n",
       "      <td>4.000000</td>\n",
       "      <td>NaN</td>\n",
       "      <td>2.116380e+05</td>\n",
       "      <td>NaN</td>\n",
       "      <td>NaN</td>\n",
       "    </tr>\n",
       "    <tr>\n",
       "      <th>75%</th>\n",
       "      <td>NaN</td>\n",
       "      <td>NaN</td>\n",
       "      <td>NaN</td>\n",
       "      <td>NaN</td>\n",
       "      <td>49.000000</td>\n",
       "      <td>2.616000e+05</td>\n",
       "      <td>NaN</td>\n",
       "      <td>0.693000</td>\n",
       "      <td>0.860000</td>\n",
       "      <td>8.000000</td>\n",
       "      <td>...</td>\n",
       "      <td>0.625000</td>\n",
       "      <td>0.118000</td>\n",
       "      <td>0.282000</td>\n",
       "      <td>0.690000</td>\n",
       "      <td>140.142750</td>\n",
       "      <td>4.000000</td>\n",
       "      <td>NaN</td>\n",
       "      <td>2.616000e+05</td>\n",
       "      <td>NaN</td>\n",
       "      <td>NaN</td>\n",
       "    </tr>\n",
       "    <tr>\n",
       "      <th>max</th>\n",
       "      <td>NaN</td>\n",
       "      <td>NaN</td>\n",
       "      <td>NaN</td>\n",
       "      <td>NaN</td>\n",
       "      <td>100.000000</td>\n",
       "      <td>5.237295e+06</td>\n",
       "      <td>NaN</td>\n",
       "      <td>0.985000</td>\n",
       "      <td>1.000000</td>\n",
       "      <td>11.000000</td>\n",
       "      <td>...</td>\n",
       "      <td>0.996000</td>\n",
       "      <td>1.000000</td>\n",
       "      <td>1.000000</td>\n",
       "      <td>0.995000</td>\n",
       "      <td>243.372000</td>\n",
       "      <td>5.000000</td>\n",
       "      <td>NaN</td>\n",
       "      <td>5.237295e+06</td>\n",
       "      <td>NaN</td>\n",
       "      <td>NaN</td>\n",
       "    </tr>\n",
       "  </tbody>\n",
       "</table>\n",
       "<p>11 rows × 23 columns</p>\n",
       "</div>"
      ],
      "text/plain": [
       "                      track_id       artists                  album_name  \\\n",
       "count                    81158         81158                       81158   \n",
       "unique                   81158         28157                       41877   \n",
       "top     5SuOikwiRyPMVoIQDJUgSV  George Jones  The Complete Hank Williams   \n",
       "freq                         1           260                         110   \n",
       "mean                       NaN           NaN                         NaN   \n",
       "std                        NaN           NaN                         NaN   \n",
       "min                        NaN           NaN                         NaN   \n",
       "25%                        NaN           NaN                         NaN   \n",
       "50%                        NaN           NaN                         NaN   \n",
       "75%                        NaN           NaN                         NaN   \n",
       "max                        NaN           NaN                         NaN   \n",
       "\n",
       "                               track_name    popularity   duration_ms  \\\n",
       "count                               81158  81158.000000  8.115800e+04   \n",
       "unique                              66331           NaN           NaN   \n",
       "top     Rockin' Around The Christmas Tree           NaN           NaN   \n",
       "freq                                   48           NaN           NaN   \n",
       "mean                                  NaN     33.041179  2.271004e+05   \n",
       "std                                   NaN     20.730254  1.125687e+05   \n",
       "min                                   NaN      0.000000  1.745300e+04   \n",
       "25%                                   NaN     19.000000  1.715005e+05   \n",
       "50%                                   NaN     32.000000  2.116380e+05   \n",
       "75%                                   NaN     49.000000  2.616000e+05   \n",
       "max                                   NaN    100.000000  5.237295e+06   \n",
       "\n",
       "       explicit  danceability        energy           key  ...  acousticness  \\\n",
       "count     81158  81158.000000  81158.000000  81158.000000  ...  81158.000000   \n",
       "unique        2           NaN           NaN           NaN  ...           NaN   \n",
       "top          No           NaN           NaN           NaN  ...           NaN   \n",
       "freq      74261           NaN           NaN           NaN  ...           NaN   \n",
       "mean        NaN      0.565145      0.639840      5.279677  ...      0.324653   \n",
       "std         NaN      0.174687      0.258049      3.557962  ...      0.340479   \n",
       "min         NaN      0.000000      0.000000      0.000000  ...      0.000000   \n",
       "25%         NaN      0.454000      0.462000      2.000000  ...      0.014600   \n",
       "50%         NaN      0.579000      0.686000      5.000000  ...      0.176000   \n",
       "75%         NaN      0.693000      0.860000      8.000000  ...      0.625000   \n",
       "max         NaN      0.985000      1.000000     11.000000  ...      0.996000   \n",
       "\n",
       "        instrumentalness      liveness       valence         tempo  \\\n",
       "count       81158.000000  81158.000000  81158.000000  81158.000000   \n",
       "unique               NaN           NaN           NaN           NaN   \n",
       "top                  NaN           NaN           NaN           NaN   \n",
       "freq                 NaN           NaN           NaN           NaN   \n",
       "mean            0.177126      0.218445      0.476717    122.349142   \n",
       "std             0.325627      0.195963      0.262441     30.116940   \n",
       "min             0.000000      0.000000      0.000000      0.000000   \n",
       "25%             0.000000      0.098100      0.258000     99.907250   \n",
       "50%             0.000074      0.133000      0.468000    122.129500   \n",
       "75%             0.118000      0.282000      0.690000    140.142750   \n",
       "max             1.000000      1.000000      0.995000    243.372000   \n",
       "\n",
       "        time_signature  track_genre       minutes  mode_nominal key_nominal  \n",
       "count     81158.000000        81158  8.115800e+04         81158       81158  \n",
       "unique             NaN           55           NaN             2          12  \n",
       "top                NaN    punk-rock           NaN         major           G  \n",
       "freq               NaN         3916           NaN         51915        9544  \n",
       "mean          3.900071          NaN  2.271004e+05           NaN         NaN  \n",
       "std           0.451439          NaN  1.125687e+05           NaN         NaN  \n",
       "min           0.000000          NaN  1.745300e+04           NaN         NaN  \n",
       "25%           4.000000          NaN  1.715005e+05           NaN         NaN  \n",
       "50%           4.000000          NaN  2.116380e+05           NaN         NaN  \n",
       "75%           4.000000          NaN  2.616000e+05           NaN         NaN  \n",
       "max           5.000000          NaN  5.237295e+06           NaN         NaN  \n",
       "\n",
       "[11 rows x 23 columns]"
      ]
     },
     "execution_count": 26,
     "metadata": {},
     "output_type": "execute_result"
    }
   ],
   "source": [
    "spotify.describe(include=\"all\")"
   ]
  },
  {
   "cell_type": "markdown",
   "id": "a6d87a54",
   "metadata": {},
   "source": [
    "Defining a function to perform the merge."
   ]
  },
  {
   "cell_type": "code",
   "execution_count": 27,
   "id": "40377b28",
   "metadata": {},
   "outputs": [],
   "source": [
    "def merge_and_add_nominees(df_api, df_spotify, df_grammy=None):\n",
    "    \"\"\"\n",
    "    Merges song data from API (nominees) with Spotify tracks, preserving artist information.\n",
    "    Adds unmatched songs and optionally merges Grammy winner status.\n",
    "    \"\"\"\n",
    "    # Merge on song names (nominee = track_name)\n",
    "    merged_df = pd.merge(\n",
    "        df_spotify,\n",
    "        df_api.rename(columns={'nominee': 'track_name'}),\n",
    "        on='track_name',\n",
    "        how='left',\n",
    "        suffixes=('_spotify', '_api')\n",
    "    )\n",
    "\n",
    "    # List of audio features to combine\n",
    "    audio_features = ['acousticness', 'danceability', 'energy',\n",
    "                    'instrumentalness', 'liveness', 'loudness',\n",
    "                    'speechiness', 'tempo', 'valence']\n",
    "\n",
    "    # Combine audio features (prioritize API data)\n",
    "    for feature in audio_features:\n",
    "        merged_df[feature] = merged_df[f'{feature}_api'].combine_first(merged_df[f'{feature}_spotify'])\n",
    "\n",
    "    # Clean up columns\n",
    "    merged_df.drop(columns=[f'{feature}_api' for feature in audio_features], inplace=True)\n",
    "    merged_df.drop(columns=[f'{feature}_spotify' for feature in audio_features], inplace=True)\n",
    "\n",
    "    # Identify unmatched songs (nominees not in Spotify)\n",
    "    unmatched_songs = df_api[~df_api['nominee'].isin(df_spotify['track_name'])].copy()\n",
    "    unmatched_songs = unmatched_songs.rename(columns={'nominee': 'track_name'})\n",
    "\n",
    "    # Preserve original Spotify columns structure\n",
    "    spotify_columns = df_spotify.columns.tolist()\n",
    "    for col in spotify_columns:\n",
    "        if col not in unmatched_songs:\n",
    "            unmatched_songs[col] = np.nan  # Fill missing Spotify data\n",
    "\n",
    "    # Combine datasets\n",
    "    final_df = pd.concat([merged_df, unmatched_songs[spotify_columns]], ignore_index=True)\n",
    "\n",
    "    # Add Grammy winner status if available\n",
    "    if df_grammy is not None:\n",
    "        final_df = pd.merge(\n",
    "            final_df,\n",
    "            df_grammy.rename(columns={'nominee': 'track_name'}),\n",
    "            on='track_name',\n",
    "            how='left'\n",
    "        )\n",
    "\n",
    "    return final_df"
   ]
  },
  {
   "cell_type": "markdown",
   "id": "7d0bf665",
   "metadata": {},
   "source": [
    "Using the function wwith our Dataframes and printing the resulting Datafrma's shape."
   ]
  },
  {
   "cell_type": "code",
   "execution_count": 28,
   "id": "87e600ed",
   "metadata": {},
   "outputs": [
    {
     "name": "stdout",
     "output_type": "stream",
     "text": [
      "(81797, 28)\n"
     ]
    }
   ],
   "source": [
    "result_df = merge_and_add_nominees(df_api=api, df_spotify=spotify, df_grammy=grammy)\n",
    "print(result_df.shape)"
   ]
  },
  {
   "cell_type": "markdown",
   "id": "5fb43cba",
   "metadata": {},
   "source": [
    "## Reviewing nulls"
   ]
  },
  {
   "cell_type": "code",
   "execution_count": 29,
   "id": "27155081",
   "metadata": {},
   "outputs": [
    {
     "data": {
      "text/plain": [
       "track_id                 126\n",
       "artists                  126\n",
       "album_name               126\n",
       "track_name                 0\n",
       "popularity               126\n",
       "duration_ms              126\n",
       "explicit                 126\n",
       "key                      126\n",
       "mode                     126\n",
       "time_signature           126\n",
       "track_genre              126\n",
       "minutes                  126\n",
       "mode_nominal             126\n",
       "key_nominal              126\n",
       "acousticness               0\n",
       "danceability               0\n",
       "energy                     0\n",
       "instrumentalness           0\n",
       "liveness                   0\n",
       "loudness                   0\n",
       "speechiness                0\n",
       "tempo                      0\n",
       "valence                    0\n",
       "year                   79631\n",
       "title                  79631\n",
       "artist                 79631\n",
       "winner                 79631\n",
       "normalized_category    79631\n",
       "dtype: int64"
      ]
     },
     "execution_count": 29,
     "metadata": {},
     "output_type": "execute_result"
    }
   ],
   "source": [
    "result_df.isnull().sum() "
   ]
  },
  {
   "cell_type": "markdown",
   "id": "d8b6c6dc",
   "metadata": {},
   "source": [
    "### Key Observations\n",
    "1. **Complete Columns (0 Nulls):**\n",
    "   - `track_name`, audio features (`acousticness`, `danceability`, etc.)\n",
    "   - **Why:** These exist in both API and Spotify data, with API values filling Spotify gaps\n",
    "\n",
    "2. **Spotify-Specific Nulls (126 Nulls):**\n",
    "   - `artists`, `album_name`, `popularity`, `duration_ms`, etc.\n",
    "   - **Cause:** These represent 126 API nominees not found in Spotify's catalog\n",
    "   - **Solution:** Manual artist/title disambiguation or accept missing Spotify metadata\n",
    "\n",
    "3. **Massive Nulls (79,631):**\n",
    "   - `year`, `title`, `artist`, `winner`\n",
    "   - **Root Cause:** These columns likely come from `df_grammy` and indicate:\n",
    "     - Grammy data only exists for `84,374 - 79,631 = 4,743` tracks\n",
    "     - Mismatched merge keys (track_name alone isn't sufficient for Grammy matching)\n"
   ]
  },
  {
   "cell_type": "markdown",
   "id": "9e00ce94",
   "metadata": {},
   "source": [
    "## Action Plan"
   ]
  },
  {
   "cell_type": "markdown",
   "id": "35cd88c6",
   "metadata": {},
   "source": [
    "### Set default for missing winners (False)"
   ]
  },
  {
   "cell_type": "code",
   "execution_count": 30,
   "id": "e26cceb8",
   "metadata": {},
   "outputs": [],
   "source": [
    "result_df['winner'] = result_df['winner'].fillna(False)"
   ]
  },
  {
   "cell_type": "markdown",
   "id": "1e30c756",
   "metadata": {},
   "source": [
    "### Fix Grammy Merging"
   ]
  },
  {
   "cell_type": "markdown",
   "id": "eade1fd2",
   "metadata": {},
   "source": [
    "#### Fix Grammy Merging:"
   ]
  },
  {
   "cell_type": "markdown",
   "id": "92255f13",
   "metadata": {},
   "source": [
    "Merge using both track and artist for higher accuracy"
   ]
  },
  {
   "cell_type": "code",
   "execution_count": 31,
   "id": "c158e4b7",
   "metadata": {},
   "outputs": [],
   "source": [
    "final_df = pd.merge(\n",
    "    result_df,\n",
    "    grammy.rename(columns={\n",
    "        'nominee': 'track_name',\n",
    "        'artist': 'artists'  # Match Spotify's column name\n",
    "    }),\n",
    "    on=['track_name', 'artists'],\n",
    "    how='left'\n",
    ")"
   ]
  },
  {
   "cell_type": "markdown",
   "id": "b7f3d3b7",
   "metadata": {},
   "source": [
    "### Remove columns with >90% nulls"
   ]
  },
  {
   "cell_type": "code",
   "execution_count": 32,
   "id": "fe2dfdc4",
   "metadata": {},
   "outputs": [],
   "source": [
    "# Remove columns with >90% nulls\n",
    "final_df = final_df.loc[:, final_df.isnull().mean() < 0.9]"
   ]
  },
  {
   "cell_type": "markdown",
   "id": "7c05e7a0",
   "metadata": {},
   "source": [
    "### Prioritize Data Sources:"
   ]
  },
  {
   "cell_type": "code",
   "execution_count": 33,
   "id": "a545b693",
   "metadata": {},
   "outputs": [],
   "source": [
    "# Create data source indicator\n",
    "final_df['data_source'] = np.where(\n",
    "    final_df['artists'].isnull(),\n",
    "    'API Only',\n",
    "    'Spotify + API'\n",
    ")"
   ]
  },
  {
   "cell_type": "code",
   "execution_count": 34,
   "id": "591c6ba2",
   "metadata": {},
   "outputs": [
    {
     "data": {
      "text/plain": [
       "track_id            126\n",
       "artists             126\n",
       "album_name          126\n",
       "track_name            0\n",
       "popularity          126\n",
       "duration_ms         126\n",
       "explicit            126\n",
       "key                 126\n",
       "mode                126\n",
       "time_signature      126\n",
       "track_genre         126\n",
       "minutes             126\n",
       "mode_nominal        126\n",
       "key_nominal         126\n",
       "acousticness          0\n",
       "danceability          0\n",
       "energy                0\n",
       "instrumentalness      0\n",
       "liveness              0\n",
       "loudness              0\n",
       "speechiness           0\n",
       "tempo                 0\n",
       "valence               0\n",
       "winner_x              0\n",
       "data_source           0\n",
       "dtype: int64"
      ]
     },
     "execution_count": 34,
     "metadata": {},
     "output_type": "execute_result"
    }
   ],
   "source": [
    "final_df.isnull().sum() "
   ]
  },
  {
   "cell_type": "markdown",
   "id": "9e8ef3d4",
   "metadata": {},
   "source": [
    "## Reviewing nulls again"
   ]
  },
  {
   "cell_type": "markdown",
   "id": "0803b6fb",
   "metadata": {},
   "source": [
    "**Spotify-Specific Missing Columns (126 nulls each)**\n",
    "\n",
    "These represent API nominees not found in Spotify. Preserve these records while handling missingness:"
   ]
  },
  {
   "cell_type": "markdown",
   "id": "fd78c8f5",
   "metadata": {},
   "source": [
    "### 1. Column Categorization & Treatment Strategy\n",
    "### Core Identifiers (Preserve Structure)"
   ]
  },
  {
   "cell_type": "code",
   "execution_count": 35,
   "id": "eda8c8cc",
   "metadata": {},
   "outputs": [],
   "source": [
    "final_df['artists'] = final_df['artists'].fillna('Unknown Artist')\n",
    "final_df['album_name'] = final_df['album_name'].fillna('Unspecified Album')"
   ]
  },
  {
   "cell_type": "markdown",
   "id": "93d5bdbb",
   "metadata": {},
   "source": [
    "### Spotify Metadata (Impute with Meaningful Values)"
   ]
  },
  {
   "cell_type": "code",
   "execution_count": 36,
   "id": "2773dd17",
   "metadata": {},
   "outputs": [],
   "source": [
    "spotify_metadata = {\n",
    "    'popularity': ('Missing', -1),\n",
    "    'duration_ms': ('Median', final_df['duration_ms'].median()),\n",
    "    'explicit': ('Unknown', 'unknown'),\n",
    "    'key': ('Missing Category', 'missing'),\n",
    "    'mode': ('Missing Category', 'missing'),\n",
    "    'time_signature': ('Missing Code', -1),\n",
    "    'track_genre': ('Unknown Genre', 'unknown_genre')\n",
    "}\n",
    "\n",
    "for col, (strategy, value) in spotify_metadata.items():\n",
    "    if strategy == 'Median':\n",
    "        final_df[col] = final_df[col].fillna(value)\n",
    "    else:\n",
    "        final_df[col] = final_df[col].fillna(value).astype(str if isinstance(value, str) else 'category')\n"
   ]
  },
  {
   "cell_type": "markdown",
   "id": "7ba6d71c",
   "metadata": {},
   "source": [
    "### C. Derived Features (Recreate from Imputed Data)"
   ]
  },
  {
   "cell_type": "code",
   "execution_count": 37,
   "id": "a757fd6d",
   "metadata": {},
   "outputs": [],
   "source": [
    "# Recalculate temporal features\n",
    "final_df['minutes'] = (final_df['duration_ms'] / 60000).round(2)\n",
    "\n",
    "# Re-encode categorical representations\n",
    "key_mapping = {\n",
    "    **{i: v for i, v in enumerate(['C', 'C♯/D♭', 'D', 'D♯/E♭', 'E', 'F',\n",
    "                                  'F♯/G♭', 'G', 'G♯/A♭', 'A', 'A♯/B♭', 'B'])},\n",
    "    'missing': 'Unknown'\n",
    "}\n",
    "\n",
    "mode_mapping = {\n",
    "    **{0: 'Minor', 1: 'Major'},\n",
    "    'missing': 'Unknown'\n",
    "}\n",
    "\n",
    "final_df['key'] = final_df['key'].map(key_mapping)\n",
    "final_df['mode'] = final_df['mode'].map(mode_mapping)"
   ]
  },
  {
   "cell_type": "markdown",
   "id": "683b8851",
   "metadata": {},
   "source": [
    "### 2. Data Quality Preservation"
   ]
  },
  {
   "cell_type": "code",
   "execution_count": 38,
   "id": "95f70afc",
   "metadata": {},
   "outputs": [],
   "source": [
    "# Add data source metadata\n",
    "final_df['data_quality'] = np.where(\n",
    "    final_df['data_source'] == 'API Only',\n",
    "    'Partial Metadata (API Only)',\n",
    "    'Full Metadata (Spotify + API)'\n",
    ")\n",
    "\n",
    "# Create validation flags\n",
    "final_df['requires_spotify_verification'] = final_df['data_source'] == 'API Only'"
   ]
  },
  {
   "cell_type": "markdown",
   "id": "71203c28",
   "metadata": {},
   "source": [
    "### 3. Analytical Safeguards"
   ]
  },
  {
   "cell_type": "code",
   "execution_count": 39,
   "id": "46a5be71",
   "metadata": {},
   "outputs": [],
   "source": [
    "# Protect core audio features\n",
    "audio_features = ['acousticness', 'danceability', 'energy',\n",
    "                'instrumentalness', 'liveness', 'loudness',\n",
    "                'speechiness', 'tempo', 'valence']\n",
    "# Column organization\n",
    "final_cols = [\n",
    "    # Core identifiers\n",
    "    'track_name', 'artists', 'album_name', 'data_source', 'data_quality',\n",
    "    \n",
    "    # Spotify metadata\n",
    "    'track_id', 'popularity', 'duration_ms', 'minutes', 'explicit',\n",
    "    \n",
    "    # Musical features\n",
    "    'key_nominal', 'mode_nominal', 'time_signature',\n",
    "    \n",
    "    # Audio characteristics\n",
    "    *audio_features,\n",
    "    \n",
    "    # Validation\n",
    "    'requires_spotify_verification', 'winner_x'\n",
    "]\n",
    "\n",
    "final_df = final_df[final_cols]"
   ]
  },
  {
   "cell_type": "markdown",
   "id": "53db623e",
   "metadata": {},
   "source": [
    "This approach maintains the 126 API-originated records while enabling:\n",
    "\n",
    "- Mixed-source analysis\n",
    "\n",
    "- Clear data quality auditing\n",
    "\n",
    "- Transparent reporting of data limitations"
   ]
  },
  {
   "cell_type": "code",
   "execution_count": 40,
   "id": "b61fbc84",
   "metadata": {},
   "outputs": [],
   "source": [
    "final_df = final_df.drop(['key_nominal', 'mode_nominal'], axis=1)"
   ]
  },
  {
   "cell_type": "code",
   "execution_count": 41,
   "id": "835497a2",
   "metadata": {},
   "outputs": [
    {
     "data": {
      "text/plain": [
       "track_name                         0\n",
       "artists                            0\n",
       "album_name                         0\n",
       "data_source                        0\n",
       "data_quality                       0\n",
       "track_id                         126\n",
       "popularity                         0\n",
       "duration_ms                        0\n",
       "minutes                            0\n",
       "explicit                           0\n",
       "time_signature                     0\n",
       "acousticness                       0\n",
       "danceability                       0\n",
       "energy                             0\n",
       "instrumentalness                   0\n",
       "liveness                           0\n",
       "loudness                           0\n",
       "speechiness                        0\n",
       "tempo                              0\n",
       "valence                            0\n",
       "requires_spotify_verification      0\n",
       "winner_x                           0\n",
       "dtype: int64"
      ]
     },
     "execution_count": 41,
     "metadata": {},
     "output_type": "execute_result"
    }
   ],
   "source": [
    "final_df.isnull().sum() "
   ]
  },
  {
   "cell_type": "code",
   "execution_count": 42,
   "id": "70b5e334",
   "metadata": {},
   "outputs": [],
   "source": [
    "final_df.to_csv('../data/processed/final_data.csv', index=False)\n",
    "\n",
    "logging.info(\"DataFrame has been saved to '../data/intermediate/api.csv'\")"
   ]
  }
 ],
 "metadata": {
  "kernelspec": {
   "display_name": "Python (ws2)",
   "language": "python",
   "name": "ws2"
  },
  "language_info": {
   "codemirror_mode": {
    "name": "ipython",
    "version": 3
   },
   "file_extension": ".py",
   "mimetype": "text/x-python",
   "name": "python",
   "nbconvert_exporter": "python",
   "pygments_lexer": "ipython3",
   "version": "3.12.3"
  }
 },
 "nbformat": 4,
 "nbformat_minor": 5
}
