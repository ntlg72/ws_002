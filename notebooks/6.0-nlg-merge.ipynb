{
 "cells": [
  {
   "cell_type": "code",
   "execution_count": 2,
   "id": "db4f6178",
   "metadata": {},
   "outputs": [],
   "source": [
    "import os\n",
    "import sys\n",
    "import pandas as pd\n",
    "import logging\n",
    "\n",
    "\n",
    "sys.path.append(os.path.abspath('../'))\n",
    "from src.params import Params\n",
    "from src.client import DatabaseClient\n",
    "from src.logging_config import setup_logging"
   ]
  },
  {
   "cell_type": "code",
   "execution_count": 3,
   "id": "c50c0082",
   "metadata": {},
   "outputs": [],
   "source": [
    "spotify = pd.read_csv(\"/home/bb-8/Dags/ws_002/data/intermediate/grammys.csv\")\n",
    "grammy = pd.read_csv(\"/home/bb-8/Dags/ws_002/data/intermediate/spotify.csv\")\n",
    "#api = pd.read_csv(\"/home/bb-8/Dags/ws_002/data/intermediate/api.csv\")"
   ]
  },
  {
   "cell_type": "code",
   "execution_count": null,
   "id": "a8d1da6d",
   "metadata": {},
   "outputs": [],
   "source": []
  }
 ],
 "metadata": {
  "kernelspec": {
   "display_name": "Python (ws2)",
   "language": "python",
   "name": "ws2"
  },
  "language_info": {
   "codemirror_mode": {
    "name": "ipython",
    "version": 3
   },
   "file_extension": ".py",
   "mimetype": "text/x-python",
   "name": "python",
   "nbconvert_exporter": "python",
   "pygments_lexer": "ipython3",
   "version": "3.12.3"
  }
 },
 "nbformat": 4,
 "nbformat_minor": 5
}
