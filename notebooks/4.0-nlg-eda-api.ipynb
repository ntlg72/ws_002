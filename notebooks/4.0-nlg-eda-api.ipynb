{
 "cells": [
  {
   "cell_type": "markdown",
   "id": "5e0e7d2c",
   "metadata": {},
   "source": [
    "# Workshop #2 :\n",
    "## EDA - API ()\n",
    "\n",
    "------------------------------------------------------------\n",
    "\n",
    "https://reccobeats.com/docs/apis/extract-audio-features\n",
    "https://musicbrainz.org/doc/MusicBrainz_API#Lookups"
   ]
  },
  {
   "cell_type": "code",
   "execution_count": 2,
   "id": "42646c57",
   "metadata": {},
   "outputs": [],
   "source": [
    "import sys\n",
    "import os\n",
    "import pandas as pd\n",
    "import numpy as np\n",
    "import requests\n",
    "import logging\n",
    "import re\n",
    "\n",
    "\n",
    "sys.path.append(os.path.abspath('../'))\n",
    "from src.params import Params\n",
    "from src.client import DatabaseClient\n",
    "from src.logging_config import setup_logging"
   ]
  },
  {
   "cell_type": "code",
   "execution_count": null,
   "id": "1604ba81",
   "metadata": {},
   "outputs": [],
   "source": []
  }
 ],
 "metadata": {
  "kernelspec": {
   "display_name": "venv",
   "language": "python",
   "name": "python3"
  },
  "language_info": {
   "codemirror_mode": {
    "name": "ipython",
    "version": 3
   },
   "file_extension": ".py",
   "mimetype": "text/x-python",
   "name": "python",
   "nbconvert_exporter": "python",
   "pygments_lexer": "ipython3",
   "version": "3.12.3"
  }
 },
 "nbformat": 4,
 "nbformat_minor": 5
}
